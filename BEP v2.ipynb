{
 "cells": [
  {
   "cell_type": "code",
   "execution_count": 17,
   "id": "0ecf5346-5046-4efa-b8e1-4198de2994d5",
   "metadata": {},
   "outputs": [],
   "source": [
    "import sympy as sym\n",
    "import numpy as np\n",
    "import matplotlib.pyplot as plt\n",
    "\n",
    "%config InlineBackend.figure_formats = ['svg']"
   ]
  },
  {
   "cell_type": "code",
   "execution_count": 18,
   "id": "66a20ec8-5b35-4e75-841c-e6c571aa738b",
   "metadata": {},
   "outputs": [],
   "source": [
    "# algemene gegevens\n",
    "x = sym.symbols('x')\n",
    "EI, EA = sym.symbols('EI EA')\n",
    "CV, CM, Cphi, Cuz, CN, Cux = sym.symbols('C_V C_M C_phi C_uz C_N C_ux') \n",
    "dx = 10**-15\n",
    "\n",
    "# gegevens constructie\n",
    "a0, a1, a2 = 0, 5, 10\n",
    "aa = np.array([a0, a1, a2])\n",
    "o0, o1 = sym.atan(4/3), sym.atan(-4/3)\n",
    "oo = np.array([o0, o1])\n",
    "L = 10\n",
    "\n",
    "# gegevens belastingen\n",
    "qh = 60 #sym.symbols('q_h')\n",
    "RvA, RhA, RvC, RhC = sym.symbols('R_v^A R_h^A R_v^C R_h^C')\n",
    "phisB = sym.symbols('phi_s^B')\n",
    "B = np.array([RvA, RhA, qh, phisB, RvC, RhC])\n",
    "b1, b2, b3 = 0, 5, 10\n",
    "bb = np.array([b1, b1, b1, b2, b3, b3])\n",
    "# K = 1, Fv = 2, Fh = 3, qv = 4, qh = 5\n",
    "nn = np.array([2, 3, 5, 6, 2, 3])"
   ]
  },
  {
   "cell_type": "code",
   "execution_count": 19,
   "id": "33716208-fd92-439d-9eb0-a5dd933dae38",
   "metadata": {},
   "outputs": [
    {
     "data": {
      "text/latex": [
       "$\\displaystyle EI \\phi^{B}_{s} {\\left\\langle x - 5 \\right\\rangle}^{-3} + 0.8 R^{A}_{h} {\\left\\langle x \\right\\rangle}^{-1} - 1.6 R^{A}_{h} {\\left\\langle x - 5 \\right\\rangle}^{-1} - 0.8 R^{C}_{h} {\\left\\langle x - 10 \\right\\rangle}^{-1} + 0.6 R^{A}_{v} {\\left\\langle x \\right\\rangle}^{-1} + 0.6 R^{C}_{v} {\\left\\langle x - 10 \\right\\rangle}^{-1} + 48.0 {\\left\\langle x \\right\\rangle}^{0} - 480.0 {\\left\\langle x - 5 \\right\\rangle}^{-1} - 96.0 {\\left\\langle x - 5 \\right\\rangle}^{0}$"
      ],
      "text/plain": [
       "EI*phi_s^B*SingularityFunction(x, 5, -3) + 0.8*R_h^A*SingularityFunction(x, 0, -1) - 1.6*R_h^A*SingularityFunction(x, 5, -1) - 0.8*R_h^C*SingularityFunction(x, 10, -1) + 0.6*R_v^A*SingularityFunction(x, 0, -1) + 0.6*R_v^C*SingularityFunction(x, 10, -1) + 48.0*SingularityFunction(x, 0, 0) - 480.0*SingularityFunction(x, 5, -1) - 96.0*SingularityFunction(x, 5, 0)"
      ]
     },
     "metadata": {},
     "output_type": "display_data"
    }
   ],
   "source": [
    "#qz opstellen\n",
    "qz = 0\n",
    "\n",
    "#beginpunten\n",
    "for i in range(len(B)):\n",
    "    for j in range(len(aa)):\n",
    "        if bb[i] == aa[-1]:\n",
    "            if nn[i] == 1:\n",
    "                qz += B[i] * sym.SingularityFunction(x,bb[i],-2)\n",
    "            if nn[i] == 2:\n",
    "                qz += B[i] * sym.SingularityFunction(x,bb[i],-1) * sym.cos(oo[-1])\n",
    "            if nn[i] == 3:\n",
    "                qz += B[i] * sym.SingularityFunction(x,bb[i],-1) * sym.sin(oo[-1])\n",
    "            if nn[i] == 4:\n",
    "                qz += B[i] * sym.SingularityFunction(x,bb[i],0) * sym.cos(oo[-1])\n",
    "            if nn[i] == 5:\n",
    "                qz += B[i] * sym.SingularityFunction(x,bb[i],0) * sym.sin(oo[-1])\n",
    "            break\n",
    "        else:\n",
    "            if bb[i] < aa[j]:\n",
    "                if nn[i] == 1:\n",
    "                    qz += B[i] * sym.SingularityFunction(x,bb[i],-2)\n",
    "                if nn[i] == 2:\n",
    "                    qz += B[i] * sym.SingularityFunction(x,bb[i],-1) * sym.cos(oo[j-1])\n",
    "                if nn[i] == 3:\n",
    "                    qz += B[i] * sym.SingularityFunction(x,bb[i],-1) * sym.sin(oo[j-1])\n",
    "                if nn[i] == 4:\n",
    "                    qz += B[i] * sym.SingularityFunction(x,bb[i],0) * sym.cos(oo[j-1])\n",
    "                if nn[i] == 5:\n",
    "                    qz += B[i] * sym.SingularityFunction(x,bb[i],0) * sym.sin(oo[j-1])\n",
    "                if nn[i] == 6:\n",
    "                    qz += B[i] * sym.SingularityFunction(x,bb[i],-3) * EI\n",
    "                break\n",
    "\n",
    "# knikpunten\n",
    "for i in range(len(B)):\n",
    "    for j in range(len(aa)-1):\n",
    "        if bb[i] < aa[j]:\n",
    "            if nn[i] == 2:\n",
    "                qz += B[i] * sym.SingularityFunction(x,aa[j],-1) * (sym.cos(oo[j]) - sym.cos(oo[j-1]))\n",
    "            if nn[i] == 3:\n",
    "                qz += B[i] * sym.SingularityFunction(x,aa[j],-1) * (sym.sin(oo[j]) - sym.sin(oo[j-1]))\n",
    "            if nn[i] == 4:\n",
    "                qz += B[i] * ((sym.SingularityFunction(x,aa[j],0) + sym.SingularityFunction(x,aa[j],-1) * (aa[j] - bb[i])) * (sym.cos(oo[j]) - sym.cos(oo[j-1])))\n",
    "            if nn[i] == 5:\n",
    "                qz += B[i] * ((sym.SingularityFunction(x,aa[j],0) + sym.SingularityFunction(x,aa[j],-1) * (aa[j] - bb[i])) * (sym.sin(oo[j]) - sym.sin(oo[j-1])))\n",
    "\n",
    "display(qz)"
   ]
  },
  {
   "cell_type": "code",
   "execution_count": 20,
   "id": "6a9474ca",
   "metadata": {},
   "outputs": [
    {
     "data": {
      "image/svg+xml": [
       "<?xml version=\"1.0\" encoding=\"utf-8\" standalone=\"no\"?>\n",
       "<!DOCTYPE svg PUBLIC \"-//W3C//DTD SVG 1.1//EN\"\n",
       "  \"http://www.w3.org/Graphics/SVG/1.1/DTD/svg11.dtd\">\n",
       "<svg xmlns:xlink=\"http://www.w3.org/1999/xlink\" width=\"635.784375pt\" height=\"298.23pt\" viewBox=\"0 0 635.784375 298.23\" xmlns=\"http://www.w3.org/2000/svg\" version=\"1.1\">\n",
       " <metadata>\n",
       "  <rdf:RDF xmlns:dc=\"http://purl.org/dc/elements/1.1/\" xmlns:cc=\"http://creativecommons.org/ns#\" xmlns:rdf=\"http://www.w3.org/1999/02/22-rdf-syntax-ns#\">\n",
       "   <cc:Work>\n",
       "    <dc:type rdf:resource=\"http://purl.org/dc/dcmitype/StillImage\"/>\n",
       "    <dc:date>2024-06-26T11:54:40.282098</dc:date>\n",
       "    <dc:format>image/svg+xml</dc:format>\n",
       "    <dc:creator>\n",
       "     <cc:Agent>\n",
       "      <dc:title>Matplotlib v3.9.0, https://matplotlib.org/</dc:title>\n",
       "     </cc:Agent>\n",
       "    </dc:creator>\n",
       "   </cc:Work>\n",
       "  </rdf:RDF>\n",
       " </metadata>\n",
       " <defs>\n",
       "  <style type=\"text/css\">*{stroke-linejoin: round; stroke-linecap: butt}</style>\n",
       " </defs>\n",
       " <g id=\"figure_1\">\n",
       "  <g id=\"patch_1\">\n",
       "   <path d=\"M 0 298.23 \n",
       "L 635.784375 298.23 \n",
       "L 635.784375 0 \n",
       "L 0 0 \n",
       "z\n",
       "\" style=\"fill: #ffffff\"/>\n",
       "  </g>\n",
       "  <g id=\"axes_1\">\n",
       "   <g id=\"patch_2\">\n",
       "    <path d=\"M 10.38125 129.761875 \n",
       "L 568.38125 129.761875 \n",
       "L 568.38125 68.381875 \n",
       "L 10.38125 68.381875 \n",
       "z\n",
       "\" style=\"fill: #ffffff\"/>\n",
       "   </g>\n",
       "   <g id=\"matplotlib.axis_1\">\n",
       "    <g id=\"xtick_1\">\n",
       "     <g id=\"line2d_1\">\n",
       "      <defs>\n",
       "       <path id=\"mefbe0cd1c0\" d=\"M 0 0 \n",
       "L 0 3.5 \n",
       "\" style=\"stroke: #000000; stroke-width: 0.8\"/>\n",
       "      </defs>\n",
       "      <g>\n",
       "       <use xlink:href=\"#mefbe0cd1c0\" x=\"10.38125\" y=\"89.771875\" style=\"stroke: #000000; stroke-width: 0.8\"/>\n",
       "      </g>\n",
       "     </g>\n",
       "     <g id=\"text_1\">\n",
       "      <!-- 0 -->\n",
       "      <g transform=\"translate(7.2 104.370312) scale(0.1 -0.1)\">\n",
       "       <defs>\n",
       "        <path id=\"DejaVuSans-30\" d=\"M 2034 4250 \n",
       "Q 1547 4250 1301 3770 \n",
       "Q 1056 3291 1056 2328 \n",
       "Q 1056 1369 1301 889 \n",
       "Q 1547 409 2034 409 \n",
       "Q 2525 409 2770 889 \n",
       "Q 3016 1369 3016 2328 \n",
       "Q 3016 3291 2770 3770 \n",
       "Q 2525 4250 2034 4250 \n",
       "z\n",
       "M 2034 4750 \n",
       "Q 2819 4750 3233 4129 \n",
       "Q 3647 3509 3647 2328 \n",
       "Q 3647 1150 3233 529 \n",
       "Q 2819 -91 2034 -91 \n",
       "Q 1250 -91 836 529 \n",
       "Q 422 1150 422 2328 \n",
       "Q 422 3509 836 4129 \n",
       "Q 1250 4750 2034 4750 \n",
       "z\n",
       "\" transform=\"scale(0.015625)\"/>\n",
       "       </defs>\n",
       "       <use xlink:href=\"#DejaVuSans-30\"/>\n",
       "      </g>\n",
       "     </g>\n",
       "    </g>\n",
       "    <g id=\"xtick_2\">\n",
       "     <g id=\"line2d_2\">\n",
       "      <g>\n",
       "       <use xlink:href=\"#mefbe0cd1c0\" x=\"121.98125\" y=\"89.771875\" style=\"stroke: #000000; stroke-width: 0.8\"/>\n",
       "      </g>\n",
       "     </g>\n",
       "     <g id=\"text_2\">\n",
       "      <!-- 2 -->\n",
       "      <g transform=\"translate(118.8 104.370312) scale(0.1 -0.1)\">\n",
       "       <defs>\n",
       "        <path id=\"DejaVuSans-32\" d=\"M 1228 531 \n",
       "L 3431 531 \n",
       "L 3431 0 \n",
       "L 469 0 \n",
       "L 469 531 \n",
       "Q 828 903 1448 1529 \n",
       "Q 2069 2156 2228 2338 \n",
       "Q 2531 2678 2651 2914 \n",
       "Q 2772 3150 2772 3378 \n",
       "Q 2772 3750 2511 3984 \n",
       "Q 2250 4219 1831 4219 \n",
       "Q 1534 4219 1204 4116 \n",
       "Q 875 4013 500 3803 \n",
       "L 500 4441 \n",
       "Q 881 4594 1212 4672 \n",
       "Q 1544 4750 1819 4750 \n",
       "Q 2544 4750 2975 4387 \n",
       "Q 3406 4025 3406 3419 \n",
       "Q 3406 3131 3298 2873 \n",
       "Q 3191 2616 2906 2266 \n",
       "Q 2828 2175 2409 1742 \n",
       "Q 1991 1309 1228 531 \n",
       "z\n",
       "\" transform=\"scale(0.015625)\"/>\n",
       "       </defs>\n",
       "       <use xlink:href=\"#DejaVuSans-32\"/>\n",
       "      </g>\n",
       "     </g>\n",
       "    </g>\n",
       "    <g id=\"xtick_3\">\n",
       "     <g id=\"line2d_3\">\n",
       "      <g>\n",
       "       <use xlink:href=\"#mefbe0cd1c0\" x=\"233.58125\" y=\"89.771875\" style=\"stroke: #000000; stroke-width: 0.8\"/>\n",
       "      </g>\n",
       "     </g>\n",
       "     <g id=\"text_3\">\n",
       "      <!-- 4 -->\n",
       "      <g transform=\"translate(230.4 104.370312) scale(0.1 -0.1)\">\n",
       "       <defs>\n",
       "        <path id=\"DejaVuSans-34\" d=\"M 2419 4116 \n",
       "L 825 1625 \n",
       "L 2419 1625 \n",
       "L 2419 4116 \n",
       "z\n",
       "M 2253 4666 \n",
       "L 3047 4666 \n",
       "L 3047 1625 \n",
       "L 3713 1625 \n",
       "L 3713 1100 \n",
       "L 3047 1100 \n",
       "L 3047 0 \n",
       "L 2419 0 \n",
       "L 2419 1100 \n",
       "L 313 1100 \n",
       "L 313 1709 \n",
       "L 2253 4666 \n",
       "z\n",
       "\" transform=\"scale(0.015625)\"/>\n",
       "       </defs>\n",
       "       <use xlink:href=\"#DejaVuSans-34\"/>\n",
       "      </g>\n",
       "     </g>\n",
       "    </g>\n",
       "    <g id=\"xtick_4\">\n",
       "     <g id=\"line2d_4\">\n",
       "      <g>\n",
       "       <use xlink:href=\"#mefbe0cd1c0\" x=\"345.18125\" y=\"89.771875\" style=\"stroke: #000000; stroke-width: 0.8\"/>\n",
       "      </g>\n",
       "     </g>\n",
       "     <g id=\"text_4\">\n",
       "      <!-- 6 -->\n",
       "      <g transform=\"translate(342 104.370312) scale(0.1 -0.1)\">\n",
       "       <defs>\n",
       "        <path id=\"DejaVuSans-36\" d=\"M 2113 2584 \n",
       "Q 1688 2584 1439 2293 \n",
       "Q 1191 2003 1191 1497 \n",
       "Q 1191 994 1439 701 \n",
       "Q 1688 409 2113 409 \n",
       "Q 2538 409 2786 701 \n",
       "Q 3034 994 3034 1497 \n",
       "Q 3034 2003 2786 2293 \n",
       "Q 2538 2584 2113 2584 \n",
       "z\n",
       "M 3366 4563 \n",
       "L 3366 3988 \n",
       "Q 3128 4100 2886 4159 \n",
       "Q 2644 4219 2406 4219 \n",
       "Q 1781 4219 1451 3797 \n",
       "Q 1122 3375 1075 2522 \n",
       "Q 1259 2794 1537 2939 \n",
       "Q 1816 3084 2150 3084 \n",
       "Q 2853 3084 3261 2657 \n",
       "Q 3669 2231 3669 1497 \n",
       "Q 3669 778 3244 343 \n",
       "Q 2819 -91 2113 -91 \n",
       "Q 1303 -91 875 529 \n",
       "Q 447 1150 447 2328 \n",
       "Q 447 3434 972 4092 \n",
       "Q 1497 4750 2381 4750 \n",
       "Q 2619 4750 2861 4703 \n",
       "Q 3103 4656 3366 4563 \n",
       "z\n",
       "\" transform=\"scale(0.015625)\"/>\n",
       "       </defs>\n",
       "       <use xlink:href=\"#DejaVuSans-36\"/>\n",
       "      </g>\n",
       "     </g>\n",
       "    </g>\n",
       "    <g id=\"xtick_5\">\n",
       "     <g id=\"line2d_5\">\n",
       "      <g>\n",
       "       <use xlink:href=\"#mefbe0cd1c0\" x=\"456.78125\" y=\"89.771875\" style=\"stroke: #000000; stroke-width: 0.8\"/>\n",
       "      </g>\n",
       "     </g>\n",
       "     <g id=\"text_5\">\n",
       "      <!-- 8 -->\n",
       "      <g transform=\"translate(453.6 104.370312) scale(0.1 -0.1)\">\n",
       "       <defs>\n",
       "        <path id=\"DejaVuSans-38\" d=\"M 2034 2216 \n",
       "Q 1584 2216 1326 1975 \n",
       "Q 1069 1734 1069 1313 \n",
       "Q 1069 891 1326 650 \n",
       "Q 1584 409 2034 409 \n",
       "Q 2484 409 2743 651 \n",
       "Q 3003 894 3003 1313 \n",
       "Q 3003 1734 2745 1975 \n",
       "Q 2488 2216 2034 2216 \n",
       "z\n",
       "M 1403 2484 \n",
       "Q 997 2584 770 2862 \n",
       "Q 544 3141 544 3541 \n",
       "Q 544 4100 942 4425 \n",
       "Q 1341 4750 2034 4750 \n",
       "Q 2731 4750 3128 4425 \n",
       "Q 3525 4100 3525 3541 \n",
       "Q 3525 3141 3298 2862 \n",
       "Q 3072 2584 2669 2484 \n",
       "Q 3125 2378 3379 2068 \n",
       "Q 3634 1759 3634 1313 \n",
       "Q 3634 634 3220 271 \n",
       "Q 2806 -91 2034 -91 \n",
       "Q 1263 -91 848 271 \n",
       "Q 434 634 434 1313 \n",
       "Q 434 1759 690 2068 \n",
       "Q 947 2378 1403 2484 \n",
       "z\n",
       "M 1172 3481 \n",
       "Q 1172 3119 1398 2916 \n",
       "Q 1625 2713 2034 2713 \n",
       "Q 2441 2713 2670 2916 \n",
       "Q 2900 3119 2900 3481 \n",
       "Q 2900 3844 2670 4047 \n",
       "Q 2441 4250 2034 4250 \n",
       "Q 1625 4250 1398 4047 \n",
       "Q 1172 3844 1172 3481 \n",
       "z\n",
       "\" transform=\"scale(0.015625)\"/>\n",
       "       </defs>\n",
       "       <use xlink:href=\"#DejaVuSans-38\"/>\n",
       "      </g>\n",
       "     </g>\n",
       "    </g>\n",
       "    <g id=\"xtick_6\">\n",
       "     <g id=\"line2d_6\">\n",
       "      <g>\n",
       "       <use xlink:href=\"#mefbe0cd1c0\" x=\"568.38125\" y=\"89.771875\" style=\"stroke: #000000; stroke-width: 0.8\"/>\n",
       "      </g>\n",
       "     </g>\n",
       "     <g id=\"text_6\">\n",
       "      <!-- 10 -->\n",
       "      <g transform=\"translate(562.01875 104.370312) scale(0.1 -0.1)\">\n",
       "       <defs>\n",
       "        <path id=\"DejaVuSans-31\" d=\"M 794 531 \n",
       "L 1825 531 \n",
       "L 1825 4091 \n",
       "L 703 3866 \n",
       "L 703 4441 \n",
       "L 1819 4666 \n",
       "L 2450 4666 \n",
       "L 2450 531 \n",
       "L 3481 531 \n",
       "L 3481 0 \n",
       "L 794 0 \n",
       "L 794 531 \n",
       "z\n",
       "\" transform=\"scale(0.015625)\"/>\n",
       "       </defs>\n",
       "       <use xlink:href=\"#DejaVuSans-31\"/>\n",
       "       <use xlink:href=\"#DejaVuSans-30\" x=\"63.623047\"/>\n",
       "      </g>\n",
       "     </g>\n",
       "    </g>\n",
       "   </g>\n",
       "   <g id=\"line2d_7\">\n",
       "    <path d=\"M 10.38125 71.171875 \n",
       "L 568.38125 71.171875 \n",
       "L 568.38125 71.171875 \n",
       "\" clip-path=\"url(#p6c0fa6c8e0)\" style=\"fill: none; stroke: #1f77b4; stroke-width: 1.5; stroke-linecap: square\"/>\n",
       "   </g>\n",
       "   <g id=\"line2d_8\">\n",
       "    <path d=\"M 10.38125 89.771875 \n",
       "L 289.101971 89.771875 \n",
       "L 289.660529 126.971875 \n",
       "L 568.38125 126.971875 \n",
       "L 568.38125 126.971875 \n",
       "\" clip-path=\"url(#p6c0fa6c8e0)\" style=\"fill: none; stroke: #ff7f0e; stroke-width: 1.5; stroke-linecap: square\"/>\n",
       "   </g>\n",
       "   <g id=\"patch_3\">\n",
       "    <path d=\"M 10.38125 129.761875 \n",
       "L 10.38125 68.381875 \n",
       "\" style=\"fill: none\"/>\n",
       "   </g>\n",
       "   <g id=\"patch_4\">\n",
       "    <path d=\"M 568.38125 129.761875 \n",
       "L 568.38125 68.381875 \n",
       "\" style=\"fill: none\"/>\n",
       "   </g>\n",
       "   <g id=\"patch_5\">\n",
       "    <path d=\"M 10.38125 89.771875 \n",
       "L 568.38125 89.771875 \n",
       "\" style=\"fill: none; stroke: #000000; stroke-width: 0.8; stroke-linejoin: miter; stroke-linecap: square\"/>\n",
       "   </g>\n",
       "   <g id=\"patch_6\">\n",
       "    <path d=\"M 10.38125 68.381875 \n",
       "L 568.38125 68.381875 \n",
       "\" style=\"fill: none\"/>\n",
       "   </g>\n",
       "   <g id=\"text_7\">\n",
       "    <!-- 48 -->\n",
       "    <g transform=\"translate(10.38125 63.512187) scale(0.1 -0.1)\">\n",
       "     <use xlink:href=\"#DejaVuSans-34\"/>\n",
       "     <use xlink:href=\"#DejaVuSans-38\" x=\"63.623047\"/>\n",
       "    </g>\n",
       "   </g>\n",
       "   <g id=\"text_8\">\n",
       "    <!-- -96 -->\n",
       "    <g transform=\"translate(289.38125 140.150312) scale(0.1 -0.1)\">\n",
       "     <defs>\n",
       "      <path id=\"DejaVuSans-2d\" d=\"M 313 2009 \n",
       "L 1997 2009 \n",
       "L 1997 1497 \n",
       "L 313 1497 \n",
       "L 313 2009 \n",
       "z\n",
       "\" transform=\"scale(0.015625)\"/>\n",
       "      <path id=\"DejaVuSans-39\" d=\"M 703 97 \n",
       "L 703 672 \n",
       "Q 941 559 1184 500 \n",
       "Q 1428 441 1663 441 \n",
       "Q 2288 441 2617 861 \n",
       "Q 2947 1281 2994 2138 \n",
       "Q 2813 1869 2534 1725 \n",
       "Q 2256 1581 1919 1581 \n",
       "Q 1219 1581 811 2004 \n",
       "Q 403 2428 403 3163 \n",
       "Q 403 3881 828 4315 \n",
       "Q 1253 4750 1959 4750 \n",
       "Q 2769 4750 3195 4129 \n",
       "Q 3622 3509 3622 2328 \n",
       "Q 3622 1225 3098 567 \n",
       "Q 2575 -91 1691 -91 \n",
       "Q 1453 -91 1209 -44 \n",
       "Q 966 3 703 97 \n",
       "z\n",
       "M 1959 2075 \n",
       "Q 2384 2075 2632 2365 \n",
       "Q 2881 2656 2881 3163 \n",
       "Q 2881 3666 2632 3958 \n",
       "Q 2384 4250 1959 4250 \n",
       "Q 1534 4250 1286 3958 \n",
       "Q 1038 3666 1038 3163 \n",
       "Q 1038 2656 1286 2365 \n",
       "Q 1534 2075 1959 2075 \n",
       "z\n",
       "\" transform=\"scale(0.015625)\"/>\n",
       "     </defs>\n",
       "     <use xlink:href=\"#DejaVuSans-2d\"/>\n",
       "     <use xlink:href=\"#DejaVuSans-39\" x=\"36.083984\"/>\n",
       "     <use xlink:href=\"#DejaVuSans-36\" x=\"99.707031\"/>\n",
       "    </g>\n",
       "   </g>\n",
       "   <g id=\"patch_7\">\n",
       "    <path d=\"M 289.38125 273.77099 \n",
       "Q 289.38125 182.772343 289.38125 92.89173 \n",
       "\" style=\"fill: none; stroke: #000000; stroke-linecap: round\"/>\n",
       "    <path d=\"M 287.38125 96.89173 \n",
       "L 289.38125 92.89173 \n",
       "L 291.38125 96.89173 \n",
       "\" style=\"fill: none; stroke: #000000; stroke-linecap: round\"/>\n",
       "   </g>\n",
       "   <g id=\"text_9\">\n",
       "    <!-- -480 -->\n",
       "    <g transform=\"translate(289.38125 288.950312) scale(0.1 -0.1)\">\n",
       "     <use xlink:href=\"#DejaVuSans-2d\"/>\n",
       "     <use xlink:href=\"#DejaVuSans-34\" x=\"36.083984\"/>\n",
       "     <use xlink:href=\"#DejaVuSans-38\" x=\"99.707031\"/>\n",
       "     <use xlink:href=\"#DejaVuSans-30\" x=\"163.330078\"/>\n",
       "    </g>\n",
       "   </g>\n",
       "   <g id=\"patch_8\">\n",
       "    <path d=\"M 10.38125 58.290376 \n",
       "Q 10.38125 73.030035 10.38125 86.651661 \n",
       "\" style=\"fill: none; stroke: #000000; stroke-linecap: round\"/>\n",
       "    <path d=\"M 12.38125 82.651661 \n",
       "L 10.38125 86.651661 \n",
       "L 8.38125 82.651661 \n",
       "\" style=\"fill: none; stroke: #000000; stroke-linecap: round\"/>\n",
       "   </g>\n",
       "   <g id=\"text_10\">\n",
       "    <!-- 3⋅R_v__A -->\n",
       "    <g transform=\"translate(10.38125 25.958437) scale(0.1 -0.1)\">\n",
       "     <defs>\n",
       "      <path id=\"DejaVuSans-33\" d=\"M 2597 2516 \n",
       "Q 3050 2419 3304 2112 \n",
       "Q 3559 1806 3559 1356 \n",
       "Q 3559 666 3084 287 \n",
       "Q 2609 -91 1734 -91 \n",
       "Q 1441 -91 1130 -33 \n",
       "Q 819 25 488 141 \n",
       "L 488 750 \n",
       "Q 750 597 1062 519 \n",
       "Q 1375 441 1716 441 \n",
       "Q 2309 441 2620 675 \n",
       "Q 2931 909 2931 1356 \n",
       "Q 2931 1769 2642 2001 \n",
       "Q 2353 2234 1838 2234 \n",
       "L 1294 2234 \n",
       "L 1294 2753 \n",
       "L 1863 2753 \n",
       "Q 2328 2753 2575 2939 \n",
       "Q 2822 3125 2822 3475 \n",
       "Q 2822 3834 2567 4026 \n",
       "Q 2313 4219 1838 4219 \n",
       "Q 1578 4219 1281 4162 \n",
       "Q 984 4106 628 3988 \n",
       "L 628 4550 \n",
       "Q 988 4650 1302 4700 \n",
       "Q 1616 4750 1894 4750 \n",
       "Q 2613 4750 3031 4423 \n",
       "Q 3450 4097 3450 3541 \n",
       "Q 3450 3153 3228 2886 \n",
       "Q 3006 2619 2597 2516 \n",
       "z\n",
       "\" transform=\"scale(0.015625)\"/>\n",
       "      <path id=\"DejaVuSans-22c5\" d=\"M 684 2619 \n",
       "L 1344 2619 \n",
       "L 1344 1825 \n",
       "L 684 1825 \n",
       "L 684 2619 \n",
       "z\n",
       "\" transform=\"scale(0.015625)\"/>\n",
       "      <path id=\"DejaVuSans-52\" d=\"M 2841 2188 \n",
       "Q 3044 2119 3236 1894 \n",
       "Q 3428 1669 3622 1275 \n",
       "L 4263 0 \n",
       "L 3584 0 \n",
       "L 2988 1197 \n",
       "Q 2756 1666 2539 1819 \n",
       "Q 2322 1972 1947 1972 \n",
       "L 1259 1972 \n",
       "L 1259 0 \n",
       "L 628 0 \n",
       "L 628 4666 \n",
       "L 2053 4666 \n",
       "Q 2853 4666 3247 4331 \n",
       "Q 3641 3997 3641 3322 \n",
       "Q 3641 2881 3436 2590 \n",
       "Q 3231 2300 2841 2188 \n",
       "z\n",
       "M 1259 4147 \n",
       "L 1259 2491 \n",
       "L 2053 2491 \n",
       "Q 2509 2491 2742 2702 \n",
       "Q 2975 2913 2975 3322 \n",
       "Q 2975 3731 2742 3939 \n",
       "Q 2509 4147 2053 4147 \n",
       "L 1259 4147 \n",
       "z\n",
       "\" transform=\"scale(0.015625)\"/>\n",
       "      <path id=\"DejaVuSans-5f\" d=\"M 3263 -1063 \n",
       "L 3263 -1509 \n",
       "L -63 -1509 \n",
       "L -63 -1063 \n",
       "L 3263 -1063 \n",
       "z\n",
       "\" transform=\"scale(0.015625)\"/>\n",
       "      <path id=\"DejaVuSans-76\" d=\"M 191 3500 \n",
       "L 800 3500 \n",
       "L 1894 563 \n",
       "L 2988 3500 \n",
       "L 3597 3500 \n",
       "L 2284 0 \n",
       "L 1503 0 \n",
       "L 191 3500 \n",
       "z\n",
       "\" transform=\"scale(0.015625)\"/>\n",
       "      <path id=\"DejaVuSans-41\" d=\"M 2188 4044 \n",
       "L 1331 1722 \n",
       "L 3047 1722 \n",
       "L 2188 4044 \n",
       "z\n",
       "M 1831 4666 \n",
       "L 2547 4666 \n",
       "L 4325 0 \n",
       "L 3669 0 \n",
       "L 3244 1197 \n",
       "L 1141 1197 \n",
       "L 716 0 \n",
       "L 50 0 \n",
       "L 1831 4666 \n",
       "z\n",
       "\" transform=\"scale(0.015625)\"/>\n",
       "     </defs>\n",
       "     <use xlink:href=\"#DejaVuSans-33\"/>\n",
       "     <use xlink:href=\"#DejaVuSans-22c5\" x=\"63.623047\"/>\n",
       "     <use xlink:href=\"#DejaVuSans-52\" x=\"95.410156\"/>\n",
       "     <use xlink:href=\"#DejaVuSans-5f\" x=\"164.892578\"/>\n",
       "     <use xlink:href=\"#DejaVuSans-76\" x=\"214.892578\"/>\n",
       "     <use xlink:href=\"#DejaVuSans-5f\" x=\"274.072266\"/>\n",
       "     <use xlink:href=\"#DejaVuSans-5f\" x=\"324.072266\"/>\n",
       "     <use xlink:href=\"#DejaVuSans-41\" x=\"374.072266\"/>\n",
       "    </g>\n",
       "    <!-- ──────── -->\n",
       "    <g transform=\"translate(10.38125 37.434375) scale(0.1 -0.1)\">\n",
       "     <defs>\n",
       "      <path id=\"DejaVuSans-2500\" d=\"M -63 1931 \n",
       "L -63 2469 \n",
       "L 3916 2469 \n",
       "L 3916 1931 \n",
       "L -63 1931 \n",
       "z\n",
       "\" transform=\"scale(0.015625)\"/>\n",
       "     </defs>\n",
       "     <use xlink:href=\"#DejaVuSans-2500\"/>\n",
       "     <use xlink:href=\"#DejaVuSans-2500\" x=\"60.205078\"/>\n",
       "     <use xlink:href=\"#DejaVuSans-2500\" x=\"120.410156\"/>\n",
       "     <use xlink:href=\"#DejaVuSans-2500\" x=\"180.615234\"/>\n",
       "     <use xlink:href=\"#DejaVuSans-2500\" x=\"240.820312\"/>\n",
       "     <use xlink:href=\"#DejaVuSans-2500\" x=\"301.025391\"/>\n",
       "     <use xlink:href=\"#DejaVuSans-2500\" x=\"361.230469\"/>\n",
       "     <use xlink:href=\"#DejaVuSans-2500\" x=\"421.435547\"/>\n",
       "    </g>\n",
       "    <!--    5     -->\n",
       "    <g transform=\"translate(10.38125 48.632187) scale(0.1 -0.1)\">\n",
       "     <defs>\n",
       "      <path id=\"DejaVuSans-20\" transform=\"scale(0.015625)\"/>\n",
       "      <path id=\"DejaVuSans-35\" d=\"M 691 4666 \n",
       "L 3169 4666 \n",
       "L 3169 4134 \n",
       "L 1269 4134 \n",
       "L 1269 2991 \n",
       "Q 1406 3038 1543 3061 \n",
       "Q 1681 3084 1819 3084 \n",
       "Q 2600 3084 3056 2656 \n",
       "Q 3513 2228 3513 1497 \n",
       "Q 3513 744 3044 326 \n",
       "Q 2575 -91 1722 -91 \n",
       "Q 1428 -91 1123 -41 \n",
       "Q 819 9 494 109 \n",
       "L 494 744 \n",
       "Q 775 591 1075 516 \n",
       "Q 1375 441 1709 441 \n",
       "Q 2250 441 2565 725 \n",
       "Q 2881 1009 2881 1497 \n",
       "Q 2881 1984 2565 2268 \n",
       "Q 2250 2553 1709 2553 \n",
       "Q 1456 2553 1204 2497 \n",
       "Q 953 2441 691 2322 \n",
       "L 691 4666 \n",
       "z\n",
       "\" transform=\"scale(0.015625)\"/>\n",
       "     </defs>\n",
       "     <use xlink:href=\"#DejaVuSans-20\"/>\n",
       "     <use xlink:href=\"#DejaVuSans-20\" x=\"31.787109\"/>\n",
       "     <use xlink:href=\"#DejaVuSans-20\" x=\"63.574219\"/>\n",
       "     <use xlink:href=\"#DejaVuSans-35\" x=\"95.361328\"/>\n",
       "     <use xlink:href=\"#DejaVuSans-20\" x=\"158.984375\"/>\n",
       "     <use xlink:href=\"#DejaVuSans-20\" x=\"190.771484\"/>\n",
       "     <use xlink:href=\"#DejaVuSans-20\" x=\"222.558594\"/>\n",
       "     <use xlink:href=\"#DejaVuSans-20\" x=\"254.345703\"/>\n",
       "    </g>\n",
       "   </g>\n",
       "   <g id=\"patch_9\">\n",
       "    <path d=\"M 568.38125 58.290376 \n",
       "Q 568.38125 73.030035 568.38125 86.651661 \n",
       "\" style=\"fill: none; stroke: #000000; stroke-linecap: round\"/>\n",
       "    <path d=\"M 570.38125 82.651661 \n",
       "L 568.38125 86.651661 \n",
       "L 566.38125 82.651661 \n",
       "\" style=\"fill: none; stroke: #000000; stroke-linecap: round\"/>\n",
       "   </g>\n",
       "   <g id=\"text_11\">\n",
       "    <!-- 3⋅R_v__C -->\n",
       "    <g transform=\"translate(568.38125 25.958437) scale(0.1 -0.1)\">\n",
       "     <defs>\n",
       "      <path id=\"DejaVuSans-43\" d=\"M 4122 4306 \n",
       "L 4122 3641 \n",
       "Q 3803 3938 3442 4084 \n",
       "Q 3081 4231 2675 4231 \n",
       "Q 1875 4231 1450 3742 \n",
       "Q 1025 3253 1025 2328 \n",
       "Q 1025 1406 1450 917 \n",
       "Q 1875 428 2675 428 \n",
       "Q 3081 428 3442 575 \n",
       "Q 3803 722 4122 1019 \n",
       "L 4122 359 \n",
       "Q 3791 134 3420 21 \n",
       "Q 3050 -91 2638 -91 \n",
       "Q 1578 -91 968 557 \n",
       "Q 359 1206 359 2328 \n",
       "Q 359 3453 968 4101 \n",
       "Q 1578 4750 2638 4750 \n",
       "Q 3056 4750 3426 4639 \n",
       "Q 3797 4528 4122 4306 \n",
       "z\n",
       "\" transform=\"scale(0.015625)\"/>\n",
       "     </defs>\n",
       "     <use xlink:href=\"#DejaVuSans-33\"/>\n",
       "     <use xlink:href=\"#DejaVuSans-22c5\" x=\"63.623047\"/>\n",
       "     <use xlink:href=\"#DejaVuSans-52\" x=\"95.410156\"/>\n",
       "     <use xlink:href=\"#DejaVuSans-5f\" x=\"164.892578\"/>\n",
       "     <use xlink:href=\"#DejaVuSans-76\" x=\"214.892578\"/>\n",
       "     <use xlink:href=\"#DejaVuSans-5f\" x=\"274.072266\"/>\n",
       "     <use xlink:href=\"#DejaVuSans-5f\" x=\"324.072266\"/>\n",
       "     <use xlink:href=\"#DejaVuSans-43\" x=\"374.072266\"/>\n",
       "    </g>\n",
       "    <!-- ──────── -->\n",
       "    <g transform=\"translate(568.38125 37.434375) scale(0.1 -0.1)\">\n",
       "     <use xlink:href=\"#DejaVuSans-2500\"/>\n",
       "     <use xlink:href=\"#DejaVuSans-2500\" x=\"60.205078\"/>\n",
       "     <use xlink:href=\"#DejaVuSans-2500\" x=\"120.410156\"/>\n",
       "     <use xlink:href=\"#DejaVuSans-2500\" x=\"180.615234\"/>\n",
       "     <use xlink:href=\"#DejaVuSans-2500\" x=\"240.820312\"/>\n",
       "     <use xlink:href=\"#DejaVuSans-2500\" x=\"301.025391\"/>\n",
       "     <use xlink:href=\"#DejaVuSans-2500\" x=\"361.230469\"/>\n",
       "     <use xlink:href=\"#DejaVuSans-2500\" x=\"421.435547\"/>\n",
       "    </g>\n",
       "    <!--    5     -->\n",
       "    <g transform=\"translate(568.38125 48.632187) scale(0.1 -0.1)\">\n",
       "     <use xlink:href=\"#DejaVuSans-20\"/>\n",
       "     <use xlink:href=\"#DejaVuSans-20\" x=\"31.787109\"/>\n",
       "     <use xlink:href=\"#DejaVuSans-20\" x=\"63.574219\"/>\n",
       "     <use xlink:href=\"#DejaVuSans-35\" x=\"95.361328\"/>\n",
       "     <use xlink:href=\"#DejaVuSans-20\" x=\"158.984375\"/>\n",
       "     <use xlink:href=\"#DejaVuSans-20\" x=\"190.771484\"/>\n",
       "     <use xlink:href=\"#DejaVuSans-20\" x=\"222.558594\"/>\n",
       "     <use xlink:href=\"#DejaVuSans-20\" x=\"254.345703\"/>\n",
       "    </g>\n",
       "   </g>\n",
       "   <g id=\"patch_10\">\n",
       "    <path d=\"M 10.38125 47.134463 \n",
       "Q 10.38125 67.452553 10.38125 86.65261 \n",
       "\" style=\"fill: none; stroke: #000000; stroke-linecap: round\"/>\n",
       "    <path d=\"M 12.38125 82.65261 \n",
       "L 10.38125 86.65261 \n",
       "L 8.38125 82.65261 \n",
       "\" style=\"fill: none; stroke: #000000; stroke-linecap: round\"/>\n",
       "   </g>\n",
       "   <g id=\"text_12\">\n",
       "    <!-- 4⋅R_h__A -->\n",
       "    <g transform=\"translate(10.38125 14.798437) scale(0.1 -0.1)\">\n",
       "     <defs>\n",
       "      <path id=\"DejaVuSans-68\" d=\"M 3513 2113 \n",
       "L 3513 0 \n",
       "L 2938 0 \n",
       "L 2938 2094 \n",
       "Q 2938 2591 2744 2837 \n",
       "Q 2550 3084 2163 3084 \n",
       "Q 1697 3084 1428 2787 \n",
       "Q 1159 2491 1159 1978 \n",
       "L 1159 0 \n",
       "L 581 0 \n",
       "L 581 4863 \n",
       "L 1159 4863 \n",
       "L 1159 2956 \n",
       "Q 1366 3272 1645 3428 \n",
       "Q 1925 3584 2291 3584 \n",
       "Q 2894 3584 3203 3211 \n",
       "Q 3513 2838 3513 2113 \n",
       "z\n",
       "\" transform=\"scale(0.015625)\"/>\n",
       "     </defs>\n",
       "     <use xlink:href=\"#DejaVuSans-34\"/>\n",
       "     <use xlink:href=\"#DejaVuSans-22c5\" x=\"63.623047\"/>\n",
       "     <use xlink:href=\"#DejaVuSans-52\" x=\"95.410156\"/>\n",
       "     <use xlink:href=\"#DejaVuSans-5f\" x=\"164.892578\"/>\n",
       "     <use xlink:href=\"#DejaVuSans-68\" x=\"214.892578\"/>\n",
       "     <use xlink:href=\"#DejaVuSans-5f\" x=\"278.271484\"/>\n",
       "     <use xlink:href=\"#DejaVuSans-5f\" x=\"328.271484\"/>\n",
       "     <use xlink:href=\"#DejaVuSans-41\" x=\"378.271484\"/>\n",
       "    </g>\n",
       "    <!-- ──────── -->\n",
       "    <g transform=\"translate(10.38125 26.274375) scale(0.1 -0.1)\">\n",
       "     <use xlink:href=\"#DejaVuSans-2500\"/>\n",
       "     <use xlink:href=\"#DejaVuSans-2500\" x=\"60.205078\"/>\n",
       "     <use xlink:href=\"#DejaVuSans-2500\" x=\"120.410156\"/>\n",
       "     <use xlink:href=\"#DejaVuSans-2500\" x=\"180.615234\"/>\n",
       "     <use xlink:href=\"#DejaVuSans-2500\" x=\"240.820312\"/>\n",
       "     <use xlink:href=\"#DejaVuSans-2500\" x=\"301.025391\"/>\n",
       "     <use xlink:href=\"#DejaVuSans-2500\" x=\"361.230469\"/>\n",
       "     <use xlink:href=\"#DejaVuSans-2500\" x=\"421.435547\"/>\n",
       "    </g>\n",
       "    <!--    5     -->\n",
       "    <g transform=\"translate(10.38125 37.472188) scale(0.1 -0.1)\">\n",
       "     <use xlink:href=\"#DejaVuSans-20\"/>\n",
       "     <use xlink:href=\"#DejaVuSans-20\" x=\"31.787109\"/>\n",
       "     <use xlink:href=\"#DejaVuSans-20\" x=\"63.574219\"/>\n",
       "     <use xlink:href=\"#DejaVuSans-35\" x=\"95.361328\"/>\n",
       "     <use xlink:href=\"#DejaVuSans-20\" x=\"158.984375\"/>\n",
       "     <use xlink:href=\"#DejaVuSans-20\" x=\"190.771484\"/>\n",
       "     <use xlink:href=\"#DejaVuSans-20\" x=\"222.558594\"/>\n",
       "     <use xlink:href=\"#DejaVuSans-20\" x=\"254.345703\"/>\n",
       "    </g>\n",
       "   </g>\n",
       "   <g id=\"patch_11\">\n",
       "    <path d=\"M 568.38125 132.409287 \n",
       "Q 568.38125 112.091197 568.38125 92.89114 \n",
       "\" style=\"fill: none; stroke: #000000; stroke-linecap: round\"/>\n",
       "    <path d=\"M 566.38125 96.89114 \n",
       "L 568.38125 92.89114 \n",
       "L 570.38125 96.89114 \n",
       "\" style=\"fill: none; stroke: #000000; stroke-linecap: round\"/>\n",
       "   </g>\n",
       "   <g id=\"text_13\">\n",
       "    <!-- -4⋅R_h__C  -->\n",
       "    <g transform=\"translate(568.38125 147.590312) scale(0.1 -0.1)\">\n",
       "     <use xlink:href=\"#DejaVuSans-2d\"/>\n",
       "     <use xlink:href=\"#DejaVuSans-34\" x=\"36.083984\"/>\n",
       "     <use xlink:href=\"#DejaVuSans-22c5\" x=\"99.707031\"/>\n",
       "     <use xlink:href=\"#DejaVuSans-52\" x=\"131.494141\"/>\n",
       "     <use xlink:href=\"#DejaVuSans-5f\" x=\"200.976562\"/>\n",
       "     <use xlink:href=\"#DejaVuSans-68\" x=\"250.976562\"/>\n",
       "     <use xlink:href=\"#DejaVuSans-5f\" x=\"314.355469\"/>\n",
       "     <use xlink:href=\"#DejaVuSans-5f\" x=\"364.355469\"/>\n",
       "     <use xlink:href=\"#DejaVuSans-43\" x=\"414.355469\"/>\n",
       "     <use xlink:href=\"#DejaVuSans-20\" x=\"484.179688\"/>\n",
       "    </g>\n",
       "    <!-- ────────── -->\n",
       "    <g transform=\"translate(568.38125 159.06625) scale(0.1 -0.1)\">\n",
       "     <use xlink:href=\"#DejaVuSans-2500\"/>\n",
       "     <use xlink:href=\"#DejaVuSans-2500\" x=\"60.205078\"/>\n",
       "     <use xlink:href=\"#DejaVuSans-2500\" x=\"120.410156\"/>\n",
       "     <use xlink:href=\"#DejaVuSans-2500\" x=\"180.615234\"/>\n",
       "     <use xlink:href=\"#DejaVuSans-2500\" x=\"240.820312\"/>\n",
       "     <use xlink:href=\"#DejaVuSans-2500\" x=\"301.025391\"/>\n",
       "     <use xlink:href=\"#DejaVuSans-2500\" x=\"361.230469\"/>\n",
       "     <use xlink:href=\"#DejaVuSans-2500\" x=\"421.435547\"/>\n",
       "     <use xlink:href=\"#DejaVuSans-2500\" x=\"481.640625\"/>\n",
       "     <use xlink:href=\"#DejaVuSans-2500\" x=\"541.845703\"/>\n",
       "    </g>\n",
       "    <!--     5      -->\n",
       "    <g transform=\"translate(568.38125 170.264062) scale(0.1 -0.1)\">\n",
       "     <use xlink:href=\"#DejaVuSans-20\"/>\n",
       "     <use xlink:href=\"#DejaVuSans-20\" x=\"31.787109\"/>\n",
       "     <use xlink:href=\"#DejaVuSans-20\" x=\"63.574219\"/>\n",
       "     <use xlink:href=\"#DejaVuSans-20\" x=\"95.361328\"/>\n",
       "     <use xlink:href=\"#DejaVuSans-35\" x=\"127.148438\"/>\n",
       "     <use xlink:href=\"#DejaVuSans-20\" x=\"190.771484\"/>\n",
       "     <use xlink:href=\"#DejaVuSans-20\" x=\"222.558594\"/>\n",
       "     <use xlink:href=\"#DejaVuSans-20\" x=\"254.345703\"/>\n",
       "     <use xlink:href=\"#DejaVuSans-20\" x=\"286.132812\"/>\n",
       "     <use xlink:href=\"#DejaVuSans-20\" x=\"317.919922\"/>\n",
       "    </g>\n",
       "   </g>\n",
       "   <g id=\"patch_12\">\n",
       "    <path d=\"M 289.38125 177.049287 \n",
       "Q 289.38125 134.410724 289.38125 92.890194 \n",
       "\" style=\"fill: none; stroke: #000000; stroke-linecap: round\"/>\n",
       "    <path d=\"M 287.38125 96.890194 \n",
       "L 289.38125 92.890194 \n",
       "L 291.38125 96.890194 \n",
       "\" style=\"fill: none; stroke: #000000; stroke-linecap: round\"/>\n",
       "   </g>\n",
       "   <g id=\"text_14\">\n",
       "    <!-- -8⋅R_h__A  -->\n",
       "    <g transform=\"translate(289.38125 192.230312) scale(0.1 -0.1)\">\n",
       "     <use xlink:href=\"#DejaVuSans-2d\"/>\n",
       "     <use xlink:href=\"#DejaVuSans-38\" x=\"36.083984\"/>\n",
       "     <use xlink:href=\"#DejaVuSans-22c5\" x=\"99.707031\"/>\n",
       "     <use xlink:href=\"#DejaVuSans-52\" x=\"131.494141\"/>\n",
       "     <use xlink:href=\"#DejaVuSans-5f\" x=\"200.976562\"/>\n",
       "     <use xlink:href=\"#DejaVuSans-68\" x=\"250.976562\"/>\n",
       "     <use xlink:href=\"#DejaVuSans-5f\" x=\"314.355469\"/>\n",
       "     <use xlink:href=\"#DejaVuSans-5f\" x=\"364.355469\"/>\n",
       "     <use xlink:href=\"#DejaVuSans-41\" x=\"414.355469\"/>\n",
       "     <use xlink:href=\"#DejaVuSans-20\" x=\"482.763672\"/>\n",
       "    </g>\n",
       "    <!-- ────────── -->\n",
       "    <g transform=\"translate(289.38125 203.70625) scale(0.1 -0.1)\">\n",
       "     <use xlink:href=\"#DejaVuSans-2500\"/>\n",
       "     <use xlink:href=\"#DejaVuSans-2500\" x=\"60.205078\"/>\n",
       "     <use xlink:href=\"#DejaVuSans-2500\" x=\"120.410156\"/>\n",
       "     <use xlink:href=\"#DejaVuSans-2500\" x=\"180.615234\"/>\n",
       "     <use xlink:href=\"#DejaVuSans-2500\" x=\"240.820312\"/>\n",
       "     <use xlink:href=\"#DejaVuSans-2500\" x=\"301.025391\"/>\n",
       "     <use xlink:href=\"#DejaVuSans-2500\" x=\"361.230469\"/>\n",
       "     <use xlink:href=\"#DejaVuSans-2500\" x=\"421.435547\"/>\n",
       "     <use xlink:href=\"#DejaVuSans-2500\" x=\"481.640625\"/>\n",
       "     <use xlink:href=\"#DejaVuSans-2500\" x=\"541.845703\"/>\n",
       "    </g>\n",
       "    <!--     5      -->\n",
       "    <g transform=\"translate(289.38125 214.904062) scale(0.1 -0.1)\">\n",
       "     <use xlink:href=\"#DejaVuSans-20\"/>\n",
       "     <use xlink:href=\"#DejaVuSans-20\" x=\"31.787109\"/>\n",
       "     <use xlink:href=\"#DejaVuSans-20\" x=\"63.574219\"/>\n",
       "     <use xlink:href=\"#DejaVuSans-20\" x=\"95.361328\"/>\n",
       "     <use xlink:href=\"#DejaVuSans-35\" x=\"127.148438\"/>\n",
       "     <use xlink:href=\"#DejaVuSans-20\" x=\"190.771484\"/>\n",
       "     <use xlink:href=\"#DejaVuSans-20\" x=\"222.558594\"/>\n",
       "     <use xlink:href=\"#DejaVuSans-20\" x=\"254.345703\"/>\n",
       "     <use xlink:href=\"#DejaVuSans-20\" x=\"286.132812\"/>\n",
       "     <use xlink:href=\"#DejaVuSans-20\" x=\"317.919922\"/>\n",
       "    </g>\n",
       "   </g>\n",
       "  </g>\n",
       " </g>\n",
       " <defs>\n",
       "  <clipPath id=\"p6c0fa6c8e0\">\n",
       "   <rect x=\"10.38125\" y=\"68.381875\" width=\"558\" height=\"61.38\"/>\n",
       "  </clipPath>\n",
       " </defs>\n",
       "</svg>\n"
      ],
      "text/plain": [
       "<Figure size 1000x500 with 1 Axes>"
      ]
     },
     "metadata": {},
     "output_type": "display_data"
    }
   ],
   "source": [
    "fig,ax = plt.subplots(figsize=(10,5))\n",
    "x_plot = np.linspace(0,10,1000)\n",
    "max_L = max(x_plot)\n",
    "plt.xlim(0,max_L)\n",
    "max_F = 0\n",
    "for i in range(len(qz.args)):\n",
    "    if len(qz.args[i].args[0].free_symbols) != 0:\n",
    "        max_F = max(max_F,1)\n",
    "    else:\n",
    "        max_F = max(max_F,abs(qz.args[i].args[0]))\n",
    "scale = max_L / max_F / 3\n",
    "min = 0.4\n",
    "indicator = False\n",
    "for i in range(len(qz.args)):\n",
    "    if qz.args[i].args[-1].args[2] == 0:\n",
    "        qz_plot = sym.lambdify(x, qz.args[i].rewrite(sym.Piecewise).simplify())\n",
    "        plt.plot(x_plot,-qz_plot(x_plot) * scale)\n",
    "        if qz.args[i].args[0] < 0:\n",
    "            ax.annotate(sym.pretty(sym.nsimplify(qz.args[i].args[0])),xy=(qz.args[i].args[-1].args[1] , -qz.args[i].args[0]* scale+0.1),annotation_clip=False,va='top',ha='left')\n",
    "        else:\n",
    "            ax.annotate(sym.pretty(sym.nsimplify(qz.args[i].args[0])),xy=(qz.args[i].args[-1].args[1] , -qz.args[i].args[0]* scale-0.1),annotation_clip=False,va='bottom',ha='left')\n",
    "    if qz.args[i].args[-1].args[2] == -1:\n",
    "        name = sym.nsimplify(1)\n",
    "        for j in range(len(qz.args[i].args[:-1])):\n",
    "            name = name * qz.args[i].args[j]\n",
    "        if len(name.free_symbols) != 0:\n",
    "            indicator = True\n",
    "            scale_or = scale\n",
    "            scale = 1\n",
    "        name = sym.pretty(sym.nsimplify(name))\n",
    "        if isinstance(qz.args[i].args[0],sym.Float) or isinstance(qz.args[i].args[0],sym.Integer):\n",
    "            ax.annotate(\"\", xy=(qz.args[i].args[-1].args[1], 0), xytext=(qz.args[i].args[-1].args[1], -qz.args[i].args[0] * scale), arrowprops=dict(arrowstyle='->'),annotation_clip=False,)\n",
    "            if qz.args[i].args[0] < 0:\n",
    "                ax.annotate(name,xy=(qz.args[i].args[-1].args[1] , -qz.args[i].args[0]* scale + 0.1),annotation_clip=False,va='top',ha='left')\n",
    "            else:\n",
    "                ax.annotate(name,xy=(qz.args[i].args[-1].args[1] , -qz.args[i].args[0]* scale - 0.1),annotation_clip=False,va='bottom',ha='left')\n",
    "        else:\n",
    "            ax.annotate(\"\", xy=(qz.args[i].args[-1].args[1], 0), xytext=(qz.args[i].args[-1].args[1], -1), arrowprops=dict(arrowstyle='->'),annotation_clip=False,)\n",
    "            ax.annotate(name,xy=(qz.args[i].args[-1].args[1] , -1 + 0.1),annotation_clip=False,va='top',ha='left')\n",
    "        if indicator:\n",
    "            scale = scale_or\n",
    "        indicator = False\n",
    "    if qz.args[i].args[-1].args[2] == -2:\n",
    "        name = sym.nsimplify(1)\n",
    "        for j in range(len(qz.args[i].args[:-1])):\n",
    "            name = name * qz.args[i].args[j]\n",
    "        name = sym.pretty(sym.nsimplify(name))\n",
    "        ax.annotate(\"\", xy=(qz.args[i].args[-1].args[1] + 0.5, 0.1), xytext=(qz.args[i].args[-1].args[1] - 0.5, 0.1), arrowprops=dict(arrowstyle='->',connectionstyle='angle3,angleA=-45,angleB=45'),annotation_clip=False,)\n",
    "        ax.annotate(name,xy=(qz.args[i].args[-1].args[1] + 0.5 , +0.1),annotation_clip=False,va='top',ha='left')\n",
    "#plt.tight_layout()\n",
    "plt.gca().invert_yaxis()\n",
    "ax.spines['right'].set_color('none')\n",
    "ax.spines['top'].set_color('none')\n",
    "ax.spines['left'].set_color('none')\n",
    "ax.spines['bottom'].set_position('zero')\n",
    "ax.axes.get_yaxis().set_visible(False)\n",
    "ax.axes.get_yaxis().set_ticks([])\n",
    "ax.axes.set_aspect('equal')"
   ]
  },
  {
   "cell_type": "code",
   "execution_count": 4,
   "id": "42b8e9d1-cde9-41f3-a01c-078e5f034b9e",
   "metadata": {},
   "outputs": [
    {
     "data": {
      "text/latex": [
       "$\\displaystyle 0.6 R^{A}_{h} {\\left\\langle x \\right\\rangle}^{-1} + 0.6 R^{C}_{h} {\\left\\langle x - 10 \\right\\rangle}^{-1} - 0.8 R^{A}_{v} {\\left\\langle x \\right\\rangle}^{-1} + 1.6 R^{A}_{v} {\\left\\langle x - 5 \\right\\rangle}^{-1} + 0.8 R^{C}_{v} {\\left\\langle x - 10 \\right\\rangle}^{-1} + 0.6 q_{h} {\\left\\langle x \\right\\rangle}^{0}$"
      ],
      "text/plain": [
       "0.6*R_h^A*SingularityFunction(x, 0, -1) + 0.6*R_h^C*SingularityFunction(x, 10, -1) - 0.8*R_v^A*SingularityFunction(x, 0, -1) + 1.6*R_v^A*SingularityFunction(x, 5, -1) + 0.8*R_v^C*SingularityFunction(x, 10, -1) + 0.6*q_h*SingularityFunction(x, 0, 0)"
      ]
     },
     "metadata": {},
     "output_type": "display_data"
    }
   ],
   "source": [
    "#qx opstellen\n",
    "qx = 0\n",
    "\n",
    "#beginpunten\n",
    "for i in range(len(B)):\n",
    "    for j in range(len(aa)):\n",
    "        if bb[i] == aa[-1]:\n",
    "            if nn[i] == 2:\n",
    "                qx += B[i] * sym.SingularityFunction(x,bb[i],-1) * -sym.sin(oo[-1])\n",
    "            if nn[i] == 3:\n",
    "                qx += B[i] * sym.SingularityFunction(x,bb[i],-1) * sym.cos(oo[-1])\n",
    "            if nn[i] == 4:\n",
    "                qx += B[i] * sym.SingularityFunction(x,bb[i],0) * -sym.sin(oo[-1])\n",
    "            if nn[i] == 5:\n",
    "                qx += B[i] * sym.SingularityFunction(x,bb[i],0) * sym.cos(oo[-1])\n",
    "            break\n",
    "        else:\n",
    "            if bb[i] < aa[j]:\n",
    "                if nn[i] == 2:\n",
    "                    qx += B[i] * sym.SingularityFunction(x,bb[i],-1) * -sym.sin(oo[j-1])\n",
    "                if nn[i] == 3:\n",
    "                    qx += B[i] * sym.SingularityFunction(x,bb[i],-1) * sym.cos(oo[j-1])\n",
    "                if nn[i] == 4:\n",
    "                    qx += B[i] * sym.SingularityFunction(x,bb[i],0) * -sym.sin(oo[j-1])\n",
    "                if nn[i] == 5:\n",
    "                    qx += B[i] * sym.SingularityFunction(x,bb[i],0) * sym.cos(oo[j-1])\n",
    "                break\n",
    "\n",
    "# knikpunten\n",
    "for i in range(len(B)):\n",
    "    for j in range(len(aa)-1):\n",
    "        if bb[i] < aa[j]:\n",
    "            if nn[i] == 2:\n",
    "                qx += B[i] * sym.SingularityFunction(x,aa[j],-1) * (-sym.sin(oo[j]) + sym.sin(oo[j-1]))\n",
    "            if nn[i] == 3:\n",
    "                qx += B[i] * sym.SingularityFunction(x,aa[j],-1) * (sym.cos(oo[j]) - sym.cos(oo[j-1]))\n",
    "            if nn[i] == 4:\n",
    "                qx += B[i] * ((sym.SingularityFunction(x,aa[j],0) + sym.SingularityFunction(x,aa[j],-1) * (aa[j] - bb[i])) * (-sym.sin(oo[j]) + sym.sin(oo[j-1])))\n",
    "            if nn[i] == 5:\n",
    "                qx += B[i] * ((sym.SingularityFunction(x,aa[j],0) + sym.SingularityFunction(x,aa[j],-1) * (aa[j] - bb[i])) * (sym.cos(oo[j]) - sym.cos(oo[j-1])))\n",
    "\n",
    "display(qx)"
   ]
  },
  {
   "cell_type": "code",
   "execution_count": 5,
   "id": "fc5ba093-4755-437d-9c64-aecb89cd642e",
   "metadata": {},
   "outputs": [
    {
     "name": "stderr",
     "output_type": "stream",
     "text": [
      "<>:29: SyntaxWarning: invalid escape sequence '\\p'\n",
      "<>:29: SyntaxWarning: invalid escape sequence '\\p'\n",
      "C:\\Users\\tomvanwoudenbe\\AppData\\Local\\Temp\\ipykernel_29692\\431301527.py:29: SyntaxWarning: invalid escape sequence '\\p'\n",
      "  display(sym.symbols('{\\phi}='), phi)\n"
     ]
    },
    {
     "data": {
      "text/latex": [
       "$\\displaystyle {N}=$"
      ],
      "text/plain": [
       "{N}="
      ]
     },
     "metadata": {},
     "output_type": "display_data"
    },
    {
     "data": {
      "text/latex": [
       "$\\displaystyle C_{N} - 0.6 R^{A}_{h} {\\left\\langle x \\right\\rangle}^{0} - 0.6 R^{C}_{h} {\\left\\langle x - 10 \\right\\rangle}^{0} + 0.8 R^{A}_{v} {\\left\\langle x \\right\\rangle}^{0} - 1.6 R^{A}_{v} {\\left\\langle x - 5 \\right\\rangle}^{0} - 0.8 R^{C}_{v} {\\left\\langle x - 10 \\right\\rangle}^{0} - 0.6 q_{h} {\\left\\langle x \\right\\rangle}^{1}$"
      ],
      "text/plain": [
       "C_N - 0.6*R_h^A*SingularityFunction(x, 0, 0) - 0.6*R_h^C*SingularityFunction(x, 10, 0) + 0.8*R_v^A*SingularityFunction(x, 0, 0) - 1.6*R_v^A*SingularityFunction(x, 5, 0) - 0.8*R_v^C*SingularityFunction(x, 10, 0) - 0.6*q_h*SingularityFunction(x, 0, 1)"
      ]
     },
     "metadata": {},
     "output_type": "display_data"
    },
    {
     "data": {
      "text/latex": [
       "$\\displaystyle {V}=$"
      ],
      "text/plain": [
       "{V}="
      ]
     },
     "metadata": {},
     "output_type": "display_data"
    },
    {
     "data": {
      "text/latex": [
       "$\\displaystyle C_{V} - EI \\phi^{B}_{s} {\\left\\langle x - 5 \\right\\rangle}^{-2} - 0.8 R^{A}_{h} {\\left\\langle x \\right\\rangle}^{0} + 1.6 R^{A}_{h} {\\left\\langle x - 5 \\right\\rangle}^{0} + 0.8 R^{C}_{h} {\\left\\langle x - 10 \\right\\rangle}^{0} - 0.6 R^{A}_{v} {\\left\\langle x \\right\\rangle}^{0} - 0.6 R^{C}_{v} {\\left\\langle x - 10 \\right\\rangle}^{0} - 0.8 q_{h} {\\left\\langle x \\right\\rangle}^{1} + 8.0 q_{h} {\\left\\langle x - 5 \\right\\rangle}^{0} + 1.6 q_{h} {\\left\\langle x - 5 \\right\\rangle}^{1}$"
      ],
      "text/plain": [
       "C_V - EI*phi_s^B*SingularityFunction(x, 5, -2) - 0.8*R_h^A*SingularityFunction(x, 0, 0) + 1.6*R_h^A*SingularityFunction(x, 5, 0) + 0.8*R_h^C*SingularityFunction(x, 10, 0) - 0.6*R_v^A*SingularityFunction(x, 0, 0) - 0.6*R_v^C*SingularityFunction(x, 10, 0) - 0.8*q_h*SingularityFunction(x, 0, 1) + 8.0*q_h*SingularityFunction(x, 5, 0) + 1.6*q_h*SingularityFunction(x, 5, 1)"
      ]
     },
     "metadata": {},
     "output_type": "display_data"
    },
    {
     "data": {
      "text/latex": [
       "$\\displaystyle {M}=$"
      ],
      "text/plain": [
       "{M}="
      ]
     },
     "metadata": {},
     "output_type": "display_data"
    },
    {
     "data": {
      "text/latex": [
       "$\\displaystyle C_{M} + C_{V} x - EI \\phi^{B}_{s} {\\left\\langle x - 5 \\right\\rangle}^{-1} - 0.8 R^{A}_{h} {\\left\\langle x \\right\\rangle}^{1} + 1.6 R^{A}_{h} {\\left\\langle x - 5 \\right\\rangle}^{1} + 0.8 R^{C}_{h} {\\left\\langle x - 10 \\right\\rangle}^{1} - 0.6 R^{A}_{v} {\\left\\langle x \\right\\rangle}^{1} - 0.6 R^{C}_{v} {\\left\\langle x - 10 \\right\\rangle}^{1} - 0.4 q_{h} {\\left\\langle x \\right\\rangle}^{2} + 8.0 q_{h} {\\left\\langle x - 5 \\right\\rangle}^{1} + 0.8 q_{h} {\\left\\langle x - 5 \\right\\rangle}^{2}$"
      ],
      "text/plain": [
       "C_M + C_V*x - EI*phi_s^B*SingularityFunction(x, 5, -1) - 0.8*R_h^A*SingularityFunction(x, 0, 1) + 1.6*R_h^A*SingularityFunction(x, 5, 1) + 0.8*R_h^C*SingularityFunction(x, 10, 1) - 0.6*R_v^A*SingularityFunction(x, 0, 1) - 0.6*R_v^C*SingularityFunction(x, 10, 1) - 0.4*q_h*SingularityFunction(x, 0, 2) + 8.0*q_h*SingularityFunction(x, 5, 1) + 0.8*q_h*SingularityFunction(x, 5, 2)"
      ]
     },
     "metadata": {},
     "output_type": "display_data"
    },
    {
     "data": {
      "text/latex": [
       "$\\displaystyle {u_x}=$"
      ],
      "text/plain": [
       "{u_x}="
      ]
     },
     "metadata": {},
     "output_type": "display_data"
    },
    {
     "data": {
      "text/latex": [
       "$\\displaystyle C_{ux} + \\frac{C_{N} x - 0.6 R^{A}_{h} {\\left\\langle x \\right\\rangle}^{1} - 0.6 R^{C}_{h} {\\left\\langle x - 10 \\right\\rangle}^{1} + 0.8 R^{A}_{v} {\\left\\langle x \\right\\rangle}^{1} - 1.6 R^{A}_{v} {\\left\\langle x - 5 \\right\\rangle}^{1} - 0.8 R^{C}_{v} {\\left\\langle x - 10 \\right\\rangle}^{1} - 0.3 q_{h} {\\left\\langle x \\right\\rangle}^{2}}{EA}$"
      ],
      "text/plain": [
       "C_ux + (C_N*x - 0.6*R_h^A*SingularityFunction(x, 0, 1) - 0.6*R_h^C*SingularityFunction(x, 10, 1) + 0.8*R_v^A*SingularityFunction(x, 0, 1) - 1.6*R_v^A*SingularityFunction(x, 5, 1) - 0.8*R_v^C*SingularityFunction(x, 10, 1) - 0.3*q_h*SingularityFunction(x, 0, 2))/EA"
      ]
     },
     "metadata": {},
     "output_type": "display_data"
    },
    {
     "data": {
      "text/latex": [
       "$\\displaystyle {\\phi}=$"
      ],
      "text/plain": [
       "{\\phi}="
      ]
     },
     "metadata": {},
     "output_type": "display_data"
    },
    {
     "data": {
      "text/latex": [
       "$\\displaystyle C_{\\phi} + \\frac{C_{M} x + \\frac{C_{V} x^{2}}{2} - EI \\phi^{B}_{s} {\\left\\langle x - 5 \\right\\rangle}^{0} - 0.4 R^{A}_{h} {\\left\\langle x \\right\\rangle}^{2} + 0.8 R^{A}_{h} {\\left\\langle x - 5 \\right\\rangle}^{2} + 0.4 R^{C}_{h} {\\left\\langle x - 10 \\right\\rangle}^{2} - 0.3 R^{A}_{v} {\\left\\langle x \\right\\rangle}^{2} - 0.3 R^{C}_{v} {\\left\\langle x - 10 \\right\\rangle}^{2} - 0.133333333333333 q_{h} {\\left\\langle x \\right\\rangle}^{3} + 4.0 q_{h} {\\left\\langle x - 5 \\right\\rangle}^{2} + 0.266666666666667 q_{h} {\\left\\langle x - 5 \\right\\rangle}^{3}}{EI}$"
      ],
      "text/plain": [
       "C_phi + (C_M*x + C_V*x**2/2 - EI*phi_s^B*SingularityFunction(x, 5, 0) - 0.4*R_h^A*SingularityFunction(x, 0, 2) + 0.8*R_h^A*SingularityFunction(x, 5, 2) + 0.4*R_h^C*SingularityFunction(x, 10, 2) - 0.3*R_v^A*SingularityFunction(x, 0, 2) - 0.3*R_v^C*SingularityFunction(x, 10, 2) - 0.133333333333333*q_h*SingularityFunction(x, 0, 3) + 4.0*q_h*SingularityFunction(x, 5, 2) + 0.266666666666667*q_h*SingularityFunction(x, 5, 3))/EI"
      ]
     },
     "metadata": {},
     "output_type": "display_data"
    },
    {
     "data": {
      "text/latex": [
       "$\\displaystyle {u_z}=$"
      ],
      "text/plain": [
       "{u_z}="
      ]
     },
     "metadata": {},
     "output_type": "display_data"
    },
    {
     "data": {
      "text/latex": [
       "$\\displaystyle - C_{\\phi} x + C_{uz} - \\frac{\\frac{C_{M} x^{2}}{2} + \\frac{C_{V} x^{3}}{6} - EI \\phi^{B}_{s} {\\left\\langle x - 5 \\right\\rangle}^{1} - 0.133333333333333 R^{A}_{h} {\\left\\langle x \\right\\rangle}^{3} + 0.266666666666667 R^{A}_{h} {\\left\\langle x - 5 \\right\\rangle}^{3} + 0.133333333333333 R^{C}_{h} {\\left\\langle x - 10 \\right\\rangle}^{3} - 0.1 R^{A}_{v} {\\left\\langle x \\right\\rangle}^{3} - 0.1 R^{C}_{v} {\\left\\langle x - 10 \\right\\rangle}^{3} - 0.0333333333333333 q_{h} {\\left\\langle x \\right\\rangle}^{4} + 1.33333333333333 q_{h} {\\left\\langle x - 5 \\right\\rangle}^{3} + 0.0666666666666667 q_{h} {\\left\\langle x - 5 \\right\\rangle}^{4}}{EI}$"
      ],
      "text/plain": [
       "-C_phi*x + C_uz - (C_M*x**2/2 + C_V*x**3/6 - EI*phi_s^B*SingularityFunction(x, 5, 1) - 0.133333333333333*R_h^A*SingularityFunction(x, 0, 3) + 0.266666666666667*R_h^A*SingularityFunction(x, 5, 3) + 0.133333333333333*R_h^C*SingularityFunction(x, 10, 3) - 0.1*R_v^A*SingularityFunction(x, 0, 3) - 0.1*R_v^C*SingularityFunction(x, 10, 3) - 0.0333333333333333*q_h*SingularityFunction(x, 0, 4) + 1.33333333333333*q_h*SingularityFunction(x, 5, 3) + 0.0666666666666667*q_h*SingularityFunction(x, 5, 4))/EI"
      ]
     },
     "metadata": {},
     "output_type": "display_data"
    },
    {
     "data": {
      "text/latex": [
       "$\\displaystyle {u_v}=$"
      ],
      "text/plain": [
       "{u_v}="
      ]
     },
     "metadata": {},
     "output_type": "display_data"
    },
    {
     "data": {
      "text/latex": [
       "$\\displaystyle - 0.8 C_{ux} + 0.6 C_{uz} + 0.6 \\left(- C_{\\phi} x - \\frac{\\frac{C_{M} x^{2}}{2} + \\frac{C_{V} x^{3}}{6} - EI \\phi^{B}_{s} {\\left\\langle x - 5 \\right\\rangle}^{1} - 0.133333333333333 R^{A}_{h} {\\left\\langle x \\right\\rangle}^{3} + 0.266666666666667 R^{A}_{h} {\\left\\langle x - 5 \\right\\rangle}^{3} + 0.133333333333333 R^{C}_{h} {\\left\\langle x - 10 \\right\\rangle}^{3} - 0.1 R^{A}_{v} {\\left\\langle x \\right\\rangle}^{3} - 0.1 R^{C}_{v} {\\left\\langle x - 10 \\right\\rangle}^{3} - 0.0333333333333333 q_{h} {\\left\\langle x \\right\\rangle}^{4} + 1.33333333333333 q_{h} {\\left\\langle x - 5 \\right\\rangle}^{3} + 0.0666666666666667 q_{h} {\\left\\langle x - 5 \\right\\rangle}^{4}}{EI}\\right) {\\left\\langle x \\right\\rangle}^{0} - 0.8 \\left(- \\frac{10 C_{N} - 6.0 R^{A}_{h} - 30.0 q_{h}}{EA} + \\frac{C_{N} x - 0.6 R^{A}_{h} {\\left\\langle x \\right\\rangle}^{1} - 0.6 R^{C}_{h} {\\left\\langle x - 10 \\right\\rangle}^{1} + 0.8 R^{A}_{v} {\\left\\langle x \\right\\rangle}^{1} - 1.6 R^{A}_{v} {\\left\\langle x - 5 \\right\\rangle}^{1} - 0.8 R^{C}_{v} {\\left\\langle x - 10 \\right\\rangle}^{1} - 0.3 q_{h} {\\left\\langle x \\right\\rangle}^{2}}{EA}\\right) {\\left\\langle x - 10 \\right\\rangle}^{0} + 1.6 \\left(- \\frac{5 C_{N} - 3.0 R^{A}_{h} + 4.0 R^{A}_{v} - 7.5 q_{h}}{EA} + \\frac{C_{N} x - 0.6 R^{A}_{h} {\\left\\langle x \\right\\rangle}^{1} - 0.6 R^{C}_{h} {\\left\\langle x - 10 \\right\\rangle}^{1} + 0.8 R^{A}_{v} {\\left\\langle x \\right\\rangle}^{1} - 1.6 R^{A}_{v} {\\left\\langle x - 5 \\right\\rangle}^{1} - 0.8 R^{C}_{v} {\\left\\langle x - 10 \\right\\rangle}^{1} - 0.3 q_{h} {\\left\\langle x \\right\\rangle}^{2}}{EA}\\right) {\\left\\langle x - 5 \\right\\rangle}^{0} - 0.6 \\left(- C_{\\phi} x + 10 C_{\\phi} + \\frac{50 C_{M} + \\frac{500 C_{V}}{3} - 5 EI \\phi^{B}_{s} - 100.0 R^{A}_{h} - 100.0 R^{A}_{v} - 125.0 q_{h}}{EI} - \\frac{\\frac{C_{M} x^{2}}{2} + \\frac{C_{V} x^{3}}{6} - EI \\phi^{B}_{s} {\\left\\langle x - 5 \\right\\rangle}^{1} - 0.133333333333333 R^{A}_{h} {\\left\\langle x \\right\\rangle}^{3} + 0.266666666666667 R^{A}_{h} {\\left\\langle x - 5 \\right\\rangle}^{3} + 0.133333333333333 R^{C}_{h} {\\left\\langle x - 10 \\right\\rangle}^{3} - 0.1 R^{A}_{v} {\\left\\langle x \\right\\rangle}^{3} - 0.1 R^{C}_{v} {\\left\\langle x - 10 \\right\\rangle}^{3} - 0.0333333333333333 q_{h} {\\left\\langle x \\right\\rangle}^{4} + 1.33333333333333 q_{h} {\\left\\langle x - 5 \\right\\rangle}^{3} + 0.0666666666666667 q_{h} {\\left\\langle x - 5 \\right\\rangle}^{4}}{EI}\\right) {\\left\\langle x - 10 \\right\\rangle}^{0} - \\frac{0.8 \\left(C_{N} x - 0.6 R^{A}_{h} {\\left\\langle x \\right\\rangle}^{1} - 0.6 R^{C}_{h} {\\left\\langle x - 10 \\right\\rangle}^{1} + 0.8 R^{A}_{v} {\\left\\langle x \\right\\rangle}^{1} - 1.6 R^{A}_{v} {\\left\\langle x - 5 \\right\\rangle}^{1} - 0.8 R^{C}_{v} {\\left\\langle x - 10 \\right\\rangle}^{1} - 0.3 q_{h} {\\left\\langle x \\right\\rangle}^{2}\\right) {\\left\\langle x \\right\\rangle}^{0}}{EA}$"
      ],
      "text/plain": [
       "-0.8*C_ux + 0.6*C_uz + 0.6*(-C_phi*x - (C_M*x**2/2 + C_V*x**3/6 - EI*phi_s^B*SingularityFunction(x, 5, 1) - 0.133333333333333*R_h^A*SingularityFunction(x, 0, 3) + 0.266666666666667*R_h^A*SingularityFunction(x, 5, 3) + 0.133333333333333*R_h^C*SingularityFunction(x, 10, 3) - 0.1*R_v^A*SingularityFunction(x, 0, 3) - 0.1*R_v^C*SingularityFunction(x, 10, 3) - 0.0333333333333333*q_h*SingularityFunction(x, 0, 4) + 1.33333333333333*q_h*SingularityFunction(x, 5, 3) + 0.0666666666666667*q_h*SingularityFunction(x, 5, 4))/EI)*SingularityFunction(x, 0, 0) - 0.8*(-(10*C_N - 6.0*R_h^A - 30.0*q_h)/EA + (C_N*x - 0.6*R_h^A*SingularityFunction(x, 0, 1) - 0.6*R_h^C*SingularityFunction(x, 10, 1) + 0.8*R_v^A*SingularityFunction(x, 0, 1) - 1.6*R_v^A*SingularityFunction(x, 5, 1) - 0.8*R_v^C*SingularityFunction(x, 10, 1) - 0.3*q_h*SingularityFunction(x, 0, 2))/EA)*SingularityFunction(x, 10, 0) + 1.6*(-(5*C_N - 3.0*R_h^A + 4.0*R_v^A - 7.5*q_h)/EA + (C_N*x - 0.6*R_h^A*SingularityFunction(x, 0, 1) - 0.6*R_h^C*SingularityFunction(x, 10, 1) + 0.8*R_v^A*SingularityFunction(x, 0, 1) - 1.6*R_v^A*SingularityFunction(x, 5, 1) - 0.8*R_v^C*SingularityFunction(x, 10, 1) - 0.3*q_h*SingularityFunction(x, 0, 2))/EA)*SingularityFunction(x, 5, 0) - 0.6*(-C_phi*x + 10*C_phi + (50*C_M + 500*C_V/3 - 5*EI*phi_s^B - 100.0*R_h^A - 100.0*R_v^A - 125.0*q_h)/EI - (C_M*x**2/2 + C_V*x**3/6 - EI*phi_s^B*SingularityFunction(x, 5, 1) - 0.133333333333333*R_h^A*SingularityFunction(x, 0, 3) + 0.266666666666667*R_h^A*SingularityFunction(x, 5, 3) + 0.133333333333333*R_h^C*SingularityFunction(x, 10, 3) - 0.1*R_v^A*SingularityFunction(x, 0, 3) - 0.1*R_v^C*SingularityFunction(x, 10, 3) - 0.0333333333333333*q_h*SingularityFunction(x, 0, 4) + 1.33333333333333*q_h*SingularityFunction(x, 5, 3) + 0.0666666666666667*q_h*SingularityFunction(x, 5, 4))/EI)*SingularityFunction(x, 10, 0) - 0.8*(C_N*x - 0.6*R_h^A*SingularityFunction(x, 0, 1) - 0.6*R_h^C*SingularityFunction(x, 10, 1) + 0.8*R_v^A*SingularityFunction(x, 0, 1) - 1.6*R_v^A*SingularityFunction(x, 5, 1) - 0.8*R_v^C*SingularityFunction(x, 10, 1) - 0.3*q_h*SingularityFunction(x, 0, 2))*SingularityFunction(x, 0, 0)/EA"
      ]
     },
     "metadata": {},
     "output_type": "display_data"
    },
    {
     "data": {
      "text/latex": [
       "$\\displaystyle {u_h}=$"
      ],
      "text/plain": [
       "{u_h}="
      ]
     },
     "metadata": {},
     "output_type": "display_data"
    },
    {
     "data": {
      "text/latex": [
       "$\\displaystyle 0.6 C_{ux} + 0.8 C_{uz} + 0.8 \\left(- C_{\\phi} x - \\frac{\\frac{C_{M} x^{2}}{2} + \\frac{C_{V} x^{3}}{6} - EI \\phi^{B}_{s} {\\left\\langle x - 5 \\right\\rangle}^{1} - 0.133333333333333 R^{A}_{h} {\\left\\langle x \\right\\rangle}^{3} + 0.266666666666667 R^{A}_{h} {\\left\\langle x - 5 \\right\\rangle}^{3} + 0.133333333333333 R^{C}_{h} {\\left\\langle x - 10 \\right\\rangle}^{3} - 0.1 R^{A}_{v} {\\left\\langle x \\right\\rangle}^{3} - 0.1 R^{C}_{v} {\\left\\langle x - 10 \\right\\rangle}^{3} - 0.0333333333333333 q_{h} {\\left\\langle x \\right\\rangle}^{4} + 1.33333333333333 q_{h} {\\left\\langle x - 5 \\right\\rangle}^{3} + 0.0666666666666667 q_{h} {\\left\\langle x - 5 \\right\\rangle}^{4}}{EI}\\right) {\\left\\langle x \\right\\rangle}^{0} - 0.6 \\left(- \\frac{10 C_{N} - 6.0 R^{A}_{h} - 30.0 q_{h}}{EA} + \\frac{C_{N} x - 0.6 R^{A}_{h} {\\left\\langle x \\right\\rangle}^{1} - 0.6 R^{C}_{h} {\\left\\langle x - 10 \\right\\rangle}^{1} + 0.8 R^{A}_{v} {\\left\\langle x \\right\\rangle}^{1} - 1.6 R^{A}_{v} {\\left\\langle x - 5 \\right\\rangle}^{1} - 0.8 R^{C}_{v} {\\left\\langle x - 10 \\right\\rangle}^{1} - 0.3 q_{h} {\\left\\langle x \\right\\rangle}^{2}}{EA}\\right) {\\left\\langle x - 10 \\right\\rangle}^{0} - 1.6 \\left(- C_{\\phi} x + 5 C_{\\phi} + \\frac{\\frac{25 C_{M}}{2} + \\frac{125 C_{V}}{6} - 16.6666666666667 R^{A}_{h} - 12.5 R^{A}_{v} - 20.8333333333333 q_{h}}{EI} - \\frac{\\frac{C_{M} x^{2}}{2} + \\frac{C_{V} x^{3}}{6} - EI \\phi^{B}_{s} {\\left\\langle x - 5 \\right\\rangle}^{1} - 0.133333333333333 R^{A}_{h} {\\left\\langle x \\right\\rangle}^{3} + 0.266666666666667 R^{A}_{h} {\\left\\langle x - 5 \\right\\rangle}^{3} + 0.133333333333333 R^{C}_{h} {\\left\\langle x - 10 \\right\\rangle}^{3} - 0.1 R^{A}_{v} {\\left\\langle x \\right\\rangle}^{3} - 0.1 R^{C}_{v} {\\left\\langle x - 10 \\right\\rangle}^{3} - 0.0333333333333333 q_{h} {\\left\\langle x \\right\\rangle}^{4} + 1.33333333333333 q_{h} {\\left\\langle x - 5 \\right\\rangle}^{3} + 0.0666666666666667 q_{h} {\\left\\langle x - 5 \\right\\rangle}^{4}}{EI}\\right) {\\left\\langle x - 5 \\right\\rangle}^{0} + 0.8 \\left(- C_{\\phi} x + 10 C_{\\phi} + \\frac{50 C_{M} + \\frac{500 C_{V}}{3} - 5 EI \\phi^{B}_{s} - 100.0 R^{A}_{h} - 100.0 R^{A}_{v} - 125.0 q_{h}}{EI} - \\frac{\\frac{C_{M} x^{2}}{2} + \\frac{C_{V} x^{3}}{6} - EI \\phi^{B}_{s} {\\left\\langle x - 5 \\right\\rangle}^{1} - 0.133333333333333 R^{A}_{h} {\\left\\langle x \\right\\rangle}^{3} + 0.266666666666667 R^{A}_{h} {\\left\\langle x - 5 \\right\\rangle}^{3} + 0.133333333333333 R^{C}_{h} {\\left\\langle x - 10 \\right\\rangle}^{3} - 0.1 R^{A}_{v} {\\left\\langle x \\right\\rangle}^{3} - 0.1 R^{C}_{v} {\\left\\langle x - 10 \\right\\rangle}^{3} - 0.0333333333333333 q_{h} {\\left\\langle x \\right\\rangle}^{4} + 1.33333333333333 q_{h} {\\left\\langle x - 5 \\right\\rangle}^{3} + 0.0666666666666667 q_{h} {\\left\\langle x - 5 \\right\\rangle}^{4}}{EI}\\right) {\\left\\langle x - 10 \\right\\rangle}^{0} + \\frac{0.6 \\left(C_{N} x - 0.6 R^{A}_{h} {\\left\\langle x \\right\\rangle}^{1} - 0.6 R^{C}_{h} {\\left\\langle x - 10 \\right\\rangle}^{1} + 0.8 R^{A}_{v} {\\left\\langle x \\right\\rangle}^{1} - 1.6 R^{A}_{v} {\\left\\langle x - 5 \\right\\rangle}^{1} - 0.8 R^{C}_{v} {\\left\\langle x - 10 \\right\\rangle}^{1} - 0.3 q_{h} {\\left\\langle x \\right\\rangle}^{2}\\right) {\\left\\langle x \\right\\rangle}^{0}}{EA}$"
      ],
      "text/plain": [
       "0.6*C_ux + 0.8*C_uz + 0.8*(-C_phi*x - (C_M*x**2/2 + C_V*x**3/6 - EI*phi_s^B*SingularityFunction(x, 5, 1) - 0.133333333333333*R_h^A*SingularityFunction(x, 0, 3) + 0.266666666666667*R_h^A*SingularityFunction(x, 5, 3) + 0.133333333333333*R_h^C*SingularityFunction(x, 10, 3) - 0.1*R_v^A*SingularityFunction(x, 0, 3) - 0.1*R_v^C*SingularityFunction(x, 10, 3) - 0.0333333333333333*q_h*SingularityFunction(x, 0, 4) + 1.33333333333333*q_h*SingularityFunction(x, 5, 3) + 0.0666666666666667*q_h*SingularityFunction(x, 5, 4))/EI)*SingularityFunction(x, 0, 0) - 0.6*(-(10*C_N - 6.0*R_h^A - 30.0*q_h)/EA + (C_N*x - 0.6*R_h^A*SingularityFunction(x, 0, 1) - 0.6*R_h^C*SingularityFunction(x, 10, 1) + 0.8*R_v^A*SingularityFunction(x, 0, 1) - 1.6*R_v^A*SingularityFunction(x, 5, 1) - 0.8*R_v^C*SingularityFunction(x, 10, 1) - 0.3*q_h*SingularityFunction(x, 0, 2))/EA)*SingularityFunction(x, 10, 0) - 1.6*(-C_phi*x + 5*C_phi + (25*C_M/2 + 125*C_V/6 - 16.6666666666667*R_h^A - 12.5*R_v^A - 20.8333333333333*q_h)/EI - (C_M*x**2/2 + C_V*x**3/6 - EI*phi_s^B*SingularityFunction(x, 5, 1) - 0.133333333333333*R_h^A*SingularityFunction(x, 0, 3) + 0.266666666666667*R_h^A*SingularityFunction(x, 5, 3) + 0.133333333333333*R_h^C*SingularityFunction(x, 10, 3) - 0.1*R_v^A*SingularityFunction(x, 0, 3) - 0.1*R_v^C*SingularityFunction(x, 10, 3) - 0.0333333333333333*q_h*SingularityFunction(x, 0, 4) + 1.33333333333333*q_h*SingularityFunction(x, 5, 3) + 0.0666666666666667*q_h*SingularityFunction(x, 5, 4))/EI)*SingularityFunction(x, 5, 0) + 0.8*(-C_phi*x + 10*C_phi + (50*C_M + 500*C_V/3 - 5*EI*phi_s^B - 100.0*R_h^A - 100.0*R_v^A - 125.0*q_h)/EI - (C_M*x**2/2 + C_V*x**3/6 - EI*phi_s^B*SingularityFunction(x, 5, 1) - 0.133333333333333*R_h^A*SingularityFunction(x, 0, 3) + 0.266666666666667*R_h^A*SingularityFunction(x, 5, 3) + 0.133333333333333*R_h^C*SingularityFunction(x, 10, 3) - 0.1*R_v^A*SingularityFunction(x, 0, 3) - 0.1*R_v^C*SingularityFunction(x, 10, 3) - 0.0333333333333333*q_h*SingularityFunction(x, 0, 4) + 1.33333333333333*q_h*SingularityFunction(x, 5, 3) + 0.0666666666666667*q_h*SingularityFunction(x, 5, 4))/EI)*SingularityFunction(x, 10, 0) + 0.6*(C_N*x - 0.6*R_h^A*SingularityFunction(x, 0, 1) - 0.6*R_h^C*SingularityFunction(x, 10, 1) + 0.8*R_v^A*SingularityFunction(x, 0, 1) - 1.6*R_v^A*SingularityFunction(x, 5, 1) - 0.8*R_v^C*SingularityFunction(x, 10, 1) - 0.3*q_h*SingularityFunction(x, 0, 2))*SingularityFunction(x, 0, 0)/EA"
      ]
     },
     "metadata": {},
     "output_type": "display_data"
    }
   ],
   "source": [
    "V = -sym.integrate(qz.expand(), x) + CV\n",
    "M = sym.integrate(V, x) + CM\n",
    "kappa = M / EI\n",
    "phi = sym.integrate(kappa, x) + Cphi\n",
    "uz = -sym.integrate(phi, x) + Cuz\n",
    "\n",
    "N = -sym.integrate(qx.expand(), x) + CN\n",
    "epsilon = N / EA\n",
    "ux = sym.integrate(epsilon, x) + Cux\n",
    "\n",
    "uvz = uz.subs(x,0) * sym.cos(o0)\n",
    "uvx = -ux.subs(x,0) * sym.sin(o0)\n",
    "for i in range(len(oo)):\n",
    "    uvz += ((uz - uz.subs(x,aa[i])) * sym.SingularityFunction(x,aa[i],0) - (uz - uz.subs(x,aa[i+1])) * sym.SingularityFunction(x,aa[i+1],0)) * sym.cos(oo[i])\n",
    "    uvx += -((ux - ux.subs(x,aa[i])) * sym.SingularityFunction(x,aa[i],0) - (ux - ux.subs(x,aa[i+1])) * sym.SingularityFunction(x,aa[i+1],0)) * sym.sin(oo[i])\n",
    "uv = uvz + uvx\n",
    "\n",
    "uhz = uz.subs(x,0) * sym.sin(o0)\n",
    "uhx = ux.subs(x,0) * sym.cos(o0)\n",
    "for i in range(len(oo)):\n",
    "    uhz += ((uz - uz.subs(x,aa[i])) * sym.SingularityFunction(x,aa[i],0) - (uz - uz.subs(x,aa[i+1])) * sym.SingularityFunction(x,aa[i+1],0)) * sym.sin(oo[i])\n",
    "    uhx += ((ux - ux.subs(x,aa[i])) * sym.SingularityFunction(x,aa[i],0) - (ux - ux.subs(x,aa[i+1])) * sym.SingularityFunction(x,aa[i+1],0)) * sym.cos(oo[i])\n",
    "uh = uhz + uhx\n",
    "\n",
    "display(sym.symbols('{N}='), N)\n",
    "display(sym.symbols('{V}='), V)\n",
    "display(sym.symbols('{M}='), M)\n",
    "display(sym.symbols('{u_x}='), ux)\n",
    "display(sym.symbols('{\\phi}='), phi)\n",
    "display(sym.symbols('{u_z}='), uz)\n",
    "display(sym.symbols('{u_v}='), uv)\n",
    "display(sym.symbols('{u_h}='), uh)"
   ]
  },
  {
   "cell_type": "code",
   "execution_count": 6,
   "id": "c4c1865d-c040-473d-8ef9-1fa368497b8f",
   "metadata": {},
   "outputs": [],
   "source": [
    "# 4 reactiekrachten + 1 scharnier + 6 integratieconstanten = 11 voorwaarden\n",
    "Eq1 = sym.Eq(N.subs(x,0-dx),0)\n",
    "Eq2 = sym.Eq(N.subs(x,L+dx),0)\n",
    "Eq3 = sym.Eq(V.subs(x,0-dx),0)\n",
    "Eq4 = sym.Eq(V.subs(x,L+dx),0)\n",
    "Eq5 = sym.Eq(M.subs(x,0),0)\n",
    "Eq6 = sym.Eq(M.subs(x,a1+dx),0)\n",
    "Eq7 = sym.Eq(M.subs(x,L),0)\n",
    "Eq8 = sym.Eq(uv.subs(x,0),0)\n",
    "Eq9 = sym.Eq(uv.subs(x,L),0)\n",
    "Eq10 = sym.Eq(uh.subs(x,0),0)\n",
    "Eq11 = sym.Eq(uh.subs(x,L),0)"
   ]
  },
  {
   "cell_type": "code",
   "execution_count": 7,
   "id": "c7c80062-ff10-4f35-a1c1-e8253c03f6de",
   "metadata": {},
   "outputs": [
    {
     "data": {
      "text/plain": [
       "{C_M: 0.0,\n",
       " C_N: 0.0,\n",
       " C_V: 0.0,\n",
       " C_phi: 0.0555555555555556*(-75.0*EA*q_h - 100.0*EI*q_h)/(EA*EI),\n",
       " C_ux: 0.0,\n",
       " C_uz: 0.0,\n",
       " R_h^A: -5.0*q_h,\n",
       " R_h^C: -5.0*q_h,\n",
       " R_v^A: 3.33333333333333*q_h,\n",
       " R_v^C: -3.33333333333333*q_h,\n",
       " phi_s^B: 0.0}"
      ]
     },
     "metadata": {},
     "output_type": "display_data"
    }
   ],
   "source": [
    "sol = sym.solve((Eq1,Eq2,Eq3,Eq4,Eq5,Eq6,Eq7,Eq8,Eq9,Eq10,Eq11),(RvA,RhA,RvC,RhC,phisB,CN,CV,CM,Cphi,Cuz,Cux))\n",
    "display(sol)"
   ]
  },
  {
   "cell_type": "code",
   "execution_count": 10,
   "id": "5ec30373-3db9-4fee-b3fa-e265e04350c1",
   "metadata": {},
   "outputs": [
    {
     "data": {
      "text/plain": [
       "'R_v^A = 3.33333333333333*q_h'"
      ]
     },
     "metadata": {},
     "output_type": "display_data"
    },
    {
     "data": {
      "text/plain": [
       "'R_h^A = -5.0*q_h'"
      ]
     },
     "metadata": {},
     "output_type": "display_data"
    },
    {
     "data": {
      "text/plain": [
       "'R_v^C = -3.33333333333333*q_h'"
      ]
     },
     "metadata": {},
     "output_type": "display_data"
    },
    {
     "data": {
      "text/plain": [
       "'R_h^C = -5.0*q_h'"
      ]
     },
     "metadata": {},
     "output_type": "display_data"
    },
    {
     "data": {
      "text/plain": [
       "'phi_s^B = 0.0'"
      ]
     },
     "metadata": {},
     "output_type": "display_data"
    },
    {
     "data": {
      "text/plain": [
       "'C_N = 0.0'"
      ]
     },
     "metadata": {},
     "output_type": "display_data"
    },
    {
     "data": {
      "text/plain": [
       "'C_V = 0.0'"
      ]
     },
     "metadata": {},
     "output_type": "display_data"
    },
    {
     "data": {
      "text/plain": [
       "'C_M = 0.0'"
      ]
     },
     "metadata": {},
     "output_type": "display_data"
    },
    {
     "data": {
      "text/plain": [
       "'C_phi = -0.000972222222222222*q_h'"
      ]
     },
     "metadata": {},
     "output_type": "display_data"
    },
    {
     "data": {
      "text/plain": [
       "'C_ux = 0.0'"
      ]
     },
     "metadata": {},
     "output_type": "display_data"
    },
    {
     "data": {
      "text/plain": [
       "'C_uz = 0.0'"
      ]
     },
     "metadata": {},
     "output_type": "display_data"
    }
   ],
   "source": [
    "ea = 10**4\n",
    "ei = 10**4\n",
    "\n",
    "display(f'{RvA} = {RvA.subs(sol).subs(EI,ei).subs(EA,ea)}')\n",
    "display(f'{RhA} = {RhA.subs(sol).subs(EI,ei).subs(EA,ea)}')\n",
    "display(f'{RvC} = {RvC.subs(sol).subs(EI,ei).subs(EA,ea)}')\n",
    "display(f'{RhC} = {RhC.subs(sol).subs(EI,ei).subs(EA,ea)}')\n",
    "\n",
    "display(f'{phisB} = {phisB.subs(sol).subs(EI,ei).subs(EA,ea)}')\n",
    "\n",
    "display(f'{CN} = {CN.subs(sol).subs(EI,ei).subs(EA,ea)}')\n",
    "display(f'{CV} = {CV.subs(sol).subs(EI,ei).subs(EA,ea)}')\n",
    "display(f'{CM} = {CM.subs(sol).subs(EI,ei).subs(EA,ea)}')\n",
    "display(f'{Cphi} = {Cphi.subs(sol).subs(EI,ei).subs(EA,ea)}')\n",
    "display(f'{Cux} = {Cux.subs(sol).subs(EI,ei).subs(EA,ea)}')\n",
    "display(f'{Cuz} = {Cuz.subs(sol).subs(EI,ei).subs(EA,ea)}')"
   ]
  },
  {
   "cell_type": "code",
   "execution_count": 11,
   "id": "cee762a4-809e-4305-ac61-51ab1f8648c2",
   "metadata": {},
   "outputs": [],
   "source": [
    "v = 0\n",
    "h = 0\n",
    "for i in range(len(oo)):\n",
    "    v += -(sym.SingularityFunction(x,aa[i],1) - sym.SingularityFunction(x,aa[i+1],1)) * sym.sin(oo[i])\n",
    "    h += (sym.SingularityFunction(x,aa[i],1) - sym.SingularityFunction(x,aa[i+1],1)) * sym.cos(oo[i])"
   ]
  },
  {
   "cell_type": "code",
   "execution_count": 12,
   "id": "73a817a7-b311-4aae-981c-737ff6bd9a12",
   "metadata": {},
   "outputs": [],
   "source": [
    "L = 10\n",
    "x_np = np.linspace(0-dx,L+dx,10000)\n",
    "ab = aa"
   ]
  },
  {
   "cell_type": "code",
   "execution_count": 11,
   "id": "ad5800e2-5ba3-4e11-9014-2c0d518638ad",
   "metadata": {},
   "outputs": [
    {
     "data": {
      "text/latex": [
       "$\\displaystyle 340.0 {\\left\\langle x \\right\\rangle}^{0} - 36.0 {\\left\\langle x \\right\\rangle}^{1} - 320.0 {\\left\\langle x - 5 \\right\\rangle}^{0} + 340.0 {\\left\\langle x - 10 \\right\\rangle}^{0}$"
      ],
      "text/plain": [
       "340.0*SingularityFunction(x, 0, 0) - 36.0*SingularityFunction(x, 0, 1) - 320.0*SingularityFunction(x, 5, 0) + 340.0*SingularityFunction(x, 10, 0)"
      ]
     },
     "metadata": {},
     "output_type": "display_data"
    },
    {
     "data": {
      "text/plain": [
       "'N(0) = 340.000000000000'"
      ]
     },
     "metadata": {},
     "output_type": "display_data"
    },
    {
     "data": {
      "text/plain": [
       "'N(5) = -160.000000000000'"
      ]
     },
     "metadata": {},
     "output_type": "display_data"
    },
    {
     "data": {
      "text/plain": [
       "'N(10) = -5.68434188608080E-14'"
      ]
     },
     "metadata": {},
     "output_type": "display_data"
    },
    {
     "data": {
      "image/png": "[encoded data removed]",
      "text/plain": [
       "<Figure size 500x400 with 1 Axes>"
      ]
     },
     "metadata": {},
     "output_type": "display_data"
    }
   ],
   "source": [
    "N_np = sym.lambdify(x, N.subs(sol).subs(EI,ei).subs(EA,ea).rewrite(sym.Piecewise))\n",
    "display(N.subs(sol).subs(EI,ei).subs(EA,ea))\n",
    "\n",
    "for i in range(len(ab)):\n",
    "    display(f'N({ab[i]}) = {N.subs(x,ab[i]+dx).subs(sol).subs(EI,ei).subs(EA,ea)}')\n",
    "\n",
    "plt.figure(figsize=(5,4))\n",
    "plt.plot(x_np,N_np(x_np))\n",
    "plt.xlabel('$x$')\n",
    "plt.ylabel('$N$');\n",
    "ax = plt.gca()\n",
    "ax.spines['right'].set_color('none')\n",
    "ax.spines['top'].set_color('none')\n",
    "ax.spines['bottom'].set_position('zero')\n",
    "ax.spines['left'].set_position('zero')\n",
    "ax.invert_yaxis()"
   ]
  },
  {
   "cell_type": "code",
   "execution_count": 12,
   "id": "48b76cf8-43a5-404d-96c1-c7378039f35b",
   "metadata": {},
   "outputs": [
    {
     "data": {
      "text/latex": [
       "$\\displaystyle 120.0 {\\left\\langle x \\right\\rangle}^{0} - 48.0 {\\left\\langle x \\right\\rangle}^{1} + 96.0 {\\left\\langle x - 5 \\right\\rangle}^{1} - 120.0 {\\left\\langle x - 10 \\right\\rangle}^{0}$"
      ],
      "text/plain": [
       "120.0*SingularityFunction(x, 0, 0) - 48.0*SingularityFunction(x, 0, 1) + 96.0*SingularityFunction(x, 5, 1) - 120.0*SingularityFunction(x, 10, 0)"
      ]
     },
     "metadata": {},
     "output_type": "display_data"
    },
    {
     "data": {
      "text/plain": [
       "'V(0) = 120.000000000000'"
      ]
     },
     "metadata": {},
     "output_type": "display_data"
    },
    {
     "data": {
      "text/plain": [
       "'V(5) = -120.000000000000'"
      ]
     },
     "metadata": {},
     "output_type": "display_data"
    },
    {
     "data": {
      "text/plain": [
       "'V(10) = 5.68434188608080E-14'"
      ]
     },
     "metadata": {},
     "output_type": "display_data"
    },
    {
     "data": {
      "image/png": "[encoded data removed]",
      "text/plain": [
       "<Figure size 500x400 with 1 Axes>"
      ]
     },
     "metadata": {},
     "output_type": "display_data"
    }
   ],
   "source": [
    "V_np = sym.lambdify(x, V.subs(sol).subs(EI,ei).subs(EA,ea).rewrite(sym.Piecewise))\n",
    "display(V.subs(sol).subs(EI,ei).subs(EA,ea))\n",
    "\n",
    "for i in range(len(ab)):\n",
    "    display(f'V({ab[i]}) = {V.subs(x,ab[i]+dx).subs(sol).subs(EI,ei).subs(EA,ea)}')\n",
    "\n",
    "plt.figure(figsize=(5,4))\n",
    "plt.plot(x_np,V_np(x_np))\n",
    "plt.xlabel('$x$')\n",
    "plt.ylabel('$V$');\n",
    "ax = plt.gca()\n",
    "ax.spines['right'].set_color('none')\n",
    "ax.spines['top'].set_color('none')\n",
    "ax.spines['bottom'].set_position('zero')\n",
    "ax.spines['left'].set_position('zero')\n",
    "ax.invert_yaxis()"
   ]
  },
  {
   "cell_type": "code",
   "execution_count": 13,
   "id": "43c2ee33-53de-46a2-be24-428c29f5f21d",
   "metadata": {},
   "outputs": [
    {
     "data": {
      "text/latex": [
       "$\\displaystyle 120.0 {\\left\\langle x \\right\\rangle}^{1} - 24.0 {\\left\\langle x \\right\\rangle}^{2} + 48.0 {\\left\\langle x - 5 \\right\\rangle}^{2} - 120.0 {\\left\\langle x - 10 \\right\\rangle}^{1}$"
      ],
      "text/plain": [
       "120.0*SingularityFunction(x, 0, 1) - 24.0*SingularityFunction(x, 0, 2) + 48.0*SingularityFunction(x, 5, 2) - 120.0*SingularityFunction(x, 10, 1)"
      ]
     },
     "metadata": {},
     "output_type": "display_data"
    },
    {
     "data": {
      "text/plain": [
       "'M(0) = 0'"
      ]
     },
     "metadata": {},
     "output_type": "display_data"
    },
    {
     "data": {
      "text/plain": [
       "'M(5) = 0'"
      ]
     },
     "metadata": {},
     "output_type": "display_data"
    },
    {
     "data": {
      "text/plain": [
       "'M(10) = -4.54747350886464E-13'"
      ]
     },
     "metadata": {},
     "output_type": "display_data"
    },
    {
     "data": {
      "image/png": "[encoded data removed]",
      "text/plain": [
       "<Figure size 500x400 with 1 Axes>"
      ]
     },
     "metadata": {},
     "output_type": "display_data"
    }
   ],
   "source": [
    "M_np = sym.lambdify(x, M.subs(sol).subs(EI,ei).subs(EA,ea).rewrite(sym.Piecewise))\n",
    "display(M.subs(sol).subs(EI,ei).subs(EA,ea))\n",
    "\n",
    "for i in range(len(ab)):\n",
    "    display(f'M({ab[i]}) = {M.subs(x,ab[i]-dx).subs(sol).subs(EI,ei).subs(EA,ea)}')\n",
    "\n",
    "plt.figure(figsize=(5,4))\n",
    "plt.plot(x_np,M_np(x_np))\n",
    "plt.xlabel('$x$')\n",
    "plt.ylabel('$M$');\n",
    "ax = plt.gca()\n",
    "ax.spines['right'].set_color('none')\n",
    "ax.spines['top'].set_color('none')\n",
    "ax.spines['bottom'].set_position('zero')\n",
    "ax.spines['left'].set_position('zero')\n",
    "ax.invert_yaxis()"
   ]
  },
  {
   "cell_type": "code",
   "execution_count": 13,
   "id": "4e6369ed",
   "metadata": {},
   "outputs": [
    {
     "data": {
      "text/plain": [
       "'uv(0) = 0'"
      ]
     },
     "metadata": {},
     "output_type": "display_data"
    },
    {
     "data": {
      "text/plain": [
       "'uv(5) = 2.16840434497101e-18*q_h'"
      ]
     },
     "metadata": {},
     "output_type": "display_data"
    },
    {
     "data": {
      "text/plain": [
       "'uv(10) = 4.33680868994202e-18*q_h'"
      ]
     },
     "metadata": {},
     "output_type": "display_data"
    },
    {
     "data": {
      "text/plain": [
       "'uh(0) = 0'"
      ]
     },
     "metadata": {},
     "output_type": "display_data"
    },
    {
     "data": {
      "text/plain": [
       "'uh(5) = 0.00347222222222222*q_h'"
      ]
     },
     "metadata": {},
     "output_type": "display_data"
    },
    {
     "data": {
      "text/plain": [
       "'uh(10) = 0'"
      ]
     },
     "metadata": {},
     "output_type": "display_data"
    }
   ],
   "source": [
    "v_np = sym.lambdify(x, v.rewrite(sym.Piecewise))\n",
    "h_np = sym.lambdify(x, h.rewrite(sym.Piecewise))\n",
    "\n",
    "uv_np = sym.lambdify(x, uv.subs(sol).subs(EI,ei).subs(EA,ea).rewrite(sym.Piecewise))\n",
    "uh_np = sym.lambdify(x, uh.subs(sol).subs(EI,ei).subs(EA,ea).rewrite(sym.Piecewise))\n",
    "\n",
    "#display(uv.subs(sol))\n",
    "for i in range(len(ab)):\n",
    "    display(f'uv({ab[i]}) = {uv.subs(x,ab[i]).subs(sol).subs(EI,ei).subs(EA,ea)}')\n",
    "\n",
    "for i in range(len(ab)):\n",
    "    display(f'uh({ab[i]}) = {uh.subs(x,ab[i]).subs(sol).subs(EI,ei).subs(EA,ea)}')"
   ]
  },
  {
   "cell_type": "code",
   "execution_count": 14,
   "id": "8895a8e1-55c5-492d-b840-816f7259a439",
   "metadata": {},
   "outputs": [
    {
     "data": {
      "text/plain": [
       "'uv(0) = 0'"
      ]
     },
     "metadata": {},
     "output_type": "display_data"
    },
    {
     "data": {
      "text/plain": [
       "'uv(5) = 8.32667268468867E-17'"
      ]
     },
     "metadata": {},
     "output_type": "display_data"
    },
    {
     "data": {
      "text/plain": [
       "'uv(10) = 0'"
      ]
     },
     "metadata": {},
     "output_type": "display_data"
    },
    {
     "data": {
      "text/plain": [
       "'uh(0) = 0'"
      ]
     },
     "metadata": {},
     "output_type": "display_data"
    },
    {
     "data": {
      "text/plain": [
       "'uh(5) = 0.208333333333333'"
      ]
     },
     "metadata": {},
     "output_type": "display_data"
    },
    {
     "data": {
      "text/plain": [
       "'uh(10) = 1.22781784739345E-16'"
      ]
     },
     "metadata": {},
     "output_type": "display_data"
    },
    {
     "data": {
      "image/png": "[encoded data removed]",
      "text/plain": [
       "<Figure size 640x480 with 1 Axes>"
      ]
     },
     "metadata": {},
     "output_type": "display_data"
    }
   ],
   "source": [
    "v_np = sym.lambdify(x, v.rewrite(sym.Piecewise))\n",
    "h_np = sym.lambdify(x, h.rewrite(sym.Piecewise))\n",
    "\n",
    "uv_np = sym.lambdify(x, uv.subs(sol).subs(EI,ei).subs(EA,ea).rewrite(sym.Piecewise))\n",
    "uh_np = sym.lambdify(x, uh.subs(sol).subs(EI,ei).subs(EA,ea).rewrite(sym.Piecewise))\n",
    "\n",
    "#display(uv.subs(sol))\n",
    "for i in range(len(ab)):\n",
    "    display(f'uv({ab[i]}) = {uv.subs(x,ab[i]).subs(sol).subs(EI,ei).subs(EA,ea)}')\n",
    "\n",
    "for i in range(len(ab)):\n",
    "    display(f'uh({ab[i]}) = {uh.subs(x,ab[i]).subs(sol).subs(EI,ei).subs(EA,ea)}')\n",
    "\n",
    "plt.figure()\n",
    "plt.plot(h_np(x_np),v_np(x_np), marker='.',markersize=1, linewidth=0, color='black', label='constructie')\n",
    "plt.plot((h_np(x_np)+uh_np(x_np)),(v_np(x_np)+uv_np(x_np)), marker='.',markersize=0.5, linewidth=0, label='vervormde constructie')\n",
    "plt.xlabel('$h$')\n",
    "plt.ylabel('$v$');\n",
    "ax = plt.gca()\n",
    "ax.spines['right'].set_color('none')\n",
    "ax.spines['top'].set_color('none')\n",
    "ax.spines['bottom'].set_position('zero')\n",
    "ax.spines['left'].set_position('zero')\n",
    "ax.invert_yaxis()\n",
    "plt.axis('scaled')\n",
    "ax.legend(loc='upper center', bbox_to_anchor=(0.5, -0.05),fancybox=True, shadow=False, ncol=3);"
   ]
  },
  {
   "cell_type": "code",
   "execution_count": null,
   "id": "7e03e9da-2e11-4ec7-a8e8-102237e5c0b3",
   "metadata": {},
   "outputs": [],
   "source": []
  }
 ],
 "metadata": {
  "kernelspec": {
   "display_name": "Python 3 (ipykernel)",
   "language": "python",
   "name": "python3"
  },
  "language_info": {
   "codemirror_mode": {
    "name": "ipython",
    "version": 3
   },
   "file_extension": ".py",
   "mimetype": "text/x-python",
   "name": "python",
   "nbconvert_exporter": "python",
   "pygments_lexer": "ipython3",
   "version": "3.12.3"
  }
 },
 "nbformat": 4,
 "nbformat_minor": 5
}
