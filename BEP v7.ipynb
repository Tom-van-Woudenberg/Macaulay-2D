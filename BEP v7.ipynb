{
 "cells": [
  {
   "cell_type": "code",
   "execution_count": 6,
   "id": "0ecf5346-5046-4efa-b8e1-4198de2994d5",
   "metadata": {},
   "outputs": [],
   "source": [
    "import sympy as sym\n",
    "import numpy as np\n",
    "import matplotlib.pyplot as plt\n",
    "\n",
    "%config InlineBackend.figure_formats = ['svg']"
   ]
  },
  {
   "cell_type": "code",
   "execution_count": 7,
   "id": "485a47e2-1432-4262-9f64-8a281b0404d8",
   "metadata": {},
   "outputs": [],
   "source": [
    "# algemene gegevens\n",
    "x = sym.symbols('x')\n",
    "EI, EA = sym.symbols('EI EA')\n",
    "CV, CM, Cphi, Cuz, CN, Cux = sym.symbols('C_V C_M C_phi C_uz C_N C_ux') \n",
    "dx = 2*10**-15\n",
    "\n",
    "# gegevens constructie\n",
    "a0, a1, a2, a3, a4, a5 = 0, 3, 7, 12, 16, 19\n",
    "aa = [a0, a1, a2, a3, a4, a5]\n",
    "o0, o1, o2, o3, o4 = -sym.pi, sym.pi/2, sym.atan(-4/3), sym.pi/2, -sym.pi\n",
    "oo = [o0, o1, o2, o3, o4]\n",
    "\n",
    "# sprongen in de x functie\n",
    "#= sym.symbols('phi^ij u_v^ij u_h^ij')\n",
    "#s1 = \n",
    "ss = []\n",
    "\n",
    "# gegevens belastingen\n",
    "Fv, Fh = 40, -30\n",
    "RvA, RvB, RhB = sym.symbols('R_v^A R_v^B R_h^B')\n",
    "phisA, phisCB, phisBD, phisD = sym.symbols('phi_s^A phi_s^CB phi_s^BD phi_s^D')\n",
    "VBC, HBC, VBD, HBD, VCD, HCD = sym.symbols('V^BC H^BC V^BD H^BD V^CD H^CD')\n",
    "B = [RvB, RhB, VBC, HBC, VBD, HBD, RvA, phisA, Fv, VCD, HCD, phisCB, -VBC, -HBC, -VBD, -HBD, phisBD, Fh, phisD, -VCD, -HCD]\n",
    "b1, b2, b3, b4, b5, b6, b7, b8 = 0, 3, 7, 7+2*dx, 12, 12+2*dx, 16, 19\n",
    "bb = [b1, b1, b1, b1, b1, b1, b2, b2, b3, b3, b3, b4, b5, b5, b6, b6, b6, b7, b7, b8, b8]\n",
    "# K = 1, Fv = 2, Fh = 3, qv = 4, qh = 5, phi = 6, uz = 7, ux = 8\n",
    "nn = [2, 3, 2, 3, 2, 3, 2, 6, 2, 2, 3, 6, 2, 3, 2, 3, 6, 3, 6, 2, 3]"
   ]
  },
  {
   "cell_type": "code",
   "execution_count": 8,
   "id": "33716208-fd92-439d-9eb0-a5dd933dae38",
   "metadata": {},
   "outputs": [
    {
     "data": {
      "text/latex": [
       "$\\displaystyle 2 EI \\phi^{A}_{s} {\\left\\langle x - 3 \\right\\rangle}^{-3} + 2 EI \\phi^{BD}_{s} {\\left\\langle x - 12.0 \\right\\rangle}^{-3} + 2 EI \\phi^{CB}_{s} {\\left\\langle x - 7.0 \\right\\rangle}^{-3} + 2 EI \\phi^{D}_{s} {\\left\\langle x - 16 \\right\\rangle}^{-3} + H^{BC} {\\left\\langle x - 3 \\right\\rangle}^{-1} - 1.8 H^{BC} {\\left\\langle x - 7 \\right\\rangle}^{-1} + 0.8 H^{BC} {\\left\\langle x - 12 \\right\\rangle}^{-1} + H^{BD} {\\left\\langle x - 3 \\right\\rangle}^{-1} - 1.8 H^{BD} {\\left\\langle x - 7 \\right\\rangle}^{-1} + 1.8 H^{BD} {\\left\\langle x - 12 \\right\\rangle}^{-1} - H^{BD} {\\left\\langle x - 12.0 \\right\\rangle}^{-1} - 0.8 H^{CD} {\\left\\langle x - 7 \\right\\rangle}^{-1} + 1.8 H^{CD} {\\left\\langle x - 12 \\right\\rangle}^{-1} - H^{CD} {\\left\\langle x - 16 \\right\\rangle}^{-1} + R^{B}_{h} {\\left\\langle x - 3 \\right\\rangle}^{-1} - 1.8 R^{B}_{h} {\\left\\langle x - 7 \\right\\rangle}^{-1} + 1.8 R^{B}_{h} {\\left\\langle x - 12 \\right\\rangle}^{-1} - R^{B}_{h} {\\left\\langle x - 16 \\right\\rangle}^{-1} + 0.6 R^{A}_{v} {\\left\\langle x - 7 \\right\\rangle}^{-1} - 0.6 R^{A}_{v} {\\left\\langle x - 12 \\right\\rangle}^{-1} - R^{A}_{v} {\\left\\langle x - 16 \\right\\rangle}^{-1} - R^{B}_{v} {\\left\\langle x \\right\\rangle}^{-1} + R^{B}_{v} {\\left\\langle x - 3 \\right\\rangle}^{-1} + 0.6 R^{B}_{v} {\\left\\langle x - 7 \\right\\rangle}^{-1} - 0.6 R^{B}_{v} {\\left\\langle x - 12 \\right\\rangle}^{-1} - R^{B}_{v} {\\left\\langle x - 16 \\right\\rangle}^{-1} - V^{BC} {\\left\\langle x \\right\\rangle}^{-1} + V^{BC} {\\left\\langle x - 3 \\right\\rangle}^{-1} + 0.6 V^{BC} {\\left\\langle x - 7 \\right\\rangle}^{-1} - 0.6 V^{BC} {\\left\\langle x - 12 \\right\\rangle}^{-1} - V^{BD} {\\left\\langle x \\right\\rangle}^{-1} + V^{BD} {\\left\\langle x - 3 \\right\\rangle}^{-1} + 0.6 V^{BD} {\\left\\langle x - 7 \\right\\rangle}^{-1} - 0.6 V^{BD} {\\left\\langle x - 12 \\right\\rangle}^{-1} + 0.6 V^{CD} {\\left\\langle x - 7 \\right\\rangle}^{-1} - 0.6 V^{CD} {\\left\\langle x - 12 \\right\\rangle}^{-1} - V^{CD} {\\left\\langle x - 16 \\right\\rangle}^{-1} + V^{CD} {\\left\\langle x - 19 \\right\\rangle}^{-1} + 24.0 {\\left\\langle x - 7 \\right\\rangle}^{-1} - 24.0 {\\left\\langle x - 12 \\right\\rangle}^{-1} - 40 {\\left\\langle x - 16 \\right\\rangle}^{-1}$"
      ],
      "text/plain": [
       "2*EI*phi_s^A*SingularityFunction(x, 3, -3) + 2*EI*phi_s^BD*SingularityFunction(x, 12.0, -3) + 2*EI*phi_s^CB*SingularityFunction(x, 7.0, -3) + 2*EI*phi_s^D*SingularityFunction(x, 16, -3) + H^BC*SingularityFunction(x, 3, -1) - 1.8*H^BC*SingularityFunction(x, 7, -1) + 0.8*H^BC*SingularityFunction(x, 12, -1) + H^BD*SingularityFunction(x, 3, -1) - 1.8*H^BD*SingularityFunction(x, 7, -1) + 1.8*H^BD*SingularityFunction(x, 12, -1) - H^BD*SingularityFunction(x, 12.0, -1) - 0.8*H^CD*SingularityFunction(x, 7, -1) + 1.8*H^CD*SingularityFunction(x, 12, -1) - H^CD*SingularityFunction(x, 16, -1) + R_h^B*SingularityFunction(x, 3, -1) - 1.8*R_h^B*SingularityFunction(x, 7, -1) + 1.8*R_h^B*SingularityFunction(x, 12, -1) - R_h^B*SingularityFunction(x, 16, -1) + 0.6*R_v^A*SingularityFunction(x, 7, -1) - 0.6*R_v^A*SingularityFunction(x, 12, -1) - R_v^A*SingularityFunction(x, 16, -1) - R_v^B*SingularityFunction(x, 0, -1) + R_v^B*SingularityFunction(x, 3, -1) + 0.6*R_v^B*SingularityFunction(x, 7, -1) - 0.6*R_v^B*SingularityFunction(x, 12, -1) - R_v^B*SingularityFunction(x, 16, -1) - V^BC*SingularityFunction(x, 0, -1) + V^BC*SingularityFunction(x, 3, -1) + 0.6*V^BC*SingularityFunction(x, 7, -1) - 0.6*V^BC*SingularityFunction(x, 12, -1) - V^BD*SingularityFunction(x, 0, -1) + V^BD*SingularityFunction(x, 3, -1) + 0.6*V^BD*SingularityFunction(x, 7, -1) - 0.6*V^BD*SingularityFunction(x, 12, -1) + 0.6*V^CD*SingularityFunction(x, 7, -1) - 0.6*V^CD*SingularityFunction(x, 12, -1) - V^CD*SingularityFunction(x, 16, -1) + V^CD*SingularityFunction(x, 19, -1) + 24.0*SingularityFunction(x, 7, -1) - 24.0*SingularityFunction(x, 12, -1) - 40*SingularityFunction(x, 16, -1)"
      ]
     },
     "metadata": {},
     "output_type": "display_data"
    }
   ],
   "source": [
    "#qz opstellen\n",
    "qz = 0\n",
    "\n",
    "#beginpunten\n",
    "for i in range(len(B)):\n",
    "    for j in range(len(aa)):\n",
    "        if bb[i] == aa[-1]:\n",
    "            if nn[i] == 1:\n",
    "                qz += B[i] * sym.SingularityFunction(x,bb[i],-2)\n",
    "            if nn[i] == 2:\n",
    "                qz += B[i] * sym.SingularityFunction(x,bb[i],-1) * sym.cos(oo[-1])\n",
    "            if nn[i] == 3:\n",
    "                qz += B[i] * sym.SingularityFunction(x,bb[i],-1) * sym.sin(oo[-1])\n",
    "            if nn[i] == 4:\n",
    "                qz += B[i] * sym.SingularityFunction(x,bb[i],0) * sym.cos(oo[-1])\n",
    "            if nn[i] == 5:\n",
    "                qz += B[i] * sym.SingularityFunction(x,bb[i],0) * sym.sin(oo[-1])\n",
    "            break\n",
    "        else:\n",
    "            if bb[i] < aa[j]:\n",
    "                if nn[i] == 1:\n",
    "                    qz += B[i] * sym.SingularityFunction(x,bb[i],-2)\n",
    "                if nn[i] == 2:\n",
    "                    qz += B[i] * sym.SingularityFunction(x,bb[i],-1) * sym.cos(oo[j-1])\n",
    "                if nn[i] == 3:\n",
    "                    qz += B[i] * sym.SingularityFunction(x,bb[i],-1) * sym.sin(oo[j-1])\n",
    "                if nn[i] == 4:\n",
    "                    qz += B[i] * sym.SingularityFunction(x,bb[i],0) * sym.cos(oo[j-1])\n",
    "                if nn[i] == 5:\n",
    "                    qz += B[i] * sym.SingularityFunction(x,bb[i],0) * sym.sin(oo[j-1])\n",
    "                if nn[i] == 6:\n",
    "                    qz += B[i] * sym.SingularityFunction(x,bb[i],-3) * EI\n",
    "                if nn[i] == 6:\n",
    "                    qz += B[i] * sym.SingularityFunction(x,bb[i],-3) * EI\n",
    "                if nn[i] == 7:\n",
    "                    qz += B[i] * sym.SingularityFunction(x,bb[i],-4) * EI\n",
    "                break\n",
    "\n",
    "# knikpunten\n",
    "for i in range(len(B)):\n",
    "    for j in range(len(aa)-1):\n",
    "        if bb[i] < aa[j]:\n",
    "            if nn[i] == 2:\n",
    "                qz += B[i] * sym.SingularityFunction(x,aa[j],-1) * (sym.cos(oo[j]) - sym.cos(oo[j-1]))\n",
    "            if nn[i] == 3:\n",
    "                qz += B[i] * sym.SingularityFunction(x,aa[j],-1) * (sym.sin(oo[j]) - sym.sin(oo[j-1]))\n",
    "            if nn[i] == 4:\n",
    "                qz += B[i] * ((sym.SingularityFunction(x,aa[j],0) + sym.SingularityFunction(x,aa[j],-1) * (aa[j] - bb[i])) * (sym.cos(oo[j]) - sym.cos(oo[j-1])))\n",
    "            if nn[i] == 5:\n",
    "                qz += B[i] * ((sym.SingularityFunction(x,aa[j],0) + sym.SingularityFunction(x,aa[j],-1) * (aa[j] - bb[i])) * (sym.sin(oo[j]) - sym.sin(oo[j-1])))\n",
    "\n",
    "display(qz)"
   ]
  },
  {
   "cell_type": "code",
   "execution_count": 9,
   "id": "8f351e51",
   "metadata": {},
   "outputs": [
    {
     "data": {
      "image/svg+xml": [
       "<?xml version=\"1.0\" encoding=\"utf-8\" standalone=\"no\"?>\n",
       "<!DOCTYPE svg PUBLIC \"-//W3C//DTD SVG 1.1//EN\"\n",
       "  \"http://www.w3.org/Graphics/SVG/1.1/DTD/svg11.dtd\">\n",
       "<svg xmlns:xlink=\"http://www.w3.org/1999/xlink\" width=\"611.875pt\" height=\"337.229934pt\" viewBox=\"0 0 611.875 337.229934\" xmlns=\"http://www.w3.org/2000/svg\" version=\"1.1\">\n",
       " <metadata>\n",
       "  <rdf:RDF xmlns:dc=\"http://purl.org/dc/elements/1.1/\" xmlns:cc=\"http://creativecommons.org/ns#\" xmlns:rdf=\"http://www.w3.org/1999/02/22-rdf-syntax-ns#\">\n",
       "   <cc:Work>\n",
       "    <dc:type rdf:resource=\"http://purl.org/dc/dcmitype/StillImage\"/>\n",
       "    <dc:date>2024-06-26T11:55:41.307914</dc:date>\n",
       "    <dc:format>image/svg+xml</dc:format>\n",
       "    <dc:creator>\n",
       "     <cc:Agent>\n",
       "      <dc:title>Matplotlib v3.9.0, https://matplotlib.org/</dc:title>\n",
       "     </cc:Agent>\n",
       "    </dc:creator>\n",
       "   </cc:Work>\n",
       "  </rdf:RDF>\n",
       " </metadata>\n",
       " <defs>\n",
       "  <style type=\"text/css\">*{stroke-linejoin: round; stroke-linecap: butt}</style>\n",
       " </defs>\n",
       " <g id=\"figure_1\">\n",
       "  <g id=\"patch_1\">\n",
       "   <path d=\"M 0 337.229934 \n",
       "L 611.875 337.229934 \n",
       "L 611.875 -0 \n",
       "L 0 -0 \n",
       "z\n",
       "\" style=\"fill: #ffffff\"/>\n",
       "  </g>\n",
       "  <g id=\"axes_1\">\n",
       "   <g id=\"patch_2\">\n",
       "    <path d=\"M 15.151563 160.783388 \n",
       "L 573.151562 160.783388 \n",
       "L 573.151562 131.414967 \n",
       "L 15.151563 131.414967 \n",
       "z\n",
       "\" style=\"fill: #ffffff\"/>\n",
       "   </g>\n",
       "   <g id=\"matplotlib.axis_1\">\n",
       "    <g id=\"xtick_1\">\n",
       "     <g id=\"line2d_1\">\n",
       "      <defs>\n",
       "       <path id=\"m2da9f2b004\" d=\"M 0 0 \n",
       "L 0 3.5 \n",
       "\" style=\"stroke: #000000; stroke-width: 0.8\"/>\n",
       "      </defs>\n",
       "      <g>\n",
       "       <use xlink:href=\"#m2da9f2b004\" x=\"15.151563\" y=\"131.414967\" style=\"stroke: #000000; stroke-width: 0.8\"/>\n",
       "      </g>\n",
       "     </g>\n",
       "     <g id=\"text_1\">\n",
       "      <!-- 0.0 -->\n",
       "      <g transform=\"translate(7.2 146.013405) scale(0.1 -0.1)\">\n",
       "       <defs>\n",
       "        <path id=\"DejaVuSans-30\" d=\"M 2034 4250 \n",
       "Q 1547 4250 1301 3770 \n",
       "Q 1056 3291 1056 2328 \n",
       "Q 1056 1369 1301 889 \n",
       "Q 1547 409 2034 409 \n",
       "Q 2525 409 2770 889 \n",
       "Q 3016 1369 3016 2328 \n",
       "Q 3016 3291 2770 3770 \n",
       "Q 2525 4250 2034 4250 \n",
       "z\n",
       "M 2034 4750 \n",
       "Q 2819 4750 3233 4129 \n",
       "Q 3647 3509 3647 2328 \n",
       "Q 3647 1150 3233 529 \n",
       "Q 2819 -91 2034 -91 \n",
       "Q 1250 -91 836 529 \n",
       "Q 422 1150 422 2328 \n",
       "Q 422 3509 836 4129 \n",
       "Q 1250 4750 2034 4750 \n",
       "z\n",
       "\" transform=\"scale(0.015625)\"/>\n",
       "        <path id=\"DejaVuSans-2e\" d=\"M 684 794 \n",
       "L 1344 794 \n",
       "L 1344 0 \n",
       "L 684 0 \n",
       "L 684 794 \n",
       "z\n",
       "\" transform=\"scale(0.015625)\"/>\n",
       "       </defs>\n",
       "       <use xlink:href=\"#DejaVuSans-30\"/>\n",
       "       <use xlink:href=\"#DejaVuSans-2e\" x=\"63.623047\"/>\n",
       "       <use xlink:href=\"#DejaVuSans-30\" x=\"95.410156\"/>\n",
       "      </g>\n",
       "     </g>\n",
       "    </g>\n",
       "    <g id=\"xtick_2\">\n",
       "     <g id=\"line2d_2\">\n",
       "      <g>\n",
       "       <use xlink:href=\"#m2da9f2b004\" x=\"88.572615\" y=\"131.414967\" style=\"stroke: #000000; stroke-width: 0.8\"/>\n",
       "      </g>\n",
       "     </g>\n",
       "     <g id=\"text_2\">\n",
       "      <!-- 2.5 -->\n",
       "      <g transform=\"translate(80.621053 146.013405) scale(0.1 -0.1)\">\n",
       "       <defs>\n",
       "        <path id=\"DejaVuSans-32\" d=\"M 1228 531 \n",
       "L 3431 531 \n",
       "L 3431 0 \n",
       "L 469 0 \n",
       "L 469 531 \n",
       "Q 828 903 1448 1529 \n",
       "Q 2069 2156 2228 2338 \n",
       "Q 2531 2678 2651 2914 \n",
       "Q 2772 3150 2772 3378 \n",
       "Q 2772 3750 2511 3984 \n",
       "Q 2250 4219 1831 4219 \n",
       "Q 1534 4219 1204 4116 \n",
       "Q 875 4013 500 3803 \n",
       "L 500 4441 \n",
       "Q 881 4594 1212 4672 \n",
       "Q 1544 4750 1819 4750 \n",
       "Q 2544 4750 2975 4387 \n",
       "Q 3406 4025 3406 3419 \n",
       "Q 3406 3131 3298 2873 \n",
       "Q 3191 2616 2906 2266 \n",
       "Q 2828 2175 2409 1742 \n",
       "Q 1991 1309 1228 531 \n",
       "z\n",
       "\" transform=\"scale(0.015625)\"/>\n",
       "        <path id=\"DejaVuSans-35\" d=\"M 691 4666 \n",
       "L 3169 4666 \n",
       "L 3169 4134 \n",
       "L 1269 4134 \n",
       "L 1269 2991 \n",
       "Q 1406 3038 1543 3061 \n",
       "Q 1681 3084 1819 3084 \n",
       "Q 2600 3084 3056 2656 \n",
       "Q 3513 2228 3513 1497 \n",
       "Q 3513 744 3044 326 \n",
       "Q 2575 -91 1722 -91 \n",
       "Q 1428 -91 1123 -41 \n",
       "Q 819 9 494 109 \n",
       "L 494 744 \n",
       "Q 775 591 1075 516 \n",
       "Q 1375 441 1709 441 \n",
       "Q 2250 441 2565 725 \n",
       "Q 2881 1009 2881 1497 \n",
       "Q 2881 1984 2565 2268 \n",
       "Q 2250 2553 1709 2553 \n",
       "Q 1456 2553 1204 2497 \n",
       "Q 953 2441 691 2322 \n",
       "L 691 4666 \n",
       "z\n",
       "\" transform=\"scale(0.015625)\"/>\n",
       "       </defs>\n",
       "       <use xlink:href=\"#DejaVuSans-32\"/>\n",
       "       <use xlink:href=\"#DejaVuSans-2e\" x=\"63.623047\"/>\n",
       "       <use xlink:href=\"#DejaVuSans-35\" x=\"95.410156\"/>\n",
       "      </g>\n",
       "     </g>\n",
       "    </g>\n",
       "    <g id=\"xtick_3\">\n",
       "     <g id=\"line2d_3\">\n",
       "      <g>\n",
       "       <use xlink:href=\"#m2da9f2b004\" x=\"161.993668\" y=\"131.414967\" style=\"stroke: #000000; stroke-width: 0.8\"/>\n",
       "      </g>\n",
       "     </g>\n",
       "     <g id=\"text_3\">\n",
       "      <!-- 5.0 -->\n",
       "      <g transform=\"translate(154.042105 146.013405) scale(0.1 -0.1)\">\n",
       "       <use xlink:href=\"#DejaVuSans-35\"/>\n",
       "       <use xlink:href=\"#DejaVuSans-2e\" x=\"63.623047\"/>\n",
       "       <use xlink:href=\"#DejaVuSans-30\" x=\"95.410156\"/>\n",
       "      </g>\n",
       "     </g>\n",
       "    </g>\n",
       "    <g id=\"xtick_4\">\n",
       "     <g id=\"line2d_4\">\n",
       "      <g>\n",
       "       <use xlink:href=\"#m2da9f2b004\" x=\"235.41472\" y=\"131.414967\" style=\"stroke: #000000; stroke-width: 0.8\"/>\n",
       "      </g>\n",
       "     </g>\n",
       "     <g id=\"text_4\">\n",
       "      <!-- 7.5 -->\n",
       "      <g transform=\"translate(227.463158 146.013405) scale(0.1 -0.1)\">\n",
       "       <defs>\n",
       "        <path id=\"DejaVuSans-37\" d=\"M 525 4666 \n",
       "L 3525 4666 \n",
       "L 3525 4397 \n",
       "L 1831 0 \n",
       "L 1172 0 \n",
       "L 2766 4134 \n",
       "L 525 4134 \n",
       "L 525 4666 \n",
       "z\n",
       "\" transform=\"scale(0.015625)\"/>\n",
       "       </defs>\n",
       "       <use xlink:href=\"#DejaVuSans-37\"/>\n",
       "       <use xlink:href=\"#DejaVuSans-2e\" x=\"63.623047\"/>\n",
       "       <use xlink:href=\"#DejaVuSans-35\" x=\"95.410156\"/>\n",
       "      </g>\n",
       "     </g>\n",
       "    </g>\n",
       "    <g id=\"xtick_5\">\n",
       "     <g id=\"line2d_5\">\n",
       "      <g>\n",
       "       <use xlink:href=\"#m2da9f2b004\" x=\"308.835773\" y=\"131.414967\" style=\"stroke: #000000; stroke-width: 0.8\"/>\n",
       "      </g>\n",
       "     </g>\n",
       "     <g id=\"text_5\">\n",
       "      <!-- 10.0 -->\n",
       "      <g transform=\"translate(297.702961 146.013405) scale(0.1 -0.1)\">\n",
       "       <defs>\n",
       "        <path id=\"DejaVuSans-31\" d=\"M 794 531 \n",
       "L 1825 531 \n",
       "L 1825 4091 \n",
       "L 703 3866 \n",
       "L 703 4441 \n",
       "L 1819 4666 \n",
       "L 2450 4666 \n",
       "L 2450 531 \n",
       "L 3481 531 \n",
       "L 3481 0 \n",
       "L 794 0 \n",
       "L 794 531 \n",
       "z\n",
       "\" transform=\"scale(0.015625)\"/>\n",
       "       </defs>\n",
       "       <use xlink:href=\"#DejaVuSans-31\"/>\n",
       "       <use xlink:href=\"#DejaVuSans-30\" x=\"63.623047\"/>\n",
       "       <use xlink:href=\"#DejaVuSans-2e\" x=\"127.246094\"/>\n",
       "       <use xlink:href=\"#DejaVuSans-30\" x=\"159.033203\"/>\n",
       "      </g>\n",
       "     </g>\n",
       "    </g>\n",
       "    <g id=\"xtick_6\">\n",
       "     <g id=\"line2d_6\">\n",
       "      <g>\n",
       "       <use xlink:href=\"#m2da9f2b004\" x=\"382.256826\" y=\"131.414967\" style=\"stroke: #000000; stroke-width: 0.8\"/>\n",
       "      </g>\n",
       "     </g>\n",
       "     <g id=\"text_6\">\n",
       "      <!-- 12.5 -->\n",
       "      <g transform=\"translate(371.124013 146.013405) scale(0.1 -0.1)\">\n",
       "       <use xlink:href=\"#DejaVuSans-31\"/>\n",
       "       <use xlink:href=\"#DejaVuSans-32\" x=\"63.623047\"/>\n",
       "       <use xlink:href=\"#DejaVuSans-2e\" x=\"127.246094\"/>\n",
       "       <use xlink:href=\"#DejaVuSans-35\" x=\"159.033203\"/>\n",
       "      </g>\n",
       "     </g>\n",
       "    </g>\n",
       "    <g id=\"xtick_7\">\n",
       "     <g id=\"line2d_7\">\n",
       "      <g>\n",
       "       <use xlink:href=\"#m2da9f2b004\" x=\"455.677878\" y=\"131.414967\" style=\"stroke: #000000; stroke-width: 0.8\"/>\n",
       "      </g>\n",
       "     </g>\n",
       "     <g id=\"text_7\">\n",
       "      <!-- 15.0 -->\n",
       "      <g transform=\"translate(444.545066 146.013405) scale(0.1 -0.1)\">\n",
       "       <use xlink:href=\"#DejaVuSans-31\"/>\n",
       "       <use xlink:href=\"#DejaVuSans-35\" x=\"63.623047\"/>\n",
       "       <use xlink:href=\"#DejaVuSans-2e\" x=\"127.246094\"/>\n",
       "       <use xlink:href=\"#DejaVuSans-30\" x=\"159.033203\"/>\n",
       "      </g>\n",
       "     </g>\n",
       "    </g>\n",
       "    <g id=\"xtick_8\">\n",
       "     <g id=\"line2d_8\">\n",
       "      <g>\n",
       "       <use xlink:href=\"#m2da9f2b004\" x=\"529.098931\" y=\"131.414967\" style=\"stroke: #000000; stroke-width: 0.8\"/>\n",
       "      </g>\n",
       "     </g>\n",
       "     <g id=\"text_8\">\n",
       "      <!-- 17.5 -->\n",
       "      <g transform=\"translate(517.966118 146.013405) scale(0.1 -0.1)\">\n",
       "       <use xlink:href=\"#DejaVuSans-31\"/>\n",
       "       <use xlink:href=\"#DejaVuSans-37\" x=\"63.623047\"/>\n",
       "       <use xlink:href=\"#DejaVuSans-2e\" x=\"127.246094\"/>\n",
       "       <use xlink:href=\"#DejaVuSans-35\" x=\"159.033203\"/>\n",
       "      </g>\n",
       "     </g>\n",
       "    </g>\n",
       "   </g>\n",
       "   <g id=\"patch_3\">\n",
       "    <path d=\"M 15.151563 160.783388 \n",
       "L 15.151563 131.414967 \n",
       "\" style=\"fill: none\"/>\n",
       "   </g>\n",
       "   <g id=\"patch_4\">\n",
       "    <path d=\"M 573.151562 160.783388 \n",
       "L 573.151562 131.414967 \n",
       "\" style=\"fill: none\"/>\n",
       "   </g>\n",
       "   <g id=\"patch_5\">\n",
       "    <path d=\"M 15.151563 131.414967 \n",
       "L 573.151562 131.414967 \n",
       "\" style=\"fill: none; stroke: #000000; stroke-width: 0.8; stroke-linejoin: miter; stroke-linecap: square\"/>\n",
       "   </g>\n",
       "   <g id=\"patch_6\">\n",
       "    <path d=\"M 15.151563 131.414967 \n",
       "L 573.151562 131.414967 \n",
       "\" style=\"fill: none\"/>\n",
       "   </g>\n",
       "   <g id=\"patch_7\">\n",
       "    <path d=\"M 485.046299 315.414082 \n",
       "Q 485.046299 224.415435 485.046299 134.534823 \n",
       "\" style=\"fill: none; stroke: #000000; stroke-linecap: round\"/>\n",
       "    <path d=\"M 483.046299 138.534823 \n",
       "L 485.046299 134.534823 \n",
       "L 487.046299 138.534823 \n",
       "\" style=\"fill: none; stroke: #000000; stroke-linecap: round\"/>\n",
       "   </g>\n",
       "   <g id=\"text_9\">\n",
       "    <!-- -40 -->\n",
       "    <g transform=\"translate(485.046299 327.950247) scale(0.1 -0.1)\">\n",
       "     <defs>\n",
       "      <path id=\"DejaVuSans-2d\" d=\"M 313 2009 \n",
       "L 1997 2009 \n",
       "L 1997 1497 \n",
       "L 313 1497 \n",
       "L 313 2009 \n",
       "z\n",
       "\" transform=\"scale(0.015625)\"/>\n",
       "      <path id=\"DejaVuSans-34\" d=\"M 2419 4116 \n",
       "L 825 1625 \n",
       "L 2419 1625 \n",
       "L 2419 4116 \n",
       "z\n",
       "M 2253 4666 \n",
       "L 3047 4666 \n",
       "L 3047 1625 \n",
       "L 3713 1625 \n",
       "L 3713 1100 \n",
       "L 3047 1100 \n",
       "L 3047 0 \n",
       "L 2419 0 \n",
       "L 2419 1100 \n",
       "L 313 1100 \n",
       "L 313 1709 \n",
       "L 2253 4666 \n",
       "z\n",
       "\" transform=\"scale(0.015625)\"/>\n",
       "     </defs>\n",
       "     <use xlink:href=\"#DejaVuSans-2d\"/>\n",
       "     <use xlink:href=\"#DejaVuSans-34\" x=\"36.083984\"/>\n",
       "     <use xlink:href=\"#DejaVuSans-30\" x=\"99.707031\"/>\n",
       "    </g>\n",
       "   </g>\n",
       "   <g id=\"patch_8\">\n",
       "    <path d=\"M 220.73051 21.814149 \n",
       "Q 220.73051 75.61615 220.73051 128.300116 \n",
       "\" style=\"fill: none; stroke: #000000; stroke-linecap: round\"/>\n",
       "    <path d=\"M 222.73051 124.300116 \n",
       "L 220.73051 128.300116 \n",
       "L 218.73051 124.300116 \n",
       "\" style=\"fill: none; stroke: #000000; stroke-linecap: round\"/>\n",
       "   </g>\n",
       "   <g id=\"text_10\">\n",
       "    <!-- 24 -->\n",
       "    <g transform=\"translate(220.73051 14.798437) scale(0.1 -0.1)\">\n",
       "     <use xlink:href=\"#DejaVuSans-32\"/>\n",
       "     <use xlink:href=\"#DejaVuSans-34\" x=\"63.623047\"/>\n",
       "    </g>\n",
       "   </g>\n",
       "   <g id=\"patch_9\">\n",
       "    <path d=\"M 367.572615 241.015785 \n",
       "Q 367.572615 187.213784 367.572615 134.529818 \n",
       "\" style=\"fill: none; stroke: #000000; stroke-linecap: round\"/>\n",
       "    <path d=\"M 365.572615 138.529818 \n",
       "L 367.572615 134.529818 \n",
       "L 369.572615 138.529818 \n",
       "\" style=\"fill: none; stroke: #000000; stroke-linecap: round\"/>\n",
       "   </g>\n",
       "   <g id=\"text_11\">\n",
       "    <!-- -24 -->\n",
       "    <g transform=\"translate(367.572615 253.550247) scale(0.1 -0.1)\">\n",
       "     <use xlink:href=\"#DejaVuSans-2d\"/>\n",
       "     <use xlink:href=\"#DejaVuSans-32\" x=\"36.083984\"/>\n",
       "     <use xlink:href=\"#DejaVuSans-34\" x=\"99.707031\"/>\n",
       "    </g>\n",
       "   </g>\n",
       "   <g id=\"patch_10\">\n",
       "    <path d=\"M 103.256826 104.043398 \n",
       "Q 103.256826 116.728476 103.256826 128.295521 \n",
       "\" style=\"fill: none; stroke: #000000; stroke-linecap: round\"/>\n",
       "    <path d=\"M 105.256826 124.295521 \n",
       "L 103.256826 128.295521 \n",
       "L 101.256826 124.295521 \n",
       "\" style=\"fill: none; stroke: #000000; stroke-linecap: round\"/>\n",
       "   </g>\n",
       "   <g id=\"text_12\">\n",
       "    <!-- H__BC -->\n",
       "    <g transform=\"translate(103.256826 112.405263) scale(0.1 -0.1)\">\n",
       "     <defs>\n",
       "      <path id=\"DejaVuSans-48\" d=\"M 628 4666 \n",
       "L 1259 4666 \n",
       "L 1259 2753 \n",
       "L 3553 2753 \n",
       "L 3553 4666 \n",
       "L 4184 4666 \n",
       "L 4184 0 \n",
       "L 3553 0 \n",
       "L 3553 2222 \n",
       "L 1259 2222 \n",
       "L 1259 0 \n",
       "L 628 0 \n",
       "L 628 4666 \n",
       "z\n",
       "\" transform=\"scale(0.015625)\"/>\n",
       "      <path id=\"DejaVuSans-5f\" d=\"M 3263 -1063 \n",
       "L 3263 -1509 \n",
       "L -63 -1509 \n",
       "L -63 -1063 \n",
       "L 3263 -1063 \n",
       "z\n",
       "\" transform=\"scale(0.015625)\"/>\n",
       "      <path id=\"DejaVuSans-42\" d=\"M 1259 2228 \n",
       "L 1259 519 \n",
       "L 2272 519 \n",
       "Q 2781 519 3026 730 \n",
       "Q 3272 941 3272 1375 \n",
       "Q 3272 1813 3026 2020 \n",
       "Q 2781 2228 2272 2228 \n",
       "L 1259 2228 \n",
       "z\n",
       "M 1259 4147 \n",
       "L 1259 2741 \n",
       "L 2194 2741 \n",
       "Q 2656 2741 2882 2914 \n",
       "Q 3109 3088 3109 3444 \n",
       "Q 3109 3797 2882 3972 \n",
       "Q 2656 4147 2194 4147 \n",
       "L 1259 4147 \n",
       "z\n",
       "M 628 4666 \n",
       "L 2241 4666 \n",
       "Q 2963 4666 3353 4366 \n",
       "Q 3744 4066 3744 3513 \n",
       "Q 3744 3084 3544 2831 \n",
       "Q 3344 2578 2956 2516 \n",
       "Q 3422 2416 3680 2098 \n",
       "Q 3938 1781 3938 1306 \n",
       "Q 3938 681 3513 340 \n",
       "Q 3088 0 2303 0 \n",
       "L 628 0 \n",
       "L 628 4666 \n",
       "z\n",
       "\" transform=\"scale(0.015625)\"/>\n",
       "      <path id=\"DejaVuSans-43\" d=\"M 4122 4306 \n",
       "L 4122 3641 \n",
       "Q 3803 3938 3442 4084 \n",
       "Q 3081 4231 2675 4231 \n",
       "Q 1875 4231 1450 3742 \n",
       "Q 1025 3253 1025 2328 \n",
       "Q 1025 1406 1450 917 \n",
       "Q 1875 428 2675 428 \n",
       "Q 3081 428 3442 575 \n",
       "Q 3803 722 4122 1019 \n",
       "L 4122 359 \n",
       "Q 3791 134 3420 21 \n",
       "Q 3050 -91 2638 -91 \n",
       "Q 1578 -91 968 557 \n",
       "Q 359 1206 359 2328 \n",
       "Q 359 3453 968 4101 \n",
       "Q 1578 4750 2638 4750 \n",
       "Q 3056 4750 3426 4639 \n",
       "Q 3797 4528 4122 4306 \n",
       "z\n",
       "\" transform=\"scale(0.015625)\"/>\n",
       "     </defs>\n",
       "     <use xlink:href=\"#DejaVuSans-48\"/>\n",
       "     <use xlink:href=\"#DejaVuSans-5f\" x=\"75.195312\"/>\n",
       "     <use xlink:href=\"#DejaVuSans-5f\" x=\"125.195312\"/>\n",
       "     <use xlink:href=\"#DejaVuSans-42\" x=\"175.195312\"/>\n",
       "     <use xlink:href=\"#DejaVuSans-43\" x=\"242.048828\"/>\n",
       "    </g>\n",
       "   </g>\n",
       "   <g id=\"patch_11\">\n",
       "    <path d=\"M 103.256826 104.043398 \n",
       "Q 103.256826 116.728476 103.256826 128.295521 \n",
       "\" style=\"fill: none; stroke: #000000; stroke-linecap: round\"/>\n",
       "    <path d=\"M 105.256826 124.295521 \n",
       "L 103.256826 128.295521 \n",
       "L 101.256826 124.295521 \n",
       "\" style=\"fill: none; stroke: #000000; stroke-linecap: round\"/>\n",
       "   </g>\n",
       "   <g id=\"text_13\">\n",
       "    <!-- H__BD -->\n",
       "    <g transform=\"translate(103.256826 112.303701) scale(0.1 -0.1)\">\n",
       "     <defs>\n",
       "      <path id=\"DejaVuSans-44\" d=\"M 1259 4147 \n",
       "L 1259 519 \n",
       "L 2022 519 \n",
       "Q 2988 519 3436 956 \n",
       "Q 3884 1394 3884 2338 \n",
       "Q 3884 3275 3436 3711 \n",
       "Q 2988 4147 2022 4147 \n",
       "L 1259 4147 \n",
       "z\n",
       "M 628 4666 \n",
       "L 1925 4666 \n",
       "Q 3281 4666 3915 4102 \n",
       "Q 4550 3538 4550 2338 \n",
       "Q 4550 1131 3912 565 \n",
       "Q 3275 0 1925 0 \n",
       "L 628 0 \n",
       "L 628 4666 \n",
       "z\n",
       "\" transform=\"scale(0.015625)\"/>\n",
       "     </defs>\n",
       "     <use xlink:href=\"#DejaVuSans-48\"/>\n",
       "     <use xlink:href=\"#DejaVuSans-5f\" x=\"75.195312\"/>\n",
       "     <use xlink:href=\"#DejaVuSans-5f\" x=\"125.195312\"/>\n",
       "     <use xlink:href=\"#DejaVuSans-42\" x=\"175.195312\"/>\n",
       "     <use xlink:href=\"#DejaVuSans-44\" x=\"243.798828\"/>\n",
       "    </g>\n",
       "   </g>\n",
       "   <g id=\"patch_12\">\n",
       "    <path d=\"M 103.256826 104.043398 \n",
       "Q 103.256826 116.728476 103.256826 128.295521 \n",
       "\" style=\"fill: none; stroke: #000000; stroke-linecap: round\"/>\n",
       "    <path d=\"M 105.256826 124.295521 \n",
       "L 103.256826 128.295521 \n",
       "L 101.256826 124.295521 \n",
       "\" style=\"fill: none; stroke: #000000; stroke-linecap: round\"/>\n",
       "   </g>\n",
       "   <g id=\"text_14\">\n",
       "    <!-- R_h__B -->\n",
       "    <g transform=\"translate(103.256826 112.581826) scale(0.1 -0.1)\">\n",
       "     <defs>\n",
       "      <path id=\"DejaVuSans-52\" d=\"M 2841 2188 \n",
       "Q 3044 2119 3236 1894 \n",
       "Q 3428 1669 3622 1275 \n",
       "L 4263 0 \n",
       "L 3584 0 \n",
       "L 2988 1197 \n",
       "Q 2756 1666 2539 1819 \n",
       "Q 2322 1972 1947 1972 \n",
       "L 1259 1972 \n",
       "L 1259 0 \n",
       "L 628 0 \n",
       "L 628 4666 \n",
       "L 2053 4666 \n",
       "Q 2853 4666 3247 4331 \n",
       "Q 3641 3997 3641 3322 \n",
       "Q 3641 2881 3436 2590 \n",
       "Q 3231 2300 2841 2188 \n",
       "z\n",
       "M 1259 4147 \n",
       "L 1259 2491 \n",
       "L 2053 2491 \n",
       "Q 2509 2491 2742 2702 \n",
       "Q 2975 2913 2975 3322 \n",
       "Q 2975 3731 2742 3939 \n",
       "Q 2509 4147 2053 4147 \n",
       "L 1259 4147 \n",
       "z\n",
       "\" transform=\"scale(0.015625)\"/>\n",
       "      <path id=\"DejaVuSans-68\" d=\"M 3513 2113 \n",
       "L 3513 0 \n",
       "L 2938 0 \n",
       "L 2938 2094 \n",
       "Q 2938 2591 2744 2837 \n",
       "Q 2550 3084 2163 3084 \n",
       "Q 1697 3084 1428 2787 \n",
       "Q 1159 2491 1159 1978 \n",
       "L 1159 0 \n",
       "L 581 0 \n",
       "L 581 4863 \n",
       "L 1159 4863 \n",
       "L 1159 2956 \n",
       "Q 1366 3272 1645 3428 \n",
       "Q 1925 3584 2291 3584 \n",
       "Q 2894 3584 3203 3211 \n",
       "Q 3513 2838 3513 2113 \n",
       "z\n",
       "\" transform=\"scale(0.015625)\"/>\n",
       "     </defs>\n",
       "     <use xlink:href=\"#DejaVuSans-52\"/>\n",
       "     <use xlink:href=\"#DejaVuSans-5f\" x=\"69.482422\"/>\n",
       "     <use xlink:href=\"#DejaVuSans-68\" x=\"119.482422\"/>\n",
       "     <use xlink:href=\"#DejaVuSans-5f\" x=\"182.861328\"/>\n",
       "     <use xlink:href=\"#DejaVuSans-5f\" x=\"232.861328\"/>\n",
       "     <use xlink:href=\"#DejaVuSans-42\" x=\"282.861328\"/>\n",
       "    </g>\n",
       "   </g>\n",
       "   <g id=\"patch_13\">\n",
       "    <path d=\"M 103.256826 104.043398 \n",
       "Q 103.256826 116.728476 103.256826 128.295521 \n",
       "\" style=\"fill: none; stroke: #000000; stroke-linecap: round\"/>\n",
       "    <path d=\"M 105.256826 124.295521 \n",
       "L 103.256826 128.295521 \n",
       "L 101.256826 124.295521 \n",
       "\" style=\"fill: none; stroke: #000000; stroke-linecap: round\"/>\n",
       "   </g>\n",
       "   <g id=\"text_15\">\n",
       "    <!-- R_v__B -->\n",
       "    <g transform=\"translate(103.256826 112.303701) scale(0.1 -0.1)\">\n",
       "     <defs>\n",
       "      <path id=\"DejaVuSans-76\" d=\"M 191 3500 \n",
       "L 800 3500 \n",
       "L 1894 563 \n",
       "L 2988 3500 \n",
       "L 3597 3500 \n",
       "L 2284 0 \n",
       "L 1503 0 \n",
       "L 191 3500 \n",
       "z\n",
       "\" transform=\"scale(0.015625)\"/>\n",
       "     </defs>\n",
       "     <use xlink:href=\"#DejaVuSans-52\"/>\n",
       "     <use xlink:href=\"#DejaVuSans-5f\" x=\"69.482422\"/>\n",
       "     <use xlink:href=\"#DejaVuSans-76\" x=\"119.482422\"/>\n",
       "     <use xlink:href=\"#DejaVuSans-5f\" x=\"178.662109\"/>\n",
       "     <use xlink:href=\"#DejaVuSans-5f\" x=\"228.662109\"/>\n",
       "     <use xlink:href=\"#DejaVuSans-42\" x=\"278.662109\"/>\n",
       "    </g>\n",
       "   </g>\n",
       "   <g id=\"patch_14\">\n",
       "    <path d=\"M 103.256826 104.043398 \n",
       "Q 103.256826 116.728476 103.256826 128.295521 \n",
       "\" style=\"fill: none; stroke: #000000; stroke-linecap: round\"/>\n",
       "    <path d=\"M 105.256826 124.295521 \n",
       "L 103.256826 128.295521 \n",
       "L 101.256826 124.295521 \n",
       "\" style=\"fill: none; stroke: #000000; stroke-linecap: round\"/>\n",
       "   </g>\n",
       "   <g id=\"text_16\">\n",
       "    <!-- V__BC -->\n",
       "    <g transform=\"translate(103.256826 112.405263) scale(0.1 -0.1)\">\n",
       "     <defs>\n",
       "      <path id=\"DejaVuSans-56\" d=\"M 1831 0 \n",
       "L 50 4666 \n",
       "L 709 4666 \n",
       "L 2188 738 \n",
       "L 3669 4666 \n",
       "L 4325 4666 \n",
       "L 2547 0 \n",
       "L 1831 0 \n",
       "z\n",
       "\" transform=\"scale(0.015625)\"/>\n",
       "     </defs>\n",
       "     <use xlink:href=\"#DejaVuSans-56\"/>\n",
       "     <use xlink:href=\"#DejaVuSans-5f\" x=\"68.408203\"/>\n",
       "     <use xlink:href=\"#DejaVuSans-5f\" x=\"118.408203\"/>\n",
       "     <use xlink:href=\"#DejaVuSans-42\" x=\"168.408203\"/>\n",
       "     <use xlink:href=\"#DejaVuSans-43\" x=\"235.261719\"/>\n",
       "    </g>\n",
       "   </g>\n",
       "   <g id=\"patch_15\">\n",
       "    <path d=\"M 103.256826 104.043398 \n",
       "Q 103.256826 116.728476 103.256826 128.295521 \n",
       "\" style=\"fill: none; stroke: #000000; stroke-linecap: round\"/>\n",
       "    <path d=\"M 105.256826 124.295521 \n",
       "L 103.256826 128.295521 \n",
       "L 101.256826 124.295521 \n",
       "\" style=\"fill: none; stroke: #000000; stroke-linecap: round\"/>\n",
       "   </g>\n",
       "   <g id=\"text_17\">\n",
       "    <!-- V__BD -->\n",
       "    <g transform=\"translate(103.256826 112.303701) scale(0.1 -0.1)\">\n",
       "     <use xlink:href=\"#DejaVuSans-56\"/>\n",
       "     <use xlink:href=\"#DejaVuSans-5f\" x=\"68.408203\"/>\n",
       "     <use xlink:href=\"#DejaVuSans-5f\" x=\"118.408203\"/>\n",
       "     <use xlink:href=\"#DejaVuSans-42\" x=\"168.408203\"/>\n",
       "     <use xlink:href=\"#DejaVuSans-44\" x=\"237.011719\"/>\n",
       "    </g>\n",
       "   </g>\n",
       "   <g id=\"patch_16\">\n",
       "    <path d=\"M 573.151562 104.043398 \n",
       "Q 573.151562 116.728476 573.151562 128.295521 \n",
       "\" style=\"fill: none; stroke: #000000; stroke-linecap: round\"/>\n",
       "    <path d=\"M 575.151562 124.295521 \n",
       "L 573.151562 128.295521 \n",
       "L 571.151562 124.295521 \n",
       "\" style=\"fill: none; stroke: #000000; stroke-linecap: round\"/>\n",
       "   </g>\n",
       "   <g id=\"text_18\">\n",
       "    <!-- V__CD -->\n",
       "    <g transform=\"translate(573.151562 112.405263) scale(0.1 -0.1)\">\n",
       "     <use xlink:href=\"#DejaVuSans-56\"/>\n",
       "     <use xlink:href=\"#DejaVuSans-5f\" x=\"68.408203\"/>\n",
       "     <use xlink:href=\"#DejaVuSans-5f\" x=\"118.408203\"/>\n",
       "     <use xlink:href=\"#DejaVuSans-43\" x=\"168.408203\"/>\n",
       "     <use xlink:href=\"#DejaVuSans-44\" x=\"238.232422\"/>\n",
       "    </g>\n",
       "   </g>\n",
       "   <g id=\"patch_17\">\n",
       "    <path d=\"M 367.572615 158.786536 \n",
       "Q 367.572615 146.101458 367.572615 134.534413 \n",
       "\" style=\"fill: none; stroke: #000000; stroke-linecap: round\"/>\n",
       "    <path d=\"M 365.572615 138.534413 \n",
       "L 367.572615 134.534413 \n",
       "L 369.572615 138.534413 \n",
       "\" style=\"fill: none; stroke: #000000; stroke-linecap: round\"/>\n",
       "   </g>\n",
       "   <g id=\"text_19\">\n",
       "    <!-- -H__BD -->\n",
       "    <g transform=\"translate(367.572615 171.040543) scale(0.1 -0.1)\">\n",
       "     <use xlink:href=\"#DejaVuSans-2d\"/>\n",
       "     <use xlink:href=\"#DejaVuSans-48\" x=\"36.083984\"/>\n",
       "     <use xlink:href=\"#DejaVuSans-5f\" x=\"111.279297\"/>\n",
       "     <use xlink:href=\"#DejaVuSans-5f\" x=\"161.279297\"/>\n",
       "     <use xlink:href=\"#DejaVuSans-42\" x=\"211.279297\"/>\n",
       "     <use xlink:href=\"#DejaVuSans-44\" x=\"279.882812\"/>\n",
       "    </g>\n",
       "   </g>\n",
       "   <g id=\"patch_18\">\n",
       "    <path d=\"M 485.046299 158.786536 \n",
       "Q 485.046299 146.101458 485.046299 134.534413 \n",
       "\" style=\"fill: none; stroke: #000000; stroke-linecap: round\"/>\n",
       "    <path d=\"M 483.046299 138.534413 \n",
       "L 485.046299 134.534413 \n",
       "L 487.046299 138.534413 \n",
       "\" style=\"fill: none; stroke: #000000; stroke-linecap: round\"/>\n",
       "   </g>\n",
       "   <g id=\"text_20\">\n",
       "    <!-- -H__CD -->\n",
       "    <g transform=\"translate(485.046299 171.142105) scale(0.1 -0.1)\">\n",
       "     <use xlink:href=\"#DejaVuSans-2d\"/>\n",
       "     <use xlink:href=\"#DejaVuSans-48\" x=\"36.083984\"/>\n",
       "     <use xlink:href=\"#DejaVuSans-5f\" x=\"111.279297\"/>\n",
       "     <use xlink:href=\"#DejaVuSans-5f\" x=\"161.279297\"/>\n",
       "     <use xlink:href=\"#DejaVuSans-43\" x=\"211.279297\"/>\n",
       "     <use xlink:href=\"#DejaVuSans-44\" x=\"281.103516\"/>\n",
       "    </g>\n",
       "   </g>\n",
       "   <g id=\"patch_19\">\n",
       "    <path d=\"M 485.046299 158.786536 \n",
       "Q 485.046299 146.101458 485.046299 134.534413 \n",
       "\" style=\"fill: none; stroke: #000000; stroke-linecap: round\"/>\n",
       "    <path d=\"M 483.046299 138.534413 \n",
       "L 485.046299 134.534413 \n",
       "L 487.046299 138.534413 \n",
       "\" style=\"fill: none; stroke: #000000; stroke-linecap: round\"/>\n",
       "   </g>\n",
       "   <g id=\"text_21\">\n",
       "    <!-- -R_h__B -->\n",
       "    <g transform=\"translate(485.046299 171.318668) scale(0.1 -0.1)\">\n",
       "     <use xlink:href=\"#DejaVuSans-2d\"/>\n",
       "     <use xlink:href=\"#DejaVuSans-52\" x=\"36.083984\"/>\n",
       "     <use xlink:href=\"#DejaVuSans-5f\" x=\"105.566406\"/>\n",
       "     <use xlink:href=\"#DejaVuSans-68\" x=\"155.566406\"/>\n",
       "     <use xlink:href=\"#DejaVuSans-5f\" x=\"218.945312\"/>\n",
       "     <use xlink:href=\"#DejaVuSans-5f\" x=\"268.945312\"/>\n",
       "     <use xlink:href=\"#DejaVuSans-42\" x=\"318.945312\"/>\n",
       "    </g>\n",
       "   </g>\n",
       "   <g id=\"patch_20\">\n",
       "    <path d=\"M 485.046299 158.786536 \n",
       "Q 485.046299 146.101458 485.046299 134.534413 \n",
       "\" style=\"fill: none; stroke: #000000; stroke-linecap: round\"/>\n",
       "    <path d=\"M 483.046299 138.534413 \n",
       "L 485.046299 134.534413 \n",
       "L 487.046299 138.534413 \n",
       "\" style=\"fill: none; stroke: #000000; stroke-linecap: round\"/>\n",
       "   </g>\n",
       "   <g id=\"text_22\">\n",
       "    <!-- -R_v__A -->\n",
       "    <g transform=\"translate(485.046299 171.040543) scale(0.1 -0.1)\">\n",
       "     <defs>\n",
       "      <path id=\"DejaVuSans-41\" d=\"M 2188 4044 \n",
       "L 1331 1722 \n",
       "L 3047 1722 \n",
       "L 2188 4044 \n",
       "z\n",
       "M 1831 4666 \n",
       "L 2547 4666 \n",
       "L 4325 0 \n",
       "L 3669 0 \n",
       "L 3244 1197 \n",
       "L 1141 1197 \n",
       "L 716 0 \n",
       "L 50 0 \n",
       "L 1831 4666 \n",
       "z\n",
       "\" transform=\"scale(0.015625)\"/>\n",
       "     </defs>\n",
       "     <use xlink:href=\"#DejaVuSans-2d\"/>\n",
       "     <use xlink:href=\"#DejaVuSans-52\" x=\"36.083984\"/>\n",
       "     <use xlink:href=\"#DejaVuSans-5f\" x=\"105.566406\"/>\n",
       "     <use xlink:href=\"#DejaVuSans-76\" x=\"155.566406\"/>\n",
       "     <use xlink:href=\"#DejaVuSans-5f\" x=\"214.746094\"/>\n",
       "     <use xlink:href=\"#DejaVuSans-5f\" x=\"264.746094\"/>\n",
       "     <use xlink:href=\"#DejaVuSans-41\" x=\"314.746094\"/>\n",
       "    </g>\n",
       "   </g>\n",
       "   <g id=\"patch_21\">\n",
       "    <path d=\"M 15.151563 158.786536 \n",
       "Q 15.151563 146.101458 15.151563 134.534413 \n",
       "\" style=\"fill: none; stroke: #000000; stroke-linecap: round\"/>\n",
       "    <path d=\"M 13.151563 138.534413 \n",
       "L 15.151563 134.534413 \n",
       "L 17.151563 138.534413 \n",
       "\" style=\"fill: none; stroke: #000000; stroke-linecap: round\"/>\n",
       "   </g>\n",
       "   <g id=\"text_23\">\n",
       "    <!-- -R_v__B -->\n",
       "    <g transform=\"translate(15.151563 171.040543) scale(0.1 -0.1)\">\n",
       "     <use xlink:href=\"#DejaVuSans-2d\"/>\n",
       "     <use xlink:href=\"#DejaVuSans-52\" x=\"36.083984\"/>\n",
       "     <use xlink:href=\"#DejaVuSans-5f\" x=\"105.566406\"/>\n",
       "     <use xlink:href=\"#DejaVuSans-76\" x=\"155.566406\"/>\n",
       "     <use xlink:href=\"#DejaVuSans-5f\" x=\"214.746094\"/>\n",
       "     <use xlink:href=\"#DejaVuSans-5f\" x=\"264.746094\"/>\n",
       "     <use xlink:href=\"#DejaVuSans-42\" x=\"314.746094\"/>\n",
       "    </g>\n",
       "   </g>\n",
       "   <g id=\"patch_22\">\n",
       "    <path d=\"M 485.046299 158.786536 \n",
       "Q 485.046299 146.101458 485.046299 134.534413 \n",
       "\" style=\"fill: none; stroke: #000000; stroke-linecap: round\"/>\n",
       "    <path d=\"M 483.046299 138.534413 \n",
       "L 485.046299 134.534413 \n",
       "L 487.046299 138.534413 \n",
       "\" style=\"fill: none; stroke: #000000; stroke-linecap: round\"/>\n",
       "   </g>\n",
       "   <g id=\"text_24\">\n",
       "    <!-- -R_v__B -->\n",
       "    <g transform=\"translate(485.046299 171.040543) scale(0.1 -0.1)\">\n",
       "     <use xlink:href=\"#DejaVuSans-2d\"/>\n",
       "     <use xlink:href=\"#DejaVuSans-52\" x=\"36.083984\"/>\n",
       "     <use xlink:href=\"#DejaVuSans-5f\" x=\"105.566406\"/>\n",
       "     <use xlink:href=\"#DejaVuSans-76\" x=\"155.566406\"/>\n",
       "     <use xlink:href=\"#DejaVuSans-5f\" x=\"214.746094\"/>\n",
       "     <use xlink:href=\"#DejaVuSans-5f\" x=\"264.746094\"/>\n",
       "     <use xlink:href=\"#DejaVuSans-42\" x=\"314.746094\"/>\n",
       "    </g>\n",
       "   </g>\n",
       "   <g id=\"patch_23\">\n",
       "    <path d=\"M 15.151563 158.786536 \n",
       "Q 15.151563 146.101458 15.151563 134.534413 \n",
       "\" style=\"fill: none; stroke: #000000; stroke-linecap: round\"/>\n",
       "    <path d=\"M 13.151563 138.534413 \n",
       "L 15.151563 134.534413 \n",
       "L 17.151563 138.534413 \n",
       "\" style=\"fill: none; stroke: #000000; stroke-linecap: round\"/>\n",
       "   </g>\n",
       "   <g id=\"text_25\">\n",
       "    <!-- -V__BC -->\n",
       "    <g transform=\"translate(15.151563 171.142105) scale(0.1 -0.1)\">\n",
       "     <use xlink:href=\"#DejaVuSans-2d\"/>\n",
       "     <use xlink:href=\"#DejaVuSans-56\" x=\"30.208984\"/>\n",
       "     <use xlink:href=\"#DejaVuSans-5f\" x=\"98.617188\"/>\n",
       "     <use xlink:href=\"#DejaVuSans-5f\" x=\"148.617188\"/>\n",
       "     <use xlink:href=\"#DejaVuSans-42\" x=\"198.617188\"/>\n",
       "     <use xlink:href=\"#DejaVuSans-43\" x=\"265.470703\"/>\n",
       "    </g>\n",
       "   </g>\n",
       "   <g id=\"patch_24\">\n",
       "    <path d=\"M 15.151563 158.786536 \n",
       "Q 15.151563 146.101458 15.151563 134.534413 \n",
       "\" style=\"fill: none; stroke: #000000; stroke-linecap: round\"/>\n",
       "    <path d=\"M 13.151563 138.534413 \n",
       "L 15.151563 134.534413 \n",
       "L 17.151563 138.534413 \n",
       "\" style=\"fill: none; stroke: #000000; stroke-linecap: round\"/>\n",
       "   </g>\n",
       "   <g id=\"text_26\">\n",
       "    <!-- -V__BD -->\n",
       "    <g transform=\"translate(15.151563 171.040543) scale(0.1 -0.1)\">\n",
       "     <use xlink:href=\"#DejaVuSans-2d\"/>\n",
       "     <use xlink:href=\"#DejaVuSans-56\" x=\"30.208984\"/>\n",
       "     <use xlink:href=\"#DejaVuSans-5f\" x=\"98.617188\"/>\n",
       "     <use xlink:href=\"#DejaVuSans-5f\" x=\"148.617188\"/>\n",
       "     <use xlink:href=\"#DejaVuSans-42\" x=\"198.617188\"/>\n",
       "     <use xlink:href=\"#DejaVuSans-44\" x=\"267.220703\"/>\n",
       "    </g>\n",
       "   </g>\n",
       "   <g id=\"patch_25\">\n",
       "    <path d=\"M 485.046299 158.786536 \n",
       "Q 485.046299 146.101458 485.046299 134.534413 \n",
       "\" style=\"fill: none; stroke: #000000; stroke-linecap: round\"/>\n",
       "    <path d=\"M 483.046299 138.534413 \n",
       "L 485.046299 134.534413 \n",
       "L 487.046299 138.534413 \n",
       "\" style=\"fill: none; stroke: #000000; stroke-linecap: round\"/>\n",
       "   </g>\n",
       "   <g id=\"text_27\">\n",
       "    <!-- -V__CD -->\n",
       "    <g transform=\"translate(485.046299 171.142105) scale(0.1 -0.1)\">\n",
       "     <use xlink:href=\"#DejaVuSans-2d\"/>\n",
       "     <use xlink:href=\"#DejaVuSans-56\" x=\"30.208984\"/>\n",
       "     <use xlink:href=\"#DejaVuSans-5f\" x=\"98.617188\"/>\n",
       "     <use xlink:href=\"#DejaVuSans-5f\" x=\"148.617188\"/>\n",
       "     <use xlink:href=\"#DejaVuSans-43\" x=\"198.617188\"/>\n",
       "     <use xlink:href=\"#DejaVuSans-44\" x=\"268.441406\"/>\n",
       "    </g>\n",
       "   </g>\n",
       "   <g id=\"patch_26\">\n",
       "    <path d=\"M 367.572615 109.919233 \n",
       "Q 367.572615 119.666048 367.572615 128.294828 \n",
       "\" style=\"fill: none; stroke: #000000; stroke-linecap: round\"/>\n",
       "    <path d=\"M 369.572615 124.294828 \n",
       "L 367.572615 128.294828 \n",
       "L 365.572615 124.294828 \n",
       "\" style=\"fill: none; stroke: #000000; stroke-linecap: round\"/>\n",
       "   </g>\n",
       "   <g id=\"text_28\">\n",
       "    <!-- 4⋅H__BC -->\n",
       "    <g transform=\"translate(367.572615 80.229951) scale(0.1 -0.1)\">\n",
       "     <defs>\n",
       "      <path id=\"DejaVuSans-22c5\" d=\"M 684 2619 \n",
       "L 1344 2619 \n",
       "L 1344 1825 \n",
       "L 684 1825 \n",
       "L 684 2619 \n",
       "z\n",
       "\" transform=\"scale(0.015625)\"/>\n",
       "     </defs>\n",
       "     <use xlink:href=\"#DejaVuSans-34\"/>\n",
       "     <use xlink:href=\"#DejaVuSans-22c5\" x=\"63.623047\"/>\n",
       "     <use xlink:href=\"#DejaVuSans-48\" x=\"95.410156\"/>\n",
       "     <use xlink:href=\"#DejaVuSans-5f\" x=\"170.605469\"/>\n",
       "     <use xlink:href=\"#DejaVuSans-5f\" x=\"220.605469\"/>\n",
       "     <use xlink:href=\"#DejaVuSans-42\" x=\"270.605469\"/>\n",
       "     <use xlink:href=\"#DejaVuSans-43\" x=\"337.458984\"/>\n",
       "    </g>\n",
       "    <!-- ─────── -->\n",
       "    <g transform=\"translate(367.572615 91.705888) scale(0.1 -0.1)\">\n",
       "     <defs>\n",
       "      <path id=\"DejaVuSans-2500\" d=\"M -63 1931 \n",
       "L -63 2469 \n",
       "L 3916 2469 \n",
       "L 3916 1931 \n",
       "L -63 1931 \n",
       "z\n",
       "\" transform=\"scale(0.015625)\"/>\n",
       "     </defs>\n",
       "     <use xlink:href=\"#DejaVuSans-2500\"/>\n",
       "     <use xlink:href=\"#DejaVuSans-2500\" x=\"60.205078\"/>\n",
       "     <use xlink:href=\"#DejaVuSans-2500\" x=\"120.410156\"/>\n",
       "     <use xlink:href=\"#DejaVuSans-2500\" x=\"180.615234\"/>\n",
       "     <use xlink:href=\"#DejaVuSans-2500\" x=\"240.820312\"/>\n",
       "     <use xlink:href=\"#DejaVuSans-2500\" x=\"301.025391\"/>\n",
       "     <use xlink:href=\"#DejaVuSans-2500\" x=\"361.230469\"/>\n",
       "    </g>\n",
       "    <!--    5    -->\n",
       "    <g transform=\"translate(367.572615 102.903701) scale(0.1 -0.1)\">\n",
       "     <defs>\n",
       "      <path id=\"DejaVuSans-20\" transform=\"scale(0.015625)\"/>\n",
       "     </defs>\n",
       "     <use xlink:href=\"#DejaVuSans-20\"/>\n",
       "     <use xlink:href=\"#DejaVuSans-20\" x=\"31.787109\"/>\n",
       "     <use xlink:href=\"#DejaVuSans-20\" x=\"63.574219\"/>\n",
       "     <use xlink:href=\"#DejaVuSans-35\" x=\"95.361328\"/>\n",
       "     <use xlink:href=\"#DejaVuSans-20\" x=\"158.984375\"/>\n",
       "     <use xlink:href=\"#DejaVuSans-20\" x=\"190.771484\"/>\n",
       "     <use xlink:href=\"#DejaVuSans-20\" x=\"222.558594\"/>\n",
       "    </g>\n",
       "   </g>\n",
       "   <g id=\"patch_27\">\n",
       "    <path d=\"M 220.73051 115.794351 \n",
       "Q 220.73051 122.603582 220.73051 128.294779 \n",
       "\" style=\"fill: none; stroke: #000000; stroke-linecap: round\"/>\n",
       "    <path d=\"M 222.73051 124.294779 \n",
       "L 220.73051 128.294779 \n",
       "L 218.73051 124.294779 \n",
       "\" style=\"fill: none; stroke: #000000; stroke-linecap: round\"/>\n",
       "   </g>\n",
       "   <g id=\"text_29\">\n",
       "    <!-- 3⋅R_v__A -->\n",
       "    <g transform=\"translate(220.73051 86.103635) scale(0.1 -0.1)\">\n",
       "     <defs>\n",
       "      <path id=\"DejaVuSans-33\" d=\"M 2597 2516 \n",
       "Q 3050 2419 3304 2112 \n",
       "Q 3559 1806 3559 1356 \n",
       "Q 3559 666 3084 287 \n",
       "Q 2609 -91 1734 -91 \n",
       "Q 1441 -91 1130 -33 \n",
       "Q 819 25 488 141 \n",
       "L 488 750 \n",
       "Q 750 597 1062 519 \n",
       "Q 1375 441 1716 441 \n",
       "Q 2309 441 2620 675 \n",
       "Q 2931 909 2931 1356 \n",
       "Q 2931 1769 2642 2001 \n",
       "Q 2353 2234 1838 2234 \n",
       "L 1294 2234 \n",
       "L 1294 2753 \n",
       "L 1863 2753 \n",
       "Q 2328 2753 2575 2939 \n",
       "Q 2822 3125 2822 3475 \n",
       "Q 2822 3834 2567 4026 \n",
       "Q 2313 4219 1838 4219 \n",
       "Q 1578 4219 1281 4162 \n",
       "Q 984 4106 628 3988 \n",
       "L 628 4550 \n",
       "Q 988 4650 1302 4700 \n",
       "Q 1616 4750 1894 4750 \n",
       "Q 2613 4750 3031 4423 \n",
       "Q 3450 4097 3450 3541 \n",
       "Q 3450 3153 3228 2886 \n",
       "Q 3006 2619 2597 2516 \n",
       "z\n",
       "\" transform=\"scale(0.015625)\"/>\n",
       "     </defs>\n",
       "     <use xlink:href=\"#DejaVuSans-33\"/>\n",
       "     <use xlink:href=\"#DejaVuSans-22c5\" x=\"63.623047\"/>\n",
       "     <use xlink:href=\"#DejaVuSans-52\" x=\"95.410156\"/>\n",
       "     <use xlink:href=\"#DejaVuSans-5f\" x=\"164.892578\"/>\n",
       "     <use xlink:href=\"#DejaVuSans-76\" x=\"214.892578\"/>\n",
       "     <use xlink:href=\"#DejaVuSans-5f\" x=\"274.072266\"/>\n",
       "     <use xlink:href=\"#DejaVuSans-5f\" x=\"324.072266\"/>\n",
       "     <use xlink:href=\"#DejaVuSans-41\" x=\"374.072266\"/>\n",
       "    </g>\n",
       "    <!-- ──────── -->\n",
       "    <g transform=\"translate(220.73051 97.579572) scale(0.1 -0.1)\">\n",
       "     <use xlink:href=\"#DejaVuSans-2500\"/>\n",
       "     <use xlink:href=\"#DejaVuSans-2500\" x=\"60.205078\"/>\n",
       "     <use xlink:href=\"#DejaVuSans-2500\" x=\"120.410156\"/>\n",
       "     <use xlink:href=\"#DejaVuSans-2500\" x=\"180.615234\"/>\n",
       "     <use xlink:href=\"#DejaVuSans-2500\" x=\"240.820312\"/>\n",
       "     <use xlink:href=\"#DejaVuSans-2500\" x=\"301.025391\"/>\n",
       "     <use xlink:href=\"#DejaVuSans-2500\" x=\"361.230469\"/>\n",
       "     <use xlink:href=\"#DejaVuSans-2500\" x=\"421.435547\"/>\n",
       "    </g>\n",
       "    <!--    5     -->\n",
       "    <g transform=\"translate(220.73051 108.777385) scale(0.1 -0.1)\">\n",
       "     <use xlink:href=\"#DejaVuSans-20\"/>\n",
       "     <use xlink:href=\"#DejaVuSans-20\" x=\"31.787109\"/>\n",
       "     <use xlink:href=\"#DejaVuSans-20\" x=\"63.574219\"/>\n",
       "     <use xlink:href=\"#DejaVuSans-35\" x=\"95.361328\"/>\n",
       "     <use xlink:href=\"#DejaVuSans-20\" x=\"158.984375\"/>\n",
       "     <use xlink:href=\"#DejaVuSans-20\" x=\"190.771484\"/>\n",
       "     <use xlink:href=\"#DejaVuSans-20\" x=\"222.558594\"/>\n",
       "     <use xlink:href=\"#DejaVuSans-20\" x=\"254.345703\"/>\n",
       "    </g>\n",
       "   </g>\n",
       "   <g id=\"patch_28\">\n",
       "    <path d=\"M 220.73051 115.794351 \n",
       "Q 220.73051 122.603582 220.73051 128.294779 \n",
       "\" style=\"fill: none; stroke: #000000; stroke-linecap: round\"/>\n",
       "    <path d=\"M 222.73051 124.294779 \n",
       "L 220.73051 128.294779 \n",
       "L 218.73051 124.294779 \n",
       "\" style=\"fill: none; stroke: #000000; stroke-linecap: round\"/>\n",
       "   </g>\n",
       "   <g id=\"text_30\">\n",
       "    <!-- 3⋅R_v__B -->\n",
       "    <g transform=\"translate(220.73051 86.103635) scale(0.1 -0.1)\">\n",
       "     <use xlink:href=\"#DejaVuSans-33\"/>\n",
       "     <use xlink:href=\"#DejaVuSans-22c5\" x=\"63.623047\"/>\n",
       "     <use xlink:href=\"#DejaVuSans-52\" x=\"95.410156\"/>\n",
       "     <use xlink:href=\"#DejaVuSans-5f\" x=\"164.892578\"/>\n",
       "     <use xlink:href=\"#DejaVuSans-76\" x=\"214.892578\"/>\n",
       "     <use xlink:href=\"#DejaVuSans-5f\" x=\"274.072266\"/>\n",
       "     <use xlink:href=\"#DejaVuSans-5f\" x=\"324.072266\"/>\n",
       "     <use xlink:href=\"#DejaVuSans-42\" x=\"374.072266\"/>\n",
       "    </g>\n",
       "    <!-- ──────── -->\n",
       "    <g transform=\"translate(220.73051 97.579572) scale(0.1 -0.1)\">\n",
       "     <use xlink:href=\"#DejaVuSans-2500\"/>\n",
       "     <use xlink:href=\"#DejaVuSans-2500\" x=\"60.205078\"/>\n",
       "     <use xlink:href=\"#DejaVuSans-2500\" x=\"120.410156\"/>\n",
       "     <use xlink:href=\"#DejaVuSans-2500\" x=\"180.615234\"/>\n",
       "     <use xlink:href=\"#DejaVuSans-2500\" x=\"240.820312\"/>\n",
       "     <use xlink:href=\"#DejaVuSans-2500\" x=\"301.025391\"/>\n",
       "     <use xlink:href=\"#DejaVuSans-2500\" x=\"361.230469\"/>\n",
       "     <use xlink:href=\"#DejaVuSans-2500\" x=\"421.435547\"/>\n",
       "    </g>\n",
       "    <!--    5     -->\n",
       "    <g transform=\"translate(220.73051 108.777385) scale(0.1 -0.1)\">\n",
       "     <use xlink:href=\"#DejaVuSans-20\"/>\n",
       "     <use xlink:href=\"#DejaVuSans-20\" x=\"31.787109\"/>\n",
       "     <use xlink:href=\"#DejaVuSans-20\" x=\"63.574219\"/>\n",
       "     <use xlink:href=\"#DejaVuSans-35\" x=\"95.361328\"/>\n",
       "     <use xlink:href=\"#DejaVuSans-20\" x=\"158.984375\"/>\n",
       "     <use xlink:href=\"#DejaVuSans-20\" x=\"190.771484\"/>\n",
       "     <use xlink:href=\"#DejaVuSans-20\" x=\"222.558594\"/>\n",
       "     <use xlink:href=\"#DejaVuSans-20\" x=\"254.345703\"/>\n",
       "    </g>\n",
       "   </g>\n",
       "   <g id=\"patch_29\">\n",
       "    <path d=\"M 220.73051 115.794351 \n",
       "Q 220.73051 122.603582 220.73051 128.294779 \n",
       "\" style=\"fill: none; stroke: #000000; stroke-linecap: round\"/>\n",
       "    <path d=\"M 222.73051 124.294779 \n",
       "L 220.73051 128.294779 \n",
       "L 218.73051 124.294779 \n",
       "\" style=\"fill: none; stroke: #000000; stroke-linecap: round\"/>\n",
       "   </g>\n",
       "   <g id=\"text_31\">\n",
       "    <!-- 3⋅V__BC -->\n",
       "    <g transform=\"translate(220.73051 86.103635) scale(0.1 -0.1)\">\n",
       "     <use xlink:href=\"#DejaVuSans-33\"/>\n",
       "     <use xlink:href=\"#DejaVuSans-22c5\" x=\"63.623047\"/>\n",
       "     <use xlink:href=\"#DejaVuSans-56\" x=\"95.410156\"/>\n",
       "     <use xlink:href=\"#DejaVuSans-5f\" x=\"163.818359\"/>\n",
       "     <use xlink:href=\"#DejaVuSans-5f\" x=\"213.818359\"/>\n",
       "     <use xlink:href=\"#DejaVuSans-42\" x=\"263.818359\"/>\n",
       "     <use xlink:href=\"#DejaVuSans-43\" x=\"330.671875\"/>\n",
       "    </g>\n",
       "    <!-- ─────── -->\n",
       "    <g transform=\"translate(220.73051 97.579572) scale(0.1 -0.1)\">\n",
       "     <use xlink:href=\"#DejaVuSans-2500\"/>\n",
       "     <use xlink:href=\"#DejaVuSans-2500\" x=\"60.205078\"/>\n",
       "     <use xlink:href=\"#DejaVuSans-2500\" x=\"120.410156\"/>\n",
       "     <use xlink:href=\"#DejaVuSans-2500\" x=\"180.615234\"/>\n",
       "     <use xlink:href=\"#DejaVuSans-2500\" x=\"240.820312\"/>\n",
       "     <use xlink:href=\"#DejaVuSans-2500\" x=\"301.025391\"/>\n",
       "     <use xlink:href=\"#DejaVuSans-2500\" x=\"361.230469\"/>\n",
       "    </g>\n",
       "    <!--    5    -->\n",
       "    <g transform=\"translate(220.73051 108.777385) scale(0.1 -0.1)\">\n",
       "     <use xlink:href=\"#DejaVuSans-20\"/>\n",
       "     <use xlink:href=\"#DejaVuSans-20\" x=\"31.787109\"/>\n",
       "     <use xlink:href=\"#DejaVuSans-20\" x=\"63.574219\"/>\n",
       "     <use xlink:href=\"#DejaVuSans-35\" x=\"95.361328\"/>\n",
       "     <use xlink:href=\"#DejaVuSans-20\" x=\"158.984375\"/>\n",
       "     <use xlink:href=\"#DejaVuSans-20\" x=\"190.771484\"/>\n",
       "     <use xlink:href=\"#DejaVuSans-20\" x=\"222.558594\"/>\n",
       "    </g>\n",
       "   </g>\n",
       "   <g id=\"patch_30\">\n",
       "    <path d=\"M 220.73051 115.794351 \n",
       "Q 220.73051 122.603582 220.73051 128.294779 \n",
       "\" style=\"fill: none; stroke: #000000; stroke-linecap: round\"/>\n",
       "    <path d=\"M 222.73051 124.294779 \n",
       "L 220.73051 128.294779 \n",
       "L 218.73051 124.294779 \n",
       "\" style=\"fill: none; stroke: #000000; stroke-linecap: round\"/>\n",
       "   </g>\n",
       "   <g id=\"text_32\">\n",
       "    <!-- 3⋅V__BD -->\n",
       "    <g transform=\"translate(220.73051 86.103635) scale(0.1 -0.1)\">\n",
       "     <use xlink:href=\"#DejaVuSans-33\"/>\n",
       "     <use xlink:href=\"#DejaVuSans-22c5\" x=\"63.623047\"/>\n",
       "     <use xlink:href=\"#DejaVuSans-56\" x=\"95.410156\"/>\n",
       "     <use xlink:href=\"#DejaVuSans-5f\" x=\"163.818359\"/>\n",
       "     <use xlink:href=\"#DejaVuSans-5f\" x=\"213.818359\"/>\n",
       "     <use xlink:href=\"#DejaVuSans-42\" x=\"263.818359\"/>\n",
       "     <use xlink:href=\"#DejaVuSans-44\" x=\"332.421875\"/>\n",
       "    </g>\n",
       "    <!-- ─────── -->\n",
       "    <g transform=\"translate(220.73051 97.579572) scale(0.1 -0.1)\">\n",
       "     <use xlink:href=\"#DejaVuSans-2500\"/>\n",
       "     <use xlink:href=\"#DejaVuSans-2500\" x=\"60.205078\"/>\n",
       "     <use xlink:href=\"#DejaVuSans-2500\" x=\"120.410156\"/>\n",
       "     <use xlink:href=\"#DejaVuSans-2500\" x=\"180.615234\"/>\n",
       "     <use xlink:href=\"#DejaVuSans-2500\" x=\"240.820312\"/>\n",
       "     <use xlink:href=\"#DejaVuSans-2500\" x=\"301.025391\"/>\n",
       "     <use xlink:href=\"#DejaVuSans-2500\" x=\"361.230469\"/>\n",
       "    </g>\n",
       "    <!--    5    -->\n",
       "    <g transform=\"translate(220.73051 108.777385) scale(0.1 -0.1)\">\n",
       "     <use xlink:href=\"#DejaVuSans-20\"/>\n",
       "     <use xlink:href=\"#DejaVuSans-20\" x=\"31.787109\"/>\n",
       "     <use xlink:href=\"#DejaVuSans-20\" x=\"63.574219\"/>\n",
       "     <use xlink:href=\"#DejaVuSans-35\" x=\"95.361328\"/>\n",
       "     <use xlink:href=\"#DejaVuSans-20\" x=\"158.984375\"/>\n",
       "     <use xlink:href=\"#DejaVuSans-20\" x=\"190.771484\"/>\n",
       "     <use xlink:href=\"#DejaVuSans-20\" x=\"222.558594\"/>\n",
       "    </g>\n",
       "   </g>\n",
       "   <g id=\"patch_31\">\n",
       "    <path d=\"M 220.73051 115.794351 \n",
       "Q 220.73051 122.603582 220.73051 128.294779 \n",
       "\" style=\"fill: none; stroke: #000000; stroke-linecap: round\"/>\n",
       "    <path d=\"M 222.73051 124.294779 \n",
       "L 220.73051 128.294779 \n",
       "L 218.73051 124.294779 \n",
       "\" style=\"fill: none; stroke: #000000; stroke-linecap: round\"/>\n",
       "   </g>\n",
       "   <g id=\"text_33\">\n",
       "    <!-- 3⋅V__CD -->\n",
       "    <g transform=\"translate(220.73051 86.103635) scale(0.1 -0.1)\">\n",
       "     <use xlink:href=\"#DejaVuSans-33\"/>\n",
       "     <use xlink:href=\"#DejaVuSans-22c5\" x=\"63.623047\"/>\n",
       "     <use xlink:href=\"#DejaVuSans-56\" x=\"95.410156\"/>\n",
       "     <use xlink:href=\"#DejaVuSans-5f\" x=\"163.818359\"/>\n",
       "     <use xlink:href=\"#DejaVuSans-5f\" x=\"213.818359\"/>\n",
       "     <use xlink:href=\"#DejaVuSans-43\" x=\"263.818359\"/>\n",
       "     <use xlink:href=\"#DejaVuSans-44\" x=\"333.642578\"/>\n",
       "    </g>\n",
       "    <!-- ─────── -->\n",
       "    <g transform=\"translate(220.73051 97.579572) scale(0.1 -0.1)\">\n",
       "     <use xlink:href=\"#DejaVuSans-2500\"/>\n",
       "     <use xlink:href=\"#DejaVuSans-2500\" x=\"60.205078\"/>\n",
       "     <use xlink:href=\"#DejaVuSans-2500\" x=\"120.410156\"/>\n",
       "     <use xlink:href=\"#DejaVuSans-2500\" x=\"180.615234\"/>\n",
       "     <use xlink:href=\"#DejaVuSans-2500\" x=\"240.820312\"/>\n",
       "     <use xlink:href=\"#DejaVuSans-2500\" x=\"301.025391\"/>\n",
       "     <use xlink:href=\"#DejaVuSans-2500\" x=\"361.230469\"/>\n",
       "    </g>\n",
       "    <!--    5    -->\n",
       "    <g transform=\"translate(220.73051 108.777385) scale(0.1 -0.1)\">\n",
       "     <use xlink:href=\"#DejaVuSans-20\"/>\n",
       "     <use xlink:href=\"#DejaVuSans-20\" x=\"31.787109\"/>\n",
       "     <use xlink:href=\"#DejaVuSans-20\" x=\"63.574219\"/>\n",
       "     <use xlink:href=\"#DejaVuSans-35\" x=\"95.361328\"/>\n",
       "     <use xlink:href=\"#DejaVuSans-20\" x=\"158.984375\"/>\n",
       "     <use xlink:href=\"#DejaVuSans-20\" x=\"190.771484\"/>\n",
       "     <use xlink:href=\"#DejaVuSans-20\" x=\"222.558594\"/>\n",
       "    </g>\n",
       "   </g>\n",
       "   <g id=\"patch_32\">\n",
       "    <path d=\"M 367.572615 80.54902 \n",
       "Q 367.572615 104.980756 367.572615 128.294459 \n",
       "\" style=\"fill: none; stroke: #000000; stroke-linecap: round\"/>\n",
       "    <path d=\"M 369.572615 124.294459 \n",
       "L 367.572615 128.294459 \n",
       "L 365.572615 124.294459 \n",
       "\" style=\"fill: none; stroke: #000000; stroke-linecap: round\"/>\n",
       "   </g>\n",
       "   <g id=\"text_34\">\n",
       "    <!-- 9⋅H__BD -->\n",
       "    <g transform=\"translate(367.572615 50.86153) scale(0.1 -0.1)\">\n",
       "     <defs>\n",
       "      <path id=\"DejaVuSans-39\" d=\"M 703 97 \n",
       "L 703 672 \n",
       "Q 941 559 1184 500 \n",
       "Q 1428 441 1663 441 \n",
       "Q 2288 441 2617 861 \n",
       "Q 2947 1281 2994 2138 \n",
       "Q 2813 1869 2534 1725 \n",
       "Q 2256 1581 1919 1581 \n",
       "Q 1219 1581 811 2004 \n",
       "Q 403 2428 403 3163 \n",
       "Q 403 3881 828 4315 \n",
       "Q 1253 4750 1959 4750 \n",
       "Q 2769 4750 3195 4129 \n",
       "Q 3622 3509 3622 2328 \n",
       "Q 3622 1225 3098 567 \n",
       "Q 2575 -91 1691 -91 \n",
       "Q 1453 -91 1209 -44 \n",
       "Q 966 3 703 97 \n",
       "z\n",
       "M 1959 2075 \n",
       "Q 2384 2075 2632 2365 \n",
       "Q 2881 2656 2881 3163 \n",
       "Q 2881 3666 2632 3958 \n",
       "Q 2384 4250 1959 4250 \n",
       "Q 1534 4250 1286 3958 \n",
       "Q 1038 3666 1038 3163 \n",
       "Q 1038 2656 1286 2365 \n",
       "Q 1534 2075 1959 2075 \n",
       "z\n",
       "\" transform=\"scale(0.015625)\"/>\n",
       "     </defs>\n",
       "     <use xlink:href=\"#DejaVuSans-39\"/>\n",
       "     <use xlink:href=\"#DejaVuSans-22c5\" x=\"63.623047\"/>\n",
       "     <use xlink:href=\"#DejaVuSans-48\" x=\"95.410156\"/>\n",
       "     <use xlink:href=\"#DejaVuSans-5f\" x=\"170.605469\"/>\n",
       "     <use xlink:href=\"#DejaVuSans-5f\" x=\"220.605469\"/>\n",
       "     <use xlink:href=\"#DejaVuSans-42\" x=\"270.605469\"/>\n",
       "     <use xlink:href=\"#DejaVuSans-44\" x=\"339.208984\"/>\n",
       "    </g>\n",
       "    <!-- ─────── -->\n",
       "    <g transform=\"translate(367.572615 62.337467) scale(0.1 -0.1)\">\n",
       "     <use xlink:href=\"#DejaVuSans-2500\"/>\n",
       "     <use xlink:href=\"#DejaVuSans-2500\" x=\"60.205078\"/>\n",
       "     <use xlink:href=\"#DejaVuSans-2500\" x=\"120.410156\"/>\n",
       "     <use xlink:href=\"#DejaVuSans-2500\" x=\"180.615234\"/>\n",
       "     <use xlink:href=\"#DejaVuSans-2500\" x=\"240.820312\"/>\n",
       "     <use xlink:href=\"#DejaVuSans-2500\" x=\"301.025391\"/>\n",
       "     <use xlink:href=\"#DejaVuSans-2500\" x=\"361.230469\"/>\n",
       "    </g>\n",
       "    <!--    5    -->\n",
       "    <g transform=\"translate(367.572615 73.53528) scale(0.1 -0.1)\">\n",
       "     <use xlink:href=\"#DejaVuSans-20\"/>\n",
       "     <use xlink:href=\"#DejaVuSans-20\" x=\"31.787109\"/>\n",
       "     <use xlink:href=\"#DejaVuSans-20\" x=\"63.574219\"/>\n",
       "     <use xlink:href=\"#DejaVuSans-35\" x=\"95.361328\"/>\n",
       "     <use xlink:href=\"#DejaVuSans-20\" x=\"158.984375\"/>\n",
       "     <use xlink:href=\"#DejaVuSans-20\" x=\"190.771484\"/>\n",
       "     <use xlink:href=\"#DejaVuSans-20\" x=\"222.558594\"/>\n",
       "    </g>\n",
       "   </g>\n",
       "   <g id=\"patch_33\">\n",
       "    <path d=\"M 367.572615 80.54902 \n",
       "Q 367.572615 104.980756 367.572615 128.294459 \n",
       "\" style=\"fill: none; stroke: #000000; stroke-linecap: round\"/>\n",
       "    <path d=\"M 369.572615 124.294459 \n",
       "L 367.572615 128.294459 \n",
       "L 365.572615 124.294459 \n",
       "\" style=\"fill: none; stroke: #000000; stroke-linecap: round\"/>\n",
       "   </g>\n",
       "   <g id=\"text_35\">\n",
       "    <!-- 9⋅H__CD -->\n",
       "    <g transform=\"translate(367.572615 50.86153) scale(0.1 -0.1)\">\n",
       "     <use xlink:href=\"#DejaVuSans-39\"/>\n",
       "     <use xlink:href=\"#DejaVuSans-22c5\" x=\"63.623047\"/>\n",
       "     <use xlink:href=\"#DejaVuSans-48\" x=\"95.410156\"/>\n",
       "     <use xlink:href=\"#DejaVuSans-5f\" x=\"170.605469\"/>\n",
       "     <use xlink:href=\"#DejaVuSans-5f\" x=\"220.605469\"/>\n",
       "     <use xlink:href=\"#DejaVuSans-43\" x=\"270.605469\"/>\n",
       "     <use xlink:href=\"#DejaVuSans-44\" x=\"340.429688\"/>\n",
       "    </g>\n",
       "    <!-- ─────── -->\n",
       "    <g transform=\"translate(367.572615 62.337467) scale(0.1 -0.1)\">\n",
       "     <use xlink:href=\"#DejaVuSans-2500\"/>\n",
       "     <use xlink:href=\"#DejaVuSans-2500\" x=\"60.205078\"/>\n",
       "     <use xlink:href=\"#DejaVuSans-2500\" x=\"120.410156\"/>\n",
       "     <use xlink:href=\"#DejaVuSans-2500\" x=\"180.615234\"/>\n",
       "     <use xlink:href=\"#DejaVuSans-2500\" x=\"240.820312\"/>\n",
       "     <use xlink:href=\"#DejaVuSans-2500\" x=\"301.025391\"/>\n",
       "     <use xlink:href=\"#DejaVuSans-2500\" x=\"361.230469\"/>\n",
       "    </g>\n",
       "    <!--    5    -->\n",
       "    <g transform=\"translate(367.572615 73.53528) scale(0.1 -0.1)\">\n",
       "     <use xlink:href=\"#DejaVuSans-20\"/>\n",
       "     <use xlink:href=\"#DejaVuSans-20\" x=\"31.787109\"/>\n",
       "     <use xlink:href=\"#DejaVuSans-20\" x=\"63.574219\"/>\n",
       "     <use xlink:href=\"#DejaVuSans-35\" x=\"95.361328\"/>\n",
       "     <use xlink:href=\"#DejaVuSans-20\" x=\"158.984375\"/>\n",
       "     <use xlink:href=\"#DejaVuSans-20\" x=\"190.771484\"/>\n",
       "     <use xlink:href=\"#DejaVuSans-20\" x=\"222.558594\"/>\n",
       "    </g>\n",
       "   </g>\n",
       "   <g id=\"patch_34\">\n",
       "    <path d=\"M 367.572615 80.54902 \n",
       "Q 367.572615 104.980756 367.572615 128.294459 \n",
       "\" style=\"fill: none; stroke: #000000; stroke-linecap: round\"/>\n",
       "    <path d=\"M 369.572615 124.294459 \n",
       "L 367.572615 128.294459 \n",
       "L 365.572615 124.294459 \n",
       "\" style=\"fill: none; stroke: #000000; stroke-linecap: round\"/>\n",
       "   </g>\n",
       "   <g id=\"text_36\">\n",
       "    <!-- 9⋅R_h__B -->\n",
       "    <g transform=\"translate(367.572615 50.86153) scale(0.1 -0.1)\">\n",
       "     <use xlink:href=\"#DejaVuSans-39\"/>\n",
       "     <use xlink:href=\"#DejaVuSans-22c5\" x=\"63.623047\"/>\n",
       "     <use xlink:href=\"#DejaVuSans-52\" x=\"95.410156\"/>\n",
       "     <use xlink:href=\"#DejaVuSans-5f\" x=\"164.892578\"/>\n",
       "     <use xlink:href=\"#DejaVuSans-68\" x=\"214.892578\"/>\n",
       "     <use xlink:href=\"#DejaVuSans-5f\" x=\"278.271484\"/>\n",
       "     <use xlink:href=\"#DejaVuSans-5f\" x=\"328.271484\"/>\n",
       "     <use xlink:href=\"#DejaVuSans-42\" x=\"378.271484\"/>\n",
       "    </g>\n",
       "    <!-- ──────── -->\n",
       "    <g transform=\"translate(367.572615 62.337467) scale(0.1 -0.1)\">\n",
       "     <use xlink:href=\"#DejaVuSans-2500\"/>\n",
       "     <use xlink:href=\"#DejaVuSans-2500\" x=\"60.205078\"/>\n",
       "     <use xlink:href=\"#DejaVuSans-2500\" x=\"120.410156\"/>\n",
       "     <use xlink:href=\"#DejaVuSans-2500\" x=\"180.615234\"/>\n",
       "     <use xlink:href=\"#DejaVuSans-2500\" x=\"240.820312\"/>\n",
       "     <use xlink:href=\"#DejaVuSans-2500\" x=\"301.025391\"/>\n",
       "     <use xlink:href=\"#DejaVuSans-2500\" x=\"361.230469\"/>\n",
       "     <use xlink:href=\"#DejaVuSans-2500\" x=\"421.435547\"/>\n",
       "    </g>\n",
       "    <!--    5     -->\n",
       "    <g transform=\"translate(367.572615 73.53528) scale(0.1 -0.1)\">\n",
       "     <use xlink:href=\"#DejaVuSans-20\"/>\n",
       "     <use xlink:href=\"#DejaVuSans-20\" x=\"31.787109\"/>\n",
       "     <use xlink:href=\"#DejaVuSans-20\" x=\"63.574219\"/>\n",
       "     <use xlink:href=\"#DejaVuSans-35\" x=\"95.361328\"/>\n",
       "     <use xlink:href=\"#DejaVuSans-20\" x=\"158.984375\"/>\n",
       "     <use xlink:href=\"#DejaVuSans-20\" x=\"190.771484\"/>\n",
       "     <use xlink:href=\"#DejaVuSans-20\" x=\"222.558594\"/>\n",
       "     <use xlink:href=\"#DejaVuSans-20\" x=\"254.345703\"/>\n",
       "    </g>\n",
       "   </g>\n",
       "   <g id=\"patch_35\">\n",
       "    <path d=\"M 367.572615 147.035583 \n",
       "Q 367.572615 140.226352 367.572615 134.535155 \n",
       "\" style=\"fill: none; stroke: #000000; stroke-linecap: round\"/>\n",
       "    <path d=\"M 365.572615 138.535155 \n",
       "L 367.572615 134.535155 \n",
       "L 369.572615 138.535155 \n",
       "\" style=\"fill: none; stroke: #000000; stroke-linecap: round\"/>\n",
       "   </g>\n",
       "   <g id=\"text_37\">\n",
       "    <!-- -3⋅R_v__A  -->\n",
       "    <g transform=\"translate(367.572615 159.394737) scale(0.1 -0.1)\">\n",
       "     <use xlink:href=\"#DejaVuSans-2d\"/>\n",
       "     <use xlink:href=\"#DejaVuSans-33\" x=\"36.083984\"/>\n",
       "     <use xlink:href=\"#DejaVuSans-22c5\" x=\"99.707031\"/>\n",
       "     <use xlink:href=\"#DejaVuSans-52\" x=\"131.494141\"/>\n",
       "     <use xlink:href=\"#DejaVuSans-5f\" x=\"200.976562\"/>\n",
       "     <use xlink:href=\"#DejaVuSans-76\" x=\"250.976562\"/>\n",
       "     <use xlink:href=\"#DejaVuSans-5f\" x=\"310.15625\"/>\n",
       "     <use xlink:href=\"#DejaVuSans-5f\" x=\"360.15625\"/>\n",
       "     <use xlink:href=\"#DejaVuSans-41\" x=\"410.15625\"/>\n",
       "     <use xlink:href=\"#DejaVuSans-20\" x=\"478.564453\"/>\n",
       "    </g>\n",
       "    <!-- ────────── -->\n",
       "    <g transform=\"translate(367.572615 170.870674) scale(0.1 -0.1)\">\n",
       "     <use xlink:href=\"#DejaVuSans-2500\"/>\n",
       "     <use xlink:href=\"#DejaVuSans-2500\" x=\"60.205078\"/>\n",
       "     <use xlink:href=\"#DejaVuSans-2500\" x=\"120.410156\"/>\n",
       "     <use xlink:href=\"#DejaVuSans-2500\" x=\"180.615234\"/>\n",
       "     <use xlink:href=\"#DejaVuSans-2500\" x=\"240.820312\"/>\n",
       "     <use xlink:href=\"#DejaVuSans-2500\" x=\"301.025391\"/>\n",
       "     <use xlink:href=\"#DejaVuSans-2500\" x=\"361.230469\"/>\n",
       "     <use xlink:href=\"#DejaVuSans-2500\" x=\"421.435547\"/>\n",
       "     <use xlink:href=\"#DejaVuSans-2500\" x=\"481.640625\"/>\n",
       "     <use xlink:href=\"#DejaVuSans-2500\" x=\"541.845703\"/>\n",
       "    </g>\n",
       "    <!--     5      -->\n",
       "    <g transform=\"translate(367.572615 182.068487) scale(0.1 -0.1)\">\n",
       "     <use xlink:href=\"#DejaVuSans-20\"/>\n",
       "     <use xlink:href=\"#DejaVuSans-20\" x=\"31.787109\"/>\n",
       "     <use xlink:href=\"#DejaVuSans-20\" x=\"63.574219\"/>\n",
       "     <use xlink:href=\"#DejaVuSans-20\" x=\"95.361328\"/>\n",
       "     <use xlink:href=\"#DejaVuSans-35\" x=\"127.148438\"/>\n",
       "     <use xlink:href=\"#DejaVuSans-20\" x=\"190.771484\"/>\n",
       "     <use xlink:href=\"#DejaVuSans-20\" x=\"222.558594\"/>\n",
       "     <use xlink:href=\"#DejaVuSans-20\" x=\"254.345703\"/>\n",
       "     <use xlink:href=\"#DejaVuSans-20\" x=\"286.132812\"/>\n",
       "     <use xlink:href=\"#DejaVuSans-20\" x=\"317.919922\"/>\n",
       "    </g>\n",
       "   </g>\n",
       "   <g id=\"patch_36\">\n",
       "    <path d=\"M 367.572615 147.035583 \n",
       "Q 367.572615 140.226352 367.572615 134.535155 \n",
       "\" style=\"fill: none; stroke: #000000; stroke-linecap: round\"/>\n",
       "    <path d=\"M 365.572615 138.535155 \n",
       "L 367.572615 134.535155 \n",
       "L 369.572615 138.535155 \n",
       "\" style=\"fill: none; stroke: #000000; stroke-linecap: round\"/>\n",
       "   </g>\n",
       "   <g id=\"text_38\">\n",
       "    <!-- -3⋅R_v__B  -->\n",
       "    <g transform=\"translate(367.572615 159.394737) scale(0.1 -0.1)\">\n",
       "     <use xlink:href=\"#DejaVuSans-2d\"/>\n",
       "     <use xlink:href=\"#DejaVuSans-33\" x=\"36.083984\"/>\n",
       "     <use xlink:href=\"#DejaVuSans-22c5\" x=\"99.707031\"/>\n",
       "     <use xlink:href=\"#DejaVuSans-52\" x=\"131.494141\"/>\n",
       "     <use xlink:href=\"#DejaVuSans-5f\" x=\"200.976562\"/>\n",
       "     <use xlink:href=\"#DejaVuSans-76\" x=\"250.976562\"/>\n",
       "     <use xlink:href=\"#DejaVuSans-5f\" x=\"310.15625\"/>\n",
       "     <use xlink:href=\"#DejaVuSans-5f\" x=\"360.15625\"/>\n",
       "     <use xlink:href=\"#DejaVuSans-42\" x=\"410.15625\"/>\n",
       "     <use xlink:href=\"#DejaVuSans-20\" x=\"478.759766\"/>\n",
       "    </g>\n",
       "    <!-- ────────── -->\n",
       "    <g transform=\"translate(367.572615 170.870674) scale(0.1 -0.1)\">\n",
       "     <use xlink:href=\"#DejaVuSans-2500\"/>\n",
       "     <use xlink:href=\"#DejaVuSans-2500\" x=\"60.205078\"/>\n",
       "     <use xlink:href=\"#DejaVuSans-2500\" x=\"120.410156\"/>\n",
       "     <use xlink:href=\"#DejaVuSans-2500\" x=\"180.615234\"/>\n",
       "     <use xlink:href=\"#DejaVuSans-2500\" x=\"240.820312\"/>\n",
       "     <use xlink:href=\"#DejaVuSans-2500\" x=\"301.025391\"/>\n",
       "     <use xlink:href=\"#DejaVuSans-2500\" x=\"361.230469\"/>\n",
       "     <use xlink:href=\"#DejaVuSans-2500\" x=\"421.435547\"/>\n",
       "     <use xlink:href=\"#DejaVuSans-2500\" x=\"481.640625\"/>\n",
       "     <use xlink:href=\"#DejaVuSans-2500\" x=\"541.845703\"/>\n",
       "    </g>\n",
       "    <!--     5      -->\n",
       "    <g transform=\"translate(367.572615 182.068487) scale(0.1 -0.1)\">\n",
       "     <use xlink:href=\"#DejaVuSans-20\"/>\n",
       "     <use xlink:href=\"#DejaVuSans-20\" x=\"31.787109\"/>\n",
       "     <use xlink:href=\"#DejaVuSans-20\" x=\"63.574219\"/>\n",
       "     <use xlink:href=\"#DejaVuSans-20\" x=\"95.361328\"/>\n",
       "     <use xlink:href=\"#DejaVuSans-35\" x=\"127.148438\"/>\n",
       "     <use xlink:href=\"#DejaVuSans-20\" x=\"190.771484\"/>\n",
       "     <use xlink:href=\"#DejaVuSans-20\" x=\"222.558594\"/>\n",
       "     <use xlink:href=\"#DejaVuSans-20\" x=\"254.345703\"/>\n",
       "     <use xlink:href=\"#DejaVuSans-20\" x=\"286.132812\"/>\n",
       "     <use xlink:href=\"#DejaVuSans-20\" x=\"317.919922\"/>\n",
       "    </g>\n",
       "   </g>\n",
       "   <g id=\"patch_37\">\n",
       "    <path d=\"M 367.572615 147.035583 \n",
       "Q 367.572615 140.226352 367.572615 134.535155 \n",
       "\" style=\"fill: none; stroke: #000000; stroke-linecap: round\"/>\n",
       "    <path d=\"M 365.572615 138.535155 \n",
       "L 367.572615 134.535155 \n",
       "L 369.572615 138.535155 \n",
       "\" style=\"fill: none; stroke: #000000; stroke-linecap: round\"/>\n",
       "   </g>\n",
       "   <g id=\"text_39\">\n",
       "    <!-- -3⋅V__BC  -->\n",
       "    <g transform=\"translate(367.572615 159.394737) scale(0.1 -0.1)\">\n",
       "     <use xlink:href=\"#DejaVuSans-2d\"/>\n",
       "     <use xlink:href=\"#DejaVuSans-33\" x=\"36.083984\"/>\n",
       "     <use xlink:href=\"#DejaVuSans-22c5\" x=\"99.707031\"/>\n",
       "     <use xlink:href=\"#DejaVuSans-56\" x=\"131.494141\"/>\n",
       "     <use xlink:href=\"#DejaVuSans-5f\" x=\"199.902344\"/>\n",
       "     <use xlink:href=\"#DejaVuSans-5f\" x=\"249.902344\"/>\n",
       "     <use xlink:href=\"#DejaVuSans-42\" x=\"299.902344\"/>\n",
       "     <use xlink:href=\"#DejaVuSans-43\" x=\"366.755859\"/>\n",
       "     <use xlink:href=\"#DejaVuSans-20\" x=\"436.580078\"/>\n",
       "    </g>\n",
       "    <!-- ───────── -->\n",
       "    <g transform=\"translate(367.572615 170.870674) scale(0.1 -0.1)\">\n",
       "     <use xlink:href=\"#DejaVuSans-2500\"/>\n",
       "     <use xlink:href=\"#DejaVuSans-2500\" x=\"60.205078\"/>\n",
       "     <use xlink:href=\"#DejaVuSans-2500\" x=\"120.410156\"/>\n",
       "     <use xlink:href=\"#DejaVuSans-2500\" x=\"180.615234\"/>\n",
       "     <use xlink:href=\"#DejaVuSans-2500\" x=\"240.820312\"/>\n",
       "     <use xlink:href=\"#DejaVuSans-2500\" x=\"301.025391\"/>\n",
       "     <use xlink:href=\"#DejaVuSans-2500\" x=\"361.230469\"/>\n",
       "     <use xlink:href=\"#DejaVuSans-2500\" x=\"421.435547\"/>\n",
       "     <use xlink:href=\"#DejaVuSans-2500\" x=\"481.640625\"/>\n",
       "    </g>\n",
       "    <!--     5     -->\n",
       "    <g transform=\"translate(367.572615 182.068487) scale(0.1 -0.1)\">\n",
       "     <use xlink:href=\"#DejaVuSans-20\"/>\n",
       "     <use xlink:href=\"#DejaVuSans-20\" x=\"31.787109\"/>\n",
       "     <use xlink:href=\"#DejaVuSans-20\" x=\"63.574219\"/>\n",
       "     <use xlink:href=\"#DejaVuSans-20\" x=\"95.361328\"/>\n",
       "     <use xlink:href=\"#DejaVuSans-35\" x=\"127.148438\"/>\n",
       "     <use xlink:href=\"#DejaVuSans-20\" x=\"190.771484\"/>\n",
       "     <use xlink:href=\"#DejaVuSans-20\" x=\"222.558594\"/>\n",
       "     <use xlink:href=\"#DejaVuSans-20\" x=\"254.345703\"/>\n",
       "     <use xlink:href=\"#DejaVuSans-20\" x=\"286.132812\"/>\n",
       "    </g>\n",
       "   </g>\n",
       "   <g id=\"patch_38\">\n",
       "    <path d=\"M 367.572615 147.035583 \n",
       "Q 367.572615 140.226352 367.572615 134.535155 \n",
       "\" style=\"fill: none; stroke: #000000; stroke-linecap: round\"/>\n",
       "    <path d=\"M 365.572615 138.535155 \n",
       "L 367.572615 134.535155 \n",
       "L 369.572615 138.535155 \n",
       "\" style=\"fill: none; stroke: #000000; stroke-linecap: round\"/>\n",
       "   </g>\n",
       "   <g id=\"text_40\">\n",
       "    <!-- -3⋅V__BD  -->\n",
       "    <g transform=\"translate(367.572615 159.394737) scale(0.1 -0.1)\">\n",
       "     <use xlink:href=\"#DejaVuSans-2d\"/>\n",
       "     <use xlink:href=\"#DejaVuSans-33\" x=\"36.083984\"/>\n",
       "     <use xlink:href=\"#DejaVuSans-22c5\" x=\"99.707031\"/>\n",
       "     <use xlink:href=\"#DejaVuSans-56\" x=\"131.494141\"/>\n",
       "     <use xlink:href=\"#DejaVuSans-5f\" x=\"199.902344\"/>\n",
       "     <use xlink:href=\"#DejaVuSans-5f\" x=\"249.902344\"/>\n",
       "     <use xlink:href=\"#DejaVuSans-42\" x=\"299.902344\"/>\n",
       "     <use xlink:href=\"#DejaVuSans-44\" x=\"368.505859\"/>\n",
       "     <use xlink:href=\"#DejaVuSans-20\" x=\"445.507812\"/>\n",
       "    </g>\n",
       "    <!-- ───────── -->\n",
       "    <g transform=\"translate(367.572615 170.870674) scale(0.1 -0.1)\">\n",
       "     <use xlink:href=\"#DejaVuSans-2500\"/>\n",
       "     <use xlink:href=\"#DejaVuSans-2500\" x=\"60.205078\"/>\n",
       "     <use xlink:href=\"#DejaVuSans-2500\" x=\"120.410156\"/>\n",
       "     <use xlink:href=\"#DejaVuSans-2500\" x=\"180.615234\"/>\n",
       "     <use xlink:href=\"#DejaVuSans-2500\" x=\"240.820312\"/>\n",
       "     <use xlink:href=\"#DejaVuSans-2500\" x=\"301.025391\"/>\n",
       "     <use xlink:href=\"#DejaVuSans-2500\" x=\"361.230469\"/>\n",
       "     <use xlink:href=\"#DejaVuSans-2500\" x=\"421.435547\"/>\n",
       "     <use xlink:href=\"#DejaVuSans-2500\" x=\"481.640625\"/>\n",
       "    </g>\n",
       "    <!--     5     -->\n",
       "    <g transform=\"translate(367.572615 182.068487) scale(0.1 -0.1)\">\n",
       "     <use xlink:href=\"#DejaVuSans-20\"/>\n",
       "     <use xlink:href=\"#DejaVuSans-20\" x=\"31.787109\"/>\n",
       "     <use xlink:href=\"#DejaVuSans-20\" x=\"63.574219\"/>\n",
       "     <use xlink:href=\"#DejaVuSans-20\" x=\"95.361328\"/>\n",
       "     <use xlink:href=\"#DejaVuSans-35\" x=\"127.148438\"/>\n",
       "     <use xlink:href=\"#DejaVuSans-20\" x=\"190.771484\"/>\n",
       "     <use xlink:href=\"#DejaVuSans-20\" x=\"222.558594\"/>\n",
       "     <use xlink:href=\"#DejaVuSans-20\" x=\"254.345703\"/>\n",
       "     <use xlink:href=\"#DejaVuSans-20\" x=\"286.132812\"/>\n",
       "    </g>\n",
       "   </g>\n",
       "   <g id=\"patch_39\">\n",
       "    <path d=\"M 367.572615 147.035583 \n",
       "Q 367.572615 140.226352 367.572615 134.535155 \n",
       "\" style=\"fill: none; stroke: #000000; stroke-linecap: round\"/>\n",
       "    <path d=\"M 365.572615 138.535155 \n",
       "L 367.572615 134.535155 \n",
       "L 369.572615 138.535155 \n",
       "\" style=\"fill: none; stroke: #000000; stroke-linecap: round\"/>\n",
       "   </g>\n",
       "   <g id=\"text_41\">\n",
       "    <!-- -3⋅V__CD  -->\n",
       "    <g transform=\"translate(367.572615 159.394737) scale(0.1 -0.1)\">\n",
       "     <use xlink:href=\"#DejaVuSans-2d\"/>\n",
       "     <use xlink:href=\"#DejaVuSans-33\" x=\"36.083984\"/>\n",
       "     <use xlink:href=\"#DejaVuSans-22c5\" x=\"99.707031\"/>\n",
       "     <use xlink:href=\"#DejaVuSans-56\" x=\"131.494141\"/>\n",
       "     <use xlink:href=\"#DejaVuSans-5f\" x=\"199.902344\"/>\n",
       "     <use xlink:href=\"#DejaVuSans-5f\" x=\"249.902344\"/>\n",
       "     <use xlink:href=\"#DejaVuSans-43\" x=\"299.902344\"/>\n",
       "     <use xlink:href=\"#DejaVuSans-44\" x=\"369.726562\"/>\n",
       "     <use xlink:href=\"#DejaVuSans-20\" x=\"446.728516\"/>\n",
       "    </g>\n",
       "    <!-- ───────── -->\n",
       "    <g transform=\"translate(367.572615 170.870674) scale(0.1 -0.1)\">\n",
       "     <use xlink:href=\"#DejaVuSans-2500\"/>\n",
       "     <use xlink:href=\"#DejaVuSans-2500\" x=\"60.205078\"/>\n",
       "     <use xlink:href=\"#DejaVuSans-2500\" x=\"120.410156\"/>\n",
       "     <use xlink:href=\"#DejaVuSans-2500\" x=\"180.615234\"/>\n",
       "     <use xlink:href=\"#DejaVuSans-2500\" x=\"240.820312\"/>\n",
       "     <use xlink:href=\"#DejaVuSans-2500\" x=\"301.025391\"/>\n",
       "     <use xlink:href=\"#DejaVuSans-2500\" x=\"361.230469\"/>\n",
       "     <use xlink:href=\"#DejaVuSans-2500\" x=\"421.435547\"/>\n",
       "     <use xlink:href=\"#DejaVuSans-2500\" x=\"481.640625\"/>\n",
       "    </g>\n",
       "    <!--     5     -->\n",
       "    <g transform=\"translate(367.572615 182.068487) scale(0.1 -0.1)\">\n",
       "     <use xlink:href=\"#DejaVuSans-20\"/>\n",
       "     <use xlink:href=\"#DejaVuSans-20\" x=\"31.787109\"/>\n",
       "     <use xlink:href=\"#DejaVuSans-20\" x=\"63.574219\"/>\n",
       "     <use xlink:href=\"#DejaVuSans-20\" x=\"95.361328\"/>\n",
       "     <use xlink:href=\"#DejaVuSans-35\" x=\"127.148438\"/>\n",
       "     <use xlink:href=\"#DejaVuSans-20\" x=\"190.771484\"/>\n",
       "     <use xlink:href=\"#DejaVuSans-20\" x=\"222.558594\"/>\n",
       "     <use xlink:href=\"#DejaVuSans-20\" x=\"254.345703\"/>\n",
       "     <use xlink:href=\"#DejaVuSans-20\" x=\"286.132812\"/>\n",
       "    </g>\n",
       "   </g>\n",
       "   <g id=\"patch_40\">\n",
       "    <path d=\"M 220.73051 182.280915 \n",
       "Q 220.73051 157.849178 220.73051 134.535475 \n",
       "\" style=\"fill: none; stroke: #000000; stroke-linecap: round\"/>\n",
       "    <path d=\"M 218.73051 138.535475 \n",
       "L 220.73051 134.535475 \n",
       "L 222.73051 138.535475 \n",
       "\" style=\"fill: none; stroke: #000000; stroke-linecap: round\"/>\n",
       "   </g>\n",
       "   <g id=\"text_42\">\n",
       "    <!-- -9⋅H__BC  -->\n",
       "    <g transform=\"translate(220.73051 194.636842) scale(0.1 -0.1)\">\n",
       "     <use xlink:href=\"#DejaVuSans-2d\"/>\n",
       "     <use xlink:href=\"#DejaVuSans-39\" x=\"36.083984\"/>\n",
       "     <use xlink:href=\"#DejaVuSans-22c5\" x=\"99.707031\"/>\n",
       "     <use xlink:href=\"#DejaVuSans-48\" x=\"131.494141\"/>\n",
       "     <use xlink:href=\"#DejaVuSans-5f\" x=\"206.689453\"/>\n",
       "     <use xlink:href=\"#DejaVuSans-5f\" x=\"256.689453\"/>\n",
       "     <use xlink:href=\"#DejaVuSans-42\" x=\"306.689453\"/>\n",
       "     <use xlink:href=\"#DejaVuSans-43\" x=\"373.542969\"/>\n",
       "     <use xlink:href=\"#DejaVuSans-20\" x=\"443.367188\"/>\n",
       "    </g>\n",
       "    <!-- ───────── -->\n",
       "    <g transform=\"translate(220.73051 206.11278) scale(0.1 -0.1)\">\n",
       "     <use xlink:href=\"#DejaVuSans-2500\"/>\n",
       "     <use xlink:href=\"#DejaVuSans-2500\" x=\"60.205078\"/>\n",
       "     <use xlink:href=\"#DejaVuSans-2500\" x=\"120.410156\"/>\n",
       "     <use xlink:href=\"#DejaVuSans-2500\" x=\"180.615234\"/>\n",
       "     <use xlink:href=\"#DejaVuSans-2500\" x=\"240.820312\"/>\n",
       "     <use xlink:href=\"#DejaVuSans-2500\" x=\"301.025391\"/>\n",
       "     <use xlink:href=\"#DejaVuSans-2500\" x=\"361.230469\"/>\n",
       "     <use xlink:href=\"#DejaVuSans-2500\" x=\"421.435547\"/>\n",
       "     <use xlink:href=\"#DejaVuSans-2500\" x=\"481.640625\"/>\n",
       "    </g>\n",
       "    <!--     5     -->\n",
       "    <g transform=\"translate(220.73051 217.310592) scale(0.1 -0.1)\">\n",
       "     <use xlink:href=\"#DejaVuSans-20\"/>\n",
       "     <use xlink:href=\"#DejaVuSans-20\" x=\"31.787109\"/>\n",
       "     <use xlink:href=\"#DejaVuSans-20\" x=\"63.574219\"/>\n",
       "     <use xlink:href=\"#DejaVuSans-20\" x=\"95.361328\"/>\n",
       "     <use xlink:href=\"#DejaVuSans-35\" x=\"127.148438\"/>\n",
       "     <use xlink:href=\"#DejaVuSans-20\" x=\"190.771484\"/>\n",
       "     <use xlink:href=\"#DejaVuSans-20\" x=\"222.558594\"/>\n",
       "     <use xlink:href=\"#DejaVuSans-20\" x=\"254.345703\"/>\n",
       "     <use xlink:href=\"#DejaVuSans-20\" x=\"286.132812\"/>\n",
       "    </g>\n",
       "   </g>\n",
       "   <g id=\"patch_41\">\n",
       "    <path d=\"M 220.73051 182.280915 \n",
       "Q 220.73051 157.849178 220.73051 134.535475 \n",
       "\" style=\"fill: none; stroke: #000000; stroke-linecap: round\"/>\n",
       "    <path d=\"M 218.73051 138.535475 \n",
       "L 220.73051 134.535475 \n",
       "L 222.73051 138.535475 \n",
       "\" style=\"fill: none; stroke: #000000; stroke-linecap: round\"/>\n",
       "   </g>\n",
       "   <g id=\"text_43\">\n",
       "    <!-- -9⋅H__BD  -->\n",
       "    <g transform=\"translate(220.73051 194.636842) scale(0.1 -0.1)\">\n",
       "     <use xlink:href=\"#DejaVuSans-2d\"/>\n",
       "     <use xlink:href=\"#DejaVuSans-39\" x=\"36.083984\"/>\n",
       "     <use xlink:href=\"#DejaVuSans-22c5\" x=\"99.707031\"/>\n",
       "     <use xlink:href=\"#DejaVuSans-48\" x=\"131.494141\"/>\n",
       "     <use xlink:href=\"#DejaVuSans-5f\" x=\"206.689453\"/>\n",
       "     <use xlink:href=\"#DejaVuSans-5f\" x=\"256.689453\"/>\n",
       "     <use xlink:href=\"#DejaVuSans-42\" x=\"306.689453\"/>\n",
       "     <use xlink:href=\"#DejaVuSans-44\" x=\"375.292969\"/>\n",
       "     <use xlink:href=\"#DejaVuSans-20\" x=\"452.294922\"/>\n",
       "    </g>\n",
       "    <!-- ───────── -->\n",
       "    <g transform=\"translate(220.73051 206.11278) scale(0.1 -0.1)\">\n",
       "     <use xlink:href=\"#DejaVuSans-2500\"/>\n",
       "     <use xlink:href=\"#DejaVuSans-2500\" x=\"60.205078\"/>\n",
       "     <use xlink:href=\"#DejaVuSans-2500\" x=\"120.410156\"/>\n",
       "     <use xlink:href=\"#DejaVuSans-2500\" x=\"180.615234\"/>\n",
       "     <use xlink:href=\"#DejaVuSans-2500\" x=\"240.820312\"/>\n",
       "     <use xlink:href=\"#DejaVuSans-2500\" x=\"301.025391\"/>\n",
       "     <use xlink:href=\"#DejaVuSans-2500\" x=\"361.230469\"/>\n",
       "     <use xlink:href=\"#DejaVuSans-2500\" x=\"421.435547\"/>\n",
       "     <use xlink:href=\"#DejaVuSans-2500\" x=\"481.640625\"/>\n",
       "    </g>\n",
       "    <!--     5     -->\n",
       "    <g transform=\"translate(220.73051 217.310592) scale(0.1 -0.1)\">\n",
       "     <use xlink:href=\"#DejaVuSans-20\"/>\n",
       "     <use xlink:href=\"#DejaVuSans-20\" x=\"31.787109\"/>\n",
       "     <use xlink:href=\"#DejaVuSans-20\" x=\"63.574219\"/>\n",
       "     <use xlink:href=\"#DejaVuSans-20\" x=\"95.361328\"/>\n",
       "     <use xlink:href=\"#DejaVuSans-35\" x=\"127.148438\"/>\n",
       "     <use xlink:href=\"#DejaVuSans-20\" x=\"190.771484\"/>\n",
       "     <use xlink:href=\"#DejaVuSans-20\" x=\"222.558594\"/>\n",
       "     <use xlink:href=\"#DejaVuSans-20\" x=\"254.345703\"/>\n",
       "     <use xlink:href=\"#DejaVuSans-20\" x=\"286.132812\"/>\n",
       "    </g>\n",
       "   </g>\n",
       "   <g id=\"patch_42\">\n",
       "    <path d=\"M 220.73051 182.280915 \n",
       "Q 220.73051 157.849178 220.73051 134.535475 \n",
       "\" style=\"fill: none; stroke: #000000; stroke-linecap: round\"/>\n",
       "    <path d=\"M 218.73051 138.535475 \n",
       "L 220.73051 134.535475 \n",
       "L 222.73051 138.535475 \n",
       "\" style=\"fill: none; stroke: #000000; stroke-linecap: round\"/>\n",
       "   </g>\n",
       "   <g id=\"text_44\">\n",
       "    <!-- -9⋅R_h__B  -->\n",
       "    <g transform=\"translate(220.73051 194.813405) scale(0.1 -0.1)\">\n",
       "     <use xlink:href=\"#DejaVuSans-2d\"/>\n",
       "     <use xlink:href=\"#DejaVuSans-39\" x=\"36.083984\"/>\n",
       "     <use xlink:href=\"#DejaVuSans-22c5\" x=\"99.707031\"/>\n",
       "     <use xlink:href=\"#DejaVuSans-52\" x=\"131.494141\"/>\n",
       "     <use xlink:href=\"#DejaVuSans-5f\" x=\"200.976562\"/>\n",
       "     <use xlink:href=\"#DejaVuSans-68\" x=\"250.976562\"/>\n",
       "     <use xlink:href=\"#DejaVuSans-5f\" x=\"314.355469\"/>\n",
       "     <use xlink:href=\"#DejaVuSans-5f\" x=\"364.355469\"/>\n",
       "     <use xlink:href=\"#DejaVuSans-42\" x=\"414.355469\"/>\n",
       "     <use xlink:href=\"#DejaVuSans-20\" x=\"482.958984\"/>\n",
       "    </g>\n",
       "    <!-- ────────── -->\n",
       "    <g transform=\"translate(220.73051 206.289342) scale(0.1 -0.1)\">\n",
       "     <use xlink:href=\"#DejaVuSans-2500\"/>\n",
       "     <use xlink:href=\"#DejaVuSans-2500\" x=\"60.205078\"/>\n",
       "     <use xlink:href=\"#DejaVuSans-2500\" x=\"120.410156\"/>\n",
       "     <use xlink:href=\"#DejaVuSans-2500\" x=\"180.615234\"/>\n",
       "     <use xlink:href=\"#DejaVuSans-2500\" x=\"240.820312\"/>\n",
       "     <use xlink:href=\"#DejaVuSans-2500\" x=\"301.025391\"/>\n",
       "     <use xlink:href=\"#DejaVuSans-2500\" x=\"361.230469\"/>\n",
       "     <use xlink:href=\"#DejaVuSans-2500\" x=\"421.435547\"/>\n",
       "     <use xlink:href=\"#DejaVuSans-2500\" x=\"481.640625\"/>\n",
       "     <use xlink:href=\"#DejaVuSans-2500\" x=\"541.845703\"/>\n",
       "    </g>\n",
       "    <!--     5      -->\n",
       "    <g transform=\"translate(220.73051 217.487155) scale(0.1 -0.1)\">\n",
       "     <use xlink:href=\"#DejaVuSans-20\"/>\n",
       "     <use xlink:href=\"#DejaVuSans-20\" x=\"31.787109\"/>\n",
       "     <use xlink:href=\"#DejaVuSans-20\" x=\"63.574219\"/>\n",
       "     <use xlink:href=\"#DejaVuSans-20\" x=\"95.361328\"/>\n",
       "     <use xlink:href=\"#DejaVuSans-35\" x=\"127.148438\"/>\n",
       "     <use xlink:href=\"#DejaVuSans-20\" x=\"190.771484\"/>\n",
       "     <use xlink:href=\"#DejaVuSans-20\" x=\"222.558594\"/>\n",
       "     <use xlink:href=\"#DejaVuSans-20\" x=\"254.345703\"/>\n",
       "     <use xlink:href=\"#DejaVuSans-20\" x=\"286.132812\"/>\n",
       "     <use xlink:href=\"#DejaVuSans-20\" x=\"317.919922\"/>\n",
       "    </g>\n",
       "   </g>\n",
       "   <g id=\"patch_43\">\n",
       "    <path d=\"M 220.73051 152.910701 \n",
       "Q 220.73051 143.163887 220.73051 134.535106 \n",
       "\" style=\"fill: none; stroke: #000000; stroke-linecap: round\"/>\n",
       "    <path d=\"M 218.73051 138.535106 \n",
       "L 220.73051 134.535106 \n",
       "L 222.73051 138.535106 \n",
       "\" style=\"fill: none; stroke: #000000; stroke-linecap: round\"/>\n",
       "   </g>\n",
       "   <g id=\"text_45\">\n",
       "    <!-- -4⋅H__CD  -->\n",
       "    <g transform=\"translate(220.73051 165.268421) scale(0.1 -0.1)\">\n",
       "     <use xlink:href=\"#DejaVuSans-2d\"/>\n",
       "     <use xlink:href=\"#DejaVuSans-34\" x=\"36.083984\"/>\n",
       "     <use xlink:href=\"#DejaVuSans-22c5\" x=\"99.707031\"/>\n",
       "     <use xlink:href=\"#DejaVuSans-48\" x=\"131.494141\"/>\n",
       "     <use xlink:href=\"#DejaVuSans-5f\" x=\"206.689453\"/>\n",
       "     <use xlink:href=\"#DejaVuSans-5f\" x=\"256.689453\"/>\n",
       "     <use xlink:href=\"#DejaVuSans-43\" x=\"306.689453\"/>\n",
       "     <use xlink:href=\"#DejaVuSans-44\" x=\"376.513672\"/>\n",
       "     <use xlink:href=\"#DejaVuSans-20\" x=\"453.515625\"/>\n",
       "    </g>\n",
       "    <!-- ───────── -->\n",
       "    <g transform=\"translate(220.73051 176.744359) scale(0.1 -0.1)\">\n",
       "     <use xlink:href=\"#DejaVuSans-2500\"/>\n",
       "     <use xlink:href=\"#DejaVuSans-2500\" x=\"60.205078\"/>\n",
       "     <use xlink:href=\"#DejaVuSans-2500\" x=\"120.410156\"/>\n",
       "     <use xlink:href=\"#DejaVuSans-2500\" x=\"180.615234\"/>\n",
       "     <use xlink:href=\"#DejaVuSans-2500\" x=\"240.820312\"/>\n",
       "     <use xlink:href=\"#DejaVuSans-2500\" x=\"301.025391\"/>\n",
       "     <use xlink:href=\"#DejaVuSans-2500\" x=\"361.230469\"/>\n",
       "     <use xlink:href=\"#DejaVuSans-2500\" x=\"421.435547\"/>\n",
       "     <use xlink:href=\"#DejaVuSans-2500\" x=\"481.640625\"/>\n",
       "    </g>\n",
       "    <!--     5     -->\n",
       "    <g transform=\"translate(220.73051 187.942171) scale(0.1 -0.1)\">\n",
       "     <use xlink:href=\"#DejaVuSans-20\"/>\n",
       "     <use xlink:href=\"#DejaVuSans-20\" x=\"31.787109\"/>\n",
       "     <use xlink:href=\"#DejaVuSans-20\" x=\"63.574219\"/>\n",
       "     <use xlink:href=\"#DejaVuSans-20\" x=\"95.361328\"/>\n",
       "     <use xlink:href=\"#DejaVuSans-35\" x=\"127.148438\"/>\n",
       "     <use xlink:href=\"#DejaVuSans-20\" x=\"190.771484\"/>\n",
       "     <use xlink:href=\"#DejaVuSans-20\" x=\"222.558594\"/>\n",
       "     <use xlink:href=\"#DejaVuSans-20\" x=\"254.345703\"/>\n",
       "     <use xlink:href=\"#DejaVuSans-20\" x=\"286.132812\"/>\n",
       "    </g>\n",
       "   </g>\n",
       "  </g>\n",
       " </g>\n",
       "</svg>\n"
      ],
      "text/plain": [
       "<Figure size 1000x500 with 1 Axes>"
      ]
     },
     "metadata": {},
     "output_type": "display_data"
    }
   ],
   "source": [
    "fig,ax = plt.subplots(figsize=(10,5))\n",
    "x_plot = np.linspace(0,19,1000)\n",
    "max_L = max(x_plot)\n",
    "plt.xlim(0,max_L)\n",
    "max_F = 0\n",
    "for i in range(len(qz.args)):\n",
    "    if len(qz.args[i].args[0].free_symbols) != 0:\n",
    "        max_F = max(max_F,1)\n",
    "    else:\n",
    "        max_F = max(max_F,abs(qz.args[i].args[0]))\n",
    "scale = max_L / max_F / 3\n",
    "min = 0.4\n",
    "indicator = False\n",
    "for i in range(len(qz.args)):\n",
    "    if qz.args[i].args[-1].args[2] == 0:\n",
    "        qz_plot = sym.lambdify(x, qz.args[i].rewrite(sym.Piecewise).simplify())\n",
    "        plt.plot(x_plot,-qz_plot(x_plot) * scale)\n",
    "        if qz.args[i].args[0] < 0:\n",
    "            ax.annotate(sym.pretty(sym.nsimplify(qz.args[i].args[0])),xy=(qz.args[i].args[-1].args[1] , -qz.args[i].args[0]* scale+0.1),annotation_clip=False,va='top',ha='left')\n",
    "        else:\n",
    "            ax.annotate(sym.pretty(sym.nsimplify(qz.args[i].args[0])),xy=(qz.args[i].args[-1].args[1] , -qz.args[i].args[0]* scale-0.1),annotation_clip=False,va='bottom',ha='left')\n",
    "    if qz.args[i].args[-1].args[2] == -1:\n",
    "        name = sym.nsimplify(1)\n",
    "        for j in range(len(qz.args[i].args[:-1])):\n",
    "            name = name * qz.args[i].args[j]\n",
    "        if len(name.free_symbols) != 0:\n",
    "            indicator = True\n",
    "            scale_or = scale\n",
    "            scale = 1\n",
    "        name = sym.pretty(sym.nsimplify(name))\n",
    "        if isinstance(qz.args[i].args[0],sym.Float) or isinstance(qz.args[i].args[0],sym.Integer):\n",
    "            ax.annotate(\"\", xy=(qz.args[i].args[-1].args[1], 0), xytext=(qz.args[i].args[-1].args[1], -qz.args[i].args[0] * scale), arrowprops=dict(arrowstyle='->'),annotation_clip=False,)\n",
    "            if qz.args[i].args[0] < 0:\n",
    "                ax.annotate(name,xy=(qz.args[i].args[-1].args[1] , -qz.args[i].args[0]* scale + 0.1),annotation_clip=False,va='top',ha='left')\n",
    "            else:\n",
    "                ax.annotate(name,xy=(qz.args[i].args[-1].args[1] , -qz.args[i].args[0]* scale - 0.1),annotation_clip=False,va='bottom',ha='left')\n",
    "        else:\n",
    "            ax.annotate(\"\", xy=(qz.args[i].args[-1].args[1], 0), xytext=(qz.args[i].args[-1].args[1], -1), arrowprops=dict(arrowstyle='->'),annotation_clip=False,)\n",
    "            ax.annotate(name,xy=(qz.args[i].args[-1].args[1] , -1 + 0.1),annotation_clip=False,va='top',ha='left')\n",
    "        if indicator:\n",
    "            scale = scale_or\n",
    "        indicator = False\n",
    "    if qz.args[i].args[-1].args[2] == -2:\n",
    "        name = sym.nsimplify(1)\n",
    "        for j in range(len(qz.args[i].args[:-1])):\n",
    "            name = name * qz.args[i].args[j]\n",
    "        name = sym.pretty(sym.nsimplify(name))\n",
    "        ax.annotate(\"\", xy=(qz.args[i].args[-1].args[1] + 0.5, 0.1), xytext=(qz.args[i].args[-1].args[1] - 0.5, 0.1), arrowprops=dict(arrowstyle='->',connectionstyle='angle3,angleA=-45,angleB=45'),annotation_clip=False,)\n",
    "        ax.annotate(name,xy=(qz.args[i].args[-1].args[1] + 0.5 , +0.1),annotation_clip=False,va='top',ha='left')\n",
    "#plt.tight_layout()\n",
    "plt.gca().invert_yaxis()\n",
    "ax.spines['right'].set_color('none')\n",
    "ax.spines['top'].set_color('none')\n",
    "ax.spines['left'].set_color('none')\n",
    "ax.spines['bottom'].set_position('zero')\n",
    "ax.axes.get_yaxis().set_visible(False)\n",
    "ax.axes.get_yaxis().set_ticks([])\n",
    "ax.axes.set_aspect('equal')"
   ]
  },
  {
   "cell_type": "code",
   "execution_count": 4,
   "id": "42b8e9d1-cde9-41f3-a01c-078e5f034b9e",
   "metadata": {},
   "outputs": [
    {
     "data": {
      "text/latex": [
       "$\\displaystyle - H^{BC} {\\left\\langle x \\right\\rangle}^{-1} + H^{BC} {\\left\\langle x - 3 \\right\\rangle}^{-1} + 0.6 H^{BC} {\\left\\langle x - 7 \\right\\rangle}^{-1} - 0.6 H^{BC} {\\left\\langle x - 12 \\right\\rangle}^{-1} - H^{BD} {\\left\\langle x \\right\\rangle}^{-1} + H^{BD} {\\left\\langle x - 3 \\right\\rangle}^{-1} + 0.6 H^{BD} {\\left\\langle x - 7 \\right\\rangle}^{-1} - 0.6 H^{BD} {\\left\\langle x - 12 \\right\\rangle}^{-1} + 0.6 H^{CD} {\\left\\langle x - 7 \\right\\rangle}^{-1} - 0.6 H^{CD} {\\left\\langle x - 12 \\right\\rangle}^{-1} - H^{CD} {\\left\\langle x - 16 \\right\\rangle}^{-1} + H^{CD} {\\left\\langle x - 19 \\right\\rangle}^{-1} - R^{B}_{h} {\\left\\langle x \\right\\rangle}^{-1} + R^{B}_{h} {\\left\\langle x - 3 \\right\\rangle}^{-1} + 0.6 R^{B}_{h} {\\left\\langle x - 7 \\right\\rangle}^{-1} - 0.6 R^{B}_{h} {\\left\\langle x - 12 \\right\\rangle}^{-1} - R^{B}_{h} {\\left\\langle x - 16 \\right\\rangle}^{-1} - R^{A}_{v} {\\left\\langle x - 3 \\right\\rangle}^{-1} + 1.8 R^{A}_{v} {\\left\\langle x - 7 \\right\\rangle}^{-1} - 1.8 R^{A}_{v} {\\left\\langle x - 12 \\right\\rangle}^{-1} + R^{A}_{v} {\\left\\langle x - 16 \\right\\rangle}^{-1} - R^{B}_{v} {\\left\\langle x - 3 \\right\\rangle}^{-1} + 1.8 R^{B}_{v} {\\left\\langle x - 7 \\right\\rangle}^{-1} - 1.8 R^{B}_{v} {\\left\\langle x - 12 \\right\\rangle}^{-1} + R^{B}_{v} {\\left\\langle x - 16 \\right\\rangle}^{-1} - V^{BC} {\\left\\langle x - 3 \\right\\rangle}^{-1} + 1.8 V^{BC} {\\left\\langle x - 7 \\right\\rangle}^{-1} - 0.8 V^{BC} {\\left\\langle x - 12 \\right\\rangle}^{-1} - V^{BD} {\\left\\langle x - 3 \\right\\rangle}^{-1} + 1.8 V^{BD} {\\left\\langle x - 7 \\right\\rangle}^{-1} - 1.8 V^{BD} {\\left\\langle x - 12 \\right\\rangle}^{-1} + V^{BD} {\\left\\langle x - 12.0 \\right\\rangle}^{-1} + 0.8 V^{CD} {\\left\\langle x - 7 \\right\\rangle}^{-1} - 1.8 V^{CD} {\\left\\langle x - 12 \\right\\rangle}^{-1} + V^{CD} {\\left\\langle x - 16 \\right\\rangle}^{-1} + 32.0 {\\left\\langle x - 7 \\right\\rangle}^{-1} - 72.0 {\\left\\langle x - 12 \\right\\rangle}^{-1} + 70 {\\left\\langle x - 16 \\right\\rangle}^{-1}$"
      ],
      "text/plain": [
       "-H^BC*SingularityFunction(x, 0, -1) + H^BC*SingularityFunction(x, 3, -1) + 0.6*H^BC*SingularityFunction(x, 7, -1) - 0.6*H^BC*SingularityFunction(x, 12, -1) - H^BD*SingularityFunction(x, 0, -1) + H^BD*SingularityFunction(x, 3, -1) + 0.6*H^BD*SingularityFunction(x, 7, -1) - 0.6*H^BD*SingularityFunction(x, 12, -1) + 0.6*H^CD*SingularityFunction(x, 7, -1) - 0.6*H^CD*SingularityFunction(x, 12, -1) - H^CD*SingularityFunction(x, 16, -1) + H^CD*SingularityFunction(x, 19, -1) - R_h^B*SingularityFunction(x, 0, -1) + R_h^B*SingularityFunction(x, 3, -1) + 0.6*R_h^B*SingularityFunction(x, 7, -1) - 0.6*R_h^B*SingularityFunction(x, 12, -1) - R_h^B*SingularityFunction(x, 16, -1) - R_v^A*SingularityFunction(x, 3, -1) + 1.8*R_v^A*SingularityFunction(x, 7, -1) - 1.8*R_v^A*SingularityFunction(x, 12, -1) + R_v^A*SingularityFunction(x, 16, -1) - R_v^B*SingularityFunction(x, 3, -1) + 1.8*R_v^B*SingularityFunction(x, 7, -1) - 1.8*R_v^B*SingularityFunction(x, 12, -1) + R_v^B*SingularityFunction(x, 16, -1) - V^BC*SingularityFunction(x, 3, -1) + 1.8*V^BC*SingularityFunction(x, 7, -1) - 0.8*V^BC*SingularityFunction(x, 12, -1) - V^BD*SingularityFunction(x, 3, -1) + 1.8*V^BD*SingularityFunction(x, 7, -1) - 1.8*V^BD*SingularityFunction(x, 12, -1) + V^BD*SingularityFunction(x, 12.0, -1) + 0.8*V^CD*SingularityFunction(x, 7, -1) - 1.8*V^CD*SingularityFunction(x, 12, -1) + V^CD*SingularityFunction(x, 16, -1) + 32.0*SingularityFunction(x, 7, -1) - 72.0*SingularityFunction(x, 12, -1) + 70*SingularityFunction(x, 16, -1)"
      ]
     },
     "metadata": {},
     "output_type": "display_data"
    }
   ],
   "source": [
    "#qx opstellen\n",
    "qx = 0\n",
    "\n",
    "#beginpunten\n",
    "for i in range(len(B)):\n",
    "    for j in range(len(aa)):\n",
    "        if bb[i] == aa[-1]:\n",
    "            if nn[i] == 2:\n",
    "                qx += B[i] * sym.SingularityFunction(x,bb[i],-1) * -sym.sin(oo[-1])\n",
    "            if nn[i] == 3:\n",
    "                qx += B[i] * sym.SingularityFunction(x,bb[i],-1) * sym.cos(oo[-1])\n",
    "            if nn[i] == 4:\n",
    "                qx += B[i] * sym.SingularityFunction(x,bb[i],0) * -sym.sin(oo[-1])\n",
    "            if nn[i] == 5:\n",
    "                qx += B[i] * sym.SingularityFunction(x,bb[i],0) * sym.cos(oo[-1])\n",
    "            break\n",
    "        else:\n",
    "            if bb[i] < aa[j]:\n",
    "                if nn[i] == 2:\n",
    "                    qx += B[i] * sym.SingularityFunction(x,bb[i],-1) * -sym.sin(oo[j-1])\n",
    "                if nn[i] == 3:\n",
    "                    qx += B[i] * sym.SingularityFunction(x,bb[i],-1) * sym.cos(oo[j-1])\n",
    "                if nn[i] == 4:\n",
    "                    qx += B[i] * sym.SingularityFunction(x,bb[i],0) * -sym.sin(oo[j-1])\n",
    "                if nn[i] == 5:\n",
    "                    qx += B[i] * sym.SingularityFunction(x,bb[i],0) * sym.cos(oo[j-1])\n",
    "                if nn[i] == 8:\n",
    "                    qx += B[i] * sym.SingularityFunction(x,bb[i],-2) * EA\n",
    "                break\n",
    "\n",
    "# knikpunten\n",
    "for i in range(len(B)):\n",
    "    for j in range(len(aa)-1):\n",
    "        if bb[i] < aa[j]:\n",
    "            if nn[i] == 2:\n",
    "                qx += B[i] * sym.SingularityFunction(x,aa[j],-1) * (-sym.sin(oo[j]) + sym.sin(oo[j-1]))\n",
    "            if nn[i] == 3:\n",
    "                qx += B[i] * sym.SingularityFunction(x,aa[j],-1) * (sym.cos(oo[j]) - sym.cos(oo[j-1]))\n",
    "            if nn[i] == 4:\n",
    "                qx += B[i] * ((sym.SingularityFunction(x,aa[j],0) + sym.SingularityFunction(x,aa[j],-1) * (aa[j] - bb[i])) * (-sym.sin(oo[j]) + sym.sin(oo[j-1])))\n",
    "            if nn[i] == 5:\n",
    "                qx += B[i] * ((sym.SingularityFunction(x,aa[j],0) + sym.SingularityFunction(x,aa[j],-1) * (aa[j] - bb[i])) * (sym.cos(oo[j]) - sym.cos(oo[j-1])))\n",
    "\n",
    "display(qx)"
   ]
  },
  {
   "cell_type": "code",
   "execution_count": null,
   "id": "76c30ecd",
   "metadata": {},
   "outputs": [],
   "source": []
  },
  {
   "cell_type": "code",
   "execution_count": 5,
   "id": "8489175b-7d67-4b31-b30d-e531bb1ce2f2",
   "metadata": {},
   "outputs": [
    {
     "data": {
      "text/latex": [
       "$\\displaystyle {N}=$"
      ],
      "text/plain": [
       "{N}="
      ]
     },
     "metadata": {},
     "output_type": "display_data"
    },
    {
     "data": {
      "text/latex": [
       "$\\displaystyle C_{N} - EA u^{BD}_{x} {\\left\\langle x - 7.0 \\right\\rangle}^{-1} - EA u^{CF}_{x} {\\left\\langle x - 12.0 \\right\\rangle}^{-1} - 0.8 H^{BF} {\\left\\langle x - 2 \\right\\rangle}^{0} + 0.8 H^{BF} {\\left\\langle x - 7.0 \\right\\rangle}^{0} - 0.8 H^{CE} {\\left\\langle x - 4.5 \\right\\rangle}^{0} + 0.8 H^{CE} {\\left\\langle x - 12.0 \\right\\rangle}^{0} - R_{h} {\\left\\langle x \\right\\rangle}^{0} + 0.2 R_{h} {\\left\\langle x - 2 \\right\\rangle}^{0} + 0.6 R_{v} {\\left\\langle x - 2 \\right\\rangle}^{0} - 1.2 R_{v} {\\left\\langle x - 7 \\right\\rangle}^{0} + 0.6 V^{BF} {\\left\\langle x - 2 \\right\\rangle}^{0} - 1.2 V^{BF} {\\left\\langle x - 7 \\right\\rangle}^{0} + 0.6 V^{BF} {\\left\\langle x - 7.0 \\right\\rangle}^{0} + 0.6 V^{CE} {\\left\\langle x - 4.5 \\right\\rangle}^{0} - 1.2 V^{CE} {\\left\\langle x - 7 \\right\\rangle}^{0} + 0.6 V^{CE} {\\left\\langle x - 12.0 \\right\\rangle}^{0} - 12.0 {\\left\\langle x - 7 \\right\\rangle}^{0} - 12.0 {\\left\\langle x - 12 \\right\\rangle}^{0} - 12.0 {\\left\\langle x - 14.5 \\right\\rangle}^{0}$"
      ],
      "text/plain": [
       "C_N - EA*u_x^BD*SingularityFunction(x, 7.0, -1) - EA*u_x^CF*SingularityFunction(x, 12.0, -1) - 0.8*H^BF*SingularityFunction(x, 2, 0) + 0.8*H^BF*SingularityFunction(x, 7.0, 0) - 0.8*H^CE*SingularityFunction(x, 4.5, 0) + 0.8*H^CE*SingularityFunction(x, 12.0, 0) - R_h*SingularityFunction(x, 0, 0) + 0.2*R_h*SingularityFunction(x, 2, 0) + 0.6*R_v*SingularityFunction(x, 2, 0) - 1.2*R_v*SingularityFunction(x, 7, 0) + 0.6*V^BF*SingularityFunction(x, 2, 0) - 1.2*V^BF*SingularityFunction(x, 7, 0) + 0.6*V^BF*SingularityFunction(x, 7.0, 0) + 0.6*V^CE*SingularityFunction(x, 4.5, 0) - 1.2*V^CE*SingularityFunction(x, 7, 0) + 0.6*V^CE*SingularityFunction(x, 12.0, 0) - 12.0*SingularityFunction(x, 7, 0) - 12.0*SingularityFunction(x, 12, 0) - 12.0*SingularityFunction(x, 14.5, 0)"
      ]
     },
     "metadata": {},
     "output_type": "display_data"
    },
    {
     "data": {
      "text/latex": [
       "$\\displaystyle {V}=$"
      ],
      "text/plain": [
       "{V}="
      ]
     },
     "metadata": {},
     "output_type": "display_data"
    },
    {
     "data": {
      "text/latex": [
       "$\\displaystyle C_{V} - EI \\phi^{BD} {\\left\\langle x - 7.0 \\right\\rangle}^{-2} - EI \\phi^{CF} {\\left\\langle x - 12.0 \\right\\rangle}^{-2} - EI u^{BD}_{z} {\\left\\langle x - 7.0 \\right\\rangle}^{-3} - EI u^{CF}_{z} {\\left\\langle x - 12.0 \\right\\rangle}^{-3} - 0.6 H^{BF} {\\left\\langle x - 2 \\right\\rangle}^{0} + 1.2 H^{BF} {\\left\\langle x - 7 \\right\\rangle}^{0} - 0.6 H^{BF} {\\left\\langle x - 7.0 \\right\\rangle}^{0} - 0.6 H^{CE} {\\left\\langle x - 4.5 \\right\\rangle}^{0} + 1.2 H^{CE} {\\left\\langle x - 7 \\right\\rangle}^{0} - 0.6 H^{CE} {\\left\\langle x - 12.0 \\right\\rangle}^{0} - 0.6 R_{h} {\\left\\langle x - 2 \\right\\rangle}^{0} + 1.2 R_{h} {\\left\\langle x - 7 \\right\\rangle}^{0} - R_{v} {\\left\\langle x \\right\\rangle}^{0} + 0.2 R_{v} {\\left\\langle x - 2 \\right\\rangle}^{0} - T^{BF} {\\left\\langle x - 2 \\right\\rangle}^{-1} + T^{BF} {\\left\\langle x - 7.0 \\right\\rangle}^{-1} - T^{CE} {\\left\\langle x - 4.5 \\right\\rangle}^{-1} + T^{CE} {\\left\\langle x - 12.0 \\right\\rangle}^{-1} - T_{R} {\\left\\langle x \\right\\rangle}^{-1} - 0.8 V^{BF} {\\left\\langle x - 2 \\right\\rangle}^{0} + 0.8 V^{BF} {\\left\\langle x - 7.0 \\right\\rangle}^{0} - 0.8 V^{CE} {\\left\\langle x - 4.5 \\right\\rangle}^{0} + 0.8 V^{CE} {\\left\\langle x - 12.0 \\right\\rangle}^{0} - 16.0 {\\left\\langle x - 7 \\right\\rangle}^{0} - 16.0 {\\left\\langle x - 12 \\right\\rangle}^{0} - 16.0 {\\left\\langle x - 14.5 \\right\\rangle}^{0}$"
      ],
      "text/plain": [
       "C_V - EI*phi^BD*SingularityFunction(x, 7.0, -2) - EI*phi^CF*SingularityFunction(x, 12.0, -2) - EI*u_z^BD*SingularityFunction(x, 7.0, -3) - EI*u_z^CF*SingularityFunction(x, 12.0, -3) - 0.6*H^BF*SingularityFunction(x, 2, 0) + 1.2*H^BF*SingularityFunction(x, 7, 0) - 0.6*H^BF*SingularityFunction(x, 7.0, 0) - 0.6*H^CE*SingularityFunction(x, 4.5, 0) + 1.2*H^CE*SingularityFunction(x, 7, 0) - 0.6*H^CE*SingularityFunction(x, 12.0, 0) - 0.6*R_h*SingularityFunction(x, 2, 0) + 1.2*R_h*SingularityFunction(x, 7, 0) - R_v*SingularityFunction(x, 0, 0) + 0.2*R_v*SingularityFunction(x, 2, 0) - T^BF*SingularityFunction(x, 2, -1) + T^BF*SingularityFunction(x, 7.0, -1) - T^CE*SingularityFunction(x, 4.5, -1) + T^CE*SingularityFunction(x, 12.0, -1) - T_R*SingularityFunction(x, 0, -1) - 0.8*V^BF*SingularityFunction(x, 2, 0) + 0.8*V^BF*SingularityFunction(x, 7.0, 0) - 0.8*V^CE*SingularityFunction(x, 4.5, 0) + 0.8*V^CE*SingularityFunction(x, 12.0, 0) - 16.0*SingularityFunction(x, 7, 0) - 16.0*SingularityFunction(x, 12, 0) - 16.0*SingularityFunction(x, 14.5, 0)"
      ]
     },
     "metadata": {},
     "output_type": "display_data"
    },
    {
     "data": {
      "text/latex": [
       "$\\displaystyle {M}=$"
      ],
      "text/plain": [
       "{M}="
      ]
     },
     "metadata": {},
     "output_type": "display_data"
    },
    {
     "data": {
      "text/latex": [
       "$\\displaystyle C_{M} + C_{V} x - EI \\phi^{BD} {\\left\\langle x - 7.0 \\right\\rangle}^{-1} - EI \\phi^{CF} {\\left\\langle x - 12.0 \\right\\rangle}^{-1} - EI u^{BD}_{z} {\\left\\langle x - 7.0 \\right\\rangle}^{-2} - EI u^{CF}_{z} {\\left\\langle x - 12.0 \\right\\rangle}^{-2} - 0.6 H^{BF} {\\left\\langle x - 2 \\right\\rangle}^{1} + 1.2 H^{BF} {\\left\\langle x - 7 \\right\\rangle}^{1} - 0.6 H^{BF} {\\left\\langle x - 7.0 \\right\\rangle}^{1} - 0.6 H^{CE} {\\left\\langle x - 4.5 \\right\\rangle}^{1} + 1.2 H^{CE} {\\left\\langle x - 7 \\right\\rangle}^{1} - 0.6 H^{CE} {\\left\\langle x - 12.0 \\right\\rangle}^{1} - 0.6 R_{h} {\\left\\langle x - 2 \\right\\rangle}^{1} + 1.2 R_{h} {\\left\\langle x - 7 \\right\\rangle}^{1} - R_{v} {\\left\\langle x \\right\\rangle}^{1} + 0.2 R_{v} {\\left\\langle x - 2 \\right\\rangle}^{1} - T^{BF} {\\left\\langle x - 2 \\right\\rangle}^{0} + T^{BF} {\\left\\langle x - 7.0 \\right\\rangle}^{0} - T^{CE} {\\left\\langle x - 4.5 \\right\\rangle}^{0} + T^{CE} {\\left\\langle x - 12.0 \\right\\rangle}^{0} - T_{R} {\\left\\langle x \\right\\rangle}^{0} - 0.8 V^{BF} {\\left\\langle x - 2 \\right\\rangle}^{1} + 0.8 V^{BF} {\\left\\langle x - 7.0 \\right\\rangle}^{1} - 0.8 V^{CE} {\\left\\langle x - 4.5 \\right\\rangle}^{1} + 0.8 V^{CE} {\\left\\langle x - 12.0 \\right\\rangle}^{1} - 16.0 {\\left\\langle x - 7 \\right\\rangle}^{1} - 16.0 {\\left\\langle x - 12 \\right\\rangle}^{1} - 16.0 {\\left\\langle x - 14.5 \\right\\rangle}^{1}$"
      ],
      "text/plain": [
       "C_M + C_V*x - EI*phi^BD*SingularityFunction(x, 7.0, -1) - EI*phi^CF*SingularityFunction(x, 12.0, -1) - EI*u_z^BD*SingularityFunction(x, 7.0, -2) - EI*u_z^CF*SingularityFunction(x, 12.0, -2) - 0.6*H^BF*SingularityFunction(x, 2, 1) + 1.2*H^BF*SingularityFunction(x, 7, 1) - 0.6*H^BF*SingularityFunction(x, 7.0, 1) - 0.6*H^CE*SingularityFunction(x, 4.5, 1) + 1.2*H^CE*SingularityFunction(x, 7, 1) - 0.6*H^CE*SingularityFunction(x, 12.0, 1) - 0.6*R_h*SingularityFunction(x, 2, 1) + 1.2*R_h*SingularityFunction(x, 7, 1) - R_v*SingularityFunction(x, 0, 1) + 0.2*R_v*SingularityFunction(x, 2, 1) - T^BF*SingularityFunction(x, 2, 0) + T^BF*SingularityFunction(x, 7.0, 0) - T^CE*SingularityFunction(x, 4.5, 0) + T^CE*SingularityFunction(x, 12.0, 0) - T_R*SingularityFunction(x, 0, 0) - 0.8*V^BF*SingularityFunction(x, 2, 1) + 0.8*V^BF*SingularityFunction(x, 7.0, 1) - 0.8*V^CE*SingularityFunction(x, 4.5, 1) + 0.8*V^CE*SingularityFunction(x, 12.0, 1) - 16.0*SingularityFunction(x, 7, 1) - 16.0*SingularityFunction(x, 12, 1) - 16.0*SingularityFunction(x, 14.5, 1)"
      ]
     },
     "metadata": {},
     "output_type": "display_data"
    },
    {
     "data": {
      "text/latex": [
       "$\\displaystyle {u_x}=$"
      ],
      "text/plain": [
       "{u_x}="
      ]
     },
     "metadata": {},
     "output_type": "display_data"
    },
    {
     "data": {
      "text/latex": [
       "$\\displaystyle C_{ux} + \\frac{C_{N} x - EA u^{BD}_{x} {\\left\\langle x - 7.0 \\right\\rangle}^{0} - EA u^{CF}_{x} {\\left\\langle x - 12.0 \\right\\rangle}^{0} - 0.8 H^{BF} {\\left\\langle x - 2 \\right\\rangle}^{1} + 0.8 H^{BF} {\\left\\langle x - 7.0 \\right\\rangle}^{1} - 0.8 H^{CE} {\\left\\langle x - 4.5 \\right\\rangle}^{1} + 0.8 H^{CE} {\\left\\langle x - 12.0 \\right\\rangle}^{1} - R_{h} {\\left\\langle x \\right\\rangle}^{1} + 0.2 R_{h} {\\left\\langle x - 2 \\right\\rangle}^{1} + 0.6 R_{v} {\\left\\langle x - 2 \\right\\rangle}^{1} - 1.2 R_{v} {\\left\\langle x - 7 \\right\\rangle}^{1} + 0.6 V^{BF} {\\left\\langle x - 2 \\right\\rangle}^{1} - 1.2 V^{BF} {\\left\\langle x - 7 \\right\\rangle}^{1} + 0.6 V^{BF} {\\left\\langle x - 7.0 \\right\\rangle}^{1} + 0.6 V^{CE} {\\left\\langle x - 4.5 \\right\\rangle}^{1} - 1.2 V^{CE} {\\left\\langle x - 7 \\right\\rangle}^{1} + 0.6 V^{CE} {\\left\\langle x - 12.0 \\right\\rangle}^{1} - 12.0 {\\left\\langle x - 7 \\right\\rangle}^{1} - 12.0 {\\left\\langle x - 12 \\right\\rangle}^{1} - 12.0 {\\left\\langle x - 14.5 \\right\\rangle}^{1}}{EA}$"
      ],
      "text/plain": [
       "C_ux + (C_N*x - EA*u_x^BD*SingularityFunction(x, 7.0, 0) - EA*u_x^CF*SingularityFunction(x, 12.0, 0) - 0.8*H^BF*SingularityFunction(x, 2, 1) + 0.8*H^BF*SingularityFunction(x, 7.0, 1) - 0.8*H^CE*SingularityFunction(x, 4.5, 1) + 0.8*H^CE*SingularityFunction(x, 12.0, 1) - R_h*SingularityFunction(x, 0, 1) + 0.2*R_h*SingularityFunction(x, 2, 1) + 0.6*R_v*SingularityFunction(x, 2, 1) - 1.2*R_v*SingularityFunction(x, 7, 1) + 0.6*V^BF*SingularityFunction(x, 2, 1) - 1.2*V^BF*SingularityFunction(x, 7, 1) + 0.6*V^BF*SingularityFunction(x, 7.0, 1) + 0.6*V^CE*SingularityFunction(x, 4.5, 1) - 1.2*V^CE*SingularityFunction(x, 7, 1) + 0.6*V^CE*SingularityFunction(x, 12.0, 1) - 12.0*SingularityFunction(x, 7, 1) - 12.0*SingularityFunction(x, 12, 1) - 12.0*SingularityFunction(x, 14.5, 1))/EA"
      ]
     },
     "metadata": {},
     "output_type": "display_data"
    },
    {
     "data": {
      "text/latex": [
       "$\\displaystyle {\\phi}=$"
      ],
      "text/plain": [
       "{\\phi}="
      ]
     },
     "metadata": {},
     "output_type": "display_data"
    },
    {
     "data": {
      "text/latex": [
       "$\\displaystyle C_{\\phi} + \\frac{C_{M} x + \\frac{C_{V} x^{2}}{2} - EI \\phi^{BD} {\\left\\langle x - 7.0 \\right\\rangle}^{0} - EI \\phi^{CF} {\\left\\langle x - 12.0 \\right\\rangle}^{0} - EI u^{BD}_{z} {\\left\\langle x - 7.0 \\right\\rangle}^{-1} - EI u^{CF}_{z} {\\left\\langle x - 12.0 \\right\\rangle}^{-1} - 0.3 H^{BF} {\\left\\langle x - 2 \\right\\rangle}^{2} + 0.6 H^{BF} {\\left\\langle x - 7 \\right\\rangle}^{2} - 0.3 H^{BF} {\\left\\langle x - 7.0 \\right\\rangle}^{2} - 0.3 H^{CE} {\\left\\langle x - 4.5 \\right\\rangle}^{2} + 0.6 H^{CE} {\\left\\langle x - 7 \\right\\rangle}^{2} - 0.3 H^{CE} {\\left\\langle x - 12.0 \\right\\rangle}^{2} - 0.3 R_{h} {\\left\\langle x - 2 \\right\\rangle}^{2} + 0.6 R_{h} {\\left\\langle x - 7 \\right\\rangle}^{2} - \\frac{R_{v} {\\left\\langle x \\right\\rangle}^{2}}{2} + 0.1 R_{v} {\\left\\langle x - 2 \\right\\rangle}^{2} - T^{BF} {\\left\\langle x - 2 \\right\\rangle}^{1} + T^{BF} {\\left\\langle x - 7.0 \\right\\rangle}^{1} - T^{CE} {\\left\\langle x - 4.5 \\right\\rangle}^{1} + T^{CE} {\\left\\langle x - 12.0 \\right\\rangle}^{1} - T_{R} {\\left\\langle x \\right\\rangle}^{1} - 0.4 V^{BF} {\\left\\langle x - 2 \\right\\rangle}^{2} + 0.4 V^{BF} {\\left\\langle x - 7.0 \\right\\rangle}^{2} - 0.4 V^{CE} {\\left\\langle x - 4.5 \\right\\rangle}^{2} + 0.4 V^{CE} {\\left\\langle x - 12.0 \\right\\rangle}^{2} - 8.0 {\\left\\langle x - 7 \\right\\rangle}^{2} - 8.0 {\\left\\langle x - 12 \\right\\rangle}^{2} - 8.0 {\\left\\langle x - 14.5 \\right\\rangle}^{2}}{EI}$"
      ],
      "text/plain": [
       "C_phi + (C_M*x + C_V*x**2/2 - EI*phi^BD*SingularityFunction(x, 7.0, 0) - EI*phi^CF*SingularityFunction(x, 12.0, 0) - EI*u_z^BD*SingularityFunction(x, 7.0, -1) - EI*u_z^CF*SingularityFunction(x, 12.0, -1) - 0.3*H^BF*SingularityFunction(x, 2, 2) + 0.6*H^BF*SingularityFunction(x, 7, 2) - 0.3*H^BF*SingularityFunction(x, 7.0, 2) - 0.3*H^CE*SingularityFunction(x, 4.5, 2) + 0.6*H^CE*SingularityFunction(x, 7, 2) - 0.3*H^CE*SingularityFunction(x, 12.0, 2) - 0.3*R_h*SingularityFunction(x, 2, 2) + 0.6*R_h*SingularityFunction(x, 7, 2) - R_v*SingularityFunction(x, 0, 2)/2 + 0.1*R_v*SingularityFunction(x, 2, 2) - T^BF*SingularityFunction(x, 2, 1) + T^BF*SingularityFunction(x, 7.0, 1) - T^CE*SingularityFunction(x, 4.5, 1) + T^CE*SingularityFunction(x, 12.0, 1) - T_R*SingularityFunction(x, 0, 1) - 0.4*V^BF*SingularityFunction(x, 2, 2) + 0.4*V^BF*SingularityFunction(x, 7.0, 2) - 0.4*V^CE*SingularityFunction(x, 4.5, 2) + 0.4*V^CE*SingularityFunction(x, 12.0, 2) - 8.0*SingularityFunction(x, 7, 2) - 8.0*SingularityFunction(x, 12, 2) - 8.0*SingularityFunction(x, 14.5, 2))/EI"
      ]
     },
     "metadata": {},
     "output_type": "display_data"
    },
    {
     "data": {
      "text/latex": [
       "$\\displaystyle {u_z}=$"
      ],
      "text/plain": [
       "{u_z}="
      ]
     },
     "metadata": {},
     "output_type": "display_data"
    },
    {
     "data": {
      "text/latex": [
       "$\\displaystyle - C_{\\phi} x + C_{uz} - \\frac{\\frac{C_{M} x^{2}}{2} + \\frac{C_{V} x^{3}}{6} - EI \\phi^{BD} {\\left\\langle x - 7.0 \\right\\rangle}^{1} - EI \\phi^{CF} {\\left\\langle x - 12.0 \\right\\rangle}^{1} - EI u^{BD}_{z} {\\left\\langle x - 7.0 \\right\\rangle}^{0} - EI u^{CF}_{z} {\\left\\langle x - 12.0 \\right\\rangle}^{0} - 0.1 H^{BF} {\\left\\langle x - 2 \\right\\rangle}^{3} + 0.2 H^{BF} {\\left\\langle x - 7 \\right\\rangle}^{3} - 0.1 H^{BF} {\\left\\langle x - 7.0 \\right\\rangle}^{3} - 0.1 H^{CE} {\\left\\langle x - 4.5 \\right\\rangle}^{3} + 0.2 H^{CE} {\\left\\langle x - 7 \\right\\rangle}^{3} - 0.1 H^{CE} {\\left\\langle x - 12.0 \\right\\rangle}^{3} - 0.1 R_{h} {\\left\\langle x - 2 \\right\\rangle}^{3} + 0.2 R_{h} {\\left\\langle x - 7 \\right\\rangle}^{3} - \\frac{R_{v} {\\left\\langle x \\right\\rangle}^{3}}{6} + 0.0333333333333333 R_{v} {\\left\\langle x - 2 \\right\\rangle}^{3} - \\frac{T^{BF} {\\left\\langle x - 2 \\right\\rangle}^{2}}{2} + \\frac{T^{BF} {\\left\\langle x - 7.0 \\right\\rangle}^{2}}{2} - \\frac{T^{CE} {\\left\\langle x - 4.5 \\right\\rangle}^{2}}{2} + \\frac{T^{CE} {\\left\\langle x - 12.0 \\right\\rangle}^{2}}{2} - \\frac{T_{R} {\\left\\langle x \\right\\rangle}^{2}}{2} - 0.133333333333333 V^{BF} {\\left\\langle x - 2 \\right\\rangle}^{3} + 0.133333333333333 V^{BF} {\\left\\langle x - 7.0 \\right\\rangle}^{3} - 0.133333333333333 V^{CE} {\\left\\langle x - 4.5 \\right\\rangle}^{3} + 0.133333333333333 V^{CE} {\\left\\langle x - 12.0 \\right\\rangle}^{3} - 2.66666666666667 {\\left\\langle x - 7 \\right\\rangle}^{3} - 2.66666666666667 {\\left\\langle x - 12 \\right\\rangle}^{3} - 2.66666666666667 {\\left\\langle x - 14.5 \\right\\rangle}^{3}}{EI}$"
      ],
      "text/plain": [
       "-C_phi*x + C_uz - (C_M*x**2/2 + C_V*x**3/6 - EI*phi^BD*SingularityFunction(x, 7.0, 1) - EI*phi^CF*SingularityFunction(x, 12.0, 1) - EI*u_z^BD*SingularityFunction(x, 7.0, 0) - EI*u_z^CF*SingularityFunction(x, 12.0, 0) - 0.1*H^BF*SingularityFunction(x, 2, 3) + 0.2*H^BF*SingularityFunction(x, 7, 3) - 0.1*H^BF*SingularityFunction(x, 7.0, 3) - 0.1*H^CE*SingularityFunction(x, 4.5, 3) + 0.2*H^CE*SingularityFunction(x, 7, 3) - 0.1*H^CE*SingularityFunction(x, 12.0, 3) - 0.1*R_h*SingularityFunction(x, 2, 3) + 0.2*R_h*SingularityFunction(x, 7, 3) - R_v*SingularityFunction(x, 0, 3)/6 + 0.0333333333333333*R_v*SingularityFunction(x, 2, 3) - T^BF*SingularityFunction(x, 2, 2)/2 + T^BF*SingularityFunction(x, 7.0, 2)/2 - T^CE*SingularityFunction(x, 4.5, 2)/2 + T^CE*SingularityFunction(x, 12.0, 2)/2 - T_R*SingularityFunction(x, 0, 2)/2 - 0.133333333333333*V^BF*SingularityFunction(x, 2, 3) + 0.133333333333333*V^BF*SingularityFunction(x, 7.0, 3) - 0.133333333333333*V^CE*SingularityFunction(x, 4.5, 3) + 0.133333333333333*V^CE*SingularityFunction(x, 12.0, 3) - 2.66666666666667*SingularityFunction(x, 7, 3) - 2.66666666666667*SingularityFunction(x, 12, 3) - 2.66666666666667*SingularityFunction(x, 14.5, 3))/EI"
      ]
     },
     "metadata": {},
     "output_type": "display_data"
    },
    {
     "data": {
      "text/latex": [
       "$\\displaystyle {u_v}=$"
      ],
      "text/plain": [
       "{u_v}="
      ]
     },
     "metadata": {},
     "output_type": "display_data"
    },
    {
     "data": {
      "text/latex": [
       "$\\displaystyle C_{uz} + \\left(- C_{\\phi} x - \\frac{\\frac{C_{M} x^{2}}{2} + \\frac{C_{V} x^{3}}{6} - EI \\phi^{BD} {\\left\\langle x - 7.0 \\right\\rangle}^{1} - EI \\phi^{CF} {\\left\\langle x - 12.0 \\right\\rangle}^{1} - EI u^{BD}_{z} {\\left\\langle x - 7.0 \\right\\rangle}^{0} - EI u^{CF}_{z} {\\left\\langle x - 12.0 \\right\\rangle}^{0} - 0.1 H^{BF} {\\left\\langle x - 2 \\right\\rangle}^{3} + 0.2 H^{BF} {\\left\\langle x - 7 \\right\\rangle}^{3} - 0.1 H^{BF} {\\left\\langle x - 7.0 \\right\\rangle}^{3} - 0.1 H^{CE} {\\left\\langle x - 4.5 \\right\\rangle}^{3} + 0.2 H^{CE} {\\left\\langle x - 7 \\right\\rangle}^{3} - 0.1 H^{CE} {\\left\\langle x - 12.0 \\right\\rangle}^{3} - 0.1 R_{h} {\\left\\langle x - 2 \\right\\rangle}^{3} + 0.2 R_{h} {\\left\\langle x - 7 \\right\\rangle}^{3} - \\frac{R_{v} {\\left\\langle x \\right\\rangle}^{3}}{6} + 0.0333333333333333 R_{v} {\\left\\langle x - 2 \\right\\rangle}^{3} - \\frac{T^{BF} {\\left\\langle x - 2 \\right\\rangle}^{2}}{2} + \\frac{T^{BF} {\\left\\langle x - 7.0 \\right\\rangle}^{2}}{2} - \\frac{T^{CE} {\\left\\langle x - 4.5 \\right\\rangle}^{2}}{2} + \\frac{T^{CE} {\\left\\langle x - 12.0 \\right\\rangle}^{2}}{2} - \\frac{T_{R} {\\left\\langle x \\right\\rangle}^{2}}{2} - 0.133333333333333 V^{BF} {\\left\\langle x - 2 \\right\\rangle}^{3} + 0.133333333333333 V^{BF} {\\left\\langle x - 7.0 \\right\\rangle}^{3} - 0.133333333333333 V^{CE} {\\left\\langle x - 4.5 \\right\\rangle}^{3} + 0.133333333333333 V^{CE} {\\left\\langle x - 12.0 \\right\\rangle}^{3} - 2.66666666666667 {\\left\\langle x - 7 \\right\\rangle}^{3} - 2.66666666666667 {\\left\\langle x - 12 \\right\\rangle}^{3} - 2.66666666666667 {\\left\\langle x - 14.5 \\right\\rangle}^{3}}{EI}\\right) {\\left\\langle x \\right\\rangle}^{0} - 0.6 \\left(- \\frac{2 C_{N} - 2 R_{h}}{EA} + \\frac{C_{N} x - EA u^{BD}_{x} {\\left\\langle x - 7.0 \\right\\rangle}^{0} - EA u^{CF}_{x} {\\left\\langle x - 12.0 \\right\\rangle}^{0} - 0.8 H^{BF} {\\left\\langle x - 2 \\right\\rangle}^{1} + 0.8 H^{BF} {\\left\\langle x - 7.0 \\right\\rangle}^{1} - 0.8 H^{CE} {\\left\\langle x - 4.5 \\right\\rangle}^{1} + 0.8 H^{CE} {\\left\\langle x - 12.0 \\right\\rangle}^{1} - R_{h} {\\left\\langle x \\right\\rangle}^{1} + 0.2 R_{h} {\\left\\langle x - 2 \\right\\rangle}^{1} + 0.6 R_{v} {\\left\\langle x - 2 \\right\\rangle}^{1} - 1.2 R_{v} {\\left\\langle x - 7 \\right\\rangle}^{1} + 0.6 V^{BF} {\\left\\langle x - 2 \\right\\rangle}^{1} - 1.2 V^{BF} {\\left\\langle x - 7 \\right\\rangle}^{1} + 0.6 V^{BF} {\\left\\langle x - 7.0 \\right\\rangle}^{1} + 0.6 V^{CE} {\\left\\langle x - 4.5 \\right\\rangle}^{1} - 1.2 V^{CE} {\\left\\langle x - 7 \\right\\rangle}^{1} + 0.6 V^{CE} {\\left\\langle x - 12.0 \\right\\rangle}^{1} - 12.0 {\\left\\langle x - 7 \\right\\rangle}^{1} - 12.0 {\\left\\langle x - 12 \\right\\rangle}^{1} - 12.0 {\\left\\langle x - 14.5 \\right\\rangle}^{1}}{EA}\\right) {\\left\\langle x - 2 \\right\\rangle}^{0} + 1.2 \\left(- \\frac{7 C_{N} - 4.0 H^{BF} - 2.0 H^{CE} - 6.0 R_{h} + 3.0 R_{v} + 3.0 V^{BF} + 1.5 V^{CE}}{EA} + \\frac{C_{N} x - EA u^{BD}_{x} {\\left\\langle x - 7.0 \\right\\rangle}^{0} - EA u^{CF}_{x} {\\left\\langle x - 12.0 \\right\\rangle}^{0} - 0.8 H^{BF} {\\left\\langle x - 2 \\right\\rangle}^{1} + 0.8 H^{BF} {\\left\\langle x - 7.0 \\right\\rangle}^{1} - 0.8 H^{CE} {\\left\\langle x - 4.5 \\right\\rangle}^{1} + 0.8 H^{CE} {\\left\\langle x - 12.0 \\right\\rangle}^{1} - R_{h} {\\left\\langle x \\right\\rangle}^{1} + 0.2 R_{h} {\\left\\langle x - 2 \\right\\rangle}^{1} + 0.6 R_{v} {\\left\\langle x - 2 \\right\\rangle}^{1} - 1.2 R_{v} {\\left\\langle x - 7 \\right\\rangle}^{1} + 0.6 V^{BF} {\\left\\langle x - 2 \\right\\rangle}^{1} - 1.2 V^{BF} {\\left\\langle x - 7 \\right\\rangle}^{1} + 0.6 V^{BF} {\\left\\langle x - 7.0 \\right\\rangle}^{1} + 0.6 V^{CE} {\\left\\langle x - 4.5 \\right\\rangle}^{1} - 1.2 V^{CE} {\\left\\langle x - 7 \\right\\rangle}^{1} + 0.6 V^{CE} {\\left\\langle x - 12.0 \\right\\rangle}^{1} - 12.0 {\\left\\langle x - 7 \\right\\rangle}^{1} - 12.0 {\\left\\langle x - 12 \\right\\rangle}^{1} - 12.0 {\\left\\langle x - 14.5 \\right\\rangle}^{1}}{EA}\\right) {\\left\\langle x - 7 \\right\\rangle}^{0} - 0.6 \\left(- \\frac{14.5 C_{N} - EA u^{BD}_{x} - EA u^{CF}_{x} - 4.0 H^{BF} - 6.0 H^{CE} - 12.0 R_{h} - 1.5 R_{v} + 3.0 V^{BF} - 1.5 V^{CE} - 120.0}{EA} + \\frac{C_{N} x - EA u^{BD}_{x} {\\left\\langle x - 7.0 \\right\\rangle}^{0} - EA u^{CF}_{x} {\\left\\langle x - 12.0 \\right\\rangle}^{0} - 0.8 H^{BF} {\\left\\langle x - 2 \\right\\rangle}^{1} + 0.8 H^{BF} {\\left\\langle x - 7.0 \\right\\rangle}^{1} - 0.8 H^{CE} {\\left\\langle x - 4.5 \\right\\rangle}^{1} + 0.8 H^{CE} {\\left\\langle x - 12.0 \\right\\rangle}^{1} - R_{h} {\\left\\langle x \\right\\rangle}^{1} + 0.2 R_{h} {\\left\\langle x - 2 \\right\\rangle}^{1} + 0.6 R_{v} {\\left\\langle x - 2 \\right\\rangle}^{1} - 1.2 R_{v} {\\left\\langle x - 7 \\right\\rangle}^{1} + 0.6 V^{BF} {\\left\\langle x - 2 \\right\\rangle}^{1} - 1.2 V^{BF} {\\left\\langle x - 7 \\right\\rangle}^{1} + 0.6 V^{BF} {\\left\\langle x - 7.0 \\right\\rangle}^{1} + 0.6 V^{CE} {\\left\\langle x - 4.5 \\right\\rangle}^{1} - 1.2 V^{CE} {\\left\\langle x - 7 \\right\\rangle}^{1} + 0.6 V^{CE} {\\left\\langle x - 12.0 \\right\\rangle}^{1} - 12.0 {\\left\\langle x - 7 \\right\\rangle}^{1} - 12.0 {\\left\\langle x - 12 \\right\\rangle}^{1} - 12.0 {\\left\\langle x - 14.5 \\right\\rangle}^{1}}{EA}\\right) {\\left\\langle x - 14.5 \\right\\rangle}^{0} - 0.2 \\left(- C_{\\phi} x + 2 C_{\\phi} + \\frac{2 C_{M} + \\frac{4 C_{V}}{3} - \\frac{4 R_{v}}{3} - 2 T_{R}}{EI} - \\frac{\\frac{C_{M} x^{2}}{2} + \\frac{C_{V} x^{3}}{6} - EI \\phi^{BD} {\\left\\langle x - 7.0 \\right\\rangle}^{1} - EI \\phi^{CF} {\\left\\langle x - 12.0 \\right\\rangle}^{1} - EI u^{BD}_{z} {\\left\\langle x - 7.0 \\right\\rangle}^{0} - EI u^{CF}_{z} {\\left\\langle x - 12.0 \\right\\rangle}^{0} - 0.1 H^{BF} {\\left\\langle x - 2 \\right\\rangle}^{3} + 0.2 H^{BF} {\\left\\langle x - 7 \\right\\rangle}^{3} - 0.1 H^{BF} {\\left\\langle x - 7.0 \\right\\rangle}^{3} - 0.1 H^{CE} {\\left\\langle x - 4.5 \\right\\rangle}^{3} + 0.2 H^{CE} {\\left\\langle x - 7 \\right\\rangle}^{3} - 0.1 H^{CE} {\\left\\langle x - 12.0 \\right\\rangle}^{3} - 0.1 R_{h} {\\left\\langle x - 2 \\right\\rangle}^{3} + 0.2 R_{h} {\\left\\langle x - 7 \\right\\rangle}^{3} - \\frac{R_{v} {\\left\\langle x \\right\\rangle}^{3}}{6} + 0.0333333333333333 R_{v} {\\left\\langle x - 2 \\right\\rangle}^{3} - \\frac{T^{BF} {\\left\\langle x - 2 \\right\\rangle}^{2}}{2} + \\frac{T^{BF} {\\left\\langle x - 7.0 \\right\\rangle}^{2}}{2} - \\frac{T^{CE} {\\left\\langle x - 4.5 \\right\\rangle}^{2}}{2} + \\frac{T^{CE} {\\left\\langle x - 12.0 \\right\\rangle}^{2}}{2} - \\frac{T_{R} {\\left\\langle x \\right\\rangle}^{2}}{2} - 0.133333333333333 V^{BF} {\\left\\langle x - 2 \\right\\rangle}^{3} + 0.133333333333333 V^{BF} {\\left\\langle x - 7.0 \\right\\rangle}^{3} - 0.133333333333333 V^{CE} {\\left\\langle x - 4.5 \\right\\rangle}^{3} + 0.133333333333333 V^{CE} {\\left\\langle x - 12.0 \\right\\rangle}^{3} - 2.66666666666667 {\\left\\langle x - 7 \\right\\rangle}^{3} - 2.66666666666667 {\\left\\langle x - 12 \\right\\rangle}^{3} - 2.66666666666667 {\\left\\langle x - 14.5 \\right\\rangle}^{3}}{EI}\\right) {\\left\\langle x - 2 \\right\\rangle}^{0} - 0.8 \\left(- C_{\\phi} x + 14.5 C_{\\phi} + \\frac{105.125 C_{M} + 508.104166666667 C_{V} - 7.5 EI \\phi^{BD} - 2.5 EI \\phi^{CF} - EI u^{BD}_{z} - EI u^{CF}_{z} - 153.125 H^{BF} - 17.1875 H^{CE} - 110.9375 R_{h} - 443.0 R_{v} - 50.0 T^{BF} - 46.875 T^{CE} - 105.125 T_{R} - 204.166666666667 V^{BF} - 131.25 V^{CE} - 1166.66666666667}{EI} - \\frac{\\frac{C_{M} x^{2}}{2} + \\frac{C_{V} x^{3}}{6} - EI \\phi^{BD} {\\left\\langle x - 7.0 \\right\\rangle}^{1} - EI \\phi^{CF} {\\left\\langle x - 12.0 \\right\\rangle}^{1} - EI u^{BD}_{z} {\\left\\langle x - 7.0 \\right\\rangle}^{0} - EI u^{CF}_{z} {\\left\\langle x - 12.0 \\right\\rangle}^{0} - 0.1 H^{BF} {\\left\\langle x - 2 \\right\\rangle}^{3} + 0.2 H^{BF} {\\left\\langle x - 7 \\right\\rangle}^{3} - 0.1 H^{BF} {\\left\\langle x - 7.0 \\right\\rangle}^{3} - 0.1 H^{CE} {\\left\\langle x - 4.5 \\right\\rangle}^{3} + 0.2 H^{CE} {\\left\\langle x - 7 \\right\\rangle}^{3} - 0.1 H^{CE} {\\left\\langle x - 12.0 \\right\\rangle}^{3} - 0.1 R_{h} {\\left\\langle x - 2 \\right\\rangle}^{3} + 0.2 R_{h} {\\left\\langle x - 7 \\right\\rangle}^{3} - \\frac{R_{v} {\\left\\langle x \\right\\rangle}^{3}}{6} + 0.0333333333333333 R_{v} {\\left\\langle x - 2 \\right\\rangle}^{3} - \\frac{T^{BF} {\\left\\langle x - 2 \\right\\rangle}^{2}}{2} + \\frac{T^{BF} {\\left\\langle x - 7.0 \\right\\rangle}^{2}}{2} - \\frac{T^{CE} {\\left\\langle x - 4.5 \\right\\rangle}^{2}}{2} + \\frac{T^{CE} {\\left\\langle x - 12.0 \\right\\rangle}^{2}}{2} - \\frac{T_{R} {\\left\\langle x \\right\\rangle}^{2}}{2} - 0.133333333333333 V^{BF} {\\left\\langle x - 2 \\right\\rangle}^{3} + 0.133333333333333 V^{BF} {\\left\\langle x - 7.0 \\right\\rangle}^{3} - 0.133333333333333 V^{CE} {\\left\\langle x - 4.5 \\right\\rangle}^{3} + 0.133333333333333 V^{CE} {\\left\\langle x - 12.0 \\right\\rangle}^{3} - 2.66666666666667 {\\left\\langle x - 7 \\right\\rangle}^{3} - 2.66666666666667 {\\left\\langle x - 12 \\right\\rangle}^{3} - 2.66666666666667 {\\left\\langle x - 14.5 \\right\\rangle}^{3}}{EI}\\right) {\\left\\langle x - 14.5 \\right\\rangle}^{0}$"
      ],
      "text/plain": [
       "C_uz + (-C_phi*x - (C_M*x**2/2 + C_V*x**3/6 - EI*phi^BD*SingularityFunction(x, 7.0, 1) - EI*phi^CF*SingularityFunction(x, 12.0, 1) - EI*u_z^BD*SingularityFunction(x, 7.0, 0) - EI*u_z^CF*SingularityFunction(x, 12.0, 0) - 0.1*H^BF*SingularityFunction(x, 2, 3) + 0.2*H^BF*SingularityFunction(x, 7, 3) - 0.1*H^BF*SingularityFunction(x, 7.0, 3) - 0.1*H^CE*SingularityFunction(x, 4.5, 3) + 0.2*H^CE*SingularityFunction(x, 7, 3) - 0.1*H^CE*SingularityFunction(x, 12.0, 3) - 0.1*R_h*SingularityFunction(x, 2, 3) + 0.2*R_h*SingularityFunction(x, 7, 3) - R_v*SingularityFunction(x, 0, 3)/6 + 0.0333333333333333*R_v*SingularityFunction(x, 2, 3) - T^BF*SingularityFunction(x, 2, 2)/2 + T^BF*SingularityFunction(x, 7.0, 2)/2 - T^CE*SingularityFunction(x, 4.5, 2)/2 + T^CE*SingularityFunction(x, 12.0, 2)/2 - T_R*SingularityFunction(x, 0, 2)/2 - 0.133333333333333*V^BF*SingularityFunction(x, 2, 3) + 0.133333333333333*V^BF*SingularityFunction(x, 7.0, 3) - 0.133333333333333*V^CE*SingularityFunction(x, 4.5, 3) + 0.133333333333333*V^CE*SingularityFunction(x, 12.0, 3) - 2.66666666666667*SingularityFunction(x, 7, 3) - 2.66666666666667*SingularityFunction(x, 12, 3) - 2.66666666666667*SingularityFunction(x, 14.5, 3))/EI)*SingularityFunction(x, 0, 0) - 0.6*(-(2*C_N - 2*R_h)/EA + (C_N*x - EA*u_x^BD*SingularityFunction(x, 7.0, 0) - EA*u_x^CF*SingularityFunction(x, 12.0, 0) - 0.8*H^BF*SingularityFunction(x, 2, 1) + 0.8*H^BF*SingularityFunction(x, 7.0, 1) - 0.8*H^CE*SingularityFunction(x, 4.5, 1) + 0.8*H^CE*SingularityFunction(x, 12.0, 1) - R_h*SingularityFunction(x, 0, 1) + 0.2*R_h*SingularityFunction(x, 2, 1) + 0.6*R_v*SingularityFunction(x, 2, 1) - 1.2*R_v*SingularityFunction(x, 7, 1) + 0.6*V^BF*SingularityFunction(x, 2, 1) - 1.2*V^BF*SingularityFunction(x, 7, 1) + 0.6*V^BF*SingularityFunction(x, 7.0, 1) + 0.6*V^CE*SingularityFunction(x, 4.5, 1) - 1.2*V^CE*SingularityFunction(x, 7, 1) + 0.6*V^CE*SingularityFunction(x, 12.0, 1) - 12.0*SingularityFunction(x, 7, 1) - 12.0*SingularityFunction(x, 12, 1) - 12.0*SingularityFunction(x, 14.5, 1))/EA)*SingularityFunction(x, 2, 0) + 1.2*(-(7*C_N - 4.0*H^BF - 2.0*H^CE - 6.0*R_h + 3.0*R_v + 3.0*V^BF + 1.5*V^CE)/EA + (C_N*x - EA*u_x^BD*SingularityFunction(x, 7.0, 0) - EA*u_x^CF*SingularityFunction(x, 12.0, 0) - 0.8*H^BF*SingularityFunction(x, 2, 1) + 0.8*H^BF*SingularityFunction(x, 7.0, 1) - 0.8*H^CE*SingularityFunction(x, 4.5, 1) + 0.8*H^CE*SingularityFunction(x, 12.0, 1) - R_h*SingularityFunction(x, 0, 1) + 0.2*R_h*SingularityFunction(x, 2, 1) + 0.6*R_v*SingularityFunction(x, 2, 1) - 1.2*R_v*SingularityFunction(x, 7, 1) + 0.6*V^BF*SingularityFunction(x, 2, 1) - 1.2*V^BF*SingularityFunction(x, 7, 1) + 0.6*V^BF*SingularityFunction(x, 7.0, 1) + 0.6*V^CE*SingularityFunction(x, 4.5, 1) - 1.2*V^CE*SingularityFunction(x, 7, 1) + 0.6*V^CE*SingularityFunction(x, 12.0, 1) - 12.0*SingularityFunction(x, 7, 1) - 12.0*SingularityFunction(x, 12, 1) - 12.0*SingularityFunction(x, 14.5, 1))/EA)*SingularityFunction(x, 7, 0) - 0.6*(-(14.5*C_N - EA*u_x^BD - EA*u_x^CF - 4.0*H^BF - 6.0*H^CE - 12.0*R_h - 1.5*R_v + 3.0*V^BF - 1.5*V^CE - 120.0)/EA + (C_N*x - EA*u_x^BD*SingularityFunction(x, 7.0, 0) - EA*u_x^CF*SingularityFunction(x, 12.0, 0) - 0.8*H^BF*SingularityFunction(x, 2, 1) + 0.8*H^BF*SingularityFunction(x, 7.0, 1) - 0.8*H^CE*SingularityFunction(x, 4.5, 1) + 0.8*H^CE*SingularityFunction(x, 12.0, 1) - R_h*SingularityFunction(x, 0, 1) + 0.2*R_h*SingularityFunction(x, 2, 1) + 0.6*R_v*SingularityFunction(x, 2, 1) - 1.2*R_v*SingularityFunction(x, 7, 1) + 0.6*V^BF*SingularityFunction(x, 2, 1) - 1.2*V^BF*SingularityFunction(x, 7, 1) + 0.6*V^BF*SingularityFunction(x, 7.0, 1) + 0.6*V^CE*SingularityFunction(x, 4.5, 1) - 1.2*V^CE*SingularityFunction(x, 7, 1) + 0.6*V^CE*SingularityFunction(x, 12.0, 1) - 12.0*SingularityFunction(x, 7, 1) - 12.0*SingularityFunction(x, 12, 1) - 12.0*SingularityFunction(x, 14.5, 1))/EA)*SingularityFunction(x, 14.5, 0) - 0.2*(-C_phi*x + 2*C_phi + (2*C_M + 4*C_V/3 - 4*R_v/3 - 2*T_R)/EI - (C_M*x**2/2 + C_V*x**3/6 - EI*phi^BD*SingularityFunction(x, 7.0, 1) - EI*phi^CF*SingularityFunction(x, 12.0, 1) - EI*u_z^BD*SingularityFunction(x, 7.0, 0) - EI*u_z^CF*SingularityFunction(x, 12.0, 0) - 0.1*H^BF*SingularityFunction(x, 2, 3) + 0.2*H^BF*SingularityFunction(x, 7, 3) - 0.1*H^BF*SingularityFunction(x, 7.0, 3) - 0.1*H^CE*SingularityFunction(x, 4.5, 3) + 0.2*H^CE*SingularityFunction(x, 7, 3) - 0.1*H^CE*SingularityFunction(x, 12.0, 3) - 0.1*R_h*SingularityFunction(x, 2, 3) + 0.2*R_h*SingularityFunction(x, 7, 3) - R_v*SingularityFunction(x, 0, 3)/6 + 0.0333333333333333*R_v*SingularityFunction(x, 2, 3) - T^BF*SingularityFunction(x, 2, 2)/2 + T^BF*SingularityFunction(x, 7.0, 2)/2 - T^CE*SingularityFunction(x, 4.5, 2)/2 + T^CE*SingularityFunction(x, 12.0, 2)/2 - T_R*SingularityFunction(x, 0, 2)/2 - 0.133333333333333*V^BF*SingularityFunction(x, 2, 3) + 0.133333333333333*V^BF*SingularityFunction(x, 7.0, 3) - 0.133333333333333*V^CE*SingularityFunction(x, 4.5, 3) + 0.133333333333333*V^CE*SingularityFunction(x, 12.0, 3) - 2.66666666666667*SingularityFunction(x, 7, 3) - 2.66666666666667*SingularityFunction(x, 12, 3) - 2.66666666666667*SingularityFunction(x, 14.5, 3))/EI)*SingularityFunction(x, 2, 0) - 0.8*(-C_phi*x + 14.5*C_phi + (105.125*C_M + 508.104166666667*C_V - 7.5*EI*phi^BD - 2.5*EI*phi^CF - EI*u_z^BD - EI*u_z^CF - 153.125*H^BF - 17.1875*H^CE - 110.9375*R_h - 443.0*R_v - 50.0*T^BF - 46.875*T^CE - 105.125*T_R - 204.166666666667*V^BF - 131.25*V^CE - 1166.66666666667)/EI - (C_M*x**2/2 + C_V*x**3/6 - EI*phi^BD*SingularityFunction(x, 7.0, 1) - EI*phi^CF*SingularityFunction(x, 12.0, 1) - EI*u_z^BD*SingularityFunction(x, 7.0, 0) - EI*u_z^CF*SingularityFunction(x, 12.0, 0) - 0.1*H^BF*SingularityFunction(x, 2, 3) + 0.2*H^BF*SingularityFunction(x, 7, 3) - 0.1*H^BF*SingularityFunction(x, 7.0, 3) - 0.1*H^CE*SingularityFunction(x, 4.5, 3) + 0.2*H^CE*SingularityFunction(x, 7, 3) - 0.1*H^CE*SingularityFunction(x, 12.0, 3) - 0.1*R_h*SingularityFunction(x, 2, 3) + 0.2*R_h*SingularityFunction(x, 7, 3) - R_v*SingularityFunction(x, 0, 3)/6 + 0.0333333333333333*R_v*SingularityFunction(x, 2, 3) - T^BF*SingularityFunction(x, 2, 2)/2 + T^BF*SingularityFunction(x, 7.0, 2)/2 - T^CE*SingularityFunction(x, 4.5, 2)/2 + T^CE*SingularityFunction(x, 12.0, 2)/2 - T_R*SingularityFunction(x, 0, 2)/2 - 0.133333333333333*V^BF*SingularityFunction(x, 2, 3) + 0.133333333333333*V^BF*SingularityFunction(x, 7.0, 3) - 0.133333333333333*V^CE*SingularityFunction(x, 4.5, 3) + 0.133333333333333*V^CE*SingularityFunction(x, 12.0, 3) - 2.66666666666667*SingularityFunction(x, 7, 3) - 2.66666666666667*SingularityFunction(x, 12, 3) - 2.66666666666667*SingularityFunction(x, 14.5, 3))/EI)*SingularityFunction(x, 14.5, 0)"
      ]
     },
     "metadata": {},
     "output_type": "display_data"
    },
    {
     "data": {
      "text/latex": [
       "$\\displaystyle {u_h}=$"
      ],
      "text/plain": [
       "{u_h}="
      ]
     },
     "metadata": {},
     "output_type": "display_data"
    },
    {
     "data": {
      "text/latex": [
       "$\\displaystyle C_{ux} - 0.2 \\left(- \\frac{2 C_{N} - 2 R_{h}}{EA} + \\frac{C_{N} x - EA u^{BD}_{x} {\\left\\langle x - 7.0 \\right\\rangle}^{0} - EA u^{CF}_{x} {\\left\\langle x - 12.0 \\right\\rangle}^{0} - 0.8 H^{BF} {\\left\\langle x - 2 \\right\\rangle}^{1} + 0.8 H^{BF} {\\left\\langle x - 7.0 \\right\\rangle}^{1} - 0.8 H^{CE} {\\left\\langle x - 4.5 \\right\\rangle}^{1} + 0.8 H^{CE} {\\left\\langle x - 12.0 \\right\\rangle}^{1} - R_{h} {\\left\\langle x \\right\\rangle}^{1} + 0.2 R_{h} {\\left\\langle x - 2 \\right\\rangle}^{1} + 0.6 R_{v} {\\left\\langle x - 2 \\right\\rangle}^{1} - 1.2 R_{v} {\\left\\langle x - 7 \\right\\rangle}^{1} + 0.6 V^{BF} {\\left\\langle x - 2 \\right\\rangle}^{1} - 1.2 V^{BF} {\\left\\langle x - 7 \\right\\rangle}^{1} + 0.6 V^{BF} {\\left\\langle x - 7.0 \\right\\rangle}^{1} + 0.6 V^{CE} {\\left\\langle x - 4.5 \\right\\rangle}^{1} - 1.2 V^{CE} {\\left\\langle x - 7 \\right\\rangle}^{1} + 0.6 V^{CE} {\\left\\langle x - 12.0 \\right\\rangle}^{1} - 12.0 {\\left\\langle x - 7 \\right\\rangle}^{1} - 12.0 {\\left\\langle x - 12 \\right\\rangle}^{1} - 12.0 {\\left\\langle x - 14.5 \\right\\rangle}^{1}}{EA}\\right) {\\left\\langle x - 2 \\right\\rangle}^{0} - 0.8 \\left(- \\frac{14.5 C_{N} - EA u^{BD}_{x} - EA u^{CF}_{x} - 4.0 H^{BF} - 6.0 H^{CE} - 12.0 R_{h} - 1.5 R_{v} + 3.0 V^{BF} - 1.5 V^{CE} - 120.0}{EA} + \\frac{C_{N} x - EA u^{BD}_{x} {\\left\\langle x - 7.0 \\right\\rangle}^{0} - EA u^{CF}_{x} {\\left\\langle x - 12.0 \\right\\rangle}^{0} - 0.8 H^{BF} {\\left\\langle x - 2 \\right\\rangle}^{1} + 0.8 H^{BF} {\\left\\langle x - 7.0 \\right\\rangle}^{1} - 0.8 H^{CE} {\\left\\langle x - 4.5 \\right\\rangle}^{1} + 0.8 H^{CE} {\\left\\langle x - 12.0 \\right\\rangle}^{1} - R_{h} {\\left\\langle x \\right\\rangle}^{1} + 0.2 R_{h} {\\left\\langle x - 2 \\right\\rangle}^{1} + 0.6 R_{v} {\\left\\langle x - 2 \\right\\rangle}^{1} - 1.2 R_{v} {\\left\\langle x - 7 \\right\\rangle}^{1} + 0.6 V^{BF} {\\left\\langle x - 2 \\right\\rangle}^{1} - 1.2 V^{BF} {\\left\\langle x - 7 \\right\\rangle}^{1} + 0.6 V^{BF} {\\left\\langle x - 7.0 \\right\\rangle}^{1} + 0.6 V^{CE} {\\left\\langle x - 4.5 \\right\\rangle}^{1} - 1.2 V^{CE} {\\left\\langle x - 7 \\right\\rangle}^{1} + 0.6 V^{CE} {\\left\\langle x - 12.0 \\right\\rangle}^{1} - 12.0 {\\left\\langle x - 7 \\right\\rangle}^{1} - 12.0 {\\left\\langle x - 12 \\right\\rangle}^{1} - 12.0 {\\left\\langle x - 14.5 \\right\\rangle}^{1}}{EA}\\right) {\\left\\langle x - 14.5 \\right\\rangle}^{0} + 0.6 \\left(- C_{\\phi} x + 2 C_{\\phi} + \\frac{2 C_{M} + \\frac{4 C_{V}}{3} - \\frac{4 R_{v}}{3} - 2 T_{R}}{EI} - \\frac{\\frac{C_{M} x^{2}}{2} + \\frac{C_{V} x^{3}}{6} - EI \\phi^{BD} {\\left\\langle x - 7.0 \\right\\rangle}^{1} - EI \\phi^{CF} {\\left\\langle x - 12.0 \\right\\rangle}^{1} - EI u^{BD}_{z} {\\left\\langle x - 7.0 \\right\\rangle}^{0} - EI u^{CF}_{z} {\\left\\langle x - 12.0 \\right\\rangle}^{0} - 0.1 H^{BF} {\\left\\langle x - 2 \\right\\rangle}^{3} + 0.2 H^{BF} {\\left\\langle x - 7 \\right\\rangle}^{3} - 0.1 H^{BF} {\\left\\langle x - 7.0 \\right\\rangle}^{3} - 0.1 H^{CE} {\\left\\langle x - 4.5 \\right\\rangle}^{3} + 0.2 H^{CE} {\\left\\langle x - 7 \\right\\rangle}^{3} - 0.1 H^{CE} {\\left\\langle x - 12.0 \\right\\rangle}^{3} - 0.1 R_{h} {\\left\\langle x - 2 \\right\\rangle}^{3} + 0.2 R_{h} {\\left\\langle x - 7 \\right\\rangle}^{3} - \\frac{R_{v} {\\left\\langle x \\right\\rangle}^{3}}{6} + 0.0333333333333333 R_{v} {\\left\\langle x - 2 \\right\\rangle}^{3} - \\frac{T^{BF} {\\left\\langle x - 2 \\right\\rangle}^{2}}{2} + \\frac{T^{BF} {\\left\\langle x - 7.0 \\right\\rangle}^{2}}{2} - \\frac{T^{CE} {\\left\\langle x - 4.5 \\right\\rangle}^{2}}{2} + \\frac{T^{CE} {\\left\\langle x - 12.0 \\right\\rangle}^{2}}{2} - \\frac{T_{R} {\\left\\langle x \\right\\rangle}^{2}}{2} - 0.133333333333333 V^{BF} {\\left\\langle x - 2 \\right\\rangle}^{3} + 0.133333333333333 V^{BF} {\\left\\langle x - 7.0 \\right\\rangle}^{3} - 0.133333333333333 V^{CE} {\\left\\langle x - 4.5 \\right\\rangle}^{3} + 0.133333333333333 V^{CE} {\\left\\langle x - 12.0 \\right\\rangle}^{3} - 2.66666666666667 {\\left\\langle x - 7 \\right\\rangle}^{3} - 2.66666666666667 {\\left\\langle x - 12 \\right\\rangle}^{3} - 2.66666666666667 {\\left\\langle x - 14.5 \\right\\rangle}^{3}}{EI}\\right) {\\left\\langle x - 2 \\right\\rangle}^{0} - 1.2 \\left(- C_{\\phi} x + 7 C_{\\phi} + \\frac{\\frac{49 C_{M}}{2} + \\frac{343 C_{V}}{6} - 12.5 H^{BF} - 1.5625 H^{CE} - 12.5 R_{h} - 53.0 R_{v} - \\frac{25 T^{BF}}{2} - 3.125 T^{CE} - \\frac{49 T_{R}}{2} - 16.6666666666667 V^{BF} - 2.08333333333333 V^{CE}}{EI} - \\frac{\\frac{C_{M} x^{2}}{2} + \\frac{C_{V} x^{3}}{6} - EI \\phi^{BD} {\\left\\langle x - 7.0 \\right\\rangle}^{1} - EI \\phi^{CF} {\\left\\langle x - 12.0 \\right\\rangle}^{1} - EI u^{BD}_{z} {\\left\\langle x - 7.0 \\right\\rangle}^{0} - EI u^{CF}_{z} {\\left\\langle x - 12.0 \\right\\rangle}^{0} - 0.1 H^{BF} {\\left\\langle x - 2 \\right\\rangle}^{3} + 0.2 H^{BF} {\\left\\langle x - 7 \\right\\rangle}^{3} - 0.1 H^{BF} {\\left\\langle x - 7.0 \\right\\rangle}^{3} - 0.1 H^{CE} {\\left\\langle x - 4.5 \\right\\rangle}^{3} + 0.2 H^{CE} {\\left\\langle x - 7 \\right\\rangle}^{3} - 0.1 H^{CE} {\\left\\langle x - 12.0 \\right\\rangle}^{3} - 0.1 R_{h} {\\left\\langle x - 2 \\right\\rangle}^{3} + 0.2 R_{h} {\\left\\langle x - 7 \\right\\rangle}^{3} - \\frac{R_{v} {\\left\\langle x \\right\\rangle}^{3}}{6} + 0.0333333333333333 R_{v} {\\left\\langle x - 2 \\right\\rangle}^{3} - \\frac{T^{BF} {\\left\\langle x - 2 \\right\\rangle}^{2}}{2} + \\frac{T^{BF} {\\left\\langle x - 7.0 \\right\\rangle}^{2}}{2} - \\frac{T^{CE} {\\left\\langle x - 4.5 \\right\\rangle}^{2}}{2} + \\frac{T^{CE} {\\left\\langle x - 12.0 \\right\\rangle}^{2}}{2} - \\frac{T_{R} {\\left\\langle x \\right\\rangle}^{2}}{2} - 0.133333333333333 V^{BF} {\\left\\langle x - 2 \\right\\rangle}^{3} + 0.133333333333333 V^{BF} {\\left\\langle x - 7.0 \\right\\rangle}^{3} - 0.133333333333333 V^{CE} {\\left\\langle x - 4.5 \\right\\rangle}^{3} + 0.133333333333333 V^{CE} {\\left\\langle x - 12.0 \\right\\rangle}^{3} - 2.66666666666667 {\\left\\langle x - 7 \\right\\rangle}^{3} - 2.66666666666667 {\\left\\langle x - 12 \\right\\rangle}^{3} - 2.66666666666667 {\\left\\langle x - 14.5 \\right\\rangle}^{3}}{EI}\\right) {\\left\\langle x - 7 \\right\\rangle}^{0} + 0.6 \\left(- C_{\\phi} x + 14.5 C_{\\phi} + \\frac{105.125 C_{M} + 508.104166666667 C_{V} - 7.5 EI \\phi^{BD} - 2.5 EI \\phi^{CF} - EI u^{BD}_{z} - EI u^{CF}_{z} - 153.125 H^{BF} - 17.1875 H^{CE} - 110.9375 R_{h} - 443.0 R_{v} - 50.0 T^{BF} - 46.875 T^{CE} - 105.125 T_{R} - 204.166666666667 V^{BF} - 131.25 V^{CE} - 1166.66666666667}{EI} - \\frac{\\frac{C_{M} x^{2}}{2} + \\frac{C_{V} x^{3}}{6} - EI \\phi^{BD} {\\left\\langle x - 7.0 \\right\\rangle}^{1} - EI \\phi^{CF} {\\left\\langle x - 12.0 \\right\\rangle}^{1} - EI u^{BD}_{z} {\\left\\langle x - 7.0 \\right\\rangle}^{0} - EI u^{CF}_{z} {\\left\\langle x - 12.0 \\right\\rangle}^{0} - 0.1 H^{BF} {\\left\\langle x - 2 \\right\\rangle}^{3} + 0.2 H^{BF} {\\left\\langle x - 7 \\right\\rangle}^{3} - 0.1 H^{BF} {\\left\\langle x - 7.0 \\right\\rangle}^{3} - 0.1 H^{CE} {\\left\\langle x - 4.5 \\right\\rangle}^{3} + 0.2 H^{CE} {\\left\\langle x - 7 \\right\\rangle}^{3} - 0.1 H^{CE} {\\left\\langle x - 12.0 \\right\\rangle}^{3} - 0.1 R_{h} {\\left\\langle x - 2 \\right\\rangle}^{3} + 0.2 R_{h} {\\left\\langle x - 7 \\right\\rangle}^{3} - \\frac{R_{v} {\\left\\langle x \\right\\rangle}^{3}}{6} + 0.0333333333333333 R_{v} {\\left\\langle x - 2 \\right\\rangle}^{3} - \\frac{T^{BF} {\\left\\langle x - 2 \\right\\rangle}^{2}}{2} + \\frac{T^{BF} {\\left\\langle x - 7.0 \\right\\rangle}^{2}}{2} - \\frac{T^{CE} {\\left\\langle x - 4.5 \\right\\rangle}^{2}}{2} + \\frac{T^{CE} {\\left\\langle x - 12.0 \\right\\rangle}^{2}}{2} - \\frac{T_{R} {\\left\\langle x \\right\\rangle}^{2}}{2} - 0.133333333333333 V^{BF} {\\left\\langle x - 2 \\right\\rangle}^{3} + 0.133333333333333 V^{BF} {\\left\\langle x - 7.0 \\right\\rangle}^{3} - 0.133333333333333 V^{CE} {\\left\\langle x - 4.5 \\right\\rangle}^{3} + 0.133333333333333 V^{CE} {\\left\\langle x - 12.0 \\right\\rangle}^{3} - 2.66666666666667 {\\left\\langle x - 7 \\right\\rangle}^{3} - 2.66666666666667 {\\left\\langle x - 12 \\right\\rangle}^{3} - 2.66666666666667 {\\left\\langle x - 14.5 \\right\\rangle}^{3}}{EI}\\right) {\\left\\langle x - 14.5 \\right\\rangle}^{0} + \\frac{\\left(C_{N} x - EA u^{BD}_{x} {\\left\\langle x - 7.0 \\right\\rangle}^{0} - EA u^{CF}_{x} {\\left\\langle x - 12.0 \\right\\rangle}^{0} - 0.8 H^{BF} {\\left\\langle x - 2 \\right\\rangle}^{1} + 0.8 H^{BF} {\\left\\langle x - 7.0 \\right\\rangle}^{1} - 0.8 H^{CE} {\\left\\langle x - 4.5 \\right\\rangle}^{1} + 0.8 H^{CE} {\\left\\langle x - 12.0 \\right\\rangle}^{1} - R_{h} {\\left\\langle x \\right\\rangle}^{1} + 0.2 R_{h} {\\left\\langle x - 2 \\right\\rangle}^{1} + 0.6 R_{v} {\\left\\langle x - 2 \\right\\rangle}^{1} - 1.2 R_{v} {\\left\\langle x - 7 \\right\\rangle}^{1} + 0.6 V^{BF} {\\left\\langle x - 2 \\right\\rangle}^{1} - 1.2 V^{BF} {\\left\\langle x - 7 \\right\\rangle}^{1} + 0.6 V^{BF} {\\left\\langle x - 7.0 \\right\\rangle}^{1} + 0.6 V^{CE} {\\left\\langle x - 4.5 \\right\\rangle}^{1} - 1.2 V^{CE} {\\left\\langle x - 7 \\right\\rangle}^{1} + 0.6 V^{CE} {\\left\\langle x - 12.0 \\right\\rangle}^{1} - 12.0 {\\left\\langle x - 7 \\right\\rangle}^{1} - 12.0 {\\left\\langle x - 12 \\right\\rangle}^{1} - 12.0 {\\left\\langle x - 14.5 \\right\\rangle}^{1}\\right) {\\left\\langle x \\right\\rangle}^{0}}{EA}$"
      ],
      "text/plain": [
       "C_ux - 0.2*(-(2*C_N - 2*R_h)/EA + (C_N*x - EA*u_x^BD*SingularityFunction(x, 7.0, 0) - EA*u_x^CF*SingularityFunction(x, 12.0, 0) - 0.8*H^BF*SingularityFunction(x, 2, 1) + 0.8*H^BF*SingularityFunction(x, 7.0, 1) - 0.8*H^CE*SingularityFunction(x, 4.5, 1) + 0.8*H^CE*SingularityFunction(x, 12.0, 1) - R_h*SingularityFunction(x, 0, 1) + 0.2*R_h*SingularityFunction(x, 2, 1) + 0.6*R_v*SingularityFunction(x, 2, 1) - 1.2*R_v*SingularityFunction(x, 7, 1) + 0.6*V^BF*SingularityFunction(x, 2, 1) - 1.2*V^BF*SingularityFunction(x, 7, 1) + 0.6*V^BF*SingularityFunction(x, 7.0, 1) + 0.6*V^CE*SingularityFunction(x, 4.5, 1) - 1.2*V^CE*SingularityFunction(x, 7, 1) + 0.6*V^CE*SingularityFunction(x, 12.0, 1) - 12.0*SingularityFunction(x, 7, 1) - 12.0*SingularityFunction(x, 12, 1) - 12.0*SingularityFunction(x, 14.5, 1))/EA)*SingularityFunction(x, 2, 0) - 0.8*(-(14.5*C_N - EA*u_x^BD - EA*u_x^CF - 4.0*H^BF - 6.0*H^CE - 12.0*R_h - 1.5*R_v + 3.0*V^BF - 1.5*V^CE - 120.0)/EA + (C_N*x - EA*u_x^BD*SingularityFunction(x, 7.0, 0) - EA*u_x^CF*SingularityFunction(x, 12.0, 0) - 0.8*H^BF*SingularityFunction(x, 2, 1) + 0.8*H^BF*SingularityFunction(x, 7.0, 1) - 0.8*H^CE*SingularityFunction(x, 4.5, 1) + 0.8*H^CE*SingularityFunction(x, 12.0, 1) - R_h*SingularityFunction(x, 0, 1) + 0.2*R_h*SingularityFunction(x, 2, 1) + 0.6*R_v*SingularityFunction(x, 2, 1) - 1.2*R_v*SingularityFunction(x, 7, 1) + 0.6*V^BF*SingularityFunction(x, 2, 1) - 1.2*V^BF*SingularityFunction(x, 7, 1) + 0.6*V^BF*SingularityFunction(x, 7.0, 1) + 0.6*V^CE*SingularityFunction(x, 4.5, 1) - 1.2*V^CE*SingularityFunction(x, 7, 1) + 0.6*V^CE*SingularityFunction(x, 12.0, 1) - 12.0*SingularityFunction(x, 7, 1) - 12.0*SingularityFunction(x, 12, 1) - 12.0*SingularityFunction(x, 14.5, 1))/EA)*SingularityFunction(x, 14.5, 0) + 0.6*(-C_phi*x + 2*C_phi + (2*C_M + 4*C_V/3 - 4*R_v/3 - 2*T_R)/EI - (C_M*x**2/2 + C_V*x**3/6 - EI*phi^BD*SingularityFunction(x, 7.0, 1) - EI*phi^CF*SingularityFunction(x, 12.0, 1) - EI*u_z^BD*SingularityFunction(x, 7.0, 0) - EI*u_z^CF*SingularityFunction(x, 12.0, 0) - 0.1*H^BF*SingularityFunction(x, 2, 3) + 0.2*H^BF*SingularityFunction(x, 7, 3) - 0.1*H^BF*SingularityFunction(x, 7.0, 3) - 0.1*H^CE*SingularityFunction(x, 4.5, 3) + 0.2*H^CE*SingularityFunction(x, 7, 3) - 0.1*H^CE*SingularityFunction(x, 12.0, 3) - 0.1*R_h*SingularityFunction(x, 2, 3) + 0.2*R_h*SingularityFunction(x, 7, 3) - R_v*SingularityFunction(x, 0, 3)/6 + 0.0333333333333333*R_v*SingularityFunction(x, 2, 3) - T^BF*SingularityFunction(x, 2, 2)/2 + T^BF*SingularityFunction(x, 7.0, 2)/2 - T^CE*SingularityFunction(x, 4.5, 2)/2 + T^CE*SingularityFunction(x, 12.0, 2)/2 - T_R*SingularityFunction(x, 0, 2)/2 - 0.133333333333333*V^BF*SingularityFunction(x, 2, 3) + 0.133333333333333*V^BF*SingularityFunction(x, 7.0, 3) - 0.133333333333333*V^CE*SingularityFunction(x, 4.5, 3) + 0.133333333333333*V^CE*SingularityFunction(x, 12.0, 3) - 2.66666666666667*SingularityFunction(x, 7, 3) - 2.66666666666667*SingularityFunction(x, 12, 3) - 2.66666666666667*SingularityFunction(x, 14.5, 3))/EI)*SingularityFunction(x, 2, 0) - 1.2*(-C_phi*x + 7*C_phi + (49*C_M/2 + 343*C_V/6 - 12.5*H^BF - 1.5625*H^CE - 12.5*R_h - 53.0*R_v - 25*T^BF/2 - 3.125*T^CE - 49*T_R/2 - 16.6666666666667*V^BF - 2.08333333333333*V^CE)/EI - (C_M*x**2/2 + C_V*x**3/6 - EI*phi^BD*SingularityFunction(x, 7.0, 1) - EI*phi^CF*SingularityFunction(x, 12.0, 1) - EI*u_z^BD*SingularityFunction(x, 7.0, 0) - EI*u_z^CF*SingularityFunction(x, 12.0, 0) - 0.1*H^BF*SingularityFunction(x, 2, 3) + 0.2*H^BF*SingularityFunction(x, 7, 3) - 0.1*H^BF*SingularityFunction(x, 7.0, 3) - 0.1*H^CE*SingularityFunction(x, 4.5, 3) + 0.2*H^CE*SingularityFunction(x, 7, 3) - 0.1*H^CE*SingularityFunction(x, 12.0, 3) - 0.1*R_h*SingularityFunction(x, 2, 3) + 0.2*R_h*SingularityFunction(x, 7, 3) - R_v*SingularityFunction(x, 0, 3)/6 + 0.0333333333333333*R_v*SingularityFunction(x, 2, 3) - T^BF*SingularityFunction(x, 2, 2)/2 + T^BF*SingularityFunction(x, 7.0, 2)/2 - T^CE*SingularityFunction(x, 4.5, 2)/2 + T^CE*SingularityFunction(x, 12.0, 2)/2 - T_R*SingularityFunction(x, 0, 2)/2 - 0.133333333333333*V^BF*SingularityFunction(x, 2, 3) + 0.133333333333333*V^BF*SingularityFunction(x, 7.0, 3) - 0.133333333333333*V^CE*SingularityFunction(x, 4.5, 3) + 0.133333333333333*V^CE*SingularityFunction(x, 12.0, 3) - 2.66666666666667*SingularityFunction(x, 7, 3) - 2.66666666666667*SingularityFunction(x, 12, 3) - 2.66666666666667*SingularityFunction(x, 14.5, 3))/EI)*SingularityFunction(x, 7, 0) + 0.6*(-C_phi*x + 14.5*C_phi + (105.125*C_M + 508.104166666667*C_V - 7.5*EI*phi^BD - 2.5*EI*phi^CF - EI*u_z^BD - EI*u_z^CF - 153.125*H^BF - 17.1875*H^CE - 110.9375*R_h - 443.0*R_v - 50.0*T^BF - 46.875*T^CE - 105.125*T_R - 204.166666666667*V^BF - 131.25*V^CE - 1166.66666666667)/EI - (C_M*x**2/2 + C_V*x**3/6 - EI*phi^BD*SingularityFunction(x, 7.0, 1) - EI*phi^CF*SingularityFunction(x, 12.0, 1) - EI*u_z^BD*SingularityFunction(x, 7.0, 0) - EI*u_z^CF*SingularityFunction(x, 12.0, 0) - 0.1*H^BF*SingularityFunction(x, 2, 3) + 0.2*H^BF*SingularityFunction(x, 7, 3) - 0.1*H^BF*SingularityFunction(x, 7.0, 3) - 0.1*H^CE*SingularityFunction(x, 4.5, 3) + 0.2*H^CE*SingularityFunction(x, 7, 3) - 0.1*H^CE*SingularityFunction(x, 12.0, 3) - 0.1*R_h*SingularityFunction(x, 2, 3) + 0.2*R_h*SingularityFunction(x, 7, 3) - R_v*SingularityFunction(x, 0, 3)/6 + 0.0333333333333333*R_v*SingularityFunction(x, 2, 3) - T^BF*SingularityFunction(x, 2, 2)/2 + T^BF*SingularityFunction(x, 7.0, 2)/2 - T^CE*SingularityFunction(x, 4.5, 2)/2 + T^CE*SingularityFunction(x, 12.0, 2)/2 - T_R*SingularityFunction(x, 0, 2)/2 - 0.133333333333333*V^BF*SingularityFunction(x, 2, 3) + 0.133333333333333*V^BF*SingularityFunction(x, 7.0, 3) - 0.133333333333333*V^CE*SingularityFunction(x, 4.5, 3) + 0.133333333333333*V^CE*SingularityFunction(x, 12.0, 3) - 2.66666666666667*SingularityFunction(x, 7, 3) - 2.66666666666667*SingularityFunction(x, 12, 3) - 2.66666666666667*SingularityFunction(x, 14.5, 3))/EI)*SingularityFunction(x, 14.5, 0) + (C_N*x - EA*u_x^BD*SingularityFunction(x, 7.0, 0) - EA*u_x^CF*SingularityFunction(x, 12.0, 0) - 0.8*H^BF*SingularityFunction(x, 2, 1) + 0.8*H^BF*SingularityFunction(x, 7.0, 1) - 0.8*H^CE*SingularityFunction(x, 4.5, 1) + 0.8*H^CE*SingularityFunction(x, 12.0, 1) - R_h*SingularityFunction(x, 0, 1) + 0.2*R_h*SingularityFunction(x, 2, 1) + 0.6*R_v*SingularityFunction(x, 2, 1) - 1.2*R_v*SingularityFunction(x, 7, 1) + 0.6*V^BF*SingularityFunction(x, 2, 1) - 1.2*V^BF*SingularityFunction(x, 7, 1) + 0.6*V^BF*SingularityFunction(x, 7.0, 1) + 0.6*V^CE*SingularityFunction(x, 4.5, 1) - 1.2*V^CE*SingularityFunction(x, 7, 1) + 0.6*V^CE*SingularityFunction(x, 12.0, 1) - 12.0*SingularityFunction(x, 7, 1) - 12.0*SingularityFunction(x, 12, 1) - 12.0*SingularityFunction(x, 14.5, 1))*SingularityFunction(x, 0, 0)/EA"
      ]
     },
     "metadata": {},
     "output_type": "display_data"
    }
   ],
   "source": [
    "V = -sym.integrate(qz.expand(), x) + CV\n",
    "M = sym.integrate(V, x) + CM\n",
    "kappa = M / EI\n",
    "phi = sym.integrate(kappa, x) + Cphi\n",
    "uz = -sym.integrate(phi, x) + Cuz\n",
    "\n",
    "N = -sym.integrate(qx.expand(), x) + CN\n",
    "epsilon = N / EA\n",
    "ux = sym.integrate(epsilon, x) + Cux\n",
    "\n",
    "uvz = uz.subs(x,0) * sym.cos(o0)\n",
    "uvx = -ux.subs(x,0) * sym.sin(o0)\n",
    "for i in range(len(oo)):\n",
    "    uvz += ((uz - uz.subs(x,aa[i])) * sym.SingularityFunction(x,aa[i],0) - (uz - uz.subs(x,aa[i+1])) * sym.SingularityFunction(x,aa[i+1],0)) * sym.cos(oo[i])\n",
    "    uvx += -((ux - ux.subs(x,aa[i])) * sym.SingularityFunction(x,aa[i],0) - (ux - ux.subs(x,aa[i+1])) * sym.SingularityFunction(x,aa[i+1],0)) * sym.sin(oo[i])\n",
    "uv = uvz + uvx\n",
    "\n",
    "uhz = uz.subs(x,0) * sym.sin(o0)\n",
    "uhx = ux.subs(x,0) * sym.cos(o0)\n",
    "for i in range(len(oo)):\n",
    "    uhz += ((uz - uz.subs(x,aa[i])) * sym.SingularityFunction(x,aa[i],0) - (uz - uz.subs(x,aa[i+1])) * sym.SingularityFunction(x,aa[i+1],0)) * sym.sin(oo[i])\n",
    "    uhx += ((ux - ux.subs(x,aa[i])) * sym.SingularityFunction(x,aa[i],0) - (ux - ux.subs(x,aa[i+1])) * sym.SingularityFunction(x,aa[i+1],0)) * sym.cos(oo[i])\n",
    "uh = uhz + uhx\n",
    "\n",
    "display(sym.symbols('{N}='), N)\n",
    "display(sym.symbols('{V}='), V)\n",
    "display(sym.symbols('{M}='), M)\n",
    "display(sym.symbols('{u_x}='), ux)\n",
    "display(sym.symbols('{\\phi}='), phi)\n",
    "display(sym.symbols('{u_z}='), uz)\n",
    "display(sym.symbols('{u_v}='), uv)\n",
    "display(sym.symbols('{u_h}='), uh)"
   ]
  },
  {
   "cell_type": "code",
   "execution_count": 6,
   "id": "b66d2ce6-b615-466b-8d6a-cdd98ae6291e",
   "metadata": {},
   "outputs": [],
   "source": [
    "# 3 reactiekrachten + 6 knoopkrachten + 4 scharnieren + 6 integratieconstanten = 19 voorwaarden\n",
    "Eq1 = sym.Eq(N.subs(x,a0-dx),0)\n",
    "Eq2 = sym.Eq(N.subs(x,a3+dx),0)\n",
    "Eq3 = sym.Eq(N.subs(x,a5+dx),0)\n",
    "Eq4 = sym.Eq(V.subs(x,0-dx),0)\n",
    "Eq5 = sym.Eq(V.subs(x,a3+dx),0)\n",
    "Eq6 = sym.Eq(V.subs(x,a5+dx),0)\n",
    "Eq7 = sym.Eq(M.subs(x,a0-dx),0)\n",
    "Eq8 = sym.Eq(M.subs(x,a1+dx),0)\n",
    "Eq9 = sym.Eq(M.subs(x,a2+dx),0)\n",
    "Eq10 = sym.Eq(M.subs(x,a3+dx),0)\n",
    "Eq11 = sym.Eq(M.subs(x,a4+dx),0)\n",
    "Eq12 = sym.Eq(M.subs(x,a5+dx),0)\n",
    "Eq13 = sym.Eq(uv.subs(x,a0),0)\n",
    "Eq14 = sym.Eq(uv.subs(x,a1),0)\n",
    "Eq15 = sym.Eq(uv.subs(x,a3)-uv.subs(x,a0),0)\n",
    "Eq16 = sym.Eq(uv.subs(x,a5)-uv.subs(x,a2),0)\n",
    "Eq17 = sym.Eq(uh.subs(x,a0),0)\n",
    "Eq18 = sym.Eq(uh.subs(x,a3)-uh.subs(x,a0),0)\n",
    "Eq19 = sym.Eq(uh.subs(x,a5)-uh.subs(x,a2),0)"
   ]
  },
  {
   "cell_type": "code",
   "execution_count": 7,
   "id": "d96d4aa1-abb8-4778-a802-93d64a112a30",
   "metadata": {},
   "outputs": [
    {
     "data": {
      "text/plain": [
       "{C_M: 0.0,\n",
       " C_N: 0.0,\n",
       " C_V: 0.0,\n",
       " C_phi: -5.25486924121805e-45/EI,\n",
       " C_uh: 0.0,\n",
       " C_uv: 0.0,\n",
       " H^BC: -30.0000000000000,\n",
       " H^BD: -4.21884749357561e-14,\n",
       " H^CD: -30.0000000000000,\n",
       " R_h^B: 30.0000000000000,\n",
       " R_v^A: -80.0000000000001,\n",
       " R_v^B: 40.0000000000001,\n",
       " V^BC: -40.0000000000000,\n",
       " V^BD: -9.53311503811469e-14,\n",
       " V^CD: 9.53311503811469e-14,\n",
       " phi_s^A: 1.25e-201*(-1.00974195868289e+172*EA - 1.68666666666666e+203*EI)/(EA*EI),\n",
       " phi_s^BD: 5.62500000000001e-201*(1.47371826676167e+187*EA - 1.06666666666666e+202*EI)/(EA*EI),\n",
       " phi_s^CB: 3.12500000000001e-175*(1.42108547152019e+161*EA + 1.2e+176*EI)/(EA*EI),\n",
       " phi_s^D: 6.25000000000001e-202*(-2.37794968901048e+188*EA + 2.02666666666666e+203*EI)/(EA*EI)}"
      ]
     },
     "metadata": {},
     "output_type": "display_data"
    }
   ],
   "source": [
    "sol = sym.solve((Eq1,Eq2,Eq3,Eq4,Eq5,Eq6,Eq7,Eq8,Eq9,Eq10,Eq11,Eq12,Eq13,Eq14,Eq15,Eq16,Eq17,Eq18,Eq19),(RvA,RvB,RhB,VBC,HBC,VBD,HBD,VCD,HCD,phisA,phisCB,phisBD,phisD,CN,CV,CM,Cphi,Cuz,Cux))\n",
    "display(sol)"
   ]
  },
  {
   "cell_type": "code",
   "execution_count": 8,
   "id": "5ec30373-3db9-4fee-b3fa-e265e04350c1",
   "metadata": {},
   "outputs": [
    {
     "data": {
      "text/plain": [
       "'R_v^A = -80.00'"
      ]
     },
     "metadata": {},
     "output_type": "display_data"
    },
    {
     "data": {
      "text/plain": [
       "'R_v^B = 40.00'"
      ]
     },
     "metadata": {},
     "output_type": "display_data"
    },
    {
     "data": {
      "text/plain": [
       "'R_h^B = 30.00'"
      ]
     },
     "metadata": {},
     "output_type": "display_data"
    },
    {
     "data": {
      "text/plain": [
       "'V^BC = -40.00'"
      ]
     },
     "metadata": {},
     "output_type": "display_data"
    },
    {
     "data": {
      "text/plain": [
       "'H^BC = -30.00'"
      ]
     },
     "metadata": {},
     "output_type": "display_data"
    },
    {
     "data": {
      "text/plain": [
       "'V^BD = -0.00'"
      ]
     },
     "metadata": {},
     "output_type": "display_data"
    },
    {
     "data": {
      "text/plain": [
       "'H^BD = -0.00'"
      ]
     },
     "metadata": {},
     "output_type": "display_data"
    },
    {
     "data": {
      "text/plain": [
       "'V^CD = 0.00'"
      ]
     },
     "metadata": {},
     "output_type": "display_data"
    },
    {
     "data": {
      "text/plain": [
       "'H^CD = -30.00'"
      ]
     },
     "metadata": {},
     "output_type": "display_data"
    },
    {
     "data": {
      "text/plain": [
       "'phi_s^A = -0.2108'"
      ]
     },
     "metadata": {},
     "output_type": "display_data"
    },
    {
     "data": {
      "text/plain": [
       "'phi_s^CB = 0.0375'"
      ]
     },
     "metadata": {},
     "output_type": "display_data"
    },
    {
     "data": {
      "text/plain": [
       "'phi_s^BD = -0.0600'"
      ]
     },
     "metadata": {},
     "output_type": "display_data"
    },
    {
     "data": {
      "text/plain": [
       "'phi_s^D = 0.1267'"
      ]
     },
     "metadata": {},
     "output_type": "display_data"
    },
    {
     "data": {
      "text/plain": [
       "'C_V = 0.00'"
      ]
     },
     "metadata": {},
     "output_type": "display_data"
    },
    {
     "data": {
      "text/plain": [
       "'C_M = 0.00'"
      ]
     },
     "metadata": {},
     "output_type": "display_data"
    },
    {
     "data": {
      "text/plain": [
       "'C_phi = -0.0000'"
      ]
     },
     "metadata": {},
     "output_type": "display_data"
    },
    {
     "data": {
      "text/plain": [
       "'C_uv = 0.00'"
      ]
     },
     "metadata": {},
     "output_type": "display_data"
    },
    {
     "data": {
      "text/plain": [
       "'C_uh = 0.00'"
      ]
     },
     "metadata": {},
     "output_type": "display_data"
    },
    {
     "data": {
      "text/plain": [
       "'C_N = 0.00'"
      ]
     },
     "metadata": {},
     "output_type": "display_data"
    }
   ],
   "source": [
    "ea = 10**3\n",
    "ei = 3*10**3\n",
    "\n",
    "display(f'{RvA} = {RvA.subs(sol).subs(EI,ei).subs(EA,ea):.2f}')\n",
    "display(f'{RvB} = {RvB.subs(sol).subs(EI,ei).subs(EA,ea):.2f}')\n",
    "display(f'{RhB} = {RhB.subs(sol).subs(EI,ei).subs(EA,ea):.2f}')\n",
    "\n",
    "display(f'{VBC} = {VBC.subs(sol).subs(EI,ei).subs(EA,ea):.2f}')\n",
    "display(f'{HBC} = {HBC.subs(sol).subs(EI,ei).subs(EA,ea):.2f}')\n",
    "display(f'{VBD} = {VBD.subs(sol).subs(EI,ei).subs(EA,ea):.2f}')\n",
    "display(f'{HBD} = {HBD.subs(sol).subs(EI,ei).subs(EA,ea):.2f}')\n",
    "display(f'{VCD} = {VCD.subs(sol).subs(EI,ei).subs(EA,ea):.2f}')\n",
    "display(f'{HCD} = {HCD.subs(sol).subs(EI,ei).subs(EA,ea):.2f}')\n",
    "\n",
    "display(f'{phisA} = {phisA.subs(sol).subs(EI,ei).subs(EA,ea):.4f}')\n",
    "display(f'{phisCB} = {phisCB.subs(sol).subs(EI,ei).subs(EA,ea):.4f}')\n",
    "display(f'{phisBD} = {phisBD.subs(sol).subs(EI,ei).subs(EA,ea):.4f}')\n",
    "display(f'{phisD} = {phisD.subs(sol).subs(EI,ei).subs(EA,ea):.4f}')\n",
    "\n",
    "display(f'{CN} = {CN.subs(sol).subs(EI,ei).subs(EA,ea):.2f}')\n",
    "display(f'{CV} = {CV.subs(sol).subs(EI,ei).subs(EA,ea):.2f}')\n",
    "display(f'{CM} = {CM.subs(sol).subs(EI,ei).subs(EA,ea):.2f}')\n",
    "display(f'{Cphi} = {Cphi.subs(sol).subs(EI,ei).subs(EA,ea):.4f}')\n",
    "display(f'{Cux} = {Cux.subs(sol).subs(EI,ei).subs(EA,ea):.2f}')\n",
    "display(f'{Cuz} = {Cuz.subs(sol).subs(EI,ei).subs(EA,ea):.2f}')"
   ]
  },
  {
   "cell_type": "code",
   "execution_count": 9,
   "id": "cee762a4-809e-4305-ac61-51ab1f8648c2",
   "metadata": {},
   "outputs": [],
   "source": [
    "vBE, hBE = sym.symbols('v^BE h^BE')\n",
    "vv = [vBE]\n",
    "hh = [hBE]\n",
    "v = 0\n",
    "h = 0\n",
    "for i in range(len(oo)):\n",
    "    v += -(sym.SingularityFunction(x,aa[i],1) - sym.SingularityFunction(x,aa[i+1],1)) * sym.sin(oo[i])\n",
    "    h += (sym.SingularityFunction(x,aa[i],1) - sym.SingularityFunction(x,aa[i+1],1)) * sym.cos(oo[i])\n",
    "for i in range(len(ss)):\n",
    "    v += vv[i] * sym.SingularityFunction(x,ss[i],0)\n",
    "    h += hh[i] * sym.SingularityFunction(x,ss[i],0)\n",
    "\n",
    "# 0 X 0 sprongen = 0 onbekenden"
   ]
  },
  {
   "cell_type": "code",
   "execution_count": 10,
   "id": "73a817a7-b311-4aae-981c-737ff6bd9a12",
   "metadata": {},
   "outputs": [],
   "source": [
    "L = aa[-1]\n",
    "x_np = np.linspace(0-dx,L+dx,10000)\n",
    "ab = aa\n",
    "ab.extend(bb)\n",
    "ab.sort()\n",
    "ab = list(dict.fromkeys(ab))"
   ]
  },
  {
   "cell_type": "code",
   "execution_count": 11,
   "id": "ad5800e2-5ba3-4e11-9014-2c0d518638ad",
   "metadata": {},
   "outputs": [
    {
     "data": {
      "text/latex": [
       "$\\displaystyle - 80.0000000000001 {\\left\\langle x - 3 \\right\\rangle}^{0} + 130.0 {\\left\\langle x - 7 \\right\\rangle}^{0} - 49.9999999999999 {\\left\\langle x - 12 \\right\\rangle}^{0} + 9.53311503811469 \\cdot 10^{-14} {\\left\\langle x - 12.0 \\right\\rangle}^{0} - 30.0000000000001 {\\left\\langle x - 16 \\right\\rangle}^{0} + 30.0 {\\left\\langle x - 19 \\right\\rangle}^{0}$"
      ],
      "text/plain": [
       "-80.0000000000001*SingularityFunction(x, 3, 0) + 130.0*SingularityFunction(x, 7, 0) - 49.9999999999999*SingularityFunction(x, 12, 0) + 9.53311503811469e-14*SingularityFunction(x, 12.0, 0) - 30.0000000000001*SingularityFunction(x, 16, 0) + 30.0*SingularityFunction(x, 19, 0)"
      ]
     },
     "metadata": {},
     "output_type": "display_data"
    },
    {
     "data": {
      "text/plain": [
       "'N(0) = 0 [kN]'"
      ]
     },
     "metadata": {},
     "output_type": "display_data"
    },
    {
     "data": {
      "text/plain": [
       "'N(3) = -80.0000000000001 [kN]'"
      ]
     },
     "metadata": {},
     "output_type": "display_data"
    },
    {
     "data": {
      "text/plain": [
       "'N(7) = 49.9999999999999 [kN]'"
      ]
     },
     "metadata": {},
     "output_type": "display_data"
    },
    {
     "data": {
      "text/plain": [
       "'N(7.000000000000004) = 49.9999999999999 [kN]'"
      ]
     },
     "metadata": {},
     "output_type": "display_data"
    },
    {
     "data": {
      "text/plain": [
       "'N(12) = -1.26217744835362E-29 [kN]'"
      ]
     },
     "metadata": {},
     "output_type": "display_data"
    },
    {
     "data": {
      "text/plain": [
       "'N(12.000000000000004) = 9.53311503811469E-14 [kN]'"
      ]
     },
     "metadata": {},
     "output_type": "display_data"
    },
    {
     "data": {
      "text/plain": [
       "'N(16) = -30.0000000000000 [kN]'"
      ]
     },
     "metadata": {},
     "output_type": "display_data"
    },
    {
     "data": {
      "text/plain": [
       "'N(19) = 3.55271367880049E-15 [kN]'"
      ]
     },
     "metadata": {},
     "output_type": "display_data"
    },
    {
     "data": {
      "image/png": "[encoded data removed]",
      "text/plain": [
       "<Figure size 1000x400 with 1 Axes>"
      ]
     },
     "metadata": {},
     "output_type": "display_data"
    }
   ],
   "source": [
    "N_np = sym.lambdify(x, N.subs(sol).subs(EI,ei).subs(EA,ea).rewrite(sym.Piecewise))\n",
    "display(N.subs(sol).subs(EI,ei).subs(EA,ea))\n",
    "\n",
    "for i in range(len(ab)):\n",
    "    display(f'N({ab[i]}) = {N.subs(x,ab[i]).subs(sol).subs(EI,ei).subs(EA,ea)} [kN]')\n",
    "\n",
    "plt.figure(figsize=(10,4))\n",
    "plt.plot(x_np,N_np(x_np))\n",
    "plt.xlabel('$x$')\n",
    "plt.ylabel('$N$');\n",
    "ax = plt.gca()\n",
    "ax.spines['right'].set_color('none')\n",
    "ax.spines['top'].set_color('none')\n",
    "ax.spines['bottom'].set_position('zero')\n",
    "ax.spines['left'].set_position('zero')\n",
    "ax.invert_yaxis()"
   ]
  },
  {
   "cell_type": "code",
   "execution_count": 12,
   "id": "48b76cf8-43a5-404d-96c1-c7378039f35b",
   "metadata": {},
   "outputs": [
    {
     "data": {
      "text/latex": [
       "$\\displaystyle - 2.96059473233392 \\cdot 10^{-15} {\\left\\langle x \\right\\rangle}^{0} + 632.5 {\\left\\langle x - 3 \\right\\rangle}^{-2} + 2.96059473233392 \\cdot 10^{-15} {\\left\\langle x - 3 \\right\\rangle}^{0} + 3.5527136788005 \\cdot 10^{-14} {\\left\\langle x - 7 \\right\\rangle}^{0} - 112.5 {\\left\\langle x - 7.0 \\right\\rangle}^{-2} - 2.1316282072803 \\cdot 10^{-14} {\\left\\langle x - 12 \\right\\rangle}^{0} + 180.0 {\\left\\langle x - 12.0 \\right\\rangle}^{-2} - 4.21884749357561 \\cdot 10^{-14} {\\left\\langle x - 12.0 \\right\\rangle}^{0} - 379.999999999999 {\\left\\langle x - 16 \\right\\rangle}^{-2} + 1.37963714526753 \\cdot 10^{-13} {\\left\\langle x - 16 \\right\\rangle}^{0} - 9.53311503811469 \\cdot 10^{-14} {\\left\\langle x - 19 \\right\\rangle}^{0}$"
      ],
      "text/plain": [
       "-2.96059473233392e-15*SingularityFunction(x, 0, 0) + 632.5*SingularityFunction(x, 3, -2) + 2.96059473233392e-15*SingularityFunction(x, 3, 0) + 3.5527136788005e-14*SingularityFunction(x, 7, 0) - 112.5*SingularityFunction(x, 7.0, -2) - 2.1316282072803e-14*SingularityFunction(x, 12, 0) + 180.0*SingularityFunction(x, 12.0, -2) - 4.21884749357561e-14*SingularityFunction(x, 12.0, 0) - 379.999999999999*SingularityFunction(x, 16, -2) + 1.37963714526753e-13*SingularityFunction(x, 16, 0) - 9.53311503811469e-14*SingularityFunction(x, 19, 0)"
      ]
     },
     "metadata": {},
     "output_type": "display_data"
    },
    {
     "data": {
      "text/plain": [
       "'V(0) = -2.96059473233392E-15 [kN]'"
      ]
     },
     "metadata": {},
     "output_type": "display_data"
    },
    {
     "data": {
      "text/plain": [
       "'V(3) = 0 [kN]'"
      ]
     },
     "metadata": {},
     "output_type": "display_data"
    },
    {
     "data": {
      "text/plain": [
       "'V(7) = 7.10542735760100E-15 [kN]'"
      ]
     },
     "metadata": {},
     "output_type": "display_data"
    },
    {
     "data": {
      "text/plain": [
       "'V(7.000000000000004) = 7.10542735760100E-15 [kN]'"
      ]
     },
     "metadata": {},
     "output_type": "display_data"
    },
    {
     "data": {
      "text/plain": [
       "'V(12) = -3.55271367880050E-15 [kN]'"
      ]
     },
     "metadata": {},
     "output_type": "display_data"
    },
    {
     "data": {
      "text/plain": [
       "'V(12.000000000000004) = -4.61852778244065E-14 [kN]'"
      ]
     },
     "metadata": {},
     "output_type": "display_data"
    },
    {
     "data": {
      "text/plain": [
       "'V(16) = 9.53311503811469E-14 [kN]'"
      ]
     },
     "metadata": {},
     "output_type": "display_data"
    },
    {
     "data": {
      "text/plain": [
       "'V(19) = 0 [kN]'"
      ]
     },
     "metadata": {},
     "output_type": "display_data"
    },
    {
     "data": {
      "image/png": "[encoded data removed]",
      "text/plain": [
       "<Figure size 1000x400 with 1 Axes>"
      ]
     },
     "metadata": {},
     "output_type": "display_data"
    }
   ],
   "source": [
    "V_np = sym.lambdify(x, V.subs(sol).subs(EI,ei).subs(EA,ea).rewrite(sym.Piecewise))\n",
    "display(V.subs(sol).subs(EI,ei).subs(EA,ea))\n",
    "\n",
    "for i in range(len(ab)):\n",
    "    display(f'V({ab[i]}) = {V.subs(x,ab[i]+dx).subs(sol).subs(EI,ei).subs(EA,ea)} [kN]')\n",
    "\n",
    "plt.figure(figsize=(10,4))\n",
    "plt.plot(x_np,V_np(x_np))\n",
    "plt.xlabel('$x$')\n",
    "plt.ylabel('$V$');\n",
    "ax = plt.gca()\n",
    "ax.spines['right'].set_color('none')\n",
    "ax.spines['top'].set_color('none')\n",
    "ax.spines['bottom'].set_position('zero')\n",
    "ax.spines['left'].set_position('zero')\n",
    "ax.invert_yaxis()"
   ]
  },
  {
   "cell_type": "code",
   "execution_count": 13,
   "id": "43c2ee33-53de-46a2-be24-428c29f5f21d",
   "metadata": {},
   "outputs": [
    {
     "data": {
      "text/plain": [
       "'M(0) = 0.0 [kNm]'"
      ]
     },
     "metadata": {},
     "output_type": "display_data"
    },
    {
     "data": {
      "text/plain": [
       "'M(3) = oo [kNm]'"
      ]
     },
     "metadata": {},
     "output_type": "display_data"
    },
    {
     "data": {
      "text/plain": [
       "'M(7) = -1.77635683940076E-15 [kNm]'"
      ]
     },
     "metadata": {},
     "output_type": "display_data"
    },
    {
     "data": {
      "text/plain": [
       "'M(7.000000000000004) = -oo [kNm]'"
      ]
     },
     "metadata": {},
     "output_type": "display_data"
    },
    {
     "data": {
      "text/plain": [
       "'M(12) = 8.34887714518113E-14 [kNm]'"
      ]
     },
     "metadata": {},
     "output_type": "display_data"
    },
    {
     "data": {
      "text/plain": [
       "'M(12.000000000000004) = oo [kNm]'"
      ]
     },
     "metadata": {},
     "output_type": "display_data"
    },
    {
     "data": {
      "text/plain": [
       "'M(16) = -oo [kNm]'"
      ]
     },
     "metadata": {},
     "output_type": "display_data"
    },
    {
     "data": {
      "text/plain": [
       "'M(19) = 8.52651282912120E-14 [kNm]'"
      ]
     },
     "metadata": {},
     "output_type": "display_data"
    },
    {
     "data": {
      "image/png": "[encoded data removed]",
      "text/plain": [
       "<Figure size 1000x400 with 1 Axes>"
      ]
     },
     "metadata": {},
     "output_type": "display_data"
    }
   ],
   "source": [
    "M_np = sym.lambdify(x, M.subs(sol).subs(EI,ei).subs(EA,ea).rewrite(sym.Piecewise))\n",
    "\n",
    "for i in range(len(ab)):\n",
    "    display(f'M({ab[i]}) = {M.subs(x,ab[i]).subs(sol).subs(EI,ei).subs(EA,ea)} [kNm]')\n",
    "\n",
    "plt.figure(figsize=(10,4))\n",
    "plt.plot(x_np,M_np(x_np))\n",
    "plt.xlabel('$x$')\n",
    "plt.ylabel('$M$');\n",
    "ax = plt.gca()\n",
    "ax.spines['right'].set_color('none')\n",
    "ax.spines['top'].set_color('none')\n",
    "ax.spines['bottom'].set_position('zero')\n",
    "ax.spines['left'].set_position('zero')\n",
    "ax.invert_yaxis()"
   ]
  },
  {
   "cell_type": "code",
   "execution_count": 14,
   "id": "8895a8e1-55c5-492d-b840-816f7259a439",
   "metadata": {},
   "outputs": [
    {
     "data": {
      "text/plain": [
       "'uv(0.0) = 0.0000 [m]'"
      ]
     },
     "metadata": {},
     "output_type": "display_data"
    },
    {
     "data": {
      "text/plain": [
       "'uv(3.0) = -0.0000 [m]'"
      ]
     },
     "metadata": {},
     "output_type": "display_data"
    },
    {
     "data": {
      "text/plain": [
       "'uv(7.0) = 0.3200 [m]'"
      ]
     },
     "metadata": {},
     "output_type": "display_data"
    },
    {
     "data": {
      "text/plain": [
       "'uv(7.0) = 0.3200 [m]'"
      ]
     },
     "metadata": {},
     "output_type": "display_data"
    },
    {
     "data": {
      "text/plain": [
       "'uv(12.0) = 0.0000 [m]'"
      ]
     },
     "metadata": {},
     "output_type": "display_data"
    },
    {
     "data": {
      "text/plain": [
       "'uv(12.0) = 0.0000 [m]'"
      ]
     },
     "metadata": {},
     "output_type": "display_data"
    },
    {
     "data": {
      "text/plain": [
       "'uv(16.0) = -0.0000 [m]'"
      ]
     },
     "metadata": {},
     "output_type": "display_data"
    },
    {
     "data": {
      "text/plain": [
       "'uv(19.0) = 0.3200 [m]'"
      ]
     },
     "metadata": {},
     "output_type": "display_data"
    },
    {
     "data": {
      "text/plain": [
       "'uh(0.0) = 0.0000 [m]'"
      ]
     },
     "metadata": {},
     "output_type": "display_data"
    },
    {
     "data": {
      "text/plain": [
       "'uh(3.0) = 0.0000 [m]'"
      ]
     },
     "metadata": {},
     "output_type": "display_data"
    },
    {
     "data": {
      "text/plain": [
       "'uh(7.0) = -0.8433 [m]'"
      ]
     },
     "metadata": {},
     "output_type": "display_data"
    },
    {
     "data": {
      "text/plain": [
       "'uh(7.0) = -0.8433 [m]'"
      ]
     },
     "metadata": {},
     "output_type": "display_data"
    },
    {
     "data": {
      "text/plain": [
       "'uh(12.0) = 0.0000 [m]'"
      ]
     },
     "metadata": {},
     "output_type": "display_data"
    },
    {
     "data": {
      "text/plain": [
       "'uh(12.0) = -0.0000 [m]'"
      ]
     },
     "metadata": {},
     "output_type": "display_data"
    },
    {
     "data": {
      "text/plain": [
       "'uh(16.0) = -0.9333 [m]'"
      ]
     },
     "metadata": {},
     "output_type": "display_data"
    },
    {
     "data": {
      "text/plain": [
       "'uh(19.0) = -0.8433 [m]'"
      ]
     },
     "metadata": {},
     "output_type": "display_data"
    },
    {
     "data": {
      "image/png": "[encoded data removed]",
      "text/plain": [
       "<Figure size 600x600 with 1 Axes>"
      ]
     },
     "metadata": {},
     "output_type": "display_data"
    }
   ],
   "source": [
    "v_np = sym.lambdify(x, v.rewrite(sym.Piecewise))\n",
    "h_np = sym.lambdify(x, h.rewrite(sym.Piecewise))\n",
    "\n",
    "uv_np = sym.lambdify(x, uv.subs(sol).subs(EI,ei).subs(EA,ea).rewrite(sym.Piecewise))\n",
    "uh_np = sym.lambdify(x, uh.subs(sol).subs(EI,ei).subs(EA,ea).rewrite(sym.Piecewise))\n",
    "\n",
    "#display(uv.subs(sol))\n",
    "for i in range(len(ab)):\n",
    "    display(f'uv({ab[i]:.1f}) = {uv.subs(x,ab[i]).subs(sol).subs(EI,ei).subs(EA,ea):.4f} [m]')\n",
    "\n",
    "for i in range(len(ab)):\n",
    "    display(f'uh({ab[i]:.1f}) = {uh.subs(x,ab[i]).subs(sol).subs(EI,ei).subs(EA,ea):.4f} [m]')\n",
    "\n",
    "plt.figure(figsize=(6,6))\n",
    "plt.plot(h_np(x_np),v_np(x_np), marker='.',markersize=1, linewidth=0, color='black', label='constructie')\n",
    "plt.plot((h_np(x_np)+uh_np(x_np)),(v_np(x_np)+uv_np(x_np)), marker='.',markersize=0.5, linewidth=0, label='vervormde constructie')\n",
    "plt.xlabel('$h$')\n",
    "plt.ylabel('$v$');\n",
    "ax = plt.gca()\n",
    "ax.spines['right'].set_color('none')\n",
    "ax.spines['top'].set_color('none')\n",
    "ax.spines['bottom'].set_position('zero')\n",
    "ax.spines['left'].set_position('zero')\n",
    "ax.invert_yaxis()\n",
    "plt.axis('scaled')\n",
    "ax.legend(loc='upper center', bbox_to_anchor=(0.5, -0.05),fancybox=True, shadow=False, ncol=3);"
   ]
  },
  {
   "cell_type": "code",
   "execution_count": null,
   "id": "7e03e9da-2e11-4ec7-a8e8-102237e5c0b3",
   "metadata": {},
   "outputs": [],
   "source": []
  }
 ],
 "metadata": {
  "kernelspec": {
   "display_name": "Python 3 (ipykernel)",
   "language": "python",
   "name": "python3"
  },
  "language_info": {
   "codemirror_mode": {
    "name": "ipython",
    "version": 3
   },
   "file_extension": ".py",
   "mimetype": "text/x-python",
   "name": "python",
   "nbconvert_exporter": "python",
   "pygments_lexer": "ipython3",
   "version": "3.12.3"
  }
 },
 "nbformat": 4,
 "nbformat_minor": 5
}
