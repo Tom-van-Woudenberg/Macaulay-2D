{
 "cells": [
  {
   "cell_type": "code",
   "execution_count": 245,
   "id": "0ecf5346-5046-4efa-b8e1-4198de2994d5",
   "metadata": {},
   "outputs": [],
   "source": [
    "import sympy as sym\n",
    "import numpy as np\n",
    "import matplotlib.pyplot as plt\n",
    "%config InlineBackend.figure_formats = ['svg']\n"
   ]
  },
  {
   "cell_type": "code",
   "execution_count": 246,
   "id": "485a47e2-1432-4262-9f64-8a281b0404d8",
   "metadata": {},
   "outputs": [],
   "source": [
    "# algemene gegevens\n",
    "x = sym.symbols('x')\n",
    "EI, EA = sym.symbols('EI EA')\n",
    "CV, CM, Cphi, Cuz, CN, Cux = sym.symbols('C_V C_M C_phi C_uz C_N C_ux') \n",
    "dx = 10**-15\n",
    "\n",
    "# gegevens constructie\n",
    "a0, a1, a2, a3 = 0, 4, 9, 14\n",
    "aa = np.array([a0, a1, a2, a3])\n",
    "o0, o1, o2 = 0, sym.atan(3/4), sym.atan(-4/3)\n",
    "oo = np.array([o0, o1, o2])\n",
    "L = 14\n",
    "\n",
    "# gegevens belastingen\n",
    "Fh, qv, Fv = 15, 6, 16\n",
    "Rv, Rh, Tr = sym.symbols('R_v R_h T_R')\n",
    "B = np.array([Fh, qv, -qv, Fv, Rv, Rh, Tr])\n",
    "b1, b2, b3, b4 = 0, 2, 6.5, 14\n",
    "bb = np.array([b1, b1, b3, b2, b4, b4, b4])\n",
    "# K = 1, Fv = 2, Fh = 3, qv = 4, qh = 5\n",
    "nn = np.array([3, 4, 4, 2, 2, 3, 1])"
   ]
  },
  {
   "cell_type": "code",
   "execution_count": 247,
   "id": "33716208-fd92-439d-9eb0-a5dd933dae38",
   "metadata": {},
   "outputs": [
    {
     "data": {
      "text/latex": [
       "$\\displaystyle {q_z}=$"
      ],
      "text/plain": [
       "{q_z}="
      ]
     },
     "metadata": {},
     "output_type": "display_data"
    },
    {
     "data": {
      "text/latex": [
       "$\\displaystyle - 0.8 R_{h} {\\left\\langle x - 14.0 \\right\\rangle}^{-1} + 0.6 R_{v} {\\left\\langle x - 14.0 \\right\\rangle}^{-1} + T_{R} {\\left\\langle x - 14.0 \\right\\rangle}^{-2} + 6 {\\left\\langle x \\right\\rangle}^{0} + 16 {\\left\\langle x - 2.0 \\right\\rangle}^{-1} + 1.0 {\\left\\langle x - 4 \\right\\rangle}^{-1} - 1.2 {\\left\\langle x - 4 \\right\\rangle}^{0} - 4.8 {\\left\\langle x - 6.5 \\right\\rangle}^{0} - 32.0 {\\left\\langle x - 9 \\right\\rangle}^{-1}$"
      ],
      "text/plain": [
       "-0.8*R_h*SingularityFunction(x, 14.0, -1) + 0.6*R_v*SingularityFunction(x, 14.0, -1) + T_R*SingularityFunction(x, 14.0, -2) + 6*SingularityFunction(x, 0.0, 0) + 16*SingularityFunction(x, 2.0, -1) + 1.0*SingularityFunction(x, 4, -1) - 1.2*SingularityFunction(x, 4, 0) - 4.8*SingularityFunction(x, 6.5, 0) - 32.0*SingularityFunction(x, 9, -1)"
      ]
     },
     "metadata": {},
     "output_type": "display_data"
    }
   ],
   "source": [
    "#qz opstellen\n",
    "qz = 0\n",
    "\n",
    "#beginpunten\n",
    "for i in range(len(B)):\n",
    "    for j in range(len(aa)):\n",
    "        if bb[i] == aa[-1]:\n",
    "            if nn[i] == 1:\n",
    "                qz += B[i] * sym.SingularityFunction(x,bb[i],-2)\n",
    "            if nn[i] == 2:\n",
    "                qz += B[i] * sym.SingularityFunction(x,bb[i],-1) * sym.cos(oo[-1])\n",
    "            if nn[i] == 3:\n",
    "                qz += B[i] * sym.SingularityFunction(x,bb[i],-1) * sym.sin(oo[-1])\n",
    "            if nn[i] == 4:\n",
    "                qz += B[i] * sym.SingularityFunction(x,bb[i],0) * sym.cos(oo[-1])\n",
    "            if nn[i] == 5:\n",
    "                qz += B[i] * sym.SingularityFunction(x,bb[i],0) * sym.sin(oo[-1])\n",
    "            break\n",
    "        else:\n",
    "            if bb[i] < aa[j]:\n",
    "                if nn[i] == 1:\n",
    "                    qz += B[i] * sym.SingularityFunction(x,bb[i],-2)\n",
    "                if nn[i] == 2:\n",
    "                    qz += B[i] * sym.SingularityFunction(x,bb[i],-1) * sym.cos(oo[j-1])\n",
    "                if nn[i] == 3:\n",
    "                    qz += B[i] * sym.SingularityFunction(x,bb[i],-1) * sym.sin(oo[j-1])\n",
    "                if nn[i] == 4:\n",
    "                    qz += B[i] * sym.SingularityFunction(x,bb[i],0) * sym.cos(oo[j-1])\n",
    "                if nn[i] == 5:\n",
    "                    qz += B[i] * sym.SingularityFunction(x,bb[i],0) * sym.sin(oo[j-1])\n",
    "                break\n",
    "\n",
    "# knikpunten\n",
    "for i in range(len(B)):\n",
    "    for j in range(len(aa)-1):\n",
    "        if bb[i] < aa[j]:\n",
    "            if nn[i] == 2:\n",
    "                qz += B[i] * sym.SingularityFunction(x,aa[j],-1) * (sym.cos(oo[j]) - sym.cos(oo[j-1]))\n",
    "            if nn[i] == 3:\n",
    "                qz += B[i] * sym.SingularityFunction(x,aa[j],-1) * (sym.sin(oo[j]) - sym.sin(oo[j-1]))\n",
    "            if nn[i] == 4:\n",
    "                qz += B[i] * ((sym.SingularityFunction(x,aa[j],0) + sym.SingularityFunction(x,aa[j],-1) * (aa[j] - bb[i])) * (sym.cos(oo[j]) - sym.cos(oo[j-1])))\n",
    "            if nn[i] == 5:\n",
    "                qz += B[i] * ((sym.SingularityFunction(x,aa[j],0) + sym.SingularityFunction(x,aa[j],-1) * (aa[j] - bb[i])) * (sym.sin(oo[j]) - sym.sin(oo[j-1])))\n",
    "\n",
    "display(sym.symbols('{q_z}='), qz)"
   ]
  },
  {
   "cell_type": "code",
   "execution_count": 248,
   "id": "5e256616",
   "metadata": {},
   "outputs": [
    {
     "data": {
      "image/svg+xml": [
       "<?xml version=\"1.0\" encoding=\"utf-8\" standalone=\"no\"?>\n",
       "<!DOCTYPE svg PUBLIC \"-//W3C//DTD SVG 1.1//EN\"\n",
       "  \"http://www.w3.org/Graphics/SVG/1.1/DTD/svg11.dtd\">\n",
       "<svg xmlns:xlink=\"http://www.w3.org/1999/xlink\" width=\"613.566071pt\" height=\"320.727679pt\" viewBox=\"0 0 613.566071 320.727679\" xmlns=\"http://www.w3.org/2000/svg\" version=\"1.1\">\n",
       " <metadata>\n",
       "  <rdf:RDF xmlns:dc=\"http://purl.org/dc/elements/1.1/\" xmlns:cc=\"http://creativecommons.org/ns#\" xmlns:rdf=\"http://www.w3.org/1999/02/22-rdf-syntax-ns#\">\n",
       "   <cc:Work>\n",
       "    <dc:type rdf:resource=\"http://purl.org/dc/dcmitype/StillImage\"/>\n",
       "    <dc:date>2024-06-26T11:54:27.317706</dc:date>\n",
       "    <dc:format>image/svg+xml</dc:format>\n",
       "    <dc:creator>\n",
       "     <cc:Agent>\n",
       "      <dc:title>Matplotlib v3.9.0, https://matplotlib.org/</dc:title>\n",
       "     </cc:Agent>\n",
       "    </dc:creator>\n",
       "   </cc:Work>\n",
       "  </rdf:RDF>\n",
       " </metadata>\n",
       " <defs>\n",
       "  <style type=\"text/css\">*{stroke-linejoin: round; stroke-linecap: butt}</style>\n",
       " </defs>\n",
       " <g id=\"figure_1\">\n",
       "  <g id=\"patch_1\">\n",
       "   <path d=\"M 0 320.727679 \n",
       "L 613.566071 320.727679 \n",
       "L 613.566071 0 \n",
       "L 0 0 \n",
       "z\n",
       "\" style=\"fill: #ffffff\"/>\n",
       "  </g>\n",
       "  <g id=\"axes_1\">\n",
       "   <g id=\"patch_2\">\n",
       "    <path d=\"M 10.38125 144.902589 \n",
       "L 568.38125 144.902589 \n",
       "L 568.38125 75.850089 \n",
       "L 10.38125 75.850089 \n",
       "z\n",
       "\" style=\"fill: #ffffff\"/>\n",
       "   </g>\n",
       "   <g id=\"matplotlib.axis_1\">\n",
       "    <g id=\"xtick_1\">\n",
       "     <g id=\"line2d_1\">\n",
       "      <defs>\n",
       "       <path id=\"m1b60174f27\" d=\"M 0 0 \n",
       "L 0 3.5 \n",
       "\" style=\"stroke: #000000; stroke-width: 0.8\"/>\n",
       "      </defs>\n",
       "      <g>\n",
       "       <use xlink:href=\"#m1b60174f27\" x=\"10.38125\" y=\"113.863839\" style=\"stroke: #000000; stroke-width: 0.8\"/>\n",
       "      </g>\n",
       "     </g>\n",
       "     <g id=\"text_1\">\n",
       "      <!-- 0 -->\n",
       "      <g transform=\"translate(7.2 128.462277) scale(0.1 -0.1)\">\n",
       "       <defs>\n",
       "        <path id=\"DejaVuSans-30\" d=\"M 2034 4250 \n",
       "Q 1547 4250 1301 3770 \n",
       "Q 1056 3291 1056 2328 \n",
       "Q 1056 1369 1301 889 \n",
       "Q 1547 409 2034 409 \n",
       "Q 2525 409 2770 889 \n",
       "Q 3016 1369 3016 2328 \n",
       "Q 3016 3291 2770 3770 \n",
       "Q 2525 4250 2034 4250 \n",
       "z\n",
       "M 2034 4750 \n",
       "Q 2819 4750 3233 4129 \n",
       "Q 3647 3509 3647 2328 \n",
       "Q 3647 1150 3233 529 \n",
       "Q 2819 -91 2034 -91 \n",
       "Q 1250 -91 836 529 \n",
       "Q 422 1150 422 2328 \n",
       "Q 422 3509 836 4129 \n",
       "Q 1250 4750 2034 4750 \n",
       "z\n",
       "\" transform=\"scale(0.015625)\"/>\n",
       "       </defs>\n",
       "       <use xlink:href=\"#DejaVuSans-30\"/>\n",
       "      </g>\n",
       "     </g>\n",
       "    </g>\n",
       "    <g id=\"xtick_2\">\n",
       "     <g id=\"line2d_2\">\n",
       "      <g>\n",
       "       <use xlink:href=\"#m1b60174f27\" x=\"90.095536\" y=\"113.863839\" style=\"stroke: #000000; stroke-width: 0.8\"/>\n",
       "      </g>\n",
       "     </g>\n",
       "     <g id=\"text_2\">\n",
       "      <!-- 2 -->\n",
       "      <g transform=\"translate(86.914286 128.462277) scale(0.1 -0.1)\">\n",
       "       <defs>\n",
       "        <path id=\"DejaVuSans-32\" d=\"M 1228 531 \n",
       "L 3431 531 \n",
       "L 3431 0 \n",
       "L 469 0 \n",
       "L 469 531 \n",
       "Q 828 903 1448 1529 \n",
       "Q 2069 2156 2228 2338 \n",
       "Q 2531 2678 2651 2914 \n",
       "Q 2772 3150 2772 3378 \n",
       "Q 2772 3750 2511 3984 \n",
       "Q 2250 4219 1831 4219 \n",
       "Q 1534 4219 1204 4116 \n",
       "Q 875 4013 500 3803 \n",
       "L 500 4441 \n",
       "Q 881 4594 1212 4672 \n",
       "Q 1544 4750 1819 4750 \n",
       "Q 2544 4750 2975 4387 \n",
       "Q 3406 4025 3406 3419 \n",
       "Q 3406 3131 3298 2873 \n",
       "Q 3191 2616 2906 2266 \n",
       "Q 2828 2175 2409 1742 \n",
       "Q 1991 1309 1228 531 \n",
       "z\n",
       "\" transform=\"scale(0.015625)\"/>\n",
       "       </defs>\n",
       "       <use xlink:href=\"#DejaVuSans-32\"/>\n",
       "      </g>\n",
       "     </g>\n",
       "    </g>\n",
       "    <g id=\"xtick_3\">\n",
       "     <g id=\"line2d_3\">\n",
       "      <g>\n",
       "       <use xlink:href=\"#m1b60174f27\" x=\"169.809821\" y=\"113.863839\" style=\"stroke: #000000; stroke-width: 0.8\"/>\n",
       "      </g>\n",
       "     </g>\n",
       "     <g id=\"text_3\">\n",
       "      <!-- 4 -->\n",
       "      <g transform=\"translate(166.628571 128.462277) scale(0.1 -0.1)\">\n",
       "       <defs>\n",
       "        <path id=\"DejaVuSans-34\" d=\"M 2419 4116 \n",
       "L 825 1625 \n",
       "L 2419 1625 \n",
       "L 2419 4116 \n",
       "z\n",
       "M 2253 4666 \n",
       "L 3047 4666 \n",
       "L 3047 1625 \n",
       "L 3713 1625 \n",
       "L 3713 1100 \n",
       "L 3047 1100 \n",
       "L 3047 0 \n",
       "L 2419 0 \n",
       "L 2419 1100 \n",
       "L 313 1100 \n",
       "L 313 1709 \n",
       "L 2253 4666 \n",
       "z\n",
       "\" transform=\"scale(0.015625)\"/>\n",
       "       </defs>\n",
       "       <use xlink:href=\"#DejaVuSans-34\"/>\n",
       "      </g>\n",
       "     </g>\n",
       "    </g>\n",
       "    <g id=\"xtick_4\">\n",
       "     <g id=\"line2d_4\">\n",
       "      <g>\n",
       "       <use xlink:href=\"#m1b60174f27\" x=\"249.524107\" y=\"113.863839\" style=\"stroke: #000000; stroke-width: 0.8\"/>\n",
       "      </g>\n",
       "     </g>\n",
       "     <g id=\"text_4\">\n",
       "      <!-- 6 -->\n",
       "      <g transform=\"translate(246.342857 128.462277) scale(0.1 -0.1)\">\n",
       "       <defs>\n",
       "        <path id=\"DejaVuSans-36\" d=\"M 2113 2584 \n",
       "Q 1688 2584 1439 2293 \n",
       "Q 1191 2003 1191 1497 \n",
       "Q 1191 994 1439 701 \n",
       "Q 1688 409 2113 409 \n",
       "Q 2538 409 2786 701 \n",
       "Q 3034 994 3034 1497 \n",
       "Q 3034 2003 2786 2293 \n",
       "Q 2538 2584 2113 2584 \n",
       "z\n",
       "M 3366 4563 \n",
       "L 3366 3988 \n",
       "Q 3128 4100 2886 4159 \n",
       "Q 2644 4219 2406 4219 \n",
       "Q 1781 4219 1451 3797 \n",
       "Q 1122 3375 1075 2522 \n",
       "Q 1259 2794 1537 2939 \n",
       "Q 1816 3084 2150 3084 \n",
       "Q 2853 3084 3261 2657 \n",
       "Q 3669 2231 3669 1497 \n",
       "Q 3669 778 3244 343 \n",
       "Q 2819 -91 2113 -91 \n",
       "Q 1303 -91 875 529 \n",
       "Q 447 1150 447 2328 \n",
       "Q 447 3434 972 4092 \n",
       "Q 1497 4750 2381 4750 \n",
       "Q 2619 4750 2861 4703 \n",
       "Q 3103 4656 3366 4563 \n",
       "z\n",
       "\" transform=\"scale(0.015625)\"/>\n",
       "       </defs>\n",
       "       <use xlink:href=\"#DejaVuSans-36\"/>\n",
       "      </g>\n",
       "     </g>\n",
       "    </g>\n",
       "    <g id=\"xtick_5\">\n",
       "     <g id=\"line2d_5\">\n",
       "      <g>\n",
       "       <use xlink:href=\"#m1b60174f27\" x=\"329.238393\" y=\"113.863839\" style=\"stroke: #000000; stroke-width: 0.8\"/>\n",
       "      </g>\n",
       "     </g>\n",
       "     <g id=\"text_5\">\n",
       "      <!-- 8 -->\n",
       "      <g transform=\"translate(326.057143 128.462277) scale(0.1 -0.1)\">\n",
       "       <defs>\n",
       "        <path id=\"DejaVuSans-38\" d=\"M 2034 2216 \n",
       "Q 1584 2216 1326 1975 \n",
       "Q 1069 1734 1069 1313 \n",
       "Q 1069 891 1326 650 \n",
       "Q 1584 409 2034 409 \n",
       "Q 2484 409 2743 651 \n",
       "Q 3003 894 3003 1313 \n",
       "Q 3003 1734 2745 1975 \n",
       "Q 2488 2216 2034 2216 \n",
       "z\n",
       "M 1403 2484 \n",
       "Q 997 2584 770 2862 \n",
       "Q 544 3141 544 3541 \n",
       "Q 544 4100 942 4425 \n",
       "Q 1341 4750 2034 4750 \n",
       "Q 2731 4750 3128 4425 \n",
       "Q 3525 4100 3525 3541 \n",
       "Q 3525 3141 3298 2862 \n",
       "Q 3072 2584 2669 2484 \n",
       "Q 3125 2378 3379 2068 \n",
       "Q 3634 1759 3634 1313 \n",
       "Q 3634 634 3220 271 \n",
       "Q 2806 -91 2034 -91 \n",
       "Q 1263 -91 848 271 \n",
       "Q 434 634 434 1313 \n",
       "Q 434 1759 690 2068 \n",
       "Q 947 2378 1403 2484 \n",
       "z\n",
       "M 1172 3481 \n",
       "Q 1172 3119 1398 2916 \n",
       "Q 1625 2713 2034 2713 \n",
       "Q 2441 2713 2670 2916 \n",
       "Q 2900 3119 2900 3481 \n",
       "Q 2900 3844 2670 4047 \n",
       "Q 2441 4250 2034 4250 \n",
       "Q 1625 4250 1398 4047 \n",
       "Q 1172 3844 1172 3481 \n",
       "z\n",
       "\" transform=\"scale(0.015625)\"/>\n",
       "       </defs>\n",
       "       <use xlink:href=\"#DejaVuSans-38\"/>\n",
       "      </g>\n",
       "     </g>\n",
       "    </g>\n",
       "    <g id=\"xtick_6\">\n",
       "     <g id=\"line2d_6\">\n",
       "      <g>\n",
       "       <use xlink:href=\"#m1b60174f27\" x=\"408.952679\" y=\"113.863839\" style=\"stroke: #000000; stroke-width: 0.8\"/>\n",
       "      </g>\n",
       "     </g>\n",
       "     <g id=\"text_6\">\n",
       "      <!-- 10 -->\n",
       "      <g transform=\"translate(402.590179 128.462277) scale(0.1 -0.1)\">\n",
       "       <defs>\n",
       "        <path id=\"DejaVuSans-31\" d=\"M 794 531 \n",
       "L 1825 531 \n",
       "L 1825 4091 \n",
       "L 703 3866 \n",
       "L 703 4441 \n",
       "L 1819 4666 \n",
       "L 2450 4666 \n",
       "L 2450 531 \n",
       "L 3481 531 \n",
       "L 3481 0 \n",
       "L 794 0 \n",
       "L 794 531 \n",
       "z\n",
       "\" transform=\"scale(0.015625)\"/>\n",
       "       </defs>\n",
       "       <use xlink:href=\"#DejaVuSans-31\"/>\n",
       "       <use xlink:href=\"#DejaVuSans-30\" x=\"63.623047\"/>\n",
       "      </g>\n",
       "     </g>\n",
       "    </g>\n",
       "    <g id=\"xtick_7\">\n",
       "     <g id=\"line2d_7\">\n",
       "      <g>\n",
       "       <use xlink:href=\"#m1b60174f27\" x=\"488.666964\" y=\"113.863839\" style=\"stroke: #000000; stroke-width: 0.8\"/>\n",
       "      </g>\n",
       "     </g>\n",
       "     <g id=\"text_7\">\n",
       "      <!-- 12 -->\n",
       "      <g transform=\"translate(482.304464 128.462277) scale(0.1 -0.1)\">\n",
       "       <use xlink:href=\"#DejaVuSans-31\"/>\n",
       "       <use xlink:href=\"#DejaVuSans-32\" x=\"63.623047\"/>\n",
       "      </g>\n",
       "     </g>\n",
       "    </g>\n",
       "    <g id=\"xtick_8\">\n",
       "     <g id=\"line2d_8\">\n",
       "      <g>\n",
       "       <use xlink:href=\"#m1b60174f27\" x=\"568.38125\" y=\"113.863839\" style=\"stroke: #000000; stroke-width: 0.8\"/>\n",
       "      </g>\n",
       "     </g>\n",
       "     <g id=\"text_8\">\n",
       "      <!-- 14 -->\n",
       "      <g transform=\"translate(562.01875 128.462277) scale(0.1 -0.1)\">\n",
       "       <use xlink:href=\"#DejaVuSans-31\"/>\n",
       "       <use xlink:href=\"#DejaVuSans-34\" x=\"63.623047\"/>\n",
       "      </g>\n",
       "     </g>\n",
       "    </g>\n",
       "   </g>\n",
       "   <g id=\"line2d_9\">\n",
       "    <path d=\"M 10.38125 78.988839 \n",
       "L 568.38125 78.988839 \n",
       "L 568.38125 78.988839 \n",
       "\" clip-path=\"url(#pd706b8caaf)\" style=\"fill: none; stroke: #1f77b4; stroke-width: 1.5; stroke-linecap: square\"/>\n",
       "   </g>\n",
       "   <g id=\"line2d_10\">\n",
       "    <path d=\"M 10.38125 113.863839 \n",
       "L 268.993863 113.863839 \n",
       "L 269.552421 141.763839 \n",
       "L 568.38125 141.763839 \n",
       "L 568.38125 141.763839 \n",
       "\" clip-path=\"url(#pd706b8caaf)\" style=\"fill: none; stroke: #ff7f0e; stroke-width: 1.5; stroke-linecap: square\"/>\n",
       "   </g>\n",
       "   <g id=\"line2d_11\">\n",
       "    <path d=\"M 10.38125 113.863839 \n",
       "L 169.570439 113.863839 \n",
       "L 170.128998 120.838839 \n",
       "L 568.38125 120.838839 \n",
       "L 568.38125 120.838839 \n",
       "\" clip-path=\"url(#pd706b8caaf)\" style=\"fill: none; stroke: #2ca02c; stroke-width: 1.5; stroke-linecap: square\"/>\n",
       "   </g>\n",
       "   <g id=\"patch_3\">\n",
       "    <path d=\"M 10.38125 144.902589 \n",
       "L 10.38125 75.850089 \n",
       "\" style=\"fill: none\"/>\n",
       "   </g>\n",
       "   <g id=\"patch_4\">\n",
       "    <path d=\"M 568.38125 144.902589 \n",
       "L 568.38125 75.850089 \n",
       "\" style=\"fill: none\"/>\n",
       "   </g>\n",
       "   <g id=\"patch_5\">\n",
       "    <path d=\"M 10.38125 113.863839 \n",
       "L 568.38125 113.863839 \n",
       "\" style=\"fill: none; stroke: #000000; stroke-width: 0.8; stroke-linejoin: miter; stroke-linecap: square\"/>\n",
       "   </g>\n",
       "   <g id=\"patch_6\">\n",
       "    <path d=\"M 10.38125 75.850089 \n",
       "L 568.38125 75.850089 \n",
       "\" style=\"fill: none\"/>\n",
       "   </g>\n",
       "   <g id=\"text_9\">\n",
       "    <!-- 6 -->\n",
       "    <g transform=\"translate(10.38125 72.923437) scale(0.1 -0.1)\">\n",
       "     <use xlink:href=\"#DejaVuSans-36\"/>\n",
       "    </g>\n",
       "   </g>\n",
       "   <g id=\"patch_7\">\n",
       "    <path d=\"M 90.095536 22.864724 \n",
       "Q 90.095536 67.363147 90.095536 110.743536 \n",
       "\" style=\"fill: none; stroke: #000000; stroke-linecap: round\"/>\n",
       "    <path d=\"M 92.095536 106.743536 \n",
       "L 90.095536 110.743536 \n",
       "L 88.095536 106.743536 \n",
       "\" style=\"fill: none; stroke: #000000; stroke-linecap: round\"/>\n",
       "   </g>\n",
       "   <g id=\"text_10\">\n",
       "    <!-- 16 -->\n",
       "    <g transform=\"translate(90.095536 14.798437) scale(0.1 -0.1)\">\n",
       "     <use xlink:href=\"#DejaVuSans-31\"/>\n",
       "     <use xlink:href=\"#DejaVuSans-36\" x=\"63.623047\"/>\n",
       "    </g>\n",
       "   </g>\n",
       "   <g id=\"patch_8\">\n",
       "    <path d=\"M 169.809821 110.052224 \n",
       "Q 169.809821 110.9586 169.809821 110.746941 \n",
       "\" style=\"fill: none; stroke: #000000; stroke-linecap: round\"/>\n",
       "    <path d=\"M 171.809821 106.746941 \n",
       "L 169.809821 110.746941 \n",
       "L 167.809821 106.746941 \n",
       "\" style=\"fill: none; stroke: #000000; stroke-linecap: round\"/>\n",
       "   </g>\n",
       "   <g id=\"text_11\">\n",
       "    <!-- 1 -->\n",
       "    <g transform=\"translate(169.809821 101.985937) scale(0.1 -0.1)\">\n",
       "     <use xlink:href=\"#DejaVuSans-31\"/>\n",
       "    </g>\n",
       "   </g>\n",
       "   <g id=\"text_12\">\n",
       "    <!-- -24/5 -->\n",
       "    <g transform=\"translate(269.452679 153.347991) scale(0.1 -0.1)\">\n",
       "     <defs>\n",
       "      <path id=\"DejaVuSans-2d\" d=\"M 313 2009 \n",
       "L 1997 2009 \n",
       "L 1997 1497 \n",
       "L 313 1497 \n",
       "L 313 2009 \n",
       "z\n",
       "\" transform=\"scale(0.015625)\"/>\n",
       "      <path id=\"DejaVuSans-2f\" d=\"M 1625 4666 \n",
       "L 2156 4666 \n",
       "L 531 -594 \n",
       "L 0 -594 \n",
       "L 1625 4666 \n",
       "z\n",
       "\" transform=\"scale(0.015625)\"/>\n",
       "      <path id=\"DejaVuSans-35\" d=\"M 691 4666 \n",
       "L 3169 4666 \n",
       "L 3169 4134 \n",
       "L 1269 4134 \n",
       "L 1269 2991 \n",
       "Q 1406 3038 1543 3061 \n",
       "Q 1681 3084 1819 3084 \n",
       "Q 2600 3084 3056 2656 \n",
       "Q 3513 2228 3513 1497 \n",
       "Q 3513 744 3044 326 \n",
       "Q 2575 -91 1722 -91 \n",
       "Q 1428 -91 1123 -41 \n",
       "Q 819 9 494 109 \n",
       "L 494 744 \n",
       "Q 775 591 1075 516 \n",
       "Q 1375 441 1709 441 \n",
       "Q 2250 441 2565 725 \n",
       "Q 2881 1009 2881 1497 \n",
       "Q 2881 1984 2565 2268 \n",
       "Q 2250 2553 1709 2553 \n",
       "Q 1456 2553 1204 2497 \n",
       "Q 953 2441 691 2322 \n",
       "L 691 4666 \n",
       "z\n",
       "\" transform=\"scale(0.015625)\"/>\n",
       "     </defs>\n",
       "     <use xlink:href=\"#DejaVuSans-2d\"/>\n",
       "     <use xlink:href=\"#DejaVuSans-32\" x=\"36.083984\"/>\n",
       "     <use xlink:href=\"#DejaVuSans-34\" x=\"99.707031\"/>\n",
       "     <use xlink:href=\"#DejaVuSans-2f\" x=\"163.330078\"/>\n",
       "     <use xlink:href=\"#DejaVuSans-35\" x=\"197.021484\"/>\n",
       "    </g>\n",
       "   </g>\n",
       "   <g id=\"text_13\">\n",
       "    <!-- -6/5 -->\n",
       "    <g transform=\"translate(169.809821 132.422991) scale(0.1 -0.1)\">\n",
       "     <use xlink:href=\"#DejaVuSans-2d\"/>\n",
       "     <use xlink:href=\"#DejaVuSans-36\" x=\"36.083984\"/>\n",
       "     <use xlink:href=\"#DejaVuSans-2f\" x=\"99.707031\"/>\n",
       "     <use xlink:href=\"#DejaVuSans-35\" x=\"133.398438\"/>\n",
       "    </g>\n",
       "   </g>\n",
       "   <g id=\"patch_9\">\n",
       "    <path d=\"M 369.095536 297.862954 \n",
       "Q 369.095536 206.864307 369.095536 116.983695 \n",
       "\" style=\"fill: none; stroke: #000000; stroke-linecap: round\"/>\n",
       "    <path d=\"M 367.095536 120.983695 \n",
       "L 369.095536 116.983695 \n",
       "L 371.095536 120.983695 \n",
       "\" style=\"fill: none; stroke: #000000; stroke-linecap: round\"/>\n",
       "   </g>\n",
       "   <g id=\"text_14\">\n",
       "    <!-- -32 -->\n",
       "    <g transform=\"translate(369.095536 311.447991) scale(0.1 -0.1)\">\n",
       "     <defs>\n",
       "      <path id=\"DejaVuSans-33\" d=\"M 2597 2516 \n",
       "Q 3050 2419 3304 2112 \n",
       "Q 3559 1806 3559 1356 \n",
       "Q 3559 666 3084 287 \n",
       "Q 2609 -91 1734 -91 \n",
       "Q 1441 -91 1130 -33 \n",
       "Q 819 25 488 141 \n",
       "L 488 750 \n",
       "Q 750 597 1062 519 \n",
       "Q 1375 441 1716 441 \n",
       "Q 2309 441 2620 675 \n",
       "Q 2931 909 2931 1356 \n",
       "Q 2931 1769 2642 2001 \n",
       "Q 2353 2234 1838 2234 \n",
       "L 1294 2234 \n",
       "L 1294 2753 \n",
       "L 1863 2753 \n",
       "Q 2328 2753 2575 2939 \n",
       "Q 2822 3125 2822 3475 \n",
       "Q 2822 3834 2567 4026 \n",
       "Q 2313 4219 1838 4219 \n",
       "Q 1578 4219 1281 4162 \n",
       "Q 984 4106 628 3988 \n",
       "L 628 4550 \n",
       "Q 988 4650 1302 4700 \n",
       "Q 1616 4750 1894 4750 \n",
       "Q 2613 4750 3031 4423 \n",
       "Q 3450 4097 3450 3541 \n",
       "Q 3450 3153 3228 2886 \n",
       "Q 3006 2619 2597 2516 \n",
       "z\n",
       "\" transform=\"scale(0.015625)\"/>\n",
       "     </defs>\n",
       "     <use xlink:href=\"#DejaVuSans-2d\"/>\n",
       "     <use xlink:href=\"#DejaVuSans-33\" x=\"36.083984\"/>\n",
       "     <use xlink:href=\"#DejaVuSans-32\" x=\"99.707031\"/>\n",
       "    </g>\n",
       "   </g>\n",
       "   <g id=\"patch_10\">\n",
       "    <path d=\"M 549.890397 119.235411 \n",
       "Q 568.379041 136.390219 586.048015 119.999864 \n",
       "\" style=\"fill: none; stroke: #000000; stroke-linecap: round\"/>\n",
       "    <path d=\"M 581.755308 121.253921 \n",
       "L 586.048015 119.999864 \n",
       "L 584.475637 124.186465 \n",
       "\" style=\"fill: none; stroke: #000000; stroke-linecap: round\"/>\n",
       "   </g>\n",
       "   <g id=\"text_15\">\n",
       "    <!-- T_R -->\n",
       "    <g transform=\"translate(588.309821 125.169866) scale(0.1 -0.1)\">\n",
       "     <defs>\n",
       "      <path id=\"DejaVuSans-54\" d=\"M -19 4666 \n",
       "L 3928 4666 \n",
       "L 3928 4134 \n",
       "L 2272 4134 \n",
       "L 2272 0 \n",
       "L 1638 0 \n",
       "L 1638 4134 \n",
       "L -19 4134 \n",
       "L -19 4666 \n",
       "z\n",
       "\" transform=\"scale(0.015625)\"/>\n",
       "      <path id=\"DejaVuSans-5f\" d=\"M 3263 -1063 \n",
       "L 3263 -1509 \n",
       "L -63 -1509 \n",
       "L -63 -1063 \n",
       "L 3263 -1063 \n",
       "z\n",
       "\" transform=\"scale(0.015625)\"/>\n",
       "      <path id=\"DejaVuSans-52\" d=\"M 2841 2188 \n",
       "Q 3044 2119 3236 1894 \n",
       "Q 3428 1669 3622 1275 \n",
       "L 4263 0 \n",
       "L 3584 0 \n",
       "L 2988 1197 \n",
       "Q 2756 1666 2539 1819 \n",
       "Q 2322 1972 1947 1972 \n",
       "L 1259 1972 \n",
       "L 1259 0 \n",
       "L 628 0 \n",
       "L 628 4666 \n",
       "L 2053 4666 \n",
       "Q 2853 4666 3247 4331 \n",
       "Q 3641 3997 3641 3322 \n",
       "Q 3641 2881 3436 2590 \n",
       "Q 3231 2300 2841 2188 \n",
       "z\n",
       "M 1259 4147 \n",
       "L 1259 2491 \n",
       "L 2053 2491 \n",
       "Q 2509 2491 2742 2702 \n",
       "Q 2975 2913 2975 3322 \n",
       "Q 2975 3731 2742 3939 \n",
       "Q 2509 4147 2053 4147 \n",
       "L 1259 4147 \n",
       "z\n",
       "\" transform=\"scale(0.015625)\"/>\n",
       "     </defs>\n",
       "     <use xlink:href=\"#DejaVuSans-54\"/>\n",
       "     <use xlink:href=\"#DejaVuSans-5f\" x=\"61.083984\"/>\n",
       "     <use xlink:href=\"#DejaVuSans-52\" x=\"111.083984\"/>\n",
       "    </g>\n",
       "   </g>\n",
       "   <g id=\"patch_11\">\n",
       "    <path d=\"M 568.38125 91.949222 \n",
       "Q 568.38125 101.907372 568.38125 110.747488 \n",
       "\" style=\"fill: none; stroke: #000000; stroke-linecap: round\"/>\n",
       "    <path d=\"M 570.38125 106.747488 \n",
       "L 568.38125 110.747488 \n",
       "L 566.38125 106.747488 \n",
       "\" style=\"fill: none; stroke: #000000; stroke-linecap: round\"/>\n",
       "   </g>\n",
       "   <g id=\"text_16\">\n",
       "    <!-- 3⋅Rᵥ -->\n",
       "    <g transform=\"translate(568.38125 61.488527) scale(0.1 -0.1)\">\n",
       "     <defs>\n",
       "      <path id=\"DejaVuSans-22c5\" d=\"M 684 2619 \n",
       "L 1344 2619 \n",
       "L 1344 1825 \n",
       "L 684 1825 \n",
       "L 684 2619 \n",
       "z\n",
       "\" transform=\"scale(0.015625)\"/>\n",
       "      <path id=\"DejaVuSans-1d65\" d=\"M 119 1935 \n",
       "L 503 1935 \n",
       "L 1194 291 \n",
       "L 1881 1935 \n",
       "L 2266 1935 \n",
       "L 1441 -24 \n",
       "L 947 -24 \n",
       "L 119 1935 \n",
       "z\n",
       "\" transform=\"scale(0.015625)\"/>\n",
       "     </defs>\n",
       "     <use xlink:href=\"#DejaVuSans-33\"/>\n",
       "     <use xlink:href=\"#DejaVuSans-22c5\" x=\"63.623047\"/>\n",
       "     <use xlink:href=\"#DejaVuSans-52\" x=\"95.410156\"/>\n",
       "     <use xlink:href=\"#DejaVuSans-1d65\" x=\"164.892578\"/>\n",
       "    </g>\n",
       "    <!-- ──── -->\n",
       "    <g transform=\"translate(568.38125 72.686339) scale(0.1 -0.1)\">\n",
       "     <defs>\n",
       "      <path id=\"DejaVuSans-2500\" d=\"M -63 1931 \n",
       "L -63 2469 \n",
       "L 3916 2469 \n",
       "L 3916 1931 \n",
       "L -63 1931 \n",
       "z\n",
       "\" transform=\"scale(0.015625)\"/>\n",
       "     </defs>\n",
       "     <use xlink:href=\"#DejaVuSans-2500\"/>\n",
       "     <use xlink:href=\"#DejaVuSans-2500\" x=\"60.205078\"/>\n",
       "     <use xlink:href=\"#DejaVuSans-2500\" x=\"120.410156\"/>\n",
       "     <use xlink:href=\"#DejaVuSans-2500\" x=\"180.615234\"/>\n",
       "    </g>\n",
       "    <!--  5   -->\n",
       "    <g transform=\"translate(568.38125 83.884152) scale(0.1 -0.1)\">\n",
       "     <defs>\n",
       "      <path id=\"DejaVuSans-20\" transform=\"scale(0.015625)\"/>\n",
       "     </defs>\n",
       "     <use xlink:href=\"#DejaVuSans-20\"/>\n",
       "     <use xlink:href=\"#DejaVuSans-35\" x=\"31.787109\"/>\n",
       "     <use xlink:href=\"#DejaVuSans-20\" x=\"95.410156\"/>\n",
       "     <use xlink:href=\"#DejaVuSans-20\" x=\"127.197266\"/>\n",
       "    </g>\n",
       "   </g>\n",
       "   <g id=\"patch_12\">\n",
       "    <path d=\"M 568.38125 143.752804 \n",
       "Q 568.38125 129.80985 568.38125 116.98493 \n",
       "\" style=\"fill: none; stroke: #000000; stroke-linecap: round\"/>\n",
       "    <path d=\"M 566.38125 120.98493 \n",
       "L 568.38125 116.98493 \n",
       "L 570.38125 120.98493 \n",
       "\" style=\"fill: none; stroke: #000000; stroke-linecap: round\"/>\n",
       "   </g>\n",
       "   <g id=\"text_17\">\n",
       "    <!-- -4⋅Rₕ  -->\n",
       "    <g transform=\"translate(568.38125 157.333705) scale(0.1 -0.1)\">\n",
       "     <defs>\n",
       "      <path id=\"DejaVuSans-2095\" d=\"M 2213 1160 \n",
       "L 2213 -24 \n",
       "L 1850 -24 \n",
       "L 1850 1147 \n",
       "Q 1850 1426 1728 1565 \n",
       "Q 1606 1704 1363 1704 \n",
       "Q 1069 1704 900 1536 \n",
       "Q 731 1369 731 1082 \n",
       "L 731 -24 \n",
       "L 366 -24 \n",
       "L 366 2697 \n",
       "L 731 2697 \n",
       "L 731 1632 \n",
       "Q 859 1807 1036 1894 \n",
       "Q 1213 1982 1444 1982 \n",
       "Q 1822 1982 2017 1772 \n",
       "Q 2213 1563 2213 1160 \n",
       "z\n",
       "\" transform=\"scale(0.015625)\"/>\n",
       "     </defs>\n",
       "     <use xlink:href=\"#DejaVuSans-2d\"/>\n",
       "     <use xlink:href=\"#DejaVuSans-34\" x=\"36.083984\"/>\n",
       "     <use xlink:href=\"#DejaVuSans-22c5\" x=\"99.707031\"/>\n",
       "     <use xlink:href=\"#DejaVuSans-52\" x=\"131.494141\"/>\n",
       "     <use xlink:href=\"#DejaVuSans-2095\" x=\"200.976562\"/>\n",
       "     <use xlink:href=\"#DejaVuSans-20\" x=\"241.40625\"/>\n",
       "    </g>\n",
       "    <!-- ────── -->\n",
       "    <g transform=\"translate(568.38125 168.531518) scale(0.1 -0.1)\">\n",
       "     <use xlink:href=\"#DejaVuSans-2500\"/>\n",
       "     <use xlink:href=\"#DejaVuSans-2500\" x=\"60.205078\"/>\n",
       "     <use xlink:href=\"#DejaVuSans-2500\" x=\"120.410156\"/>\n",
       "     <use xlink:href=\"#DejaVuSans-2500\" x=\"180.615234\"/>\n",
       "     <use xlink:href=\"#DejaVuSans-2500\" x=\"240.820312\"/>\n",
       "     <use xlink:href=\"#DejaVuSans-2500\" x=\"301.025391\"/>\n",
       "    </g>\n",
       "    <!--   5    -->\n",
       "    <g transform=\"translate(568.38125 179.72933) scale(0.1 -0.1)\">\n",
       "     <use xlink:href=\"#DejaVuSans-20\"/>\n",
       "     <use xlink:href=\"#DejaVuSans-20\" x=\"31.787109\"/>\n",
       "     <use xlink:href=\"#DejaVuSans-35\" x=\"63.574219\"/>\n",
       "     <use xlink:href=\"#DejaVuSans-20\" x=\"127.197266\"/>\n",
       "     <use xlink:href=\"#DejaVuSans-20\" x=\"158.984375\"/>\n",
       "     <use xlink:href=\"#DejaVuSans-20\" x=\"190.771484\"/>\n",
       "    </g>\n",
       "   </g>\n",
       "  </g>\n",
       " </g>\n",
       " <defs>\n",
       "  <clipPath id=\"pd706b8caaf\">\n",
       "   <rect x=\"10.38125\" y=\"75.850089\" width=\"558\" height=\"69.0525\"/>\n",
       "  </clipPath>\n",
       " </defs>\n",
       "</svg>\n"
      ],
      "text/plain": [
       "<Figure size 1000x500 with 1 Axes>"
      ]
     },
     "metadata": {},
     "output_type": "display_data"
    }
   ],
   "source": [
    "fig,ax = plt.subplots(figsize=(10,5))\n",
    "x_plot = np.linspace(0,14,1000)\n",
    "max_L = max(x_plot)\n",
    "plt.xlim(0,max_L)\n",
    "max_F = 0\n",
    "for i in range(len(qz.args)):\n",
    "    if len(qz.args[i].args[0].free_symbols) != 0:\n",
    "        max_F = max(max_F,1)\n",
    "    else:\n",
    "        max_F = max(max_F,abs(qz.args[i].args[0]))\n",
    "scale = max_L / max_F / 3\n",
    "min = 0.4\n",
    "indicator = False\n",
    "for i in range(len(qz.args)):\n",
    "    if qz.args[i].args[-1].args[2] == 0:\n",
    "        qz_plot = sym.lambdify(x, qz.args[i].rewrite(sym.Piecewise).simplify())\n",
    "        plt.plot(x_plot,-qz_plot(x_plot) * scale)\n",
    "        if qz.args[i].args[0] < 0:\n",
    "            ax.annotate(sym.pretty(sym.nsimplify(qz.args[i].args[0])),xy=(qz.args[i].args[-1].args[1] , -qz.args[i].args[0]* scale+0.1),annotation_clip=False,va='top',ha='left')\n",
    "        else:\n",
    "            ax.annotate(sym.pretty(sym.nsimplify(qz.args[i].args[0])),xy=(qz.args[i].args[-1].args[1] , -qz.args[i].args[0]* scale-0.1),annotation_clip=False,va='bottom',ha='left')\n",
    "    if qz.args[i].args[-1].args[2] == -1:\n",
    "        name = sym.nsimplify(1)\n",
    "        for j in range(len(qz.args[i].args[:-1])):\n",
    "            name = name * qz.args[i].args[j]\n",
    "        if len(name.free_symbols) != 0:\n",
    "            indicator = True\n",
    "            scale_or = scale\n",
    "            scale = 1\n",
    "        name = sym.pretty(sym.nsimplify(name))\n",
    "        if isinstance(qz.args[i].args[0],sym.Float) or isinstance(qz.args[i].args[0],sym.Integer):\n",
    "            ax.annotate(\"\", xy=(qz.args[i].args[-1].args[1], 0), xytext=(qz.args[i].args[-1].args[1], -qz.args[i].args[0] * scale), arrowprops=dict(arrowstyle='->'),annotation_clip=False,)\n",
    "            if qz.args[i].args[0] < 0:\n",
    "                ax.annotate(name,xy=(qz.args[i].args[-1].args[1] , -qz.args[i].args[0]* scale + 0.1),annotation_clip=False,va='top',ha='left')\n",
    "            else:\n",
    "                ax.annotate(name,xy=(qz.args[i].args[-1].args[1] , -qz.args[i].args[0]* scale - 0.1),annotation_clip=False,va='bottom',ha='left')\n",
    "        else:\n",
    "            ax.annotate(\"\", xy=(qz.args[i].args[-1].args[1], 0), xytext=(qz.args[i].args[-1].args[1], -1), arrowprops=dict(arrowstyle='->'),annotation_clip=False,)\n",
    "            ax.annotate(name,xy=(qz.args[i].args[-1].args[1] , -1 + 0.1),annotation_clip=False,va='top',ha='left')\n",
    "        if indicator:\n",
    "            scale = scale_or\n",
    "        indicator = False\n",
    "    if qz.args[i].args[-1].args[2] == -2:\n",
    "        name = sym.nsimplify(1)\n",
    "        for j in range(len(qz.args[i].args[:-1])):\n",
    "            name = name * qz.args[i].args[j]\n",
    "        name = sym.pretty(sym.nsimplify(name))\n",
    "        ax.annotate(\"\", xy=(qz.args[i].args[-1].args[1] + 0.5, 0.1), xytext=(qz.args[i].args[-1].args[1] - 0.5, 0.1), arrowprops=dict(arrowstyle='->',connectionstyle='angle3,angleA=-45,angleB=45'),annotation_clip=False,)\n",
    "        ax.annotate(name,xy=(qz.args[i].args[-1].args[1] + 0.5 , +0.1),annotation_clip=False,va='top',ha='left')\n",
    "#plt.tight_layout()\n",
    "plt.gca().invert_yaxis()\n",
    "ax.spines['right'].set_color('none')\n",
    "ax.spines['top'].set_color('none')\n",
    "ax.spines['left'].set_color('none')\n",
    "ax.spines['bottom'].set_position('zero')\n",
    "ax.axes.get_yaxis().set_visible(False)\n",
    "ax.axes.get_yaxis().set_ticks([])\n",
    "ax.axes.set_aspect('equal')"
   ]
  },
  {
   "cell_type": "code",
   "execution_count": 231,
   "id": "e698cd74",
   "metadata": {},
   "outputs": [
    {
     "data": {
      "text/plain": [
       "True"
      ]
     },
     "execution_count": 231,
     "metadata": {},
     "output_type": "execute_result"
    }
   ],
   "source": [
    "isinstance(6*qz.args[6].args[0],sym.Expr)"
   ]
  },
  {
   "cell_type": "code",
   "execution_count": 4,
   "id": "42b8e9d1-cde9-41f3-a01c-078e5f034b9e",
   "metadata": {},
   "outputs": [
    {
     "data": {
      "text/latex": [
       "$\\displaystyle {q_x}=$"
      ],
      "text/plain": [
       "{q_x}="
      ]
     },
     "metadata": {},
     "output_type": "display_data"
    },
    {
     "data": {
      "text/latex": [
       "$\\displaystyle 0.6 R_{h} {\\left\\langle x - 14.0 \\right\\rangle}^{-1} + 0.8 R_{v} {\\left\\langle x - 14.0 \\right\\rangle}^{-1} + 15 {\\left\\langle x \\right\\rangle}^{-1} - 27.0 {\\left\\langle x - 4 \\right\\rangle}^{-1} - 3.6 {\\left\\langle x - 4 \\right\\rangle}^{0} + 3.6 {\\left\\langle x - 6.5 \\right\\rangle}^{0} + 74.0 {\\left\\langle x - 9 \\right\\rangle}^{-1}$"
      ],
      "text/plain": [
       "0.6*R_h*SingularityFunction(x, 14.0, -1) + 0.8*R_v*SingularityFunction(x, 14.0, -1) + 15*SingularityFunction(x, 0.0, -1) - 27.0*SingularityFunction(x, 4, -1) - 3.6*SingularityFunction(x, 4, 0) + 3.6*SingularityFunction(x, 6.5, 0) + 74.0*SingularityFunction(x, 9, -1)"
      ]
     },
     "metadata": {},
     "output_type": "display_data"
    }
   ],
   "source": [
    "#qx opstellen\n",
    "qx = 0\n",
    "\n",
    "#beginpunten\n",
    "for i in range(len(B)):\n",
    "    for j in range(len(aa)):\n",
    "        if bb[i] == aa[-1]:\n",
    "            if nn[i] == 2:\n",
    "                qx += B[i] * sym.SingularityFunction(x,bb[i],-1) * -sym.sin(oo[-1])\n",
    "            if nn[i] == 3:\n",
    "                qx += B[i] * sym.SingularityFunction(x,bb[i],-1) * sym.cos(oo[-1])\n",
    "            if nn[i] == 4:\n",
    "                qx += B[i] * sym.SingularityFunction(x,bb[i],0) * -sym.sin(oo[-1])\n",
    "            if nn[i] == 5:\n",
    "                qx += B[i] * sym.SingularityFunction(x,bb[i],0) * sym.cos(oo[-1])\n",
    "            break\n",
    "        else:\n",
    "            if bb[i] < aa[j]:\n",
    "                if nn[i] == 2:\n",
    "                    qx += B[i] * sym.SingularityFunction(x,bb[i],-1) * -sym.sin(oo[j-1])\n",
    "                if nn[i] == 3:\n",
    "                    qx += B[i] * sym.SingularityFunction(x,bb[i],-1) * sym.cos(oo[j-1])\n",
    "                if nn[i] == 4:\n",
    "                    qx += B[i] * sym.SingularityFunction(x,bb[i],0) * -sym.sin(oo[j-1])\n",
    "                if nn[i] == 5:\n",
    "                    qx += B[i] * sym.SingularityFunction(x,bb[i],0) * sym.cos(oo[j-1])\n",
    "                break\n",
    "\n",
    "# knikpunten\n",
    "for i in range(len(B)):\n",
    "    for j in range(len(aa)-1):\n",
    "        if bb[i] < aa[j]:\n",
    "            if nn[i] == 2:\n",
    "                qx += B[i] * sym.SingularityFunction(x,aa[j],-1) * (-sym.sin(oo[j]) + sym.sin(oo[j-1]))\n",
    "            if nn[i] == 3:\n",
    "                qx += B[i] * sym.SingularityFunction(x,aa[j],-1) * (sym.cos(oo[j]) - sym.cos(oo[j-1]))\n",
    "            if nn[i] == 4:\n",
    "                qx += B[i] * ((sym.SingularityFunction(x,aa[j],0) + sym.SingularityFunction(x,aa[j],-1) * (aa[j] - bb[i])) * (-sym.sin(oo[j]) + sym.sin(oo[j-1])))\n",
    "            if nn[i] == 5:\n",
    "                qx += B[i] * ((sym.SingularityFunction(x,aa[j],0) + sym.SingularityFunction(x,aa[j],-1) * (aa[j] - bb[i])) * (sym.cos(oo[j]) - sym.cos(oo[j-1])))\n",
    "\n",
    "display(sym.symbols('{q_x}='), qx)"
   ]
  },
  {
   "cell_type": "code",
   "execution_count": 5,
   "id": "583319ec-7c66-4b79-a75f-042a4ccd0f85",
   "metadata": {},
   "outputs": [
    {
     "data": {
      "text/latex": [
       "$\\displaystyle {N}=$"
      ],
      "text/plain": [
       "{N}="
      ]
     },
     "metadata": {},
     "output_type": "display_data"
    },
    {
     "data": {
      "text/latex": [
       "$\\displaystyle C_{N} - 0.6 R_{h} {\\left\\langle x - 14.0 \\right\\rangle}^{0} - 0.8 R_{v} {\\left\\langle x - 14.0 \\right\\rangle}^{0} - 15 {\\left\\langle x \\right\\rangle}^{0} + 27.0 {\\left\\langle x - 4 \\right\\rangle}^{0} + 3.6 {\\left\\langle x - 4 \\right\\rangle}^{1} - 3.6 {\\left\\langle x - 6.5 \\right\\rangle}^{1} - 74.0 {\\left\\langle x - 9 \\right\\rangle}^{0}$"
      ],
      "text/plain": [
       "C_N - 0.6*R_h*SingularityFunction(x, 14.0, 0) - 0.8*R_v*SingularityFunction(x, 14.0, 0) - 15*SingularityFunction(x, 0.0, 0) + 27.0*SingularityFunction(x, 4, 0) + 3.6*SingularityFunction(x, 4, 1) - 3.6*SingularityFunction(x, 6.5, 1) - 74.0*SingularityFunction(x, 9, 0)"
      ]
     },
     "metadata": {},
     "output_type": "display_data"
    },
    {
     "data": {
      "text/latex": [
       "$\\displaystyle {V}=$"
      ],
      "text/plain": [
       "{V}="
      ]
     },
     "metadata": {},
     "output_type": "display_data"
    },
    {
     "data": {
      "text/latex": [
       "$\\displaystyle C_{V} + 0.8 R_{h} {\\left\\langle x - 14.0 \\right\\rangle}^{0} - 0.6 R_{v} {\\left\\langle x - 14.0 \\right\\rangle}^{0} - T_{R} {\\left\\langle x - 14.0 \\right\\rangle}^{-1} - 6 {\\left\\langle x \\right\\rangle}^{1} - 16 {\\left\\langle x - 2.0 \\right\\rangle}^{0} - 1.0 {\\left\\langle x - 4 \\right\\rangle}^{0} + 1.2 {\\left\\langle x - 4 \\right\\rangle}^{1} + 4.8 {\\left\\langle x - 6.5 \\right\\rangle}^{1} + 32.0 {\\left\\langle x - 9 \\right\\rangle}^{0}$"
      ],
      "text/plain": [
       "C_V + 0.8*R_h*SingularityFunction(x, 14.0, 0) - 0.6*R_v*SingularityFunction(x, 14.0, 0) - T_R*SingularityFunction(x, 14.0, -1) - 6*SingularityFunction(x, 0.0, 1) - 16*SingularityFunction(x, 2.0, 0) - 1.0*SingularityFunction(x, 4, 0) + 1.2*SingularityFunction(x, 4, 1) + 4.8*SingularityFunction(x, 6.5, 1) + 32.0*SingularityFunction(x, 9, 0)"
      ]
     },
     "metadata": {},
     "output_type": "display_data"
    },
    {
     "data": {
      "text/latex": [
       "$\\displaystyle {M}=$"
      ],
      "text/plain": [
       "{M}="
      ]
     },
     "metadata": {},
     "output_type": "display_data"
    },
    {
     "data": {
      "text/latex": [
       "$\\displaystyle C_{M} + C_{V} x + 0.8 R_{h} {\\left\\langle x - 14.0 \\right\\rangle}^{1} - 0.6 R_{v} {\\left\\langle x - 14.0 \\right\\rangle}^{1} - T_{R} {\\left\\langle x - 14.0 \\right\\rangle}^{0} - 3 {\\left\\langle x \\right\\rangle}^{2} - 16 {\\left\\langle x - 2.0 \\right\\rangle}^{1} - 1.0 {\\left\\langle x - 4 \\right\\rangle}^{1} + 0.6 {\\left\\langle x - 4 \\right\\rangle}^{2} + 2.4 {\\left\\langle x - 6.5 \\right\\rangle}^{2} + 32.0 {\\left\\langle x - 9 \\right\\rangle}^{1}$"
      ],
      "text/plain": [
       "C_M + C_V*x + 0.8*R_h*SingularityFunction(x, 14.0, 1) - 0.6*R_v*SingularityFunction(x, 14.0, 1) - T_R*SingularityFunction(x, 14.0, 0) - 3*SingularityFunction(x, 0.0, 2) - 16*SingularityFunction(x, 2.0, 1) - 1.0*SingularityFunction(x, 4, 1) + 0.6*SingularityFunction(x, 4, 2) + 2.4*SingularityFunction(x, 6.5, 2) + 32.0*SingularityFunction(x, 9, 1)"
      ]
     },
     "metadata": {},
     "output_type": "display_data"
    },
    {
     "data": {
      "text/latex": [
       "$\\displaystyle {u_x}=$"
      ],
      "text/plain": [
       "{u_x}="
      ]
     },
     "metadata": {},
     "output_type": "display_data"
    },
    {
     "data": {
      "text/latex": [
       "$\\displaystyle C_{ux} + \\frac{C_{N} x - 0.6 R_{h} {\\left\\langle x - 14.0 \\right\\rangle}^{1} - 0.8 R_{v} {\\left\\langle x - 14.0 \\right\\rangle}^{1} - 15 {\\left\\langle x \\right\\rangle}^{1} + 27.0 {\\left\\langle x - 4 \\right\\rangle}^{1} + 1.8 {\\left\\langle x - 4 \\right\\rangle}^{2} - 1.8 {\\left\\langle x - 6.5 \\right\\rangle}^{2} - 74.0 {\\left\\langle x - 9 \\right\\rangle}^{1}}{EA}$"
      ],
      "text/plain": [
       "C_ux + (C_N*x - 0.6*R_h*SingularityFunction(x, 14.0, 1) - 0.8*R_v*SingularityFunction(x, 14.0, 1) - 15*SingularityFunction(x, 0.0, 1) + 27.0*SingularityFunction(x, 4, 1) + 1.8*SingularityFunction(x, 4, 2) - 1.8*SingularityFunction(x, 6.5, 2) - 74.0*SingularityFunction(x, 9, 1))/EA"
      ]
     },
     "metadata": {},
     "output_type": "display_data"
    },
    {
     "data": {
      "text/latex": [
       "$\\displaystyle {\\phi}=$"
      ],
      "text/plain": [
       "{\\phi}="
      ]
     },
     "metadata": {},
     "output_type": "display_data"
    },
    {
     "data": {
      "text/latex": [
       "$\\displaystyle C_{\\phi} + \\frac{C_{M} x + \\frac{C_{V} x^{2}}{2} + 0.4 R_{h} {\\left\\langle x - 14.0 \\right\\rangle}^{2} - 0.3 R_{v} {\\left\\langle x - 14.0 \\right\\rangle}^{2} - T_{R} {\\left\\langle x - 14.0 \\right\\rangle}^{1} - {\\left\\langle x \\right\\rangle}^{3} - 8 {\\left\\langle x - 2.0 \\right\\rangle}^{2} - 0.500000000000001 {\\left\\langle x - 4 \\right\\rangle}^{2} + 0.2 {\\left\\langle x - 4 \\right\\rangle}^{3} + 0.8 {\\left\\langle x - 6.5 \\right\\rangle}^{3} + 16.0 {\\left\\langle x - 9 \\right\\rangle}^{2}}{EI}$"
      ],
      "text/plain": [
       "C_phi + (C_M*x + C_V*x**2/2 + 0.4*R_h*SingularityFunction(x, 14.0, 2) - 0.3*R_v*SingularityFunction(x, 14.0, 2) - T_R*SingularityFunction(x, 14.0, 1) - SingularityFunction(x, 0.0, 3) - 8*SingularityFunction(x, 2.0, 2) - 0.500000000000001*SingularityFunction(x, 4, 2) + 0.2*SingularityFunction(x, 4, 3) + 0.8*SingularityFunction(x, 6.5, 3) + 16.0*SingularityFunction(x, 9, 2))/EI"
      ]
     },
     "metadata": {},
     "output_type": "display_data"
    },
    {
     "data": {
      "text/latex": [
       "$\\displaystyle {u_z}=$"
      ],
      "text/plain": [
       "{u_z}="
      ]
     },
     "metadata": {},
     "output_type": "display_data"
    },
    {
     "data": {
      "text/latex": [
       "$\\displaystyle - C_{\\phi} x + C_{uz} - \\frac{\\frac{C_{M} x^{2}}{2} + \\frac{C_{V} x^{3}}{6} + 0.133333333333333 R_{h} {\\left\\langle x - 14.0 \\right\\rangle}^{3} - 0.1 R_{v} {\\left\\langle x - 14.0 \\right\\rangle}^{3} - \\frac{T_{R} {\\left\\langle x - 14.0 \\right\\rangle}^{2}}{2} - \\frac{{\\left\\langle x \\right\\rangle}^{4}}{4} - \\frac{8 {\\left\\langle x - 2.0 \\right\\rangle}^{3}}{3} - 0.166666666666667 {\\left\\langle x - 4 \\right\\rangle}^{3} + 0.05 {\\left\\langle x - 4 \\right\\rangle}^{4} + 0.2 {\\left\\langle x - 6.5 \\right\\rangle}^{4} + 5.33333333333333 {\\left\\langle x - 9 \\right\\rangle}^{3}}{EI}$"
      ],
      "text/plain": [
       "-C_phi*x + C_uz - (C_M*x**2/2 + C_V*x**3/6 + 0.133333333333333*R_h*SingularityFunction(x, 14.0, 3) - 0.1*R_v*SingularityFunction(x, 14.0, 3) - T_R*SingularityFunction(x, 14.0, 2)/2 - SingularityFunction(x, 0.0, 4)/4 - 8*SingularityFunction(x, 2.0, 3)/3 - 0.166666666666667*SingularityFunction(x, 4, 3) + 0.05*SingularityFunction(x, 4, 4) + 0.2*SingularityFunction(x, 6.5, 4) + 5.33333333333333*SingularityFunction(x, 9, 3))/EI"
      ]
     },
     "metadata": {},
     "output_type": "display_data"
    },
    {
     "data": {
      "text/latex": [
       "$\\displaystyle {u_v}=$"
      ],
      "text/plain": [
       "{u_v}="
      ]
     },
     "metadata": {},
     "output_type": "display_data"
    },
    {
     "data": {
      "text/latex": [
       "$\\displaystyle C_{uz} + \\left(- C_{\\phi} x - \\frac{\\frac{C_{M} x^{2}}{2} + \\frac{C_{V} x^{3}}{6} + 0.133333333333333 R_{h} {\\left\\langle x - 14.0 \\right\\rangle}^{3} - 0.1 R_{v} {\\left\\langle x - 14.0 \\right\\rangle}^{3} - \\frac{T_{R} {\\left\\langle x - 14.0 \\right\\rangle}^{2}}{2} - \\frac{{\\left\\langle x \\right\\rangle}^{4}}{4} - \\frac{8 {\\left\\langle x - 2.0 \\right\\rangle}^{3}}{3} - 0.166666666666667 {\\left\\langle x - 4 \\right\\rangle}^{3} + 0.05 {\\left\\langle x - 4 \\right\\rangle}^{4} + 0.2 {\\left\\langle x - 6.5 \\right\\rangle}^{4} + 5.33333333333333 {\\left\\langle x - 9 \\right\\rangle}^{3}}{EI}\\right) {\\left\\langle x \\right\\rangle}^{0} - 0.6 \\left(- \\frac{4 C_{N} - 60.0}{EA} + \\frac{C_{N} x - 0.6 R_{h} {\\left\\langle x - 14.0 \\right\\rangle}^{1} - 0.8 R_{v} {\\left\\langle x - 14.0 \\right\\rangle}^{1} - 15 {\\left\\langle x \\right\\rangle}^{1} + 27.0 {\\left\\langle x - 4 \\right\\rangle}^{1} + 1.8 {\\left\\langle x - 4 \\right\\rangle}^{2} - 1.8 {\\left\\langle x - 6.5 \\right\\rangle}^{2} - 74.0 {\\left\\langle x - 9 \\right\\rangle}^{1}}{EA}\\right) {\\left\\langle x - 4 \\right\\rangle}^{0} + 1.4 \\left(- \\frac{9 C_{N} + 33.75}{EA} + \\frac{C_{N} x - 0.6 R_{h} {\\left\\langle x - 14.0 \\right\\rangle}^{1} - 0.8 R_{v} {\\left\\langle x - 14.0 \\right\\rangle}^{1} - 15 {\\left\\langle x \\right\\rangle}^{1} + 27.0 {\\left\\langle x - 4 \\right\\rangle}^{1} + 1.8 {\\left\\langle x - 4 \\right\\rangle}^{2} - 1.8 {\\left\\langle x - 6.5 \\right\\rangle}^{2} - 74.0 {\\left\\langle x - 9 \\right\\rangle}^{1}}{EA}\\right) {\\left\\langle x - 9 \\right\\rangle}^{0} - 0.8 \\left(- \\frac{14 C_{N} - 231.25}{EA} + \\frac{C_{N} x - 0.6 R_{h} {\\left\\langle x - 14.0 \\right\\rangle}^{1} - 0.8 R_{v} {\\left\\langle x - 14.0 \\right\\rangle}^{1} - 15 {\\left\\langle x \\right\\rangle}^{1} + 27.0 {\\left\\langle x - 4 \\right\\rangle}^{1} + 1.8 {\\left\\langle x - 4 \\right\\rangle}^{2} - 1.8 {\\left\\langle x - 6.5 \\right\\rangle}^{2} - 74.0 {\\left\\langle x - 9 \\right\\rangle}^{1}}{EA}\\right) {\\left\\langle x - 14 \\right\\rangle}^{0} - 0.2 \\left(- C_{\\phi} x + 4 C_{\\phi} + \\frac{8 C_{M} + \\frac{32 C_{V}}{3} - 85.3333333333333}{EI} - \\frac{\\frac{C_{M} x^{2}}{2} + \\frac{C_{V} x^{3}}{6} + 0.133333333333333 R_{h} {\\left\\langle x - 14.0 \\right\\rangle}^{3} - 0.1 R_{v} {\\left\\langle x - 14.0 \\right\\rangle}^{3} - \\frac{T_{R} {\\left\\langle x - 14.0 \\right\\rangle}^{2}}{2} - \\frac{{\\left\\langle x \\right\\rangle}^{4}}{4} - \\frac{8 {\\left\\langle x - 2.0 \\right\\rangle}^{3}}{3} - 0.166666666666667 {\\left\\langle x - 4 \\right\\rangle}^{3} + 0.05 {\\left\\langle x - 4 \\right\\rangle}^{4} + 0.2 {\\left\\langle x - 6.5 \\right\\rangle}^{4} + 5.33333333333333 {\\left\\langle x - 9 \\right\\rangle}^{3}}{EI}\\right) {\\left\\langle x - 4 \\right\\rangle}^{0} - 0.2 \\left(- C_{\\phi} x + 9 C_{\\phi} + \\frac{\\frac{81 C_{M}}{2} + \\frac{243 C_{V}}{2} - 2536.6875}{EI} - \\frac{\\frac{C_{M} x^{2}}{2} + \\frac{C_{V} x^{3}}{6} + 0.133333333333333 R_{h} {\\left\\langle x - 14.0 \\right\\rangle}^{3} - 0.1 R_{v} {\\left\\langle x - 14.0 \\right\\rangle}^{3} - \\frac{T_{R} {\\left\\langle x - 14.0 \\right\\rangle}^{2}}{2} - \\frac{{\\left\\langle x \\right\\rangle}^{4}}{4} - \\frac{8 {\\left\\langle x - 2.0 \\right\\rangle}^{3}}{3} - 0.166666666666667 {\\left\\langle x - 4 \\right\\rangle}^{3} + 0.05 {\\left\\langle x - 4 \\right\\rangle}^{4} + 0.2 {\\left\\langle x - 6.5 \\right\\rangle}^{4} + 5.33333333333333 {\\left\\langle x - 9 \\right\\rangle}^{3}}{EI}\\right) {\\left\\langle x - 9 \\right\\rangle}^{0} - 0.6 \\left(- C_{\\phi} x + 14 C_{\\phi} + \\frac{98 C_{M} + \\frac{1372 C_{V}}{3} - 12579.1875}{EI} - \\frac{\\frac{C_{M} x^{2}}{2} + \\frac{C_{V} x^{3}}{6} + 0.133333333333333 R_{h} {\\left\\langle x - 14.0 \\right\\rangle}^{3} - 0.1 R_{v} {\\left\\langle x - 14.0 \\right\\rangle}^{3} - \\frac{T_{R} {\\left\\langle x - 14.0 \\right\\rangle}^{2}}{2} - \\frac{{\\left\\langle x \\right\\rangle}^{4}}{4} - \\frac{8 {\\left\\langle x - 2.0 \\right\\rangle}^{3}}{3} - 0.166666666666667 {\\left\\langle x - 4 \\right\\rangle}^{3} + 0.05 {\\left\\langle x - 4 \\right\\rangle}^{4} + 0.2 {\\left\\langle x - 6.5 \\right\\rangle}^{4} + 5.33333333333333 {\\left\\langle x - 9 \\right\\rangle}^{3}}{EI}\\right) {\\left\\langle x - 14 \\right\\rangle}^{0}$"
      ],
      "text/plain": [
       "C_uz + (-C_phi*x - (C_M*x**2/2 + C_V*x**3/6 + 0.133333333333333*R_h*SingularityFunction(x, 14.0, 3) - 0.1*R_v*SingularityFunction(x, 14.0, 3) - T_R*SingularityFunction(x, 14.0, 2)/2 - SingularityFunction(x, 0.0, 4)/4 - 8*SingularityFunction(x, 2.0, 3)/3 - 0.166666666666667*SingularityFunction(x, 4, 3) + 0.05*SingularityFunction(x, 4, 4) + 0.2*SingularityFunction(x, 6.5, 4) + 5.33333333333333*SingularityFunction(x, 9, 3))/EI)*SingularityFunction(x, 0, 0) - 0.6*(-(4*C_N - 60.0)/EA + (C_N*x - 0.6*R_h*SingularityFunction(x, 14.0, 1) - 0.8*R_v*SingularityFunction(x, 14.0, 1) - 15*SingularityFunction(x, 0.0, 1) + 27.0*SingularityFunction(x, 4, 1) + 1.8*SingularityFunction(x, 4, 2) - 1.8*SingularityFunction(x, 6.5, 2) - 74.0*SingularityFunction(x, 9, 1))/EA)*SingularityFunction(x, 4, 0) + 1.4*(-(9*C_N + 33.75)/EA + (C_N*x - 0.6*R_h*SingularityFunction(x, 14.0, 1) - 0.8*R_v*SingularityFunction(x, 14.0, 1) - 15*SingularityFunction(x, 0.0, 1) + 27.0*SingularityFunction(x, 4, 1) + 1.8*SingularityFunction(x, 4, 2) - 1.8*SingularityFunction(x, 6.5, 2) - 74.0*SingularityFunction(x, 9, 1))/EA)*SingularityFunction(x, 9, 0) - 0.8*(-(14*C_N - 231.25)/EA + (C_N*x - 0.6*R_h*SingularityFunction(x, 14.0, 1) - 0.8*R_v*SingularityFunction(x, 14.0, 1) - 15*SingularityFunction(x, 0.0, 1) + 27.0*SingularityFunction(x, 4, 1) + 1.8*SingularityFunction(x, 4, 2) - 1.8*SingularityFunction(x, 6.5, 2) - 74.0*SingularityFunction(x, 9, 1))/EA)*SingularityFunction(x, 14, 0) - 0.2*(-C_phi*x + 4*C_phi + (8*C_M + 32*C_V/3 - 85.3333333333333)/EI - (C_M*x**2/2 + C_V*x**3/6 + 0.133333333333333*R_h*SingularityFunction(x, 14.0, 3) - 0.1*R_v*SingularityFunction(x, 14.0, 3) - T_R*SingularityFunction(x, 14.0, 2)/2 - SingularityFunction(x, 0.0, 4)/4 - 8*SingularityFunction(x, 2.0, 3)/3 - 0.166666666666667*SingularityFunction(x, 4, 3) + 0.05*SingularityFunction(x, 4, 4) + 0.2*SingularityFunction(x, 6.5, 4) + 5.33333333333333*SingularityFunction(x, 9, 3))/EI)*SingularityFunction(x, 4, 0) - 0.2*(-C_phi*x + 9*C_phi + (81*C_M/2 + 243*C_V/2 - 2536.6875)/EI - (C_M*x**2/2 + C_V*x**3/6 + 0.133333333333333*R_h*SingularityFunction(x, 14.0, 3) - 0.1*R_v*SingularityFunction(x, 14.0, 3) - T_R*SingularityFunction(x, 14.0, 2)/2 - SingularityFunction(x, 0.0, 4)/4 - 8*SingularityFunction(x, 2.0, 3)/3 - 0.166666666666667*SingularityFunction(x, 4, 3) + 0.05*SingularityFunction(x, 4, 4) + 0.2*SingularityFunction(x, 6.5, 4) + 5.33333333333333*SingularityFunction(x, 9, 3))/EI)*SingularityFunction(x, 9, 0) - 0.6*(-C_phi*x + 14*C_phi + (98*C_M + 1372*C_V/3 - 12579.1875)/EI - (C_M*x**2/2 + C_V*x**3/6 + 0.133333333333333*R_h*SingularityFunction(x, 14.0, 3) - 0.1*R_v*SingularityFunction(x, 14.0, 3) - T_R*SingularityFunction(x, 14.0, 2)/2 - SingularityFunction(x, 0.0, 4)/4 - 8*SingularityFunction(x, 2.0, 3)/3 - 0.166666666666667*SingularityFunction(x, 4, 3) + 0.05*SingularityFunction(x, 4, 4) + 0.2*SingularityFunction(x, 6.5, 4) + 5.33333333333333*SingularityFunction(x, 9, 3))/EI)*SingularityFunction(x, 14, 0)"
      ]
     },
     "metadata": {},
     "output_type": "display_data"
    },
    {
     "data": {
      "text/latex": [
       "$\\displaystyle {u_h}=$"
      ],
      "text/plain": [
       "{u_h}="
      ]
     },
     "metadata": {},
     "output_type": "display_data"
    },
    {
     "data": {
      "text/latex": [
       "$\\displaystyle C_{ux} - 0.2 \\left(- \\frac{4 C_{N} - 60.0}{EA} + \\frac{C_{N} x - 0.6 R_{h} {\\left\\langle x - 14.0 \\right\\rangle}^{1} - 0.8 R_{v} {\\left\\langle x - 14.0 \\right\\rangle}^{1} - 15 {\\left\\langle x \\right\\rangle}^{1} + 27.0 {\\left\\langle x - 4 \\right\\rangle}^{1} + 1.8 {\\left\\langle x - 4 \\right\\rangle}^{2} - 1.8 {\\left\\langle x - 6.5 \\right\\rangle}^{2} - 74.0 {\\left\\langle x - 9 \\right\\rangle}^{1}}{EA}\\right) {\\left\\langle x - 4 \\right\\rangle}^{0} - 0.2 \\left(- \\frac{9 C_{N} + 33.75}{EA} + \\frac{C_{N} x - 0.6 R_{h} {\\left\\langle x - 14.0 \\right\\rangle}^{1} - 0.8 R_{v} {\\left\\langle x - 14.0 \\right\\rangle}^{1} - 15 {\\left\\langle x \\right\\rangle}^{1} + 27.0 {\\left\\langle x - 4 \\right\\rangle}^{1} + 1.8 {\\left\\langle x - 4 \\right\\rangle}^{2} - 1.8 {\\left\\langle x - 6.5 \\right\\rangle}^{2} - 74.0 {\\left\\langle x - 9 \\right\\rangle}^{1}}{EA}\\right) {\\left\\langle x - 9 \\right\\rangle}^{0} - 0.6 \\left(- \\frac{14 C_{N} - 231.25}{EA} + \\frac{C_{N} x - 0.6 R_{h} {\\left\\langle x - 14.0 \\right\\rangle}^{1} - 0.8 R_{v} {\\left\\langle x - 14.0 \\right\\rangle}^{1} - 15 {\\left\\langle x \\right\\rangle}^{1} + 27.0 {\\left\\langle x - 4 \\right\\rangle}^{1} + 1.8 {\\left\\langle x - 4 \\right\\rangle}^{2} - 1.8 {\\left\\langle x - 6.5 \\right\\rangle}^{2} - 74.0 {\\left\\langle x - 9 \\right\\rangle}^{1}}{EA}\\right) {\\left\\langle x - 14 \\right\\rangle}^{0} + 0.6 \\left(- C_{\\phi} x + 4 C_{\\phi} + \\frac{8 C_{M} + \\frac{32 C_{V}}{3} - 85.3333333333333}{EI} - \\frac{\\frac{C_{M} x^{2}}{2} + \\frac{C_{V} x^{3}}{6} + 0.133333333333333 R_{h} {\\left\\langle x - 14.0 \\right\\rangle}^{3} - 0.1 R_{v} {\\left\\langle x - 14.0 \\right\\rangle}^{3} - \\frac{T_{R} {\\left\\langle x - 14.0 \\right\\rangle}^{2}}{2} - \\frac{{\\left\\langle x \\right\\rangle}^{4}}{4} - \\frac{8 {\\left\\langle x - 2.0 \\right\\rangle}^{3}}{3} - 0.166666666666667 {\\left\\langle x - 4 \\right\\rangle}^{3} + 0.05 {\\left\\langle x - 4 \\right\\rangle}^{4} + 0.2 {\\left\\langle x - 6.5 \\right\\rangle}^{4} + 5.33333333333333 {\\left\\langle x - 9 \\right\\rangle}^{3}}{EI}\\right) {\\left\\langle x - 4 \\right\\rangle}^{0} - 1.4 \\left(- C_{\\phi} x + 9 C_{\\phi} + \\frac{\\frac{81 C_{M}}{2} + \\frac{243 C_{V}}{2} - 2536.6875}{EI} - \\frac{\\frac{C_{M} x^{2}}{2} + \\frac{C_{V} x^{3}}{6} + 0.133333333333333 R_{h} {\\left\\langle x - 14.0 \\right\\rangle}^{3} - 0.1 R_{v} {\\left\\langle x - 14.0 \\right\\rangle}^{3} - \\frac{T_{R} {\\left\\langle x - 14.0 \\right\\rangle}^{2}}{2} - \\frac{{\\left\\langle x \\right\\rangle}^{4}}{4} - \\frac{8 {\\left\\langle x - 2.0 \\right\\rangle}^{3}}{3} - 0.166666666666667 {\\left\\langle x - 4 \\right\\rangle}^{3} + 0.05 {\\left\\langle x - 4 \\right\\rangle}^{4} + 0.2 {\\left\\langle x - 6.5 \\right\\rangle}^{4} + 5.33333333333333 {\\left\\langle x - 9 \\right\\rangle}^{3}}{EI}\\right) {\\left\\langle x - 9 \\right\\rangle}^{0} + 0.8 \\left(- C_{\\phi} x + 14 C_{\\phi} + \\frac{98 C_{M} + \\frac{1372 C_{V}}{3} - 12579.1875}{EI} - \\frac{\\frac{C_{M} x^{2}}{2} + \\frac{C_{V} x^{3}}{6} + 0.133333333333333 R_{h} {\\left\\langle x - 14.0 \\right\\rangle}^{3} - 0.1 R_{v} {\\left\\langle x - 14.0 \\right\\rangle}^{3} - \\frac{T_{R} {\\left\\langle x - 14.0 \\right\\rangle}^{2}}{2} - \\frac{{\\left\\langle x \\right\\rangle}^{4}}{4} - \\frac{8 {\\left\\langle x - 2.0 \\right\\rangle}^{3}}{3} - 0.166666666666667 {\\left\\langle x - 4 \\right\\rangle}^{3} + 0.05 {\\left\\langle x - 4 \\right\\rangle}^{4} + 0.2 {\\left\\langle x - 6.5 \\right\\rangle}^{4} + 5.33333333333333 {\\left\\langle x - 9 \\right\\rangle}^{3}}{EI}\\right) {\\left\\langle x - 14 \\right\\rangle}^{0} + \\frac{\\left(C_{N} x - 0.6 R_{h} {\\left\\langle x - 14.0 \\right\\rangle}^{1} - 0.8 R_{v} {\\left\\langle x - 14.0 \\right\\rangle}^{1} - 15 {\\left\\langle x \\right\\rangle}^{1} + 27.0 {\\left\\langle x - 4 \\right\\rangle}^{1} + 1.8 {\\left\\langle x - 4 \\right\\rangle}^{2} - 1.8 {\\left\\langle x - 6.5 \\right\\rangle}^{2} - 74.0 {\\left\\langle x - 9 \\right\\rangle}^{1}\\right) {\\left\\langle x \\right\\rangle}^{0}}{EA}$"
      ],
      "text/plain": [
       "C_ux - 0.2*(-(4*C_N - 60.0)/EA + (C_N*x - 0.6*R_h*SingularityFunction(x, 14.0, 1) - 0.8*R_v*SingularityFunction(x, 14.0, 1) - 15*SingularityFunction(x, 0.0, 1) + 27.0*SingularityFunction(x, 4, 1) + 1.8*SingularityFunction(x, 4, 2) - 1.8*SingularityFunction(x, 6.5, 2) - 74.0*SingularityFunction(x, 9, 1))/EA)*SingularityFunction(x, 4, 0) - 0.2*(-(9*C_N + 33.75)/EA + (C_N*x - 0.6*R_h*SingularityFunction(x, 14.0, 1) - 0.8*R_v*SingularityFunction(x, 14.0, 1) - 15*SingularityFunction(x, 0.0, 1) + 27.0*SingularityFunction(x, 4, 1) + 1.8*SingularityFunction(x, 4, 2) - 1.8*SingularityFunction(x, 6.5, 2) - 74.0*SingularityFunction(x, 9, 1))/EA)*SingularityFunction(x, 9, 0) - 0.6*(-(14*C_N - 231.25)/EA + (C_N*x - 0.6*R_h*SingularityFunction(x, 14.0, 1) - 0.8*R_v*SingularityFunction(x, 14.0, 1) - 15*SingularityFunction(x, 0.0, 1) + 27.0*SingularityFunction(x, 4, 1) + 1.8*SingularityFunction(x, 4, 2) - 1.8*SingularityFunction(x, 6.5, 2) - 74.0*SingularityFunction(x, 9, 1))/EA)*SingularityFunction(x, 14, 0) + 0.6*(-C_phi*x + 4*C_phi + (8*C_M + 32*C_V/3 - 85.3333333333333)/EI - (C_M*x**2/2 + C_V*x**3/6 + 0.133333333333333*R_h*SingularityFunction(x, 14.0, 3) - 0.1*R_v*SingularityFunction(x, 14.0, 3) - T_R*SingularityFunction(x, 14.0, 2)/2 - SingularityFunction(x, 0.0, 4)/4 - 8*SingularityFunction(x, 2.0, 3)/3 - 0.166666666666667*SingularityFunction(x, 4, 3) + 0.05*SingularityFunction(x, 4, 4) + 0.2*SingularityFunction(x, 6.5, 4) + 5.33333333333333*SingularityFunction(x, 9, 3))/EI)*SingularityFunction(x, 4, 0) - 1.4*(-C_phi*x + 9*C_phi + (81*C_M/2 + 243*C_V/2 - 2536.6875)/EI - (C_M*x**2/2 + C_V*x**3/6 + 0.133333333333333*R_h*SingularityFunction(x, 14.0, 3) - 0.1*R_v*SingularityFunction(x, 14.0, 3) - T_R*SingularityFunction(x, 14.0, 2)/2 - SingularityFunction(x, 0.0, 4)/4 - 8*SingularityFunction(x, 2.0, 3)/3 - 0.166666666666667*SingularityFunction(x, 4, 3) + 0.05*SingularityFunction(x, 4, 4) + 0.2*SingularityFunction(x, 6.5, 4) + 5.33333333333333*SingularityFunction(x, 9, 3))/EI)*SingularityFunction(x, 9, 0) + 0.8*(-C_phi*x + 14*C_phi + (98*C_M + 1372*C_V/3 - 12579.1875)/EI - (C_M*x**2/2 + C_V*x**3/6 + 0.133333333333333*R_h*SingularityFunction(x, 14.0, 3) - 0.1*R_v*SingularityFunction(x, 14.0, 3) - T_R*SingularityFunction(x, 14.0, 2)/2 - SingularityFunction(x, 0.0, 4)/4 - 8*SingularityFunction(x, 2.0, 3)/3 - 0.166666666666667*SingularityFunction(x, 4, 3) + 0.05*SingularityFunction(x, 4, 4) + 0.2*SingularityFunction(x, 6.5, 4) + 5.33333333333333*SingularityFunction(x, 9, 3))/EI)*SingularityFunction(x, 14, 0) + (C_N*x - 0.6*R_h*SingularityFunction(x, 14.0, 1) - 0.8*R_v*SingularityFunction(x, 14.0, 1) - 15*SingularityFunction(x, 0.0, 1) + 27.0*SingularityFunction(x, 4, 1) + 1.8*SingularityFunction(x, 4, 2) - 1.8*SingularityFunction(x, 6.5, 2) - 74.0*SingularityFunction(x, 9, 1))*SingularityFunction(x, 0, 0)/EA"
      ]
     },
     "metadata": {},
     "output_type": "display_data"
    }
   ],
   "source": [
    "V = -sym.integrate(qz.expand(), x) + CV\n",
    "M = sym.integrate(V, x) + CM\n",
    "kappa = M / EI\n",
    "phi = sym.integrate(kappa, x) + Cphi\n",
    "uz = -sym.integrate(phi, x) + Cuz\n",
    "\n",
    "N = -sym.integrate(qx.expand(), x) + CN\n",
    "epsilon = N / EA\n",
    "ux = sym.integrate(epsilon, x) + Cux\n",
    "\n",
    "uvz = uz.subs(x,0) * sym.cos(o0)\n",
    "uvx = -ux.subs(x,0) * sym.sin(o0)\n",
    "for i in range(len(oo)):\n",
    "    uvz += ((uz - uz.subs(x,aa[i])) * sym.SingularityFunction(x,aa[i],0) - (uz - uz.subs(x,aa[i+1])) * sym.SingularityFunction(x,aa[i+1],0)) * sym.cos(oo[i])\n",
    "    uvx += -((ux - ux.subs(x,aa[i])) * sym.SingularityFunction(x,aa[i],0) - (ux - ux.subs(x,aa[i+1])) * sym.SingularityFunction(x,aa[i+1],0)) * sym.sin(oo[i])\n",
    "uv = uvz + uvx\n",
    "\n",
    "uhz = uz.subs(x,0) * sym.sin(o0)\n",
    "uhx = ux.subs(x,0) * sym.cos(o0)\n",
    "for i in range(len(oo)):\n",
    "    uhz += ((uz - uz.subs(x,aa[i])) * sym.SingularityFunction(x,aa[i],0) - (uz - uz.subs(x,aa[i+1])) * sym.SingularityFunction(x,aa[i+1],0)) * sym.sin(oo[i])\n",
    "    uhx += ((ux - ux.subs(x,aa[i])) * sym.SingularityFunction(x,aa[i],0) - (ux - ux.subs(x,aa[i+1])) * sym.SingularityFunction(x,aa[i+1],0)) * sym.cos(oo[i])\n",
    "uh = uhz + uhx\n",
    "\n",
    "display(sym.symbols('{N}='), N)\n",
    "display(sym.symbols('{V}='), V)\n",
    "display(sym.symbols('{M}='), M)\n",
    "display(sym.symbols('{u_x}='), ux)\n",
    "display(sym.symbols('{\\phi}='), phi)\n",
    "display(sym.symbols('{u_z}='), uz)\n",
    "display(sym.symbols('{u_v}='), uv)\n",
    "display(sym.symbols('{u_h}='), uh)"
   ]
  },
  {
   "cell_type": "code",
   "execution_count": 6,
   "id": "b66d2ce6-b615-466b-8d6a-cdd98ae6291e",
   "metadata": {},
   "outputs": [],
   "source": [
    "# 3 reactiekrachten + 6 integratieconstanten = 9 voorwaarden\n",
    "Eq1 = sym.Eq(N.subs(x,0-dx),0)\n",
    "Eq2 = sym.Eq(N.subs(x,L+dx),0)\n",
    "Eq3 = sym.Eq(V.subs(x,0-dx),0)\n",
    "Eq4 = sym.Eq(V.subs(x,L+dx),0)\n",
    "Eq5 = sym.Eq(M.subs(x,0),0)\n",
    "Eq6 = sym.Eq(M.subs(x,L+dx),0)\n",
    "Eq7 = sym.Eq(phi.subs(x,L),0)\n",
    "Eq8 = sym.Eq(uv.subs(x,L),0)\n",
    "Eq9 = sym.Eq(uh.subs(x,L),0)"
   ]
  },
  {
   "cell_type": "code",
   "execution_count": 7,
   "id": "d96d4aa1-abb8-4778-a802-93d64a112a30",
   "metadata": {},
   "outputs": [
    {
     "data": {
      "text/plain": [
       "{C_M: 0.0,\n",
       " C_N: 0.0,\n",
       " C_V: 0.0,\n",
       " C_phi: 3008.5/EI,\n",
       " C_ux: 0.0625*(56875.0*EA + 2304.0*EI)/(EA*EI),\n",
       " C_uz: 0.0833333333333333*(300259.0*EA + 3219.0*EI)/(EA*EI),\n",
       " R_h: -15.0000000000000,\n",
       " R_v: -55.0000000000000,\n",
       " T_R: -435.000000000000}"
      ]
     },
     "metadata": {},
     "output_type": "display_data"
    }
   ],
   "source": [
    "sol = sym.solve((Eq1,Eq2,Eq3,Eq4,Eq5,Eq6,Eq7,Eq8,Eq9),(Rv,Rh,Tr,CN,CV,CM,Cphi,Cuz,Cux))\n",
    "display(sol)"
   ]
  },
  {
   "cell_type": "code",
   "execution_count": 8,
   "id": "5ec30373-3db9-4fee-b3fa-e265e04350c1",
   "metadata": {},
   "outputs": [
    {
     "data": {
      "text/plain": [
       "'R_v = -55.00'"
      ]
     },
     "metadata": {},
     "output_type": "display_data"
    },
    {
     "data": {
      "text/plain": [
       "'R_h = -15.00'"
      ]
     },
     "metadata": {},
     "output_type": "display_data"
    },
    {
     "data": {
      "text/plain": [
       "'T_R = -435.00'"
      ]
     },
     "metadata": {},
     "output_type": "display_data"
    },
    {
     "data": {
      "text/plain": [
       "'C_N = 0.00'"
      ]
     },
     "metadata": {},
     "output_type": "display_data"
    },
    {
     "data": {
      "text/plain": [
       "'C_V = 0.00'"
      ]
     },
     "metadata": {},
     "output_type": "display_data"
    },
    {
     "data": {
      "text/plain": [
       "'C_M = 0.00'"
      ]
     },
     "metadata": {},
     "output_type": "display_data"
    },
    {
     "data": {
      "text/plain": [
       "'C_phi = 0.1003'"
      ]
     },
     "metadata": {},
     "output_type": "display_data"
    },
    {
     "data": {
      "text/plain": [
       "'C_ux = 0.1329'"
      ]
     },
     "metadata": {},
     "output_type": "display_data"
    },
    {
     "data": {
      "text/plain": [
       "'C_uz = 0.8609'"
      ]
     },
     "metadata": {},
     "output_type": "display_data"
    }
   ],
   "source": [
    "ea = 10**4\n",
    "ei = 3 * 10**4\n",
    "\n",
    "display(f'{Rv} = {Rv.subs(sol).subs(EI,ei).subs(EA,ea):.2f}')\n",
    "display(f'{Rh} = {Rh.subs(sol).subs(EI,ei).subs(EA,ea):.2f}')\n",
    "display(f'{Tr} = {Tr.subs(sol).subs(EI,ei).subs(EA,ea):.2f}')\n",
    "\n",
    "display(f'{CN} = {CN.subs(sol).subs(EI,ei).subs(EA,ea):.2f}')\n",
    "display(f'{CV} = {CV.subs(sol).subs(EI,ei).subs(EA,ea):.2f}')\n",
    "display(f'{CM} = {CM.subs(sol).subs(EI,ei).subs(EA,ea):.2f}')\n",
    "display(f'{Cphi} = {Cphi.subs(sol).subs(EI,ei).subs(EA,ea):.4f}')\n",
    "display(f'{Cux} = {Cux.subs(sol).subs(EI,ei).subs(EA,ea):.4f}')\n",
    "display(f'{Cuz} = {Cuz.subs(sol).subs(EI,ei).subs(EA,ea):.4f}')"
   ]
  },
  {
   "cell_type": "code",
   "execution_count": 9,
   "id": "95b863be-4375-4d47-a21b-5462786c9f08",
   "metadata": {},
   "outputs": [],
   "source": [
    "v = 0\n",
    "h = 0\n",
    "for i in range(len(oo)):\n",
    "    v += -(sym.SingularityFunction(x,aa[i],1) - sym.SingularityFunction(x,aa[i+1],1)) * sym.sin(oo[i])\n",
    "    h += (sym.SingularityFunction(x,aa[i],1) - sym.SingularityFunction(x,aa[i+1],1)) * sym.cos(oo[i])"
   ]
  },
  {
   "cell_type": "code",
   "execution_count": 10,
   "id": "32b82db0-feef-4395-9e73-9d6915697be7",
   "metadata": {},
   "outputs": [
    {
     "data": {
      "text/latex": [
       "$\\displaystyle - 15 {\\left\\langle x \\right\\rangle}^{0} + 27.0 {\\left\\langle x - 4 \\right\\rangle}^{0} + 3.6 {\\left\\langle x - 4 \\right\\rangle}^{1} - 3.6 {\\left\\langle x - 6.5 \\right\\rangle}^{1} - 74.0 {\\left\\langle x - 9 \\right\\rangle}^{0} + 53.0 {\\left\\langle x - 14.0 \\right\\rangle}^{0}$"
      ],
      "text/plain": [
       "-15*SingularityFunction(x, 0.0, 0) + 27.0*SingularityFunction(x, 4, 0) + 3.6*SingularityFunction(x, 4, 1) - 3.6*SingularityFunction(x, 6.5, 1) - 74.0*SingularityFunction(x, 9, 0) + 53.0*SingularityFunction(x, 14.0, 0)"
      ]
     },
     "metadata": {},
     "output_type": "display_data"
    },
    {
     "data": {
      "text/plain": [
       "'N(0) = -15.0000000000000'"
      ]
     },
     "metadata": {},
     "output_type": "display_data"
    },
    {
     "data": {
      "text/plain": [
       "'N(4+) = 12.0000000000000'"
      ]
     },
     "metadata": {},
     "output_type": "display_data"
    },
    {
     "data": {
      "text/plain": [
       "'N(9-) = 21.0000000000000'"
      ]
     },
     "metadata": {},
     "output_type": "display_data"
    },
    {
     "data": {
      "text/plain": [
       "'N(9+) = -53.0000000000000'"
      ]
     },
     "metadata": {},
     "output_type": "display_data"
    },
    {
     "data": {
      "image/png": "[encoded data removed]",
      "text/plain": [
       "<Figure size 640x480 with 1 Axes>"
      ]
     },
     "metadata": {},
     "output_type": "display_data"
    }
   ],
   "source": [
    "x_np = np.linspace(0-dx,L+dx,10000)\n",
    "N_np = sym.lambdify(x, N.subs(sol).rewrite(sym.Piecewise))\n",
    "display(N.subs(sol))\n",
    "display(f'N(0) = {N.subs(x,0).subs(sol)}')\n",
    "display(f'N(4+) = {N.subs(x,4).subs(sol)}')\n",
    "display(f'N(9-) = {N.subs(x,9-dx).subs(sol)}')\n",
    "display(f'N(9+) = {N.subs(x,9).subs(sol)}')\n",
    "\n",
    "plt.figure()\n",
    "plt.plot(x_np,N_np(x_np))\n",
    "plt.xlabel('$x$')\n",
    "plt.ylabel('$N$');\n",
    "ax = plt.gca()\n",
    "ax.spines['right'].set_color('none')\n",
    "ax.spines['top'].set_color('none')\n",
    "ax.spines['bottom'].set_position('zero')\n",
    "ax.spines['left'].set_position('zero')\n",
    "ax.invert_yaxis()"
   ]
  },
  {
   "cell_type": "code",
   "execution_count": 11,
   "id": "48b76cf8-43a5-404d-96c1-c7378039f35b",
   "metadata": {},
   "outputs": [
    {
     "data": {
      "text/latex": [
       "$\\displaystyle - 6 {\\left\\langle x \\right\\rangle}^{1} - 16 {\\left\\langle x - 2.0 \\right\\rangle}^{0} - 1.0 {\\left\\langle x - 4 \\right\\rangle}^{0} + 1.2 {\\left\\langle x - 4 \\right\\rangle}^{1} + 4.8 {\\left\\langle x - 6.5 \\right\\rangle}^{1} + 32.0 {\\left\\langle x - 9 \\right\\rangle}^{0} + 435.0 {\\left\\langle x - 14.0 \\right\\rangle}^{-1} + 21.0 {\\left\\langle x - 14.0 \\right\\rangle}^{0}$"
      ],
      "text/plain": [
       "-6*SingularityFunction(x, 0.0, 1) - 16*SingularityFunction(x, 2.0, 0) - 1.0*SingularityFunction(x, 4, 0) + 1.2*SingularityFunction(x, 4, 1) + 4.8*SingularityFunction(x, 6.5, 1) + 32.0*SingularityFunction(x, 9, 0) + 435.0*SingularityFunction(x, 14.0, -1) + 21.0*SingularityFunction(x, 14.0, 0)"
      ]
     },
     "metadata": {},
     "output_type": "display_data"
    },
    {
     "data": {
      "text/plain": [
       "'V(2-) = -12.0000000000000'"
      ]
     },
     "metadata": {},
     "output_type": "display_data"
    },
    {
     "data": {
      "text/plain": [
       "'V(2+) = -28.0000000000000'"
      ]
     },
     "metadata": {},
     "output_type": "display_data"
    },
    {
     "data": {
      "text/plain": [
       "'V(4-) = -40.0000000000000'"
      ]
     },
     "metadata": {},
     "output_type": "display_data"
    },
    {
     "data": {
      "text/plain": [
       "'V(4+) = -41.0000000000000'"
      ]
     },
     "metadata": {},
     "output_type": "display_data"
    },
    {
     "data": {
      "text/plain": [
       "'V(9-) = -53.0000000000000'"
      ]
     },
     "metadata": {},
     "output_type": "display_data"
    },
    {
     "data": {
      "text/plain": [
       "'V(9+) = -21.0000000000000'"
      ]
     },
     "metadata": {},
     "output_type": "display_data"
    },
    {
     "data": {
      "image/png": "[encoded data removed]",
      "text/plain": [
       "<Figure size 640x480 with 1 Axes>"
      ]
     },
     "metadata": {},
     "output_type": "display_data"
    }
   ],
   "source": [
    "V_np = sym.lambdify(x, V.subs(sol).rewrite(sym.Piecewise))\n",
    "display(V.subs(sol))\n",
    "display(f'V(2-) = {V.subs(x,b2-dx).subs(sol)}')\n",
    "display(f'V(2+) = {V.subs(x,b2).subs(sol)}')\n",
    "display(f'V(4-) = {V.subs(x,a1-dx).subs(sol)}')\n",
    "display(f'V(4+) = {V.subs(x,a1).subs(sol)}')\n",
    "display(f'V(9-) = {V.subs(x,a2-dx).subs(sol)}')\n",
    "display(f'V(9+) = {V.subs(x,a2).subs(sol)}')\n",
    "\n",
    "plt.figure()\n",
    "plt.plot(x_np,V_np(x_np))\n",
    "plt.xlabel('$x$')\n",
    "plt.ylabel('$V$');\n",
    "ax = plt.gca()\n",
    "ax.spines['right'].set_color('none')\n",
    "ax.spines['top'].set_color('none')\n",
    "ax.spines['bottom'].set_position('zero')\n",
    "ax.spines['left'].set_position('zero')\n",
    "ax.invert_yaxis()"
   ]
  },
  {
   "cell_type": "code",
   "execution_count": 12,
   "id": "43c2ee33-53de-46a2-be24-428c29f5f21d",
   "metadata": {},
   "outputs": [
    {
     "data": {
      "text/latex": [
       "$\\displaystyle - 3 {\\left\\langle x \\right\\rangle}^{2} - 16 {\\left\\langle x - 2.0 \\right\\rangle}^{1} - 1.0 {\\left\\langle x - 4 \\right\\rangle}^{1} + 0.6 {\\left\\langle x - 4 \\right\\rangle}^{2} + 2.4 {\\left\\langle x - 6.5 \\right\\rangle}^{2} + 32.0 {\\left\\langle x - 9 \\right\\rangle}^{1} + 435.0 {\\left\\langle x - 14.0 \\right\\rangle}^{0} + 21.0 {\\left\\langle x - 14.0 \\right\\rangle}^{1}$"
      ],
      "text/plain": [
       "-3*SingularityFunction(x, 0.0, 2) - 16*SingularityFunction(x, 2.0, 1) - 1.0*SingularityFunction(x, 4, 1) + 0.6*SingularityFunction(x, 4, 2) + 2.4*SingularityFunction(x, 6.5, 2) + 32.0*SingularityFunction(x, 9, 1) + 435.0*SingularityFunction(x, 14.0, 0) + 21.0*SingularityFunction(x, 14.0, 1)"
      ]
     },
     "metadata": {},
     "output_type": "display_data"
    },
    {
     "data": {
      "text/plain": [
       "'M(4) = -80.0000000000000'"
      ]
     },
     "metadata": {},
     "output_type": "display_data"
    },
    {
     "data": {
      "text/plain": [
       "'M(9) = -330.000000000000'"
      ]
     },
     "metadata": {},
     "output_type": "display_data"
    },
    {
     "data": {
      "text/plain": [
       "'M(14) = -435.000000000000'"
      ]
     },
     "metadata": {},
     "output_type": "display_data"
    },
    {
     "data": {
      "image/png": "[encoded data removed]",
      "text/plain": [
       "<Figure size 640x480 with 1 Axes>"
      ]
     },
     "metadata": {},
     "output_type": "display_data"
    }
   ],
   "source": [
    "M_np = sym.lambdify(x, M.subs(sol).rewrite(sym.Piecewise))\n",
    "display(M.subs(sol))\n",
    "display(f'M(4) = {M.subs(x,4).subs(sol)}')\n",
    "display(f'M(9) = {M.subs(x,9).subs(sol)}')\n",
    "display(f'M(14) = {M.subs(x,14-dx).subs(sol)}')\n",
    "\n",
    "plt.figure()\n",
    "plt.plot(x_np,M_np(x_np))\n",
    "plt.xlabel('$x$')\n",
    "plt.ylabel('$M$');\n",
    "ax = plt.gca()\n",
    "ax.spines['right'].set_color('none')\n",
    "ax.spines['top'].set_color('none')\n",
    "ax.spines['bottom'].set_position('zero')\n",
    "ax.spines['left'].set_position('zero')\n",
    "ax.invert_yaxis()"
   ]
  },
  {
   "cell_type": "code",
   "execution_count": 13,
   "id": "8895a8e1-55c5-492d-b840-816f7259a439",
   "metadata": {},
   "outputs": [
    {
     "data": {
      "text/plain": [
       "'uv(0) = 0.8609'"
      ]
     },
     "metadata": {},
     "output_type": "display_data"
    },
    {
     "data": {
      "text/plain": [
       "'uv(4) = 0.4626'"
      ]
     },
     "metadata": {},
     "output_type": "display_data"
    },
    {
     "data": {
      "text/plain": [
       "'uv(9) = 0.1212'"
      ]
     },
     "metadata": {},
     "output_type": "display_data"
    },
    {
     "data": {
      "text/plain": [
       "'uh(0) = 0.1329'"
      ]
     },
     "metadata": {},
     "output_type": "display_data"
    },
    {
     "data": {
      "text/plain": [
       "'uh(4) = 0.1269'"
      ]
     },
     "metadata": {},
     "output_type": "display_data"
    },
    {
     "data": {
      "text/plain": [
       "'uh(9) = -0.1174'"
      ]
     },
     "metadata": {},
     "output_type": "display_data"
    },
    {
     "data": {
      "image/png": "[encoded data removed]",
      "text/plain": [
       "<Figure size 640x480 with 1 Axes>"
      ]
     },
     "metadata": {},
     "output_type": "display_data"
    }
   ],
   "source": [
    "v_np = sym.lambdify(x, v.rewrite(sym.Piecewise))\n",
    "h_np = sym.lambdify(x, h.rewrite(sym.Piecewise))\n",
    "\n",
    "uv_np = sym.lambdify(x, uv.subs(sol).subs(EI,3*10**4).subs(EA,10**4).rewrite(sym.Piecewise))\n",
    "uh_np = sym.lambdify(x, uh.subs(sol).subs(EI,3*10**4).subs(EA,10**4).rewrite(sym.Piecewise))\n",
    "\n",
    "#display(uv.subs(sol))\n",
    "display(f'uv(0) = {uv.subs(x,0).subs(sol).subs(EI,3*10**4).subs(EA,10**4):.4f}')\n",
    "display(f'uv(4) = {uv.subs(x,4).subs(sol).subs(EI,3*10**4).subs(EA,10**4):.4f}')\n",
    "display(f'uv(9) = {uv.subs(x,9).subs(sol).subs(EI,3*10**4).subs(EA,10**4):.4f}')\n",
    "\n",
    "#display(uh.subs(sol))\n",
    "display(f'uh(0) = {uh.subs(x,0).subs(sol).subs(EI,3*10**4).subs(EA,10**4):.4f}')\n",
    "display(f'uh(4) = {uh.subs(x,4).subs(sol).subs(EI,3*10**4).subs(EA,10**4):.4f}')\n",
    "display(f'uh(9) = {uh.subs(x,9).subs(sol).subs(EI,3*10**4).subs(EA,10**4):.4f}')\n",
    "\n",
    "plt.figure()\n",
    "plt.plot(h_np(x_np),v_np(x_np), linewidth=2, color='black', label='constructie')\n",
    "plt.plot((h_np(x_np)+uh_np(x_np)),(v_np(x_np)+uv_np(x_np)), label='vervormde constructie')\n",
    "plt.xlabel('$h$')\n",
    "plt.ylabel('$v$');\n",
    "ax = plt.gca()\n",
    "ax.spines['right'].set_color('none')\n",
    "ax.spines['top'].set_color('none')\n",
    "ax.spines['bottom'].set_position('zero')\n",
    "ax.spines['left'].set_position('zero')\n",
    "ax.invert_yaxis()\n",
    "plt.axis('scaled')\n",
    "ax.legend(loc='upper center', bbox_to_anchor=(0.5, -0.05),fancybox=True, shadow=False, ncol=3);"
   ]
  },
  {
   "cell_type": "code",
   "execution_count": null,
   "id": "7e03e9da-2e11-4ec7-a8e8-102237e5c0b3",
   "metadata": {},
   "outputs": [],
   "source": []
  }
 ],
 "metadata": {
  "kernelspec": {
   "display_name": "Python 3 (ipykernel)",
   "language": "python",
   "name": "python3"
  },
  "language_info": {
   "codemirror_mode": {
    "name": "ipython",
    "version": 3
   },
   "file_extension": ".py",
   "mimetype": "text/x-python",
   "name": "python",
   "nbconvert_exporter": "python",
   "pygments_lexer": "ipython3",
   "version": "3.12.3"
  }
 },
 "nbformat": 4,
 "nbformat_minor": 5
}
